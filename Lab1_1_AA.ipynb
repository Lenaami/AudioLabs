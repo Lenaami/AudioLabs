{
  "nbformat": 4,
  "nbformat_minor": 0,
  "metadata": {
    "kernelspec": {
      "display_name": "Python 3",
      "language": "python",
      "name": "python3"
    },
    "language_info": {
      "codemirror_mode": {
        "name": "ipython",
        "version": 3
      },
      "file_extension": ".py",
      "mimetype": "text/x-python",
      "name": "python",
      "nbconvert_exporter": "python",
      "pygments_lexer": "ipython3",
      "version": "3.6.6"
    },
    "colab": {
      "name": "Lab1_1_AA.ipynb",
      "provenance": [],
      "collapsed_sections": [],
      "toc_visible": true
    }
  },
  "cells": [
    {
      "cell_type": "code",
      "metadata": {
        "id": "AfQAFedXBsjr",
        "colab_type": "code",
        "colab": {}
      },
      "source": [
        "import torch\n",
        "import torchvision\n",
        "import torchvision.transforms as transforms"
      ],
      "execution_count": 0,
      "outputs": []
    },
    {
      "cell_type": "code",
      "metadata": {
        "id": "Oimk-cyy7I9Q",
        "colab_type": "code",
        "colab": {}
      },
      "source": [
        "from google.colab import drive\n",
        "drive.mount('/content/gdrive')"
      ],
      "execution_count": 0,
      "outputs": []
    },
    {
      "cell_type": "code",
      "metadata": {
        "id": "s6cESAzz7qB1",
        "colab_type": "code",
        "colab": {}
      },
      "source": [
        "import pandas as pd\n",
        "\n",
        "data = pd.read_csv(\"/content/gdrive/My Drive/Аудиоаналитика. Лабы/Train set/train.csv\", delimiter=',')"
      ],
      "execution_count": 0,
      "outputs": []
    },
    {
      "cell_type": "code",
      "metadata": {
        "id": "SdDKGDjE7s_e",
        "colab_type": "code",
        "colab": {}
      },
      "source": [
        "import pickle\n",
        "\n",
        "def load_pkl(name):\n",
        "    with open('/content/gdrive/My Drive/Аудиоаналитика. Лабы/Train set/' + name + '.pickle', 'rb') as f:\n",
        "        data = pickle.load(f)\n",
        "    return data"
      ],
      "execution_count": 0,
      "outputs": []
    },
    {
      "cell_type": "code",
      "metadata": {
        "id": "6kC1vIzO7yeC",
        "colab_type": "code",
        "colab": {}
      },
      "source": [
        "X = load_pkl('X_sr8000_hl4000_nfft8000') # 'X_sr8000_hl8000_nfft8000'\n",
        "y = load_pkl('y')"
      ],
      "execution_count": 0,
      "outputs": []
    },
    {
      "cell_type": "code",
      "metadata": {
        "id": "eLsNU-Jm99yY",
        "colab_type": "code",
        "colab": {}
      },
      "source": [
        "uniq_labels = np.sort(np.unique(y))\n",
        "label_to_id = {label: i for i, label in enumerate(uniq_labels)}\n",
        "id_to_label = [label for label, i in label_to_id.items()]\n",
        "\n",
        "y_re = [label_to_id[label] for label in y]"
      ],
      "execution_count": 0,
      "outputs": []
    },
    {
      "cell_type": "code",
      "metadata": {
        "id": "A8ci9RUC76qJ",
        "colab_type": "code",
        "colab": {}
      },
      "source": [
        "import numpy as np\n",
        "\n",
        "new_size = 61 #или 30 с чем то (32?)\n",
        "\n",
        "X_re = []\n",
        "for x in X:\n",
        "    a = np.zeros((128, new_size))\n",
        "    a[:x.shape[0], :x.shape[1]] = x\n",
        "    X_re.append(a)"
      ],
      "execution_count": 0,
      "outputs": []
    },
    {
      "cell_type": "code",
      "metadata": {
        "id": "IOjux-om-KLF",
        "colab_type": "code",
        "colab": {}
      },
      "source": [
        "from sklearn.model_selection import train_test_split\n",
        "\n",
        "x_train, x_test, y_train, y_test = train_test_split(X_re, y_re, test_size=0.30, random_state=42)"
      ],
      "execution_count": 0,
      "outputs": []
    },
    {
      "cell_type": "code",
      "metadata": {
        "id": "8ZX5ONOJ8VFf",
        "colab_type": "code",
        "colab": {}
      },
      "source": [
        "from torch.utils.data import Dataset\n",
        "\n",
        "\n",
        "class AudioDataset(Dataset):\n",
        "    def __init__(self, x, y=None):\n",
        "        self.x = x\n",
        "        self.y = y\n",
        "    \n",
        "    def __len__(self):\n",
        "        return len(self.x)\n",
        "\n",
        "    def __getitem__(self, idx):\n",
        "        if self.y is not None:\n",
        "            return self.x[idx], self.y[idx]\n",
        "        return self.x[idx]"
      ],
      "execution_count": 0,
      "outputs": []
    },
    {
      "cell_type": "code",
      "metadata": {
        "id": "GiFM4Jng8jkX",
        "colab_type": "code",
        "colab": {}
      },
      "source": [
        "trainset = AudioDataset(x_train, y_train)\n",
        "testset = AudioDataset(x_test, y_test)\n",
        "\n",
        "trainloader = torch.utils.data.DataLoader(trainset, batch_size=4, shuffle=True, num_workers=2)\n",
        "testloader = torch.utils.data.DataLoader(testset, batch_size=4, shuffle=False, num_workers=2)\n",
        "\n",
        "classes = id_to_label"
      ],
      "execution_count": 0,
      "outputs": []
    },
    {
      "cell_type": "code",
      "metadata": {
        "id": "T-gyseLuBsj2",
        "colab_type": "code",
        "colab": {}
      },
      "source": [
        "import torch.nn as nn\n",
        "import torch.nn.functional as F\n",
        "\n",
        "\n",
        "class Net(nn.Module):\n",
        "    def __init__(self):\n",
        "        super(Net, self).__init__()\n",
        "        self.conv1 = nn.Conv2d(1, 6, 5)\n",
        "        self.pool = nn.MaxPool2d(2, 2)\n",
        "        self.conv2 = nn.Conv2d(6, 16, 5)\n",
        "        self.fc1 = nn.Linear(16 * 29 * 12, 120)\n",
        "        self.fc2 = nn.Linear(120, 84)\n",
        "        self.fc3 = nn.Linear(84, 41)\n",
        "\n",
        "    def forward(self, x):\n",
        "        x = x.view(-1, 1, 128, 61) \n",
        "        x = self.pool(F.relu(self.conv1(x)))\n",
        "        x = self.pool(F.relu(self.conv2(x)))\n",
        "        #print(x.shape)\n",
        "        x = x.view(-1, 16 * 29 * 12)\n",
        "        x = F.relu(self.fc1(x))\n",
        "        x = F.relu(self.fc2(x))\n",
        "        x = self.fc3(x)\n",
        "        return x\n",
        "\n",
        "\n",
        "net = Net()"
      ],
      "execution_count": 0,
      "outputs": []
    },
    {
      "cell_type": "code",
      "metadata": {
        "id": "y3H6pHV7-1nC",
        "colab_type": "code",
        "outputId": "4b0ba69e-3792-4efd-8f2e-04b33008ff12",
        "colab": {
          "base_uri": "https://localhost:8080/",
          "height": 51
        }
      },
      "source": [
        "random_input = torch.randn(1, 1, 128, 61, requires_grad=True)\n",
        "net = Net()\n",
        "output = net(random_input)\n",
        "print(output)"
      ],
      "execution_count": 0,
      "outputs": [
        {
          "output_type": "stream",
          "text": [
            "tensor([[-0.0347, -0.0643, -0.0011,  0.0628,  0.0782, -0.1629, -0.0192,  0.0931,\n",
            "          0.1044,  0.1019]], grad_fn=<AddmmBackward>)\n"
          ],
          "name": "stdout"
        }
      ]
    },
    {
      "cell_type": "code",
      "metadata": {
        "id": "-PM3pmqJF9l3",
        "colab_type": "code",
        "colab": {}
      },
      "source": [
        ""
      ],
      "execution_count": 0,
      "outputs": []
    },
    {
      "cell_type": "code",
      "metadata": {
        "id": "Y08uFSCrBsj5",
        "colab_type": "code",
        "colab": {}
      },
      "source": [
        "import torch.optim as optim\n",
        "\n",
        "criterion = nn.CrossEntropyLoss()\n",
        "optimizer = optim.SGD(net.parameters(), lr=0.001, momentum=0.9)"
      ],
      "execution_count": 0,
      "outputs": []
    },
    {
      "cell_type": "code",
      "metadata": {
        "id": "3TbKYxHlBgFD",
        "colab_type": "code",
        "colab": {}
      },
      "source": [
        "running_loss = 0.0\n",
        "for i, data in enumerate(trainloader, 0):\n",
        "    # get the inputs\n",
        "    inputs, labels = data\n",
        "\n",
        "    print(inputs.shape, labels)"
      ],
      "execution_count": 0,
      "outputs": []
    },
    {
      "cell_type": "code",
      "metadata": {
        "id": "-Bh1riUTBsj9",
        "colab_type": "code",
        "outputId": "85221e61-ff5c-403b-eb7b-506227bf86ae",
        "colab": {
          "base_uri": "https://localhost:8080/",
          "height": 170
        }
      },
      "source": [
        "for epoch in range(2):  # loop over the dataset multiple times\n",
        "\n",
        "    running_loss = 0.0\n",
        "    for i, data in enumerate(trainloader, 0):\n",
        "        # get the inputs\n",
        "        inputs, labels = data\n",
        "\n",
        "        # zero the parameter gradients\n",
        "        optimizer.zero_grad()\n",
        "\n",
        "        # forward + backward + optimize\n",
        "        outputs = net(inputs.float())\n",
        "        loss = criterion(outputs, labels)\n",
        "        loss.backward()\n",
        "        optimizer.step()\n",
        "\n",
        "        # print statistics\n",
        "        running_loss += loss.item()\n",
        "        if i % 200 == 199:    # print every 200 mini-batches\n",
        "            print('[%d, %5d] loss: %.3f' %\n",
        "                  (epoch + 1, i + 1, running_loss / 200))\n",
        "            running_loss = 0.0\n",
        "\n",
        "print('Finished Training')"
      ],
      "execution_count": 0,
      "outputs": [
        {
          "output_type": "stream",
          "text": [
            "[1,   200] loss: 3.543\n",
            "[1,   400] loss: 3.557\n",
            "[1,   600] loss: 3.586\n",
            "[1,   800] loss: 3.532\n",
            "[2,   200] loss: 3.512\n",
            "[2,   400] loss: 3.482\n",
            "[2,   600] loss: 3.503\n",
            "[2,   800] loss: 3.521\n",
            "Finished Training\n"
          ],
          "name": "stdout"
        }
      ]
    },
    {
      "cell_type": "code",
      "metadata": {
        "id": "KJK2NZbiBskI",
        "colab_type": "code",
        "outputId": "e3faced9-f700-4da6-f2cf-1aa82a75a152",
        "colab": {
          "base_uri": "https://localhost:8080/",
          "height": 34
        }
      },
      "source": [
        "correct = 0\n",
        "total = 0\n",
        "with torch.no_grad():\n",
        "    for data in testloader:\n",
        "        images, labels = data\n",
        "        outputs = net(images.float())\n",
        "        _, predicted = torch.max(outputs.data, 1)\n",
        "        total += labels.size(0)\n",
        "        correct += (predicted == labels).sum().item()\n",
        "\n",
        "print('Accuracy of the network on the test images: %d %%' % (\n",
        "    100 * correct / total))"
      ],
      "execution_count": 0,
      "outputs": [
        {
          "output_type": "stream",
          "text": [
            "Accuracy of the network on the test images: 9 %\n"
          ],
          "name": "stdout"
        }
      ]
    },
    {
      "cell_type": "code",
      "metadata": {
        "id": "_RGbK8iFBskL",
        "colab_type": "code",
        "outputId": "3dc64238-466e-4f6b-fd4a-063d06769284",
        "colab": {
          "base_uri": "https://localhost:8080/",
          "height": 714
        }
      },
      "source": [
        "count = 0\n",
        "\n",
        "class_correct = list(0. for i in range(41))\n",
        "class_total = list(0. for i in range(41))\n",
        "with torch.no_grad():\n",
        "    for data in testloader:\n",
        "        images, labels = data\n",
        "        outputs = net(images.float())\n",
        "        _, predicted = torch.max(outputs, 1)\n",
        "        c = (predicted == labels).squeeze()\n",
        "        count += 4\n",
        "        if count == 1708: # вынужденная мера\n",
        "            label = labels[0]\n",
        "            class_correct[label] += int(c)\n",
        "            class_total[label] += 1\n",
        "        else:     \n",
        "            for i in range(4):\n",
        "                label = labels[i]\n",
        "                class_correct[label] += int(c[i])\n",
        "                class_total[label] += 1\n",
        "\n",
        "\n",
        "for i in range(41):\n",
        "    print('Accuracy of %5s : %2d %%' % (\n",
        "        classes[i], 100 * class_correct[i] / class_total[i]))"
      ],
      "execution_count": 0,
      "outputs": [
        {
          "output_type": "stream",
          "text": [
            "Accuracy of Acoustic_guitar : 56 %\n",
            "Accuracy of Applause : 93 %\n",
            "Accuracy of  Bark :  0 %\n",
            "Accuracy of Bass_drum : 79 %\n",
            "Accuracy of Burping_or_eructation :  0 %\n",
            "Accuracy of   Bus :  0 %\n",
            "Accuracy of Cello : 25 %\n",
            "Accuracy of Chime :  0 %\n",
            "Accuracy of Clarinet :  9 %\n",
            "Accuracy of Computer_keyboard :  0 %\n",
            "Accuracy of Cough :  0 %\n",
            "Accuracy of Cowbell :  0 %\n",
            "Accuracy of Double_bass : 12 %\n",
            "Accuracy of Drawer_open_or_close :  0 %\n",
            "Accuracy of Electric_piano :  0 %\n",
            "Accuracy of  Fart :  0 %\n",
            "Accuracy of Finger_snapping :  0 %\n",
            "Accuracy of Fireworks :  5 %\n",
            "Accuracy of Flute : 34 %\n",
            "Accuracy of Glockenspiel :  0 %\n",
            "Accuracy of  Gong :  0 %\n",
            "Accuracy of Gunshot_or_gunfire :  0 %\n",
            "Accuracy of Harmonica :  0 %\n",
            "Accuracy of Hi-hat :  0 %\n",
            "Accuracy of Keys_jangling :  0 %\n",
            "Accuracy of Knock :  0 %\n",
            "Accuracy of Laughter :  0 %\n",
            "Accuracy of  Meow :  0 %\n",
            "Accuracy of Microwave_oven :  0 %\n",
            "Accuracy of  Oboe :  0 %\n",
            "Accuracy of Saxophone :  0 %\n",
            "Accuracy of Scissors :  0 %\n",
            "Accuracy of Shatter :  0 %\n",
            "Accuracy of Snare_drum :  0 %\n",
            "Accuracy of Squeak :  0 %\n",
            "Accuracy of Tambourine :  0 %\n",
            "Accuracy of Tearing :  0 %\n",
            "Accuracy of Telephone :  0 %\n",
            "Accuracy of Trumpet :  0 %\n",
            "Accuracy of Violin_or_fiddle :  0 %\n",
            "Accuracy of Writing :  0 %\n"
          ],
          "name": "stdout"
        }
      ]
    },
    {
      "cell_type": "code",
      "metadata": {
        "id": "tgs41vPrOd4-",
        "colab_type": "code",
        "colab": {}
      },
      "source": [
        ""
      ],
      "execution_count": 0,
      "outputs": []
    }
  ]
}