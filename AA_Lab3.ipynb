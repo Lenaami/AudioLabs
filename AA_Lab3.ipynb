{
  "nbformat": 4,
  "nbformat_minor": 0,
  "metadata": {
    "kernelspec": {
      "display_name": "Python 3",
      "language": "python",
      "name": "python3"
    },
    "language_info": {
      "codemirror_mode": {
        "name": "ipython",
        "version": 3
      },
      "file_extension": ".py",
      "mimetype": "text/x-python",
      "name": "python",
      "nbconvert_exporter": "python",
      "pygments_lexer": "ipython3",
      "version": "3.7.3"
    },
    "colab": {
      "name": "AA_Lab3.ipynb",
      "provenance": [],
      "toc_visible": true
    }
  },
  "cells": [
    {
      "cell_type": "code",
      "metadata": {
        "id": "VLwPMKP_G2YN",
        "colab_type": "code",
        "colab": {}
      },
      "source": [
        "# path to your train/test/meta folders\n",
        "DATA_PATH = 'F:/Аудиоаналитика/'\n",
        "    \n",
        "# names of valuable files/folders\n",
        "train_meta_fname = 'train.csv'\n",
        "test_meta_fname = 'sample_submission.csv'\n",
        "train_data_folder = 'audio'\n",
        "test_data_folder = 'audio'"
      ],
      "execution_count": 0,
      "outputs": []
    },
    {
      "cell_type": "code",
      "metadata": {
        "id": "cU4rHncHG2YR",
        "colab_type": "code",
        "colab": {}
      },
      "source": [
        "import numpy as np\n",
        "import os\n",
        "import pandas as pd\n",
        "import torch\n",
        "import torch.nn as nn\n",
        "import torch.nn.functional as F\n",
        "from torch.utils.data import Dataset\n",
        "from torch.utils.data import DataLoader\n",
        "import torchaudio\n",
        "import torchvision\n",
        "from torchaudio import transforms\n",
        "from efficientnet_pytorch import EfficientNet\n",
        "from sklearn.model_selection import train_test_split\n",
        "from sklearn.metrics import f1_score\n",
        "from tqdm import tqdm"
      ],
      "execution_count": 0,
      "outputs": []
    },
    {
      "cell_type": "code",
      "metadata": {
        "id": "Qft4edCBG2YU",
        "colab_type": "code",
        "colab": {}
      },
      "source": [
        "# set seeds\n",
        "import random\n",
        "import numpy as np\n",
        "\n",
        "random.seed(42)\n",
        "np.random.seed(42)\n",
        "torch.manual_seed(42)\n",
        "torch.cuda.manual_seed(42)\n",
        "torch.backends.cudnn.deterministic = True"
      ],
      "execution_count": 0,
      "outputs": []
    },
    {
      "cell_type": "code",
      "metadata": {
        "id": "QhnpSgP4G2YX",
        "colab_type": "code",
        "colab": {},
        "outputId": "65243d3d-6a6d-4cee-cef0-d396e61b62ad"
      },
      "source": [
        "df_train = pd.read_csv(os.path.join(DATA_PATH, train_meta_fname))\n",
        "df_test = pd.read_csv(os.path.join(DATA_PATH, test_meta_fname))\n",
        "df_train.head(2)"
      ],
      "execution_count": 0,
      "outputs": [
        {
          "output_type": "execute_result",
          "data": {
            "text/html": [
              "<div>\n",
              "<style scoped>\n",
              "    .dataframe tbody tr th:only-of-type {\n",
              "        vertical-align: middle;\n",
              "    }\n",
              "\n",
              "    .dataframe tbody tr th {\n",
              "        vertical-align: top;\n",
              "    }\n",
              "\n",
              "    .dataframe thead th {\n",
              "        text-align: right;\n",
              "    }\n",
              "</style>\n",
              "<table border=\"1\" class=\"dataframe\">\n",
              "  <thead>\n",
              "    <tr style=\"text-align: right;\">\n",
              "      <th></th>\n",
              "      <th>fname</th>\n",
              "      <th>label</th>\n",
              "    </tr>\n",
              "  </thead>\n",
              "  <tbody>\n",
              "    <tr>\n",
              "      <th>0</th>\n",
              "      <td>8bcbcc394ba64fe85ed4.wav</td>\n",
              "      <td>Finger_snapping</td>\n",
              "    </tr>\n",
              "    <tr>\n",
              "      <th>1</th>\n",
              "      <td>00d77b917e241afa06f1.wav</td>\n",
              "      <td>Squeak</td>\n",
              "    </tr>\n",
              "  </tbody>\n",
              "</table>\n",
              "</div>"
            ],
            "text/plain": [
              "                      fname            label\n",
              "0  8bcbcc394ba64fe85ed4.wav  Finger_snapping\n",
              "1  00d77b917e241afa06f1.wav           Squeak"
            ]
          },
          "metadata": {
            "tags": []
          },
          "execution_count": 4
        }
      ]
    },
    {
      "cell_type": "code",
      "metadata": {
        "id": "nHekWG-lG2Yb",
        "colab_type": "code",
        "colab": {},
        "outputId": "fb528210-4c8d-44c7-d1aa-88277fa9e8bb"
      },
      "source": [
        "n_classes = df_train.label.nunique()\n",
        "print(n_classes)\n",
        "classes_dict = {cl:i for i,cl in enumerate(df_train.label.unique())}\n",
        "df_train['label_encoded'] = df_train.label.map(classes_dict)\n",
        "df_train.head()"
      ],
      "execution_count": 0,
      "outputs": [
        {
          "output_type": "stream",
          "text": [
            "41\n"
          ],
          "name": "stdout"
        },
        {
          "output_type": "execute_result",
          "data": {
            "text/html": [
              "<div>\n",
              "<style scoped>\n",
              "    .dataframe tbody tr th:only-of-type {\n",
              "        vertical-align: middle;\n",
              "    }\n",
              "\n",
              "    .dataframe tbody tr th {\n",
              "        vertical-align: top;\n",
              "    }\n",
              "\n",
              "    .dataframe thead th {\n",
              "        text-align: right;\n",
              "    }\n",
              "</style>\n",
              "<table border=\"1\" class=\"dataframe\">\n",
              "  <thead>\n",
              "    <tr style=\"text-align: right;\">\n",
              "      <th></th>\n",
              "      <th>fname</th>\n",
              "      <th>label</th>\n",
              "      <th>label_encoded</th>\n",
              "    </tr>\n",
              "  </thead>\n",
              "  <tbody>\n",
              "    <tr>\n",
              "      <th>0</th>\n",
              "      <td>8bcbcc394ba64fe85ed4.wav</td>\n",
              "      <td>Finger_snapping</td>\n",
              "      <td>0</td>\n",
              "    </tr>\n",
              "    <tr>\n",
              "      <th>1</th>\n",
              "      <td>00d77b917e241afa06f1.wav</td>\n",
              "      <td>Squeak</td>\n",
              "      <td>1</td>\n",
              "    </tr>\n",
              "    <tr>\n",
              "      <th>2</th>\n",
              "      <td>17bb93b73b8e79234cb3.wav</td>\n",
              "      <td>Electric_piano</td>\n",
              "      <td>2</td>\n",
              "    </tr>\n",
              "    <tr>\n",
              "      <th>3</th>\n",
              "      <td>7d5c7a40a936136da55e.wav</td>\n",
              "      <td>Harmonica</td>\n",
              "      <td>3</td>\n",
              "    </tr>\n",
              "    <tr>\n",
              "      <th>4</th>\n",
              "      <td>17e0ee7565a33d6c2326.wav</td>\n",
              "      <td>Snare_drum</td>\n",
              "      <td>4</td>\n",
              "    </tr>\n",
              "  </tbody>\n",
              "</table>\n",
              "</div>"
            ],
            "text/plain": [
              "                      fname            label  label_encoded\n",
              "0  8bcbcc394ba64fe85ed4.wav  Finger_snapping              0\n",
              "1  00d77b917e241afa06f1.wav           Squeak              1\n",
              "2  17bb93b73b8e79234cb3.wav   Electric_piano              2\n",
              "3  7d5c7a40a936136da55e.wav        Harmonica              3\n",
              "4  17e0ee7565a33d6c2326.wav       Snare_drum              4"
            ]
          },
          "metadata": {
            "tags": []
          },
          "execution_count": 5
        }
      ]
    },
    {
      "cell_type": "code",
      "metadata": {
        "id": "ESOdOUnXG2Ye",
        "colab_type": "code",
        "colab": {}
      },
      "source": [
        "class Model_1(nn.Module):\n",
        "    \n",
        "    def __init__(self, sample_rate=16000, n_classes=41):\n",
        "        super().__init__()\n",
        "        self.ms = torchaudio.transforms.MelSpectrogram(sample_rate)        \n",
        "        self.cnn1 = nn.Conv2d(in_channels=1, out_channels=10, kernel_size=3, padding=1)\n",
        "        self.cnn3 = nn.Conv2d(in_channels=10, out_channels=3, kernel_size=3, padding=1)        \n",
        "        self.features = EfficientNet.from_pretrained('efficientnet-b0')            \n",
        "        self.lin1 = nn.Linear(1000, 333)        \n",
        "        self.lin2 = nn.Linear(333, 111)                \n",
        "        self.lin3 = nn.Linear(111, n_classes)\n",
        "        \n",
        "    def forward(self, x):\n",
        "        x = self.ms(x)                \n",
        "        x = F.relu(self.cnn1(x))\n",
        "        x = F.relu(self.cnn3(x))         \n",
        "        x = self.features(x)\n",
        "        x = x.view(x.shape[0], -1)\n",
        "        x = F.relu(x)        \n",
        "        x = F.relu(self.lin1(x))\n",
        "        x = F.relu(self.lin2(x))\n",
        "        x = self.lin3(x)\n",
        "        return x\n",
        "    \n",
        "    def inference(self, x):\n",
        "        x = self.forward(x)\n",
        "        x = F.softmax(x)\n",
        "        return x"
      ],
      "execution_count": 0,
      "outputs": []
    },
    {
      "cell_type": "code",
      "metadata": {
        "id": "uDX1G6DgG2Yh",
        "colab_type": "code",
        "colab": {}
      },
      "source": [
        "class Model_2(nn.Module):\n",
        "    \n",
        "    def __init__(self, sample_rate=16000, n_classes=41):\n",
        "        super().__init__()\n",
        "        self.ms = torchaudio.transforms.MelSpectrogram(sample_rate, n_fft=1024, hop_length=256, n_mels=64)\n",
        "        self.cnn1 = nn.Conv2d(in_channels=1, out_channels=10, kernel_size=3, padding=1)\n",
        "        self.cnn3 = nn.Conv2d(in_channels=10, out_channels=3, kernel_size=3, padding=1)        \n",
        "        self.features = EfficientNet.from_pretrained('efficientnet-b0')\n",
        "        self.lin1 = nn.Linear(1000, 333)        \n",
        "        self.lin2 = nn.Linear(333, 111)                \n",
        "        self.lin3 = nn.Linear(111, n_classes)\n",
        "        \n",
        "    def forward(self, x):\n",
        "        x = self.ms(x)                \n",
        "        x = F.relu(self.cnn1(x))\n",
        "        x = F.relu(self.cnn3(x))        \n",
        "        x = self.features(x)\n",
        "        x = x.view(x.shape[0], -1)\n",
        "        x = F.relu(x)        \n",
        "        x = F.relu(self.lin1(x))\n",
        "        x = F.relu(self.lin2(x))\n",
        "        x = self.lin3(x)   \n",
        "        return x\n",
        "    \n",
        "    def inference(self, x):\n",
        "        x = self.forward(x)\n",
        "        x = F.softmax(x)\n",
        "        return x"
      ],
      "execution_count": 0,
      "outputs": []
    },
    {
      "cell_type": "code",
      "metadata": {
        "id": "ozJnJpFUG2Yk",
        "colab_type": "code",
        "colab": {}
      },
      "source": [
        "class Model_3(nn.Module):\n",
        "    \n",
        "    def __init__(self, sample_rate=16000, n_classes=41):\n",
        "        super().__init__()\n",
        "        self.ms = torchaudio.transforms.MFCC(sample_rate)\n",
        "        self.cnn1 = nn.Conv2d(in_channels=1, out_channels=10, kernel_size=3, padding=1)\n",
        "        self.cnn3 = nn.Conv2d(in_channels=10, out_channels=3, kernel_size=3, padding=1)        \n",
        "        self.features = EfficientNet.from_pretrained('efficientnet-b0')            \n",
        "        self.lin1 = nn.Linear(1000, 333)        \n",
        "        self.lin2 = nn.Linear(333, 111)                \n",
        "        self.lin3 = nn.Linear(111, n_classes)\n",
        "        \n",
        "    def forward(self, x):\n",
        "        x = self.ms(x)\n",
        "        x = F.relu(self.cnn1(x))\n",
        "        x = F.relu(self.cnn3(x))         \n",
        "        x = self.features(x)\n",
        "        x = x.view(x.shape[0], -1)\n",
        "        x = F.relu(x)        \n",
        "        x = F.relu(self.lin1(x))\n",
        "        x = F.relu(self.lin2(x))\n",
        "        x = self.lin3(x)\n",
        "        return x\n",
        "    \n",
        "    def inference(self, x):\n",
        "        x = self.forward(x)\n",
        "        x = F.softmax(x)\n",
        "        return x"
      ],
      "execution_count": 0,
      "outputs": []
    },
    {
      "cell_type": "code",
      "metadata": {
        "id": "SmIcG93mG2Yn",
        "colab_type": "code",
        "colab": {}
      },
      "source": [
        "class Model_4(nn.Module):\n",
        "    \n",
        "    def __init__(self, sample_rate=16000, n_classes=41):\n",
        "        super().__init__()\n",
        "        self.ms = torchaudio.transforms.MelSpectrogram(sample_rate)        \n",
        "        self.cnn1 = nn.Conv2d(in_channels=1, out_channels=10, kernel_size=3, padding=1)\n",
        "        self.cnn3 = nn.Conv2d(in_channels=10, out_channels=15, kernel_size=3, padding=1)        \n",
        "        self.cnn4 = nn.Conv2d(in_channels=15, out_channels=3, kernel_size=3, padding=1)        \n",
        "        self.features = EfficientNet.from_pretrained('efficientnet-b0')            \n",
        "        self.lin1 = nn.Linear(1000, 333)        \n",
        "        self.lin2 = nn.Linear(333, 111)                \n",
        "        self.lin3 = nn.Linear(111, n_classes)\n",
        "        \n",
        "    def forward(self, x):\n",
        "        x = self.ms(x)\n",
        "        x = F.relu(self.cnn1(x))\n",
        "        x = F.relu(self.cnn3(x))        \n",
        "        x = F.relu(self.cnn4(x))        \n",
        "        x = self.features(x)\n",
        "        x = x.view(x.shape[0], -1)\n",
        "        x = F.relu(x)        \n",
        "        x = F.relu(self.lin1(x))\n",
        "        x = F.relu(self.lin2(x))\n",
        "        x = self.lin3(x)  \n",
        "        return x\n",
        "    \n",
        "    def inference(self, x):\n",
        "        x = self.forward(x)\n",
        "        x = F.softmax(x)\n",
        "        return x"
      ],
      "execution_count": 0,
      "outputs": []
    },
    {
      "cell_type": "code",
      "metadata": {
        "id": "j0_FqPdIG2Yq",
        "colab_type": "code",
        "colab": {}
      },
      "source": [
        "class Model_5(nn.Module):\n",
        "    \n",
        "    def __init__(self, sample_rate=16000, n_classes=41):\n",
        "        super().__init__()\n",
        "        self.ms = torchaudio.transforms.MFCC(sample_rate)\n",
        "        self.cnn1 = nn.Conv2d(in_channels=1, out_channels=10, kernel_size=3, padding=1)\n",
        "        self.cnn3 = nn.Conv2d(in_channels=10, out_channels=15, kernel_size=3, padding=1)        \n",
        "        self.cnn4 = nn.Conv2d(in_channels=15, out_channels=3, kernel_size=3, padding=1)        \n",
        "        self.features = EfficientNet.from_pretrained('efficientnet-b0')\n",
        "        self.lin1 = nn.Linear(1000, 512)        \n",
        "        self.lin2 = nn.Linear(512, 256)\n",
        "        self.lin3 = nn.Linear(256, 128)                \n",
        "        self.lin4 = nn.Linear(128, n_classes)\n",
        "        \n",
        "    def forward(self, x):\n",
        "        x = self.ms(x)\n",
        "        x = F.relu(self.cnn1(x))\n",
        "        x = F.relu(self.cnn3(x))        \n",
        "        x = F.relu(self.cnn4(x))        \n",
        "        x = self.features(x)\n",
        "        x = x.view(x.shape[0], -1)\n",
        "        x = F.relu(x)  \n",
        "        x = F.relu(self.lin1(x))\n",
        "        x = F.relu(self.lin2(x))\n",
        "        x = F.relu(self.lin3(x))\n",
        "        x = self.lin4(x)\n",
        "        return x\n",
        "    \n",
        "    def inference(self, x):\n",
        "        x = self.forward(x)\n",
        "        x = F.softmax(x)\n",
        "        return x"
      ],
      "execution_count": 0,
      "outputs": []
    },
    {
      "cell_type": "code",
      "metadata": {
        "id": "NWKUSiqHG2Yt",
        "colab_type": "code",
        "colab": {}
      },
      "source": [
        "def sample_or_pad(waveform, wav_len=32000):\n",
        "    m, n = waveform.shape\n",
        "    if n < wav_len:\n",
        "        padded_wav = torch.zeros(1, wav_len)\n",
        "        padded_wav[:, :n] = waveform\n",
        "        return padded_wav\n",
        "    elif n > wav_len:\n",
        "        offset = np.random.randint(0, n - wav_len)\n",
        "        sampled_wav = waveform[:, offset:offset+wav_len]\n",
        "        return sampled_wav\n",
        "    else:\n",
        "        return waveform\n",
        "        \n",
        "class EventDetectionDataset(Dataset):\n",
        "    def __init__(self, data_path, x, y=None):\n",
        "        self.x = x\n",
        "        self.y = y\n",
        "        self.data_path = data_path\n",
        "    \n",
        "    def __len__(self):\n",
        "        return len(self.x)\n",
        "\n",
        "    def __getitem__(self, idx):\n",
        "        path2wav = os.path.join(self.data_path, self.x[idx])\n",
        "        waveform, sample_rate = torchaudio.load(path2wav, normalization=True)\n",
        "        waveform = sample_or_pad(waveform)\n",
        "        if self.y is not None:\n",
        "            return waveform, self.y[idx]\n",
        "        return waveform"
      ],
      "execution_count": 0,
      "outputs": []
    },
    {
      "cell_type": "code",
      "metadata": {
        "id": "O9VNOf79G2Yv",
        "colab_type": "code",
        "colab": {}
      },
      "source": [
        "X_train, X_val, y_train, y_val = train_test_split(df_train.fname.values, df_train.label_encoded.values, \n",
        "                                                  test_size=0.2, random_state=42)\n",
        "train_loader = DataLoader(\n",
        "                        EventDetectionDataset(os.path.join(DATA_PATH, train_data_folder), X_train, y_train),\n",
        "                        batch_size=41\n",
        "                )\n",
        "val_loader = DataLoader(\n",
        "                        EventDetectionDataset(os.path.join(DATA_PATH, train_data_folder), X_val, y_val),\n",
        "                        batch_size=41\n",
        "                )\n",
        "test_loader = DataLoader(\n",
        "                        EventDetectionDataset(os.path.join(DATA_PATH, test_data_folder), df_test.fname.values, None),\n",
        "                        batch_size=41, shuffle=False\n",
        "                )"
      ],
      "execution_count": 0,
      "outputs": []
    },
    {
      "cell_type": "code",
      "metadata": {
        "id": "JLzt1MA5G2Yy",
        "colab_type": "code",
        "colab": {}
      },
      "source": [
        "def eval_model(model, eval_dataset):\n",
        "    model.eval()\n",
        "    forecast, true_labs = [], []\n",
        "    with torch.no_grad():\n",
        "        for wavs, labs in tqdm(eval_dataset):\n",
        "            wavs, labs = wavs.cuda(), labs.detach().numpy()\n",
        "            true_labs.append(labs)\n",
        "            outputs = model.inference(wavs)\n",
        "            \n",
        "            outputs = outputs.detach().cpu().numpy().argmax(axis=1)\n",
        "            forecast.append(outputs)\n",
        "    forecast = [x for sublist in forecast for x in sublist]\n",
        "    true_labs = [x for sublist in true_labs for x in sublist]\n",
        "    return f1_score(forecast, true_labs, average='macro')"
      ],
      "execution_count": 0,
      "outputs": []
    },
    {
      "cell_type": "code",
      "metadata": {
        "id": "4KziTbl6G2Y1",
        "colab_type": "code",
        "colab": {}
      },
      "source": [
        "# Обучение моделей\n",
        "\n",
        "criterion = nn.CrossEntropyLoss()\n",
        "model = Model_5()\n",
        "model = model.cuda()\n",
        "lr = 1e-3\n",
        "\n",
        "optimizer = torch.optim.Adam(model.parameters(), lr=lr)"
      ],
      "execution_count": 0,
      "outputs": []
    },
    {
      "cell_type": "code",
      "metadata": {
        "id": "_KHtphEyG2Y4",
        "colab_type": "code",
        "colab": {}
      },
      "source": [
        "n_epoch = 100\n",
        "best_f1 = 0\n",
        "for epoch in range(n_epoch):\n",
        "    model.train()\n",
        "    for wavs, labs in tqdm(train_loader):\n",
        "        optimizer.zero_grad()\n",
        "        wavs, labs = wavs.cuda(), labs.cuda()\n",
        "        outputs = model(wavs)\n",
        "        loss = criterion(outputs, labs)\n",
        "        loss.backward()\n",
        "        optimizer.step()\n",
        "    f1 = eval_model(model, val_loader)\n",
        "    f1_train = eval_model(model, train_loader)\n",
        "    print(f'epoch: {epoch}, f1_test: {f1}, f1_train: {f1_train}')\n",
        "    if f1 > best_f1:\n",
        "        best_f1 = f1\n",
        "        torch.save(model.state_dict(), '../baseline_v5.pt')\n",
        "        \n",
        "    lr = lr * 0.95\n",
        "    for param_group in optimizer.param_groups:\n",
        "        param_group['lr'] = lr"
      ],
      "execution_count": 0,
      "outputs": []
    },
    {
      "cell_type": "code",
      "metadata": {
        "id": "yEWi2TdPG2Y8",
        "colab_type": "code",
        "colab": {}
      },
      "source": [
        "# make a model\n",
        "model_name = 'baseline_v5.pt'\n",
        "model = BaseLineModel().cuda()\n",
        "model.load_state_dict(torch.load(os.path.join('..', model_name)))\n",
        "model.eval()\n",
        "forecast = []\n",
        "with torch.no_grad():\n",
        "    for wavs in tqdm(test_loader):\n",
        "        wavs = wavs.cuda()\n",
        "        outputs = model.inference(wavs)\n",
        "        outputs = outputs.detach().cpu().numpy().argmax(axis=1)\n",
        "        forecast.append(outputs)\n",
        "forecast = [x for sublist in forecast for x in sublist]\n",
        "decoder = {classes_dict[cl]:cl for cl in classes_dict}\n",
        "forecast = pd.Series(forecast).map(decoder)\n",
        "df_test['label'] = forecast\n",
        "df_test.to_csv(f'{model_name}.csv', index=None)"
      ],
      "execution_count": 0,
      "outputs": []
    },
    {
      "cell_type": "code",
      "metadata": {
        "id": "k_iDc85FG2Y_",
        "colab_type": "code",
        "colab": {}
      },
      "source": [
        ""
      ],
      "execution_count": 0,
      "outputs": []
    },
    {
      "cell_type": "code",
      "metadata": {
        "id": "3xqteVsTG2ZC",
        "colab_type": "code",
        "colab": {}
      },
      "source": [
        "def model_predict(model, data_loader):\n",
        "    forecast = []\n",
        "    probs = []\n",
        "    with torch.no_grad():\n",
        "        for wavs, labs in tqdm(data_loader):\n",
        "            wavs = wavs.cuda()\n",
        "            outputs = model.inference(wavs)\n",
        "            probs.append(outputs.detach().cpu().numpy())\n",
        "            outputs = outputs.detach().cpu().numpy().argmax(axis=1)\n",
        "            forecast.append(outputs)\n",
        "    forecast = [x for sublist in forecast for x in sublist]\n",
        "    probs = [x for sublist in probs for x in sublist]\n",
        "    decoder = {classes_dict[cl]:cl for cl in classes_dict}\n",
        "    forecast = pd.Series(forecast).map(decoder)\n",
        "    \n",
        "    return forecast, probs"
      ],
      "execution_count": 0,
      "outputs": []
    },
    {
      "cell_type": "code",
      "metadata": {
        "id": "kctn8xcxG2ZF",
        "colab_type": "code",
        "colab": {}
      },
      "source": [
        "def model_predict_test(model, test_loader):\n",
        "    forecast = []\n",
        "    probs = []\n",
        "    with torch.no_grad():\n",
        "        for wavs in tqdm(test_loader):\n",
        "            wavs = wavs.cuda()\n",
        "            outputs = model.inference(wavs)\n",
        "            probs.append(outputs.detach().cpu().numpy())\n",
        "            outputs = outputs.detach().cpu().numpy().argmax(axis=1)\n",
        "            forecast.append(outputs)\n",
        "    forecast = [x for sublist in forecast for x in sublist]\n",
        "    probs = [x for sublist in probs for x in sublist]\n",
        "    decoder = {classes_dict[cl]:cl for cl in classes_dict}\n",
        "    forecast = pd.Series(forecast).map(decoder)\n",
        "    \n",
        "    return forecast, probs"
      ],
      "execution_count": 0,
      "outputs": []
    },
    {
      "cell_type": "code",
      "metadata": {
        "id": "oA_9-WImG2ZI",
        "colab_type": "code",
        "colab": {}
      },
      "source": [
        "def model_train(model, train_loader, val_loader, name, learning_rate, epoch):\n",
        "    n_epoch = epoch\n",
        "    best_f1 = 0\n",
        "    for epoch in range(n_epoch):\n",
        "        model.train()\n",
        "        for wavs, labs in tqdm(train_loader):\n",
        "            optimizer.zero_grad()\n",
        "            wavs, labs = wavs.cuda(), labs.cuda()\n",
        "            outputs = model(wavs)\n",
        "            loss = criterion(outputs, labs)\n",
        "            loss.backward()\n",
        "            optimizer.step()\n",
        "        f1 = eval_model(model, val_loader)\n",
        "        f1_train = eval_model(model, train_loader)\n",
        "        print(f'epoch: {epoch}, f1_test: {f1}, f1_train: {f1_train}')\n",
        "        if f1 > best_f1:\n",
        "            best_f1 = f1\n",
        "            torch.save(model.state_dict(), '../' + name)\n",
        "        \n",
        "        learning_rate = learning_rate * 0.95\n",
        "        for param_group in optimizer.param_groups:\n",
        "            param_group['lr'] = learning_rate"
      ],
      "execution_count": 0,
      "outputs": []
    },
    {
      "cell_type": "markdown",
      "metadata": {
        "id": "vx1M7VLfG2ZL",
        "colab_type": "text"
      },
      "source": [
        "# Semi-supervised learning"
      ]
    },
    {
      "cell_type": "code",
      "metadata": {
        "id": "zThvKg4lG2ZL",
        "colab_type": "code",
        "colab": {}
      },
      "source": [
        "model_name = 'baseline_v4.pt'\n",
        "model = Model_4().cuda()\n",
        "model.load_state_dict(torch.load(os.path.join('..', model_name)))\n",
        "model.eval()\n",
        "_, probs = model_predict_test(model, test_loader)"
      ],
      "execution_count": 0,
      "outputs": []
    },
    {
      "cell_type": "code",
      "metadata": {
        "id": "ZIm05mdiG2ZO",
        "colab_type": "code",
        "colab": {}
      },
      "source": [
        "probmax = [max(x) for x in probs]\n",
        "\n",
        "idx_max = []\n",
        "idx_else = []\n",
        "for i, prob in enumerate(probmax):\n",
        "    if (prob) > 0.99:\n",
        "        idx_max.append(i)\n",
        "    else:\n",
        "        idx_else.append(i)"
      ],
      "execution_count": 0,
      "outputs": []
    },
    {
      "cell_type": "code",
      "metadata": {
        "id": "kfFA3nJbG2ZQ",
        "colab_type": "code",
        "colab": {}
      },
      "source": [
        "# Создание нового train\n",
        "\n",
        "df_train_new = pd.read_csv(os.path.join(DATA_PATH, train_meta_fname))\n",
        "df_train_new['label_encoded'] = df_train_new.label.map(classes_dict)\n",
        "\n",
        "for i in idx_max:\n",
        "    df_train_new.loc[len(df_train_new)] = [df_test['fname'][i], df_test['label'][i], classes_dict[df_test['label'][i]]]\n",
        "    \n",
        "df_train_new.to_csv('train_with_test_99_v4.csv', index=None) "
      ],
      "execution_count": 0,
      "outputs": []
    },
    {
      "cell_type": "code",
      "metadata": {
        "id": "moQkPrwZG2ZS",
        "colab_type": "code",
        "colab": {}
      },
      "source": [
        "# Создание нового test\n",
        "\n",
        "df_test_new = pd.DataFrame(columns = ['fname', 'label'])\n",
        "\n",
        "for i in idx_else:\n",
        "    df_test_new.loc[len(df_test_new)] = [df_test['fname'][i], 0.0]\n",
        "    \n",
        "df_test_new.to_csv('test_new_99_v4.csv', index=None)"
      ],
      "execution_count": 0,
      "outputs": []
    },
    {
      "cell_type": "code",
      "metadata": {
        "id": "1k3bvvQhG2ZU",
        "colab_type": "code",
        "colab": {}
      },
      "source": [
        "X_train, X_val, y_train, y_val = train_test_split(df_train_new.fname.values, df_train_new.label_encoded.values, \n",
        "                                                  test_size=0.2, random_state=42)\n",
        "train_loader_new = DataLoader(\n",
        "                        EventDetectionDataset(os.path.join(DATA_PATH, train_data_folder), X_train, y_train),\n",
        "                        batch_size=41\n",
        "                )\n",
        "val_loader_new = DataLoader(\n",
        "                        EventDetectionDataset(os.path.join(DATA_PATH, train_data_folder), X_val, y_val),\n",
        "                        batch_size=41\n",
        "                )\n",
        "test_loader_new = DataLoader(\n",
        "                        EventDetectionDataset(os.path.join(DATA_PATH, test_data_folder), df_test_new.fname.values, None),\n",
        "                        batch_size=41, shuffle=False\n",
        "                )"
      ],
      "execution_count": 0,
      "outputs": []
    },
    {
      "cell_type": "code",
      "metadata": {
        "id": "rQb9kq2lG2ZZ",
        "colab_type": "code",
        "colab": {}
      },
      "source": [
        "criterion = nn.CrossEntropyLoss()\n",
        "model = Model_4()\n",
        "model = model.cuda()\n",
        "model_name = 'Semi_S_99_v4.pt'\n",
        "lr = 1e-3\n",
        "\n",
        "optimizer = torch.optim.Adam(model.parameters(), lr=lr)"
      ],
      "execution_count": 0,
      "outputs": []
    },
    {
      "cell_type": "code",
      "metadata": {
        "id": "zt1GRKcQG2Zd",
        "colab_type": "code",
        "colab": {}
      },
      "source": [
        "model_train(model, train_loader_new, val_loader_new, model_name, lr, 100)"
      ],
      "execution_count": 0,
      "outputs": []
    },
    {
      "cell_type": "code",
      "metadata": {
        "id": "DWVd3LuTG2Zg",
        "colab_type": "code",
        "colab": {}
      },
      "source": [
        "model_name = 'Semi_S_99_v4.pt'\n",
        "model = Model_4().cuda()\n",
        "model.load_state_dict(torch.load(os.path.join('..', model_name)))\n",
        "model.eval()\n",
        "forecast, _ = model_predict_test(model, test_loader)\n",
        "\n",
        "df_test['label'] = forecast\n",
        "df_test.to_csv(f'{model_name}.csv', index=None)"
      ],
      "execution_count": 0,
      "outputs": []
    },
    {
      "cell_type": "code",
      "metadata": {
        "id": "sHFRS3P8G2Zi",
        "colab_type": "code",
        "colab": {}
      },
      "source": [
        "_, probs = model_predict_test(model, test_loader_new)"
      ],
      "execution_count": 0,
      "outputs": []
    },
    {
      "cell_type": "code",
      "metadata": {
        "id": "hxAR-QJ7G2Zl",
        "colab_type": "code",
        "colab": {}
      },
      "source": [
        "probmax = [max(x) for x in probs]\n",
        "\n",
        "idx_max = []\n",
        "idx_else = []\n",
        "for i, prob in enumerate(probmax):\n",
        "    if (prob) > 0.99:\n",
        "        idx_max.append(i)\n",
        "    else:\n",
        "        idx_else.append(i)"
      ],
      "execution_count": 0,
      "outputs": []
    },
    {
      "cell_type": "code",
      "metadata": {
        "id": "50jA2VFKG2Zo",
        "colab_type": "code",
        "colab": {}
      },
      "source": [
        "df_train_new_2 = pd.read_csv(os.path.join('', 'train_with_test_99_v4.csv'))\n",
        "df_train_new_2['label_encoded'] = df_train_new_2.label.map(classes_dict)\n",
        "\n",
        "for i in idx_max:\n",
        "    df_train_new_2.loc[len(df_train_new_2)] = [df_test_new['fname'][i], df_test_new['label'][i], classes_dict[df_test_new['label'][i]]]\n",
        "    \n",
        "df_train_new_2.to_csv('train_with_test_99_v4_2.csv', index=None) "
      ],
      "execution_count": 0,
      "outputs": []
    },
    {
      "cell_type": "code",
      "metadata": {
        "id": "bRGYcqE_G2Zs",
        "colab_type": "code",
        "colab": {}
      },
      "source": [
        "df_test_new_2 =pd.DataFrame(columns = ['fname', 'label'])\n",
        "\n",
        "for i in idx_else:\n",
        "    df_test_new_2.loc[len(df_test_new_2)] = [df_test_new['fname'][i], 0.0]\n",
        "    \n",
        "df_test_new_2.to_csv('test_new_99_v4_2.csv', index=None)"
      ],
      "execution_count": 0,
      "outputs": []
    },
    {
      "cell_type": "code",
      "metadata": {
        "id": "G672t-b2G2Zu",
        "colab_type": "code",
        "colab": {}
      },
      "source": [
        "X_train, X_val, y_train, y_val = train_test_split(df_train_new_2.fname.values, df_train_new_2.label_encoded.values, \n",
        "                                                  test_size=0.2, random_state=42)\n",
        "train_loader_new_2 = DataLoader(\n",
        "                        EventDetectionDataset(os.path.join(DATA_PATH, train_data_folder), X_train, y_train),\n",
        "                        batch_size=41\n",
        "                )\n",
        "val_loader_new_2 = DataLoader(\n",
        "                        EventDetectionDataset(os.path.join(DATA_PATH, train_data_folder), X_val, y_val),\n",
        "                        batch_size=41\n",
        "                )\n",
        "test_loader_new_2 = DataLoader(\n",
        "                        EventDetectionDataset(os.path.join(DATA_PATH, test_data_folder), df_test_new_2.fname.values, None),\n",
        "                        batch_size=41, shuffle=False\n",
        "                )"
      ],
      "execution_count": 0,
      "outputs": []
    },
    {
      "cell_type": "code",
      "metadata": {
        "id": "ml9CLvaVG2Zx",
        "colab_type": "code",
        "colab": {}
      },
      "source": [
        "# Продолжение обучения на новых данных\n",
        "\n",
        "model_name = 'Semi_S_99_v4_2step_continie_learning.pt'\n",
        "model_train(model, train_loader_new_2, val_loader_new_2, model_name, lr, 50)"
      ],
      "execution_count": 0,
      "outputs": []
    },
    {
      "cell_type": "code",
      "metadata": {
        "id": "jqCa-4KzG2Zz",
        "colab_type": "code",
        "colab": {}
      },
      "source": [
        "model_name = 'Semi_S_99_v4_2step_continie_learning.pt'\n",
        "model = Model_4().cuda()\n",
        "model.load_state_dict(torch.load(os.path.join('..', model_name)))\n",
        "model.eval()\n",
        "forecast, _ = model_predict_test(model, test_loader)\n",
        "\n",
        "df_test['label'] = forecast\n",
        "df_test.to_csv(f'{model_name}.csv', index=None)"
      ],
      "execution_count": 0,
      "outputs": []
    },
    {
      "cell_type": "code",
      "metadata": {
        "id": "Lk1tSsdmG2Z2",
        "colab_type": "code",
        "colab": {}
      },
      "source": [
        ""
      ],
      "execution_count": 0,
      "outputs": []
    },
    {
      "cell_type": "markdown",
      "metadata": {
        "id": "MwmIUZgdG2Z4",
        "colab_type": "text"
      },
      "source": [
        "# EM"
      ]
    },
    {
      "cell_type": "code",
      "metadata": {
        "id": "E2cOctalG2Z5",
        "colab_type": "code",
        "colab": {}
      },
      "source": [
        "# Загрузить модель\n",
        "\n",
        "model_name = 'baseline_v4.pt'\n",
        "model = Model_4().cuda()\n",
        "model.load_state_dict(torch.load(os.path.join('..', model_name)))\n",
        "model.eval()\n",
        "forecast, _ = model_predict_test(model, test_loader)\n",
        "df_test['label'] = forecast"
      ],
      "execution_count": 0,
      "outputs": []
    },
    {
      "cell_type": "code",
      "metadata": {
        "id": "bROhIyJ1G2Z8",
        "colab_type": "code",
        "colab": {}
      },
      "source": [
        "# добавление test к train\n",
        "\n",
        "df_train_new = pd.read_csv(os.path.join(DATA_PATH, train_meta_fname))\n",
        "df_train_new['label_encoded'] = df_train_new.label.map(classes_dict)\n",
        "\n",
        "for i in range(len(df_test)):\n",
        "    df_train_new.loc[len(df_train_new)] = [df_test['fname'][i], df_test['label'][i], classes_dict[df_test['label'][i]]]\n",
        "    \n",
        "df_train_new.to_csv('train_with_test_full_v4.csv', index=None) "
      ],
      "execution_count": 0,
      "outputs": []
    },
    {
      "cell_type": "code",
      "metadata": {
        "id": "PHDHC9yfG2Z-",
        "colab_type": "code",
        "colab": {}
      },
      "source": [
        "df_test_new = pd.read_csv(os.path.join(DATA_PATH, test_meta_fname))"
      ],
      "execution_count": 0,
      "outputs": []
    },
    {
      "cell_type": "code",
      "metadata": {
        "id": "IE6QUugGG2aB",
        "colab_type": "code",
        "colab": {}
      },
      "source": [
        "X_train, X_val, y_train, y_val = train_test_split(df_train_new.fname.values, df_train_new.label_encoded.values, \n",
        "                                                  test_size=0.2, random_state=42)\n",
        "train_loader_new = DataLoader(\n",
        "                        EventDetectionDataset(os.path.join(DATA_PATH, train_data_folder), X_train, y_train),\n",
        "                        batch_size=41\n",
        "                )\n",
        "val_loader_new = DataLoader(\n",
        "                        EventDetectionDataset(os.path.join(DATA_PATH, train_data_folder), X_val, y_val),\n",
        "                        batch_size=41\n",
        "                )"
      ],
      "execution_count": 0,
      "outputs": []
    },
    {
      "cell_type": "code",
      "metadata": {
        "id": "3hDTeTQ1G2aE",
        "colab_type": "code",
        "colab": {}
      },
      "source": [
        "# Продолжение обучения\n",
        "\n",
        "model_name = 'EM_v4_continie_learning.pt'\n",
        "model_train(model, train_loader_new, val_loader_new, model_name, lr, 30)"
      ],
      "execution_count": 0,
      "outputs": []
    },
    {
      "cell_type": "code",
      "metadata": {
        "id": "D2-lchnxG2aG",
        "colab_type": "code",
        "colab": {}
      },
      "source": [
        "model_name = 'EM_v4_continie_learning.pt'\n",
        "model = Model_4().cuda()\n",
        "model.load_state_dict(torch.load(os.path.join('..', model_name)))\n",
        "model.eval()\n",
        "forecast, _ = model_predict_test(model, test_loader)\n",
        "\n",
        "df_test_new['label'] = forecast\n",
        "df_test_new.to_csv(f'{model_name}.csv', index=None)"
      ],
      "execution_count": 0,
      "outputs": []
    },
    {
      "cell_type": "code",
      "metadata": {
        "id": "CuaPizJqG2aK",
        "colab_type": "code",
        "colab": {},
        "outputId": "0cf3eead-a4f6-4f1d-b36f-fc1989283e65"
      },
      "source": [
        "# сравнение старого test и test_new\n",
        "\n",
        "csv = ['baseline_v4.pt.csv', 'EM_v4_continie_learning.pt.csv']\n",
        "df = pd.DataFrame()\n",
        "\n",
        "for i in range(len(csv)):\n",
        "    temp_df = pd.read_csv(os.path.join('', csv[i]))\n",
        "    df['label' + str(i)] = temp_df.label   \n",
        "\n",
        "print('Различных значений:', sum(df['label0'] != df['label1']))"
      ],
      "execution_count": 0,
      "outputs": [
        {
          "output_type": "stream",
          "text": [
            "Различных значений: 764\n"
          ],
          "name": "stdout"
        }
      ]
    },
    {
      "cell_type": "code",
      "metadata": {
        "id": "q_mLjGe_G2aN",
        "colab_type": "code",
        "colab": {}
      },
      "source": [
        "# обновление train\n",
        "\n",
        "df_train_new_2 = pd.read_csv(os.path.join(DATA_PATH, train_meta_fname))\n",
        "df_train_new_2['label_encoded'] = df_train_new_2.label.map(classes_dict)\n",
        "\n",
        "for i in range(len(df_test_new)):\n",
        "    df_train_new_2.loc[len(df_train_new_2)] = [df_test_new['fname'][i], df_test_new['label'][i], classes_dict[df_test_new['label'][i]]]\n",
        "    \n",
        "df_train_new_2.to_csv('train_with_test_full_v4_step2.csv', index=None) "
      ],
      "execution_count": 0,
      "outputs": []
    },
    {
      "cell_type": "code",
      "metadata": {
        "id": "xLbKcVujG2aT",
        "colab_type": "code",
        "colab": {}
      },
      "source": [
        "df_test_new_2 = pd.read_csv(os.path.join(DATA_PATH, test_meta_fname))"
      ],
      "execution_count": 0,
      "outputs": []
    },
    {
      "cell_type": "code",
      "metadata": {
        "id": "B3eWQiN-G2aV",
        "colab_type": "code",
        "colab": {}
      },
      "source": [
        "X_train, X_val, y_train, y_val = train_test_split(df_train_new_2.fname.values, df_train_new_2.label_encoded.values, \n",
        "                                                  test_size=0.2, random_state=42)\n",
        "train_loader_new_2 = DataLoader(\n",
        "                        EventDetectionDataset(os.path.join(DATA_PATH, train_data_folder), X_train, y_train),\n",
        "                        batch_size=41\n",
        "                )\n",
        "val_loader_new_2 = DataLoader(\n",
        "                        EventDetectionDataset(os.path.join(DATA_PATH, train_data_folder), X_val, y_val),\n",
        "                        batch_size=41\n",
        "                )"
      ],
      "execution_count": 0,
      "outputs": []
    },
    {
      "cell_type": "code",
      "metadata": {
        "id": "eXqQU4kUG2aX",
        "colab_type": "code",
        "colab": {}
      },
      "source": [
        "# Продолжение обучения\n",
        "\n",
        "model_name = 'EM_v4_step2_continie_learning.pt'\n",
        "model_train(model, train_loader_new_2, val_loader_new_2, model_name, lr, 20)"
      ],
      "execution_count": 0,
      "outputs": []
    },
    {
      "cell_type": "code",
      "metadata": {
        "id": "98MtrhB1G2aZ",
        "colab_type": "code",
        "colab": {}
      },
      "source": [
        "model_name = 'EM_v4_step2_continie_learning.pt'\n",
        "model = Model_4().cuda()\n",
        "model.load_state_dict(torch.load(os.path.join('..', model_name)))\n",
        "model.eval()\n",
        "forecast, _ = model_predict_test(model, test_loader)\n",
        "\n",
        "df_test_new_2['label'] = forecast\n",
        "df_test_new_2.to_csv(f'{model_name}.csv', index=None)"
      ],
      "execution_count": 0,
      "outputs": []
    },
    {
      "cell_type": "code",
      "metadata": {
        "id": "iQHwrPaJG2ad",
        "colab_type": "code",
        "colab": {}
      },
      "source": [
        "df = pd.DataFrame()\n",
        "\n",
        "df['label' + str(0)] = df_test.label\n",
        "df['label' + str(1)] = df_test_new.label\n",
        "df['label' + str(2)] = df_test_new_2.label "
      ],
      "execution_count": 0,
      "outputs": []
    },
    {
      "cell_type": "code",
      "metadata": {
        "id": "IQkXFS-hG2af",
        "colab_type": "code",
        "colab": {},
        "outputId": "21c1b04f-81ad-4dff-a112-96717d0887f9"
      },
      "source": [
        "print('Различных значений:', sum(df['label1'] != df['label2']))"
      ],
      "execution_count": 0,
      "outputs": [
        {
          "output_type": "stream",
          "text": [
            "Различных значений: 705\n"
          ],
          "name": "stdout"
        }
      ]
    },
    {
      "cell_type": "markdown",
      "metadata": {
        "id": "__q27XCsG2ah",
        "colab_type": "text"
      },
      "source": [
        "# Голосование"
      ]
    },
    {
      "cell_type": "code",
      "metadata": {
        "id": "vSMQ-TOmG2ah",
        "colab_type": "code",
        "colab": {}
      },
      "source": [
        "def voiting(csv, name):    \n",
        "    df = pd.DataFrame()\n",
        "    \n",
        "    for i in range(len(csv)):\n",
        "        temp_df = pd.read_csv(os.path.join('', csv[i]))\n",
        "        df['label' + str(i)] = temp_df.label   \n",
        "    \n",
        "    df_test['label'] = df.mode(axis='columns')[0]\n",
        "    df_test.to_csv(name, index=None)\n",
        "    \n",
        "    return df"
      ],
      "execution_count": 0,
      "outputs": []
    },
    {
      "cell_type": "code",
      "metadata": {
        "id": "KQT3mYekG2al",
        "colab_type": "code",
        "colab": {}
      },
      "source": [
        "csv_arr = ['baseline_v5.pt.csv', 'baseline_v3.pt.csv', 'baseline_v2.pt.csv']\n",
        "labels_result = voiting(csv_arr, 'voting_v5_3_2.csv')"
      ],
      "execution_count": 0,
      "outputs": []
    },
    {
      "cell_type": "code",
      "metadata": {
        "id": "8Xq-azcsG2ao",
        "colab_type": "code",
        "colab": {}
      },
      "source": [
        "csv_arr = ['Stacking_v1_2_3_4_5_SS41_EM42.csv', 'Stacking_v1_2_3_4_5_SS41_SS42_EM41_EM42.csv', 'Stacking_v1_4_SS41_EM42.csv', 'Stacking_v2_3_4_5.csv', 'Stacking_vSS41_SS42_EM41_EM42.csv']\n",
        "labels_result = voiting(csv_arr, 'Voting_v_Stacking_all.csv')"
      ],
      "execution_count": 0,
      "outputs": []
    },
    {
      "cell_type": "code",
      "metadata": {
        "id": "SVj2gE4XG2av",
        "colab_type": "code",
        "colab": {}
      },
      "source": [
        "# Варианты csv\n",
        "\n",
        "# 'baseline_v4.pt.csv', 'baseline_fulldiv.pt.csv', 'baseline_v5.pt.csv', 'baseline_v3.pt.csv', 'baseline_v2.pt.csv'\n",
        "# 'Semi_S_99_v4.pt.csv','Semi_S_99_v4_2step_continie_learning.pt.csv','EM_v4_continie_learning.pt.csv','EM_v4_step2_continie_learning.pt.csv'\n",
        "# 'Stacking_v1_2_3_4_5_SS41_EM42.csv', 'Stacking_v1_2_3_4_5_SS41_SS42_EM41_EM42.csv', 'Stacking_v1_4_SS41_EM42.csv', 'Stacking_v2_3_4_5.csv', 'Stacking_vSS41_SS42_EM41_EM42.csv'"
      ],
      "execution_count": 0,
      "outputs": []
    },
    {
      "cell_type": "markdown",
      "metadata": {
        "id": "p8qqvVqhG2ax",
        "colab_type": "text"
      },
      "source": [
        "# Stacking"
      ]
    },
    {
      "cell_type": "code",
      "metadata": {
        "id": "2tu9zMQgG2ay",
        "colab_type": "code",
        "colab": {}
      },
      "source": [
        "# Предсказания моделей на train, val и test\n",
        "# Разные data_loader и функции"
      ],
      "execution_count": 0,
      "outputs": []
    },
    {
      "cell_type": "code",
      "metadata": {
        "id": "7ktm_IzVG2a3",
        "colab_type": "code",
        "colab": {}
      },
      "source": [
        "model_name = 'Semi_S_99_v4_2step_continie_learning.pt'\n",
        "model = Model_4().cuda()\n",
        "model.load_state_dict(torch.load(os.path.join('..', model_name)))\n",
        "model.eval()\n",
        "_, probs_1 = model_predict_test(model, test_loader)"
      ],
      "execution_count": 0,
      "outputs": []
    },
    {
      "cell_type": "code",
      "metadata": {
        "id": "EPeDwaY7G2a7",
        "colab_type": "code",
        "colab": {}
      },
      "source": [
        "model_name = 'EM_v4_continie_learning.pt'\n",
        "model = Model_4().cuda()\n",
        "model.load_state_dict(torch.load(os.path.join('..', model_name)))\n",
        "model.eval()\n",
        "_, probs_2 = model_predict_test(model, test_loader)"
      ],
      "execution_count": 0,
      "outputs": []
    },
    {
      "cell_type": "code",
      "metadata": {
        "id": "wOrY_Ru2G2a_",
        "colab_type": "code",
        "colab": {}
      },
      "source": [
        "model_name = 'Semi_S_99_v4.pt'\n",
        "model = Model_4().cuda()\n",
        "model.load_state_dict(torch.load(os.path.join('..', model_name)))\n",
        "model.eval()\n",
        "_, probs_3 = model_predict_test(model, test_loader)"
      ],
      "execution_count": 0,
      "outputs": []
    },
    {
      "cell_type": "code",
      "metadata": {
        "id": "rJfKvuP8G2bC",
        "colab_type": "code",
        "colab": {}
      },
      "source": [
        "model_name = 'EM_v4_step2_continie_learning.pt'\n",
        "model = Model_4().cuda()\n",
        "model.load_state_dict(torch.load(os.path.join('..', model_name)))\n",
        "model.eval()\n",
        "_, probs_4 = model_predict_test(model, test_loader)"
      ],
      "execution_count": 0,
      "outputs": []
    },
    {
      "cell_type": "code",
      "metadata": {
        "id": "IJpedFKsG2bF",
        "colab_type": "code",
        "colab": {}
      },
      "source": [
        "# Объединение предсказаний"
      ],
      "execution_count": 0,
      "outputs": []
    },
    {
      "cell_type": "code",
      "metadata": {
        "id": "-TcJhdCIG2bH",
        "colab_type": "code",
        "colab": {}
      },
      "source": [
        "probs_train = np.hstack((probs_1, probs_2, probs_3, probs_4))"
      ],
      "execution_count": 0,
      "outputs": []
    },
    {
      "cell_type": "code",
      "metadata": {
        "id": "PLyixxjQG2bJ",
        "colab_type": "code",
        "colab": {}
      },
      "source": [
        "probs_val = np.hstack((probs_1, probs_2, probs_3, probs_4))"
      ],
      "execution_count": 0,
      "outputs": []
    },
    {
      "cell_type": "code",
      "metadata": {
        "id": "9lJUjuYpG2bL",
        "colab_type": "code",
        "colab": {}
      },
      "source": [
        "probs_test = np.hstack((probs_1, probs_2, probs_3, probs_4))"
      ],
      "execution_count": 0,
      "outputs": []
    },
    {
      "cell_type": "code",
      "metadata": {
        "id": "GlrJpw0UG2bO",
        "colab_type": "code",
        "colab": {}
      },
      "source": [
        "# Обучение классификкатора\n",
        "\n",
        "from sklearn.linear_model import LogisticRegression\n",
        "\n",
        "clf = LogisticRegression().fit(probs_train, y_train)"
      ],
      "execution_count": 0,
      "outputs": []
    },
    {
      "cell_type": "code",
      "metadata": {
        "id": "rcYZGEc8G2bQ",
        "colab_type": "code",
        "colab": {}
      },
      "source": [
        "predict_val = clf.predict_proba(probs_val)"
      ],
      "execution_count": 0,
      "outputs": []
    },
    {
      "cell_type": "code",
      "metadata": {
        "id": "6GwjRDbWG2bR",
        "colab_type": "code",
        "colab": {}
      },
      "source": [
        "predict_test = clf.predict_proba(probs_test) \n",
        "\n",
        "decoder = {classes_dict[cl]:cl for cl in classes_dict}\n",
        "forecast = pd.Series(predict_test.argmax(axis=1)).map(decoder)\n",
        "\n",
        "df_test['label'] = forecast\n",
        "df_test.to_csv('Stacking_vSS41_SS42_EM41_EM42.csv', index=None)"
      ],
      "execution_count": 0,
      "outputs": []
    },
    {
      "cell_type": "code",
      "metadata": {
        "id": "fEtxwplDG2bT",
        "colab_type": "code",
        "colab": {}
      },
      "source": [
        "# f1-score для разных наборов классификаторов"
      ],
      "execution_count": 0,
      "outputs": []
    },
    {
      "cell_type": "code",
      "metadata": {
        "id": "YwtrNiOqG2bU",
        "colab_type": "code",
        "colab": {},
        "outputId": "a55755af-a27a-4a8c-81d4-9d9b71158460"
      },
      "source": [
        "f1_score(predict_val.argmax(axis=1), y_val, average='macro') # классификаторы v 2 3 4 5"
      ],
      "execution_count": 0,
      "outputs": [
        {
          "output_type": "execute_result",
          "data": {
            "text/plain": [
              "0.7533077700861295"
            ]
          },
          "metadata": {
            "tags": []
          },
          "execution_count": 263
        }
      ]
    },
    {
      "cell_type": "code",
      "metadata": {
        "id": "hdKIRtzgG2bW",
        "colab_type": "code",
        "colab": {},
        "outputId": "573febec-8cb2-4b7a-f2a2-bff71da0543e"
      },
      "source": [
        "f1_score(predict_val.argmax(axis=1), y_val, average='macro') # классификаторы v 1 4 SS41 EM42"
      ],
      "execution_count": 0,
      "outputs": [
        {
          "output_type": "execute_result",
          "data": {
            "text/plain": [
              "0.7932197206315299"
            ]
          },
          "metadata": {
            "tags": []
          },
          "execution_count": 299
        }
      ]
    },
    {
      "cell_type": "code",
      "metadata": {
        "id": "fDwR8GG1G2bZ",
        "colab_type": "code",
        "colab": {},
        "outputId": "34307d84-f82d-4b88-afbe-332103ec7d5e"
      },
      "source": [
        "f1_score(predict_val.argmax(axis=1), y_val, average='macro') # классификаторы v 1 2 3 4 5 SS41 EM42"
      ],
      "execution_count": 0,
      "outputs": [
        {
          "output_type": "execute_result",
          "data": {
            "text/plain": [
              "0.8168401720502562"
            ]
          },
          "metadata": {
            "tags": []
          },
          "execution_count": 307
        }
      ]
    },
    {
      "cell_type": "code",
      "metadata": {
        "id": "tHtOOEG0G2bb",
        "colab_type": "code",
        "colab": {},
        "outputId": "a5aefab9-5f66-4357-f21b-14835bbe0366"
      },
      "source": [
        "f1_score(predict_val.argmax(axis=1), y_val, average='macro') # классификаторы v SS41 SS42 EM41 EM42"
      ],
      "execution_count": 0,
      "outputs": [
        {
          "output_type": "execute_result",
          "data": {
            "text/plain": [
              "0.8141336888247914"
            ]
          },
          "metadata": {
            "tags": []
          },
          "execution_count": 335
        }
      ]
    },
    {
      "cell_type": "code",
      "metadata": {
        "id": "RzM7DI_TG2be",
        "colab_type": "code",
        "colab": {},
        "outputId": "a99af7fe-b38e-4b6f-f40a-44b3acdc775f"
      },
      "source": [
        "f1_score(predict_val.argmax(axis=1), y_val, average='macro') # классификаторы v 1 2 3 4 5 SS41 SS42 EM41 EM42"
      ],
      "execution_count": 0,
      "outputs": [
        {
          "output_type": "execute_result",
          "data": {
            "text/plain": [
              "0.8244484560798716"
            ]
          },
          "metadata": {
            "tags": []
          },
          "execution_count": 329
        }
      ]
    },
    {
      "cell_type": "code",
      "metadata": {
        "id": "wW0EWD4VG2bh",
        "colab_type": "code",
        "colab": {}
      },
      "source": [
        ""
      ],
      "execution_count": 0,
      "outputs": []
    },
    {
      "cell_type": "code",
      "metadata": {
        "id": "BOeDABIjG2bk",
        "colab_type": "code",
        "colab": {}
      },
      "source": [
        "# Обучение классификаторов на разных частях датасета"
      ],
      "execution_count": 0,
      "outputs": []
    },
    {
      "cell_type": "code",
      "metadata": {
        "id": "sIBHuRFGG2bm",
        "colab_type": "code",
        "colab": {}
      },
      "source": [
        "X_train, X_val, y_train, y_val = train_test_split(df_train.fname.values, df_train.label_encoded.values, \n",
        "                                                  test_size=0.2, random_state=42)\n",
        "\n",
        "X_train_12, X_train_34, y_train_12, y_train_34 = train_test_split(X_train, y_train, test_size=0.5, random_state=42)\n",
        "X_train_1, X_train_2, y_train_1, y_train_2 = train_test_split(X_train_12, y_train_12, test_size=0.5, random_state=42)\n",
        "X_train_3, X_train_4, y_train_3, y_train_4 = train_test_split(X_train_34, y_train_34, test_size=0.5, random_state=42)\n",
        "\n",
        "X_train_clf1 = np.hstack((X_train_2, X_train_3, X_train_4))\n",
        "X_train_clf2 = np.hstack((X_train_1, X_train_3, X_train_4))\n",
        "X_train_clf3 = np.hstack((X_train_1, X_train_2, X_train_4))\n",
        "X_train_clf4 = np.hstack((X_train_1, X_train_2, X_train_3))\n",
        "y_train_clf1 = np.hstack((y_train_2, y_train_3, y_train_4))\n",
        "y_train_clf2 = np.hstack((y_train_1, y_train_3, y_train_4))\n",
        "y_train_clf3 = np.hstack((y_train_1, y_train_2, y_train_4))\n",
        "y_train_clf4 = np.hstack((y_train_1, y_train_2, y_train_3))\n",
        "\n",
        "train_loader = DataLoader(\n",
        "                        EventDetectionDataset(os.path.join(DATA_PATH, train_data_folder), X_train, y_train),\n",
        "                        batch_size=41\n",
        "                )\n",
        "train_loader_1 = DataLoader(\n",
        "                        EventDetectionDataset(os.path.join(DATA_PATH, train_data_folder), X_train_clf1, y_train_clf1),\n",
        "                        batch_size=41\n",
        "                )\n",
        "train_loader_2 = DataLoader(\n",
        "                        EventDetectionDataset(os.path.join(DATA_PATH, train_data_folder), X_train_clf2, y_train_clf2),\n",
        "                        batch_size=41\n",
        "                )\n",
        "train_loader_3 = DataLoader(\n",
        "                        EventDetectionDataset(os.path.join(DATA_PATH, train_data_folder), X_train_clf3, y_train_clf3),\n",
        "                        batch_size=41\n",
        "                )\n",
        "train_loader_4 = DataLoader(\n",
        "                        EventDetectionDataset(os.path.join(DATA_PATH, train_data_folder), X_train_clf4, y_train_clf4),\n",
        "                        batch_size=41\n",
        "                )\n",
        "val_loader_1 = DataLoader(\n",
        "                        EventDetectionDataset(os.path.join(DATA_PATH, train_data_folder), X_train_1, y_train_1),\n",
        "                        batch_size=41\n",
        "                )\n",
        "val_loader_2 = DataLoader(\n",
        "                        EventDetectionDataset(os.path.join(DATA_PATH, train_data_folder), X_train_2, y_train_2),\n",
        "                        batch_size=41\n",
        "                )\n",
        "val_loader_3 = DataLoader(\n",
        "                        EventDetectionDataset(os.path.join(DATA_PATH, train_data_folder), X_train_3, y_train_3),\n",
        "                        batch_size=41\n",
        "                )\n",
        "val_loader_4 = DataLoader(\n",
        "                        EventDetectionDataset(os.path.join(DATA_PATH, train_data_folder), X_train_4, y_train_4),\n",
        "                        batch_size=41\n",
        "                )\n",
        "val_loader = DataLoader(\n",
        "                        EventDetectionDataset(os.path.join(DATA_PATH, train_data_folder), X_val, y_val),\n",
        "                        batch_size=41\n",
        "                )"
      ],
      "execution_count": 0,
      "outputs": []
    },
    {
      "cell_type": "code",
      "metadata": {
        "id": "UWkOZzRyG2bn",
        "colab_type": "code",
        "colab": {}
      },
      "source": [
        "criterion = nn.CrossEntropyLoss()\n",
        "model = Model_1()\n",
        "model = model.cuda()\n",
        "model_name = 'baseline_v1_Stackikng_1.pt'\n",
        "lr = 1e-3\n",
        "\n",
        "optimizer = torch.optim.Adam(model.parameters(), lr=lr)\n",
        "\n",
        "model_train(model, train_loader_1, val_loader_1, model_name, lr, 50)"
      ],
      "execution_count": 0,
      "outputs": []
    },
    {
      "cell_type": "code",
      "metadata": {
        "id": "Qw9lXoOWG2bp",
        "colab_type": "code",
        "colab": {}
      },
      "source": [
        "criterion = nn.CrossEntropyLoss()\n",
        "model = Model_3()\n",
        "model = model.cuda()\n",
        "model_name = 'baseline_v3_Stackikng_2.pt'\n",
        "lr = 1e-3\n",
        "\n",
        "optimizer = torch.optim.Adam(model.parameters(), lr=lr)\n",
        "\n",
        "model_train(model, train_loader_2, val_loader_2, model_name, lr, 50)"
      ],
      "execution_count": 0,
      "outputs": []
    },
    {
      "cell_type": "code",
      "metadata": {
        "id": "TXZaKadvG2br",
        "colab_type": "code",
        "colab": {}
      },
      "source": [
        "criterion = nn.CrossEntropyLoss()\n",
        "model = Model_4()\n",
        "model = model.cuda()\n",
        "model_name = 'baseline_v4_Stackikng_3.pt'\n",
        "lr = 1e-3\n",
        "\n",
        "optimizer = torch.optim.Adam(model.parameters(), lr=lr)\n",
        "\n",
        "model_train(model, train_loader_3, val_loader_3, model_name, lr, 50)"
      ],
      "execution_count": 0,
      "outputs": []
    },
    {
      "cell_type": "code",
      "metadata": {
        "id": "jHGJXB5SG2bs",
        "colab_type": "code",
        "colab": {}
      },
      "source": [
        "criterion = nn.CrossEntropyLoss()\n",
        "model = Model_5()\n",
        "model = model.cuda()\n",
        "model_name = 'baseline_v5_Stackikng_4.pt'\n",
        "lr = 1e-3\n",
        "\n",
        "optimizer = torch.optim.Adam(model.parameters(), lr=lr)\n",
        "\n",
        "model_train(model, train_loader_4, val_loader_4, model_name, lr, 50)"
      ],
      "execution_count": 0,
      "outputs": []
    },
    {
      "cell_type": "code",
      "metadata": {
        "id": "HUTB8SEMG2bu",
        "colab_type": "code",
        "colab": {}
      },
      "source": [
        ""
      ],
      "execution_count": 0,
      "outputs": []
    },
    {
      "cell_type": "code",
      "metadata": {
        "id": "HENyzCCrG2bw",
        "colab_type": "code",
        "colab": {}
      },
      "source": [
        "# предсказание моделями train и val"
      ],
      "execution_count": 0,
      "outputs": []
    },
    {
      "cell_type": "code",
      "metadata": {
        "id": "mBI9YzqVG2bx",
        "colab_type": "code",
        "colab": {}
      },
      "source": [
        "model_name = 'baseline_v1_Stackikng_1.pt'\n",
        "model = Model_1().cuda()\n",
        "model.load_state_dict(torch.load(os.path.join('..', model_name)))\n",
        "model.eval()\n",
        "_, probs_1 = model_predict(model, val_loader)\n",
        "\n",
        "model_name = 'baseline_v3_Stackikng_2.pt'\n",
        "model = Model_3().cuda()\n",
        "model.load_state_dict(torch.load(os.path.join('..', model_name)))\n",
        "model.eval()\n",
        "_, probs_2 = model_predict(model, val_loader)\n",
        "\n",
        "model_name = 'baseline_v4_Stackikng_3.pt'\n",
        "model = Model_4().cuda()\n",
        "model.load_state_dict(torch.load(os.path.join('..', model_name)))\n",
        "model.eval()\n",
        "_, probs_3 = model_predict(model, val_loader)\n",
        "\n",
        "model_name = 'baseline_v5_Stackikng_4.pt'\n",
        "model = Model_5().cuda()\n",
        "model.load_state_dict(torch.load(os.path.join('..', model_name)))\n",
        "model.eval()\n",
        "_, probs_4 = model_predict(model, val_loader)"
      ],
      "execution_count": 0,
      "outputs": []
    },
    {
      "cell_type": "code",
      "metadata": {
        "id": "WyExE8c6G2b0",
        "colab_type": "code",
        "colab": {}
      },
      "source": [
        "probs_train = np.hstack((probs_1, probs_2, probs_3, probs_4))"
      ],
      "execution_count": 0,
      "outputs": []
    },
    {
      "cell_type": "code",
      "metadata": {
        "id": "XUsMhWTwG2b2",
        "colab_type": "code",
        "colab": {}
      },
      "source": [
        "probs_val = np.hstack((probs_1, probs_2, probs_3, probs_4))"
      ],
      "execution_count": 0,
      "outputs": []
    },
    {
      "cell_type": "code",
      "metadata": {
        "id": "ylUXac2YG2b4",
        "colab_type": "code",
        "colab": {}
      },
      "source": [
        "# тренировка классификатора на train"
      ],
      "execution_count": 0,
      "outputs": []
    },
    {
      "cell_type": "code",
      "metadata": {
        "id": "gis79yRJG2b5",
        "colab_type": "code",
        "colab": {}
      },
      "source": [
        "from sklearn.linear_model import LogisticRegression\n",
        "\n",
        "clf = LogisticRegression().fit(probs_train, y_train)"
      ],
      "execution_count": 0,
      "outputs": []
    },
    {
      "cell_type": "code",
      "metadata": {
        "id": "rgdGX46UG2b8",
        "colab_type": "code",
        "colab": {}
      },
      "source": [
        "# прогноз классификатора на val"
      ],
      "execution_count": 0,
      "outputs": []
    },
    {
      "cell_type": "code",
      "metadata": {
        "id": "xjTakxXOG2b9",
        "colab_type": "code",
        "colab": {},
        "outputId": "c17e12a7-e32b-4185-ef8e-65941d5fcbbc"
      },
      "source": [
        "predict_val = clf.predict_proba(probs_val)\n",
        "\n",
        "f1_score(predict_val.argmax(axis=1), y_val, average='macro')"
      ],
      "execution_count": 0,
      "outputs": [
        {
          "output_type": "execute_result",
          "data": {
            "text/plain": [
              "0.7401011371382926"
            ]
          },
          "metadata": {
            "tags": []
          },
          "execution_count": 31
        }
      ]
    },
    {
      "cell_type": "code",
      "metadata": {
        "id": "pNyMbnaBG2b-",
        "colab_type": "code",
        "colab": {}
      },
      "source": [
        ""
      ],
      "execution_count": 0,
      "outputs": []
    }
  ]
}