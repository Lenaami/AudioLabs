{
 "cells": [
  {
   "cell_type": "code",
   "execution_count": 1,
   "metadata": {},
   "outputs": [],
   "source": [
    "# path to your train/test/meta folders\n",
    "DATA_PATH = 'F:/Аудиоаналитика/'\n",
    "    \n",
    "# names of valuable files/folders\n",
    "train_meta_fname = 'train.csv'\n",
    "test_meta_fname = 'sample_submission.csv'\n",
    "train_data_folder = 'audio'\n",
    "test_data_folder = 'audio'"
   ]
  },
  {
   "cell_type": "code",
   "execution_count": 2,
   "metadata": {},
   "outputs": [],
   "source": [
    "import numpy as np\n",
    "import os\n",
    "import pandas as pd\n",
    "import torch\n",
    "import torch.nn as nn\n",
    "import torch.nn.functional as F\n",
    "from torch.utils.data import Dataset\n",
    "from torch.utils.data import DataLoader\n",
    "import torchaudio\n",
    "import torchvision\n",
    "from torchaudio import transforms\n",
    "from efficientnet_pytorch import EfficientNet\n",
    "from sklearn.model_selection import train_test_split\n",
    "from sklearn.metrics import f1_score\n",
    "from tqdm import tqdm"
   ]
  },
  {
   "cell_type": "code",
   "execution_count": 3,
   "metadata": {},
   "outputs": [],
   "source": [
    "# set seeds\n",
    "import random\n",
    "import numpy as np\n",
    "\n",
    "random.seed(42)\n",
    "np.random.seed(42)\n",
    "torch.manual_seed(42)\n",
    "torch.cuda.manual_seed(42)\n",
    "torch.backends.cudnn.deterministic = True"
   ]
  },
  {
   "cell_type": "code",
   "execution_count": 4,
   "metadata": {},
   "outputs": [
    {
     "data": {
      "text/html": [
       "<div>\n",
       "<style scoped>\n",
       "    .dataframe tbody tr th:only-of-type {\n",
       "        vertical-align: middle;\n",
       "    }\n",
       "\n",
       "    .dataframe tbody tr th {\n",
       "        vertical-align: top;\n",
       "    }\n",
       "\n",
       "    .dataframe thead th {\n",
       "        text-align: right;\n",
       "    }\n",
       "</style>\n",
       "<table border=\"1\" class=\"dataframe\">\n",
       "  <thead>\n",
       "    <tr style=\"text-align: right;\">\n",
       "      <th></th>\n",
       "      <th>fname</th>\n",
       "      <th>label</th>\n",
       "    </tr>\n",
       "  </thead>\n",
       "  <tbody>\n",
       "    <tr>\n",
       "      <th>0</th>\n",
       "      <td>8bcbcc394ba64fe85ed4.wav</td>\n",
       "      <td>Finger_snapping</td>\n",
       "    </tr>\n",
       "    <tr>\n",
       "      <th>1</th>\n",
       "      <td>00d77b917e241afa06f1.wav</td>\n",
       "      <td>Squeak</td>\n",
       "    </tr>\n",
       "  </tbody>\n",
       "</table>\n",
       "</div>"
      ],
      "text/plain": [
       "                      fname            label\n",
       "0  8bcbcc394ba64fe85ed4.wav  Finger_snapping\n",
       "1  00d77b917e241afa06f1.wav           Squeak"
      ]
     },
     "execution_count": 4,
     "metadata": {},
     "output_type": "execute_result"
    }
   ],
   "source": [
    "df_train = pd.read_csv(os.path.join(DATA_PATH, train_meta_fname))\n",
    "df_test = pd.read_csv(os.path.join(DATA_PATH, test_meta_fname))\n",
    "df_train.head(2)"
   ]
  },
  {
   "cell_type": "code",
   "execution_count": 5,
   "metadata": {},
   "outputs": [
    {
     "name": "stdout",
     "output_type": "stream",
     "text": [
      "41\n"
     ]
    },
    {
     "data": {
      "text/html": [
       "<div>\n",
       "<style scoped>\n",
       "    .dataframe tbody tr th:only-of-type {\n",
       "        vertical-align: middle;\n",
       "    }\n",
       "\n",
       "    .dataframe tbody tr th {\n",
       "        vertical-align: top;\n",
       "    }\n",
       "\n",
       "    .dataframe thead th {\n",
       "        text-align: right;\n",
       "    }\n",
       "</style>\n",
       "<table border=\"1\" class=\"dataframe\">\n",
       "  <thead>\n",
       "    <tr style=\"text-align: right;\">\n",
       "      <th></th>\n",
       "      <th>fname</th>\n",
       "      <th>label</th>\n",
       "      <th>label_encoded</th>\n",
       "    </tr>\n",
       "  </thead>\n",
       "  <tbody>\n",
       "    <tr>\n",
       "      <th>0</th>\n",
       "      <td>8bcbcc394ba64fe85ed4.wav</td>\n",
       "      <td>Finger_snapping</td>\n",
       "      <td>0</td>\n",
       "    </tr>\n",
       "    <tr>\n",
       "      <th>1</th>\n",
       "      <td>00d77b917e241afa06f1.wav</td>\n",
       "      <td>Squeak</td>\n",
       "      <td>1</td>\n",
       "    </tr>\n",
       "    <tr>\n",
       "      <th>2</th>\n",
       "      <td>17bb93b73b8e79234cb3.wav</td>\n",
       "      <td>Electric_piano</td>\n",
       "      <td>2</td>\n",
       "    </tr>\n",
       "    <tr>\n",
       "      <th>3</th>\n",
       "      <td>7d5c7a40a936136da55e.wav</td>\n",
       "      <td>Harmonica</td>\n",
       "      <td>3</td>\n",
       "    </tr>\n",
       "    <tr>\n",
       "      <th>4</th>\n",
       "      <td>17e0ee7565a33d6c2326.wav</td>\n",
       "      <td>Snare_drum</td>\n",
       "      <td>4</td>\n",
       "    </tr>\n",
       "  </tbody>\n",
       "</table>\n",
       "</div>"
      ],
      "text/plain": [
       "                      fname            label  label_encoded\n",
       "0  8bcbcc394ba64fe85ed4.wav  Finger_snapping              0\n",
       "1  00d77b917e241afa06f1.wav           Squeak              1\n",
       "2  17bb93b73b8e79234cb3.wav   Electric_piano              2\n",
       "3  7d5c7a40a936136da55e.wav        Harmonica              3\n",
       "4  17e0ee7565a33d6c2326.wav       Snare_drum              4"
      ]
     },
     "execution_count": 5,
     "metadata": {},
     "output_type": "execute_result"
    }
   ],
   "source": [
    "n_classes = df_train.label.nunique()\n",
    "print(n_classes)\n",
    "classes_dict = {cl:i for i,cl in enumerate(df_train.label.unique())}\n",
    "df_train['label_encoded'] = df_train.label.map(classes_dict)\n",
    "df_train.head()"
   ]
  },
  {
   "cell_type": "code",
   "execution_count": 7,
   "metadata": {},
   "outputs": [],
   "source": [
    "class Model_1(nn.Module):\n",
    "    \n",
    "    def __init__(self, sample_rate=16000, n_classes=41):\n",
    "        super().__init__()\n",
    "        self.ms = torchaudio.transforms.MelSpectrogram(sample_rate)        \n",
    "        self.cnn1 = nn.Conv2d(in_channels=1, out_channels=10, kernel_size=3, padding=1)\n",
    "        self.cnn3 = nn.Conv2d(in_channels=10, out_channels=3, kernel_size=3, padding=1)        \n",
    "        self.features = EfficientNet.from_pretrained('efficientnet-b0')            \n",
    "        self.lin1 = nn.Linear(1000, 333)        \n",
    "        self.lin2 = nn.Linear(333, 111)                \n",
    "        self.lin3 = nn.Linear(111, n_classes)\n",
    "        \n",
    "    def forward(self, x):\n",
    "        x = self.ms(x)                \n",
    "        x = F.relu(self.cnn1(x))\n",
    "        x = F.relu(self.cnn3(x))         \n",
    "        x = self.features(x)\n",
    "        x = x.view(x.shape[0], -1)\n",
    "        x = F.relu(x)        \n",
    "        x = F.relu(self.lin1(x))\n",
    "        x = F.relu(self.lin2(x))\n",
    "        x = self.lin3(x)\n",
    "        return x\n",
    "    \n",
    "    def inference(self, x):\n",
    "        x = self.forward(x)\n",
    "        x = F.softmax(x)\n",
    "        return x"
   ]
  },
  {
   "cell_type": "code",
   "execution_count": 8,
   "metadata": {},
   "outputs": [],
   "source": [
    "class Model_2(nn.Module):\n",
    "    \n",
    "    def __init__(self, sample_rate=16000, n_classes=41):\n",
    "        super().__init__()\n",
    "        self.ms = torchaudio.transforms.MelSpectrogram(sample_rate, n_fft=1024, hop_length=256, n_mels=64)\n",
    "        self.cnn1 = nn.Conv2d(in_channels=1, out_channels=10, kernel_size=3, padding=1)\n",
    "        self.cnn3 = nn.Conv2d(in_channels=10, out_channels=3, kernel_size=3, padding=1)        \n",
    "        self.features = EfficientNet.from_pretrained('efficientnet-b0')\n",
    "        self.lin1 = nn.Linear(1000, 333)        \n",
    "        self.lin2 = nn.Linear(333, 111)                \n",
    "        self.lin3 = nn.Linear(111, n_classes)\n",
    "        \n",
    "    def forward(self, x):\n",
    "        x = self.ms(x)                \n",
    "        x = F.relu(self.cnn1(x))\n",
    "        x = F.relu(self.cnn3(x))        \n",
    "        x = self.features(x)\n",
    "        x = x.view(x.shape[0], -1)\n",
    "        x = F.relu(x)        \n",
    "        x = F.relu(self.lin1(x))\n",
    "        x = F.relu(self.lin2(x))\n",
    "        x = self.lin3(x)   \n",
    "        return x\n",
    "    \n",
    "    def inference(self, x):\n",
    "        x = self.forward(x)\n",
    "        x = F.softmax(x)\n",
    "        return x"
   ]
  },
  {
   "cell_type": "code",
   "execution_count": 9,
   "metadata": {},
   "outputs": [],
   "source": [
    "class Model_3(nn.Module):\n",
    "    \n",
    "    def __init__(self, sample_rate=16000, n_classes=41):\n",
    "        super().__init__()\n",
    "        self.ms = torchaudio.transforms.MFCC(sample_rate)\n",
    "        self.cnn1 = nn.Conv2d(in_channels=1, out_channels=10, kernel_size=3, padding=1)\n",
    "        self.cnn3 = nn.Conv2d(in_channels=10, out_channels=3, kernel_size=3, padding=1)        \n",
    "        self.features = EfficientNet.from_pretrained('efficientnet-b0')            \n",
    "        self.lin1 = nn.Linear(1000, 333)        \n",
    "        self.lin2 = nn.Linear(333, 111)                \n",
    "        self.lin3 = nn.Linear(111, n_classes)\n",
    "        \n",
    "    def forward(self, x):\n",
    "        x = self.ms(x)\n",
    "        x = F.relu(self.cnn1(x))\n",
    "        x = F.relu(self.cnn3(x))         \n",
    "        x = self.features(x)\n",
    "        x = x.view(x.shape[0], -1)\n",
    "        x = F.relu(x)        \n",
    "        x = F.relu(self.lin1(x))\n",
    "        x = F.relu(self.lin2(x))\n",
    "        x = self.lin3(x)\n",
    "        return x\n",
    "    \n",
    "    def inference(self, x):\n",
    "        x = self.forward(x)\n",
    "        x = F.softmax(x)\n",
    "        return x"
   ]
  },
  {
   "cell_type": "code",
   "execution_count": 10,
   "metadata": {},
   "outputs": [],
   "source": [
    "class Model_4(nn.Module):\n",
    "    \n",
    "    def __init__(self, sample_rate=16000, n_classes=41):\n",
    "        super().__init__()\n",
    "        self.ms = torchaudio.transforms.MelSpectrogram(sample_rate)        \n",
    "        self.cnn1 = nn.Conv2d(in_channels=1, out_channels=10, kernel_size=3, padding=1)\n",
    "        self.cnn3 = nn.Conv2d(in_channels=10, out_channels=15, kernel_size=3, padding=1)        \n",
    "        self.cnn4 = nn.Conv2d(in_channels=15, out_channels=3, kernel_size=3, padding=1)        \n",
    "        self.features = EfficientNet.from_pretrained('efficientnet-b0')            \n",
    "        self.lin1 = nn.Linear(1000, 333)        \n",
    "        self.lin2 = nn.Linear(333, 111)                \n",
    "        self.lin3 = nn.Linear(111, n_classes)\n",
    "        \n",
    "    def forward(self, x):\n",
    "        x = self.ms(x)\n",
    "        x = F.relu(self.cnn1(x))\n",
    "        x = F.relu(self.cnn3(x))        \n",
    "        x = F.relu(self.cnn4(x))        \n",
    "        x = self.features(x)\n",
    "        x = x.view(x.shape[0], -1)\n",
    "        x = F.relu(x)        \n",
    "        x = F.relu(self.lin1(x))\n",
    "        x = F.relu(self.lin2(x))\n",
    "        x = self.lin3(x)  \n",
    "        return x\n",
    "    \n",
    "    def inference(self, x):\n",
    "        x = self.forward(x)\n",
    "        x = F.softmax(x)\n",
    "        return x"
   ]
  },
  {
   "cell_type": "code",
   "execution_count": 11,
   "metadata": {},
   "outputs": [],
   "source": [
    "class Model_5(nn.Module):\n",
    "    \n",
    "    def __init__(self, sample_rate=16000, n_classes=41):\n",
    "        super().__init__()\n",
    "        self.ms = torchaudio.transforms.MFCC(sample_rate)\n",
    "        self.cnn1 = nn.Conv2d(in_channels=1, out_channels=10, kernel_size=3, padding=1)\n",
    "        self.cnn3 = nn.Conv2d(in_channels=10, out_channels=15, kernel_size=3, padding=1)        \n",
    "        self.cnn4 = nn.Conv2d(in_channels=15, out_channels=3, kernel_size=3, padding=1)        \n",
    "        self.features = EfficientNet.from_pretrained('efficientnet-b0')\n",
    "        self.lin1 = nn.Linear(1000, 512)        \n",
    "        self.lin2 = nn.Linear(512, 256)\n",
    "        self.lin3 = nn.Linear(256, 128)                \n",
    "        self.lin4 = nn.Linear(128, n_classes)\n",
    "        \n",
    "    def forward(self, x):\n",
    "        x = self.ms(x)\n",
    "        x = F.relu(self.cnn1(x))\n",
    "        x = F.relu(self.cnn3(x))        \n",
    "        x = F.relu(self.cnn4(x))        \n",
    "        x = self.features(x)\n",
    "        x = x.view(x.shape[0], -1)\n",
    "        x = F.relu(x)  \n",
    "        x = F.relu(self.lin1(x))\n",
    "        x = F.relu(self.lin2(x))\n",
    "        x = F.relu(self.lin3(x))\n",
    "        x = self.lin4(x)\n",
    "        return x\n",
    "    \n",
    "    def inference(self, x):\n",
    "        x = self.forward(x)\n",
    "        x = F.softmax(x)\n",
    "        return x"
   ]
  },
  {
   "cell_type": "code",
   "execution_count": 12,
   "metadata": {},
   "outputs": [],
   "source": [
    "def sample_or_pad(waveform, wav_len=32000):\n",
    "    m, n = waveform.shape\n",
    "    if n < wav_len:\n",
    "        padded_wav = torch.zeros(1, wav_len)\n",
    "        padded_wav[:, :n] = waveform\n",
    "        return padded_wav\n",
    "    elif n > wav_len:\n",
    "        offset = np.random.randint(0, n - wav_len)\n",
    "        sampled_wav = waveform[:, offset:offset+wav_len]\n",
    "        return sampled_wav\n",
    "    else:\n",
    "        return waveform\n",
    "        \n",
    "class EventDetectionDataset(Dataset):\n",
    "    def __init__(self, data_path, x, y=None):\n",
    "        self.x = x\n",
    "        self.y = y\n",
    "        self.data_path = data_path\n",
    "    \n",
    "    def __len__(self):\n",
    "        return len(self.x)\n",
    "\n",
    "    def __getitem__(self, idx):\n",
    "        path2wav = os.path.join(self.data_path, self.x[idx])\n",
    "        waveform, sample_rate = torchaudio.load(path2wav, normalization=True)\n",
    "        waveform = sample_or_pad(waveform)\n",
    "        if self.y is not None:\n",
    "            return waveform, self.y[idx]\n",
    "        return waveform"
   ]
  },
  {
   "cell_type": "code",
   "execution_count": 13,
   "metadata": {},
   "outputs": [],
   "source": [
    "X_train, X_val, y_train, y_val = train_test_split(df_train.fname.values, df_train.label_encoded.values, \n",
    "                                                  test_size=0.2, random_state=42)\n",
    "train_loader = DataLoader(\n",
    "                        EventDetectionDataset(os.path.join(DATA_PATH, train_data_folder), X_train, y_train),\n",
    "                        batch_size=41\n",
    "                )\n",
    "val_loader = DataLoader(\n",
    "                        EventDetectionDataset(os.path.join(DATA_PATH, train_data_folder), X_val, y_val),\n",
    "                        batch_size=41\n",
    "                )\n",
    "test_loader = DataLoader(\n",
    "                        EventDetectionDataset(os.path.join(DATA_PATH, test_data_folder), df_test.fname.values, None),\n",
    "                        batch_size=41, shuffle=False\n",
    "                )"
   ]
  },
  {
   "cell_type": "code",
   "execution_count": 14,
   "metadata": {},
   "outputs": [],
   "source": [
    "def eval_model(model, eval_dataset):\n",
    "    model.eval()\n",
    "    forecast, true_labs = [], []\n",
    "    with torch.no_grad():\n",
    "        for wavs, labs in tqdm(eval_dataset):\n",
    "            wavs, labs = wavs.cuda(), labs.detach().numpy()\n",
    "            true_labs.append(labs)\n",
    "            outputs = model.inference(wavs)\n",
    "            \n",
    "            outputs = outputs.detach().cpu().numpy().argmax(axis=1)\n",
    "            forecast.append(outputs)\n",
    "    forecast = [x for sublist in forecast for x in sublist]\n",
    "    true_labs = [x for sublist in true_labs for x in sublist]\n",
    "    return f1_score(forecast, true_labs, average='macro')"
   ]
  },
  {
   "cell_type": "code",
   "execution_count": 14,
   "metadata": {},
   "outputs": [
    {
     "name": "stdout",
     "output_type": "stream",
     "text": [
      "Loaded pretrained weights for efficientnet-b0\n"
     ]
    }
   ],
   "source": [
    "# Обучение моделей\n",
    "\n",
    "criterion = nn.CrossEntropyLoss()\n",
    "model = Model_5()\n",
    "model = model.cuda()\n",
    "lr = 1e-3\n",
    "\n",
    "optimizer = torch.optim.Adam(model.parameters(), lr=lr)"
   ]
  },
  {
   "cell_type": "code",
   "execution_count": 15,
   "metadata": {},
   "outputs": [
    {
     "name": "stderr",
     "output_type": "stream",
     "text": [
      "100%|████████████████████████████████████████████████████████████████████████████████| 111/111 [02:02<00:00,  1.07it/s]\n",
      "  0%|                                                                                           | 0/28 [00:00<?, ?it/s]D:\\Programs\\Anaconda\\lib\\site-packages\\ipykernel_launcher.py:58: UserWarning: Implicit dimension choice for softmax has been deprecated. Change the call to include dim=X as an argument.\n",
      "100%|██████████████████████████████████████████████████████████████████████████████████| 28/28 [00:21<00:00,  1.37it/s]\n",
      "100%|████████████████████████████████████████████████████████████████████████████████| 111/111 [01:25<00:00,  1.36it/s]\n"
     ]
    },
    {
     "name": "stdout",
     "output_type": "stream",
     "text": [
      "epoch: 0, f1_test: 0.08653341462621193, f1_train: 0.09137319997582452\n"
     ]
    },
    {
     "name": "stderr",
     "output_type": "stream",
     "text": [
      "100%|████████████████████████████████████████████████████████████████████████████████| 111/111 [01:45<00:00,  1.07it/s]\n",
      "100%|██████████████████████████████████████████████████████████████████████████████████| 28/28 [00:21<00:00,  1.35it/s]\n",
      "100%|████████████████████████████████████████████████████████████████████████████████| 111/111 [01:26<00:00,  1.30it/s]\n"
     ]
    },
    {
     "name": "stdout",
     "output_type": "stream",
     "text": [
      "epoch: 1, f1_test: 0.21151852923052897, f1_train: 0.20285122887790116\n"
     ]
    },
    {
     "name": "stderr",
     "output_type": "stream",
     "text": [
      "100%|████████████████████████████████████████████████████████████████████████████████| 111/111 [01:46<00:00,  1.06it/s]\n",
      "100%|██████████████████████████████████████████████████████████████████████████████████| 28/28 [00:21<00:00,  1.36it/s]\n",
      "100%|████████████████████████████████████████████████████████████████████████████████| 111/111 [01:26<00:00,  1.34it/s]\n"
     ]
    },
    {
     "name": "stdout",
     "output_type": "stream",
     "text": [
      "epoch: 2, f1_test: 0.25399947193534805, f1_train: 0.2611873845524273\n"
     ]
    },
    {
     "name": "stderr",
     "output_type": "stream",
     "text": [
      "100%|████████████████████████████████████████████████████████████████████████████████| 111/111 [01:45<00:00,  1.08it/s]\n",
      "100%|██████████████████████████████████████████████████████████████████████████████████| 28/28 [00:21<00:00,  1.36it/s]\n",
      "100%|████████████████████████████████████████████████████████████████████████████████| 111/111 [01:25<00:00,  1.35it/s]\n"
     ]
    },
    {
     "name": "stdout",
     "output_type": "stream",
     "text": [
      "epoch: 3, f1_test: 0.3410131296990648, f1_train: 0.3728964400906234\n"
     ]
    },
    {
     "name": "stderr",
     "output_type": "stream",
     "text": [
      "100%|████████████████████████████████████████████████████████████████████████████████| 111/111 [01:45<00:00,  1.07it/s]\n",
      "100%|██████████████████████████████████████████████████████████████████████████████████| 28/28 [00:21<00:00,  1.32it/s]\n",
      "100%|████████████████████████████████████████████████████████████████████████████████| 111/111 [01:26<00:00,  1.31it/s]\n"
     ]
    },
    {
     "name": "stdout",
     "output_type": "stream",
     "text": [
      "epoch: 4, f1_test: 0.392142666914, f1_train: 0.43354984464988466\n"
     ]
    },
    {
     "name": "stderr",
     "output_type": "stream",
     "text": [
      "100%|████████████████████████████████████████████████████████████████████████████████| 111/111 [01:46<00:00,  1.05it/s]\n",
      "100%|██████████████████████████████████████████████████████████████████████████████████| 28/28 [00:21<00:00,  1.37it/s]\n",
      "100%|████████████████████████████████████████████████████████████████████████████████| 111/111 [01:26<00:00,  1.29it/s]\n"
     ]
    },
    {
     "name": "stdout",
     "output_type": "stream",
     "text": [
      "epoch: 5, f1_test: 0.44084577264084535, f1_train: 0.4868088157391867\n"
     ]
    },
    {
     "name": "stderr",
     "output_type": "stream",
     "text": [
      "100%|████████████████████████████████████████████████████████████████████████████████| 111/111 [01:53<00:00,  1.01s/it]\n",
      "100%|██████████████████████████████████████████████████████████████████████████████████| 28/28 [00:23<00:00,  1.23it/s]\n",
      "100%|████████████████████████████████████████████████████████████████████████████████| 111/111 [01:35<00:00,  1.16it/s]\n"
     ]
    },
    {
     "name": "stdout",
     "output_type": "stream",
     "text": [
      "epoch: 6, f1_test: 0.4530669281639637, f1_train: 0.5447442595218808\n"
     ]
    },
    {
     "name": "stderr",
     "output_type": "stream",
     "text": [
      "100%|████████████████████████████████████████████████████████████████████████████████| 111/111 [01:49<00:00,  1.07it/s]\n",
      "100%|██████████████████████████████████████████████████████████████████████████████████| 28/28 [00:21<00:00,  1.37it/s]\n",
      "100%|████████████████████████████████████████████████████████████████████████████████| 111/111 [01:26<00:00,  1.33it/s]\n"
     ]
    },
    {
     "name": "stdout",
     "output_type": "stream",
     "text": [
      "epoch: 7, f1_test: 0.4299880948842732, f1_train: 0.533056269859363\n"
     ]
    },
    {
     "name": "stderr",
     "output_type": "stream",
     "text": [
      "100%|████████████████████████████████████████████████████████████████████████████████| 111/111 [01:46<00:00,  1.06it/s]\n",
      "100%|██████████████████████████████████████████████████████████████████████████████████| 28/28 [00:21<00:00,  1.33it/s]\n",
      "100%|████████████████████████████████████████████████████████████████████████████████| 111/111 [01:27<00:00,  1.30it/s]\n"
     ]
    },
    {
     "name": "stdout",
     "output_type": "stream",
     "text": [
      "epoch: 8, f1_test: 0.5248276946619624, f1_train: 0.6049971210458147\n"
     ]
    },
    {
     "name": "stderr",
     "output_type": "stream",
     "text": [
      "100%|████████████████████████████████████████████████████████████████████████████████| 111/111 [01:45<00:00,  1.07it/s]\n",
      "100%|██████████████████████████████████████████████████████████████████████████████████| 28/28 [00:21<00:00,  1.33it/s]\n",
      "100%|████████████████████████████████████████████████████████████████████████████████| 111/111 [01:26<00:00,  1.31it/s]\n"
     ]
    },
    {
     "name": "stdout",
     "output_type": "stream",
     "text": [
      "epoch: 9, f1_test: 0.4946713874461815, f1_train: 0.6230989840259624\n"
     ]
    },
    {
     "name": "stderr",
     "output_type": "stream",
     "text": [
      "100%|████████████████████████████████████████████████████████████████████████████████| 111/111 [01:45<00:00,  1.08it/s]\n",
      "100%|██████████████████████████████████████████████████████████████████████████████████| 28/28 [00:21<00:00,  1.34it/s]\n",
      "100%|████████████████████████████████████████████████████████████████████████████████| 111/111 [01:25<00:00,  1.32it/s]\n"
     ]
    },
    {
     "name": "stdout",
     "output_type": "stream",
     "text": [
      "epoch: 10, f1_test: 0.5043591818205908, f1_train: 0.6349260325349276\n"
     ]
    },
    {
     "name": "stderr",
     "output_type": "stream",
     "text": [
      "100%|████████████████████████████████████████████████████████████████████████████████| 111/111 [01:45<00:00,  1.07it/s]\n",
      "100%|██████████████████████████████████████████████████████████████████████████████████| 28/28 [00:21<00:00,  1.37it/s]\n",
      "100%|████████████████████████████████████████████████████████████████████████████████| 111/111 [01:26<00:00,  1.31it/s]\n"
     ]
    },
    {
     "name": "stdout",
     "output_type": "stream",
     "text": [
      "epoch: 11, f1_test: 0.5254574043478109, f1_train: 0.6615850690403104\n"
     ]
    },
    {
     "name": "stderr",
     "output_type": "stream",
     "text": [
      "100%|████████████████████████████████████████████████████████████████████████████████| 111/111 [01:46<00:00,  1.08it/s]\n",
      "100%|██████████████████████████████████████████████████████████████████████████████████| 28/28 [00:21<00:00,  1.35it/s]\n",
      "100%|████████████████████████████████████████████████████████████████████████████████| 111/111 [01:26<00:00,  1.31it/s]\n"
     ]
    },
    {
     "name": "stdout",
     "output_type": "stream",
     "text": [
      "epoch: 12, f1_test: 0.566055682454228, f1_train: 0.6777323553631427\n"
     ]
    },
    {
     "name": "stderr",
     "output_type": "stream",
     "text": [
      "100%|████████████████████████████████████████████████████████████████████████████████| 111/111 [01:45<00:00,  1.06it/s]\n",
      "100%|██████████████████████████████████████████████████████████████████████████████████| 28/28 [00:21<00:00,  1.36it/s]\n",
      "100%|████████████████████████████████████████████████████████████████████████████████| 111/111 [01:26<00:00,  1.32it/s]\n"
     ]
    },
    {
     "name": "stdout",
     "output_type": "stream",
     "text": [
      "epoch: 13, f1_test: 0.4991210036174321, f1_train: 0.6655252116234365\n"
     ]
    },
    {
     "name": "stderr",
     "output_type": "stream",
     "text": [
      "100%|████████████████████████████████████████████████████████████████████████████████| 111/111 [01:45<00:00,  1.08it/s]\n",
      "100%|██████████████████████████████████████████████████████████████████████████████████| 28/28 [00:21<00:00,  1.37it/s]\n",
      "100%|████████████████████████████████████████████████████████████████████████████████| 111/111 [01:26<00:00,  1.30it/s]\n"
     ]
    },
    {
     "name": "stdout",
     "output_type": "stream",
     "text": [
      "epoch: 14, f1_test: 0.5674246442639527, f1_train: 0.7254199639371012\n"
     ]
    },
    {
     "name": "stderr",
     "output_type": "stream",
     "text": [
      "100%|████████████████████████████████████████████████████████████████████████████████| 111/111 [01:45<00:00,  1.08it/s]\n",
      "100%|██████████████████████████████████████████████████████████████████████████████████| 28/28 [00:21<00:00,  1.35it/s]\n",
      "100%|████████████████████████████████████████████████████████████████████████████████| 111/111 [01:25<00:00,  1.34it/s]\n"
     ]
    },
    {
     "name": "stdout",
     "output_type": "stream",
     "text": [
      "epoch: 15, f1_test: 0.5486174207545194, f1_train: 0.7308245444437438\n"
     ]
    },
    {
     "name": "stderr",
     "output_type": "stream",
     "text": [
      "100%|████████████████████████████████████████████████████████████████████████████████| 111/111 [01:45<00:00,  1.05it/s]\n",
      "100%|██████████████████████████████████████████████████████████████████████████████████| 28/28 [00:21<00:00,  1.34it/s]\n",
      "100%|████████████████████████████████████████████████████████████████████████████████| 111/111 [01:27<00:00,  1.30it/s]\n"
     ]
    },
    {
     "name": "stdout",
     "output_type": "stream",
     "text": [
      "epoch: 16, f1_test: 0.5959837209969456, f1_train: 0.7424541707259598\n"
     ]
    },
    {
     "name": "stderr",
     "output_type": "stream",
     "text": [
      "100%|████████████████████████████████████████████████████████████████████████████████| 111/111 [01:46<00:00,  1.03it/s]\n",
      "100%|██████████████████████████████████████████████████████████████████████████████████| 28/28 [00:21<00:00,  1.33it/s]\n",
      "100%|████████████████████████████████████████████████████████████████████████████████| 111/111 [01:25<00:00,  1.34it/s]\n"
     ]
    },
    {
     "name": "stdout",
     "output_type": "stream",
     "text": [
      "epoch: 17, f1_test: 0.5898418940788155, f1_train: 0.7727496208383245\n"
     ]
    },
    {
     "name": "stderr",
     "output_type": "stream",
     "text": [
      "100%|████████████████████████████████████████████████████████████████████████████████| 111/111 [01:45<00:00,  1.05it/s]\n",
      "100%|██████████████████████████████████████████████████████████████████████████████████| 28/28 [00:21<00:00,  1.35it/s]\n",
      "100%|████████████████████████████████████████████████████████████████████████████████| 111/111 [01:26<00:00,  1.30it/s]\n"
     ]
    },
    {
     "name": "stdout",
     "output_type": "stream",
     "text": [
      "epoch: 18, f1_test: 0.5884875915556718, f1_train: 0.765762408129501\n"
     ]
    },
    {
     "name": "stderr",
     "output_type": "stream",
     "text": [
      "100%|████████████████████████████████████████████████████████████████████████████████| 111/111 [01:45<00:00,  1.08it/s]\n",
      "100%|██████████████████████████████████████████████████████████████████████████████████| 28/28 [00:21<00:00,  1.32it/s]\n",
      "100%|████████████████████████████████████████████████████████████████████████████████| 111/111 [01:26<00:00,  1.29it/s]\n"
     ]
    },
    {
     "name": "stdout",
     "output_type": "stream",
     "text": [
      "epoch: 19, f1_test: 0.5932141717762356, f1_train: 0.7906934557008076\n"
     ]
    },
    {
     "name": "stderr",
     "output_type": "stream",
     "text": [
      "100%|████████████████████████████████████████████████████████████████████████████████| 111/111 [01:45<00:00,  1.06it/s]\n",
      "100%|██████████████████████████████████████████████████████████████████████████████████| 28/28 [00:21<00:00,  1.37it/s]\n",
      "100%|████████████████████████████████████████████████████████████████████████████████| 111/111 [01:26<00:00,  1.32it/s]\n"
     ]
    },
    {
     "name": "stdout",
     "output_type": "stream",
     "text": [
      "epoch: 20, f1_test: 0.5972144431776948, f1_train: 0.8060279679586372\n"
     ]
    },
    {
     "name": "stderr",
     "output_type": "stream",
     "text": [
      "100%|████████████████████████████████████████████████████████████████████████████████| 111/111 [01:45<00:00,  1.07it/s]\n",
      "100%|██████████████████████████████████████████████████████████████████████████████████| 28/28 [00:22<00:00,  1.35it/s]\n",
      "100%|████████████████████████████████████████████████████████████████████████████████| 111/111 [01:27<00:00,  1.30it/s]\n"
     ]
    },
    {
     "name": "stdout",
     "output_type": "stream",
     "text": [
      "epoch: 21, f1_test: 0.5959660620140876, f1_train: 0.8094912884199049\n"
     ]
    },
    {
     "name": "stderr",
     "output_type": "stream",
     "text": [
      "100%|████████████████████████████████████████████████████████████████████████████████| 111/111 [01:46<00:00,  1.05it/s]\n",
      "100%|██████████████████████████████████████████████████████████████████████████████████| 28/28 [00:22<00:00,  1.34it/s]\n",
      "100%|████████████████████████████████████████████████████████████████████████████████| 111/111 [01:28<00:00,  1.27it/s]\n"
     ]
    },
    {
     "name": "stdout",
     "output_type": "stream",
     "text": [
      "epoch: 22, f1_test: 0.6173448610503568, f1_train: 0.82729045005845\n"
     ]
    },
    {
     "name": "stderr",
     "output_type": "stream",
     "text": [
      "100%|████████████████████████████████████████████████████████████████████████████████| 111/111 [01:46<00:00,  1.05it/s]\n",
      "100%|██████████████████████████████████████████████████████████████████████████████████| 28/28 [00:22<00:00,  1.29it/s]\n",
      "100%|████████████████████████████████████████████████████████████████████████████████| 111/111 [01:27<00:00,  1.29it/s]\n"
     ]
    },
    {
     "name": "stdout",
     "output_type": "stream",
     "text": [
      "epoch: 23, f1_test: 0.5902087522255967, f1_train: 0.8166507409773441\n"
     ]
    },
    {
     "name": "stderr",
     "output_type": "stream",
     "text": [
      "100%|████████████████████████████████████████████████████████████████████████████████| 111/111 [01:46<00:00,  1.06it/s]\n",
      "100%|██████████████████████████████████████████████████████████████████████████████████| 28/28 [00:22<00:00,  1.33it/s]\n",
      "100%|████████████████████████████████████████████████████████████████████████████████| 111/111 [01:27<00:00,  1.31it/s]\n"
     ]
    },
    {
     "name": "stdout",
     "output_type": "stream",
     "text": [
      "epoch: 24, f1_test: 0.6092246088402191, f1_train: 0.8351672515710326\n"
     ]
    },
    {
     "name": "stderr",
     "output_type": "stream",
     "text": [
      "100%|████████████████████████████████████████████████████████████████████████████████| 111/111 [01:46<00:00,  1.08it/s]\n",
      "100%|██████████████████████████████████████████████████████████████████████████████████| 28/28 [00:21<00:00,  1.35it/s]\n",
      "100%|████████████████████████████████████████████████████████████████████████████████| 111/111 [01:26<00:00,  1.32it/s]\n"
     ]
    },
    {
     "name": "stdout",
     "output_type": "stream",
     "text": [
      "epoch: 25, f1_test: 0.6118340341813555, f1_train: 0.8377896566433042\n"
     ]
    },
    {
     "name": "stderr",
     "output_type": "stream",
     "text": [
      "100%|████████████████████████████████████████████████████████████████████████████████| 111/111 [01:44<00:00,  1.09it/s]\n",
      "100%|██████████████████████████████████████████████████████████████████████████████████| 28/28 [00:21<00:00,  1.31it/s]\n",
      "100%|████████████████████████████████████████████████████████████████████████████████| 111/111 [01:25<00:00,  1.31it/s]\n"
     ]
    },
    {
     "name": "stdout",
     "output_type": "stream",
     "text": [
      "epoch: 26, f1_test: 0.6192772307414051, f1_train: 0.8462822932319496\n"
     ]
    },
    {
     "name": "stderr",
     "output_type": "stream",
     "text": [
      "100%|████████████████████████████████████████████████████████████████████████████████| 111/111 [01:45<00:00,  1.06it/s]\n",
      "100%|██████████████████████████████████████████████████████████████████████████████████| 28/28 [00:21<00:00,  1.36it/s]\n",
      "100%|████████████████████████████████████████████████████████████████████████████████| 111/111 [01:25<00:00,  1.34it/s]\n"
     ]
    },
    {
     "name": "stdout",
     "output_type": "stream",
     "text": [
      "epoch: 27, f1_test: 0.6192032234341008, f1_train: 0.8464054985392683\n"
     ]
    },
    {
     "name": "stderr",
     "output_type": "stream",
     "text": [
      "100%|████████████████████████████████████████████████████████████████████████████████| 111/111 [01:45<00:00,  1.07it/s]\n",
      "100%|██████████████████████████████████████████████████████████████████████████████████| 28/28 [00:22<00:00,  1.16it/s]\n",
      "100%|████████████████████████████████████████████████████████████████████████████████| 111/111 [01:27<00:00,  1.29it/s]\n"
     ]
    },
    {
     "name": "stdout",
     "output_type": "stream",
     "text": [
      "epoch: 28, f1_test: 0.6181037396169633, f1_train: 0.8467753457062062\n"
     ]
    },
    {
     "name": "stderr",
     "output_type": "stream",
     "text": [
      "100%|████████████████████████████████████████████████████████████████████████████████| 111/111 [01:45<00:00,  1.04it/s]\n",
      "100%|██████████████████████████████████████████████████████████████████████████████████| 28/28 [00:21<00:00,  1.33it/s]\n",
      "100%|████████████████████████████████████████████████████████████████████████████████| 111/111 [01:26<00:00,  1.31it/s]\n"
     ]
    },
    {
     "name": "stdout",
     "output_type": "stream",
     "text": [
      "epoch: 29, f1_test: 0.6216590344277386, f1_train: 0.8636260448257301\n"
     ]
    },
    {
     "name": "stderr",
     "output_type": "stream",
     "text": [
      "100%|████████████████████████████████████████████████████████████████████████████████| 111/111 [01:45<00:00,  1.09it/s]\n",
      "100%|██████████████████████████████████████████████████████████████████████████████████| 28/28 [00:21<00:00,  1.32it/s]\n",
      "100%|████████████████████████████████████████████████████████████████████████████████| 111/111 [01:26<00:00,  1.31it/s]\n"
     ]
    },
    {
     "name": "stdout",
     "output_type": "stream",
     "text": [
      "epoch: 30, f1_test: 0.6385922122643286, f1_train: 0.8660771001565453\n"
     ]
    },
    {
     "name": "stderr",
     "output_type": "stream",
     "text": [
      "100%|████████████████████████████████████████████████████████████████████████████████| 111/111 [01:45<00:00,  1.07it/s]\n",
      "100%|██████████████████████████████████████████████████████████████████████████████████| 28/28 [00:21<00:00,  1.35it/s]\n",
      "100%|████████████████████████████████████████████████████████████████████████████████| 111/111 [01:26<00:00,  1.30it/s]\n"
     ]
    },
    {
     "name": "stdout",
     "output_type": "stream",
     "text": [
      "epoch: 31, f1_test: 0.6309343746655993, f1_train: 0.865202617173283\n"
     ]
    },
    {
     "name": "stderr",
     "output_type": "stream",
     "text": [
      "100%|████████████████████████████████████████████████████████████████████████████████| 111/111 [01:46<00:00,  1.07it/s]\n",
      "100%|██████████████████████████████████████████████████████████████████████████████████| 28/28 [00:21<00:00,  1.35it/s]\n",
      "100%|████████████████████████████████████████████████████████████████████████████████| 111/111 [01:26<00:00,  1.31it/s]\n"
     ]
    },
    {
     "name": "stdout",
     "output_type": "stream",
     "text": [
      "epoch: 32, f1_test: 0.6175220938112562, f1_train: 0.8839188854753319\n"
     ]
    },
    {
     "name": "stderr",
     "output_type": "stream",
     "text": [
      "100%|████████████████████████████████████████████████████████████████████████████████| 111/111 [01:45<00:00,  1.05it/s]\n",
      "100%|██████████████████████████████████████████████████████████████████████████████████| 28/28 [00:21<00:00,  1.29it/s]\n",
      "100%|████████████████████████████████████████████████████████████████████████████████| 111/111 [01:26<00:00,  1.32it/s]\n"
     ]
    },
    {
     "name": "stdout",
     "output_type": "stream",
     "text": [
      "epoch: 33, f1_test: 0.6129224402405544, f1_train: 0.8726897681016272\n"
     ]
    },
    {
     "name": "stderr",
     "output_type": "stream",
     "text": [
      "100%|████████████████████████████████████████████████████████████████████████████████| 111/111 [01:45<00:00,  1.07it/s]\n",
      "100%|██████████████████████████████████████████████████████████████████████████████████| 28/28 [00:21<00:00,  1.32it/s]\n",
      "100%|████████████████████████████████████████████████████████████████████████████████| 111/111 [01:25<00:00,  1.33it/s]\n"
     ]
    },
    {
     "name": "stdout",
     "output_type": "stream",
     "text": [
      "epoch: 34, f1_test: 0.6558993732942145, f1_train: 0.8742017890492177\n"
     ]
    },
    {
     "name": "stderr",
     "output_type": "stream",
     "text": [
      "100%|████████████████████████████████████████████████████████████████████████████████| 111/111 [01:45<00:00,  1.06it/s]\n",
      "100%|██████████████████████████████████████████████████████████████████████████████████| 28/28 [00:21<00:00,  1.31it/s]\n",
      "100%|████████████████████████████████████████████████████████████████████████████████| 111/111 [01:25<00:00,  1.27it/s]\n"
     ]
    },
    {
     "name": "stdout",
     "output_type": "stream",
     "text": [
      "epoch: 35, f1_test: 0.6247177526332746, f1_train: 0.8806532351054563\n"
     ]
    },
    {
     "name": "stderr",
     "output_type": "stream",
     "text": [
      "100%|████████████████████████████████████████████████████████████████████████████████| 111/111 [01:45<00:00,  1.08it/s]\n",
      "100%|██████████████████████████████████████████████████████████████████████████████████| 28/28 [00:21<00:00,  1.35it/s]\n",
      "100%|████████████████████████████████████████████████████████████████████████████████| 111/111 [01:26<00:00,  1.31it/s]\n"
     ]
    },
    {
     "name": "stdout",
     "output_type": "stream",
     "text": [
      "epoch: 36, f1_test: 0.6302462225399813, f1_train: 0.8943712430225894\n"
     ]
    },
    {
     "name": "stderr",
     "output_type": "stream",
     "text": [
      "100%|████████████████████████████████████████████████████████████████████████████████| 111/111 [01:45<00:00,  1.08it/s]\n",
      "100%|██████████████████████████████████████████████████████████████████████████████████| 28/28 [00:21<00:00,  1.35it/s]\n",
      "100%|████████████████████████████████████████████████████████████████████████████████| 111/111 [01:26<00:00,  1.32it/s]\n"
     ]
    },
    {
     "name": "stdout",
     "output_type": "stream",
     "text": [
      "epoch: 37, f1_test: 0.6248044572139136, f1_train: 0.8837899742488052\n"
     ]
    },
    {
     "name": "stderr",
     "output_type": "stream",
     "text": [
      "100%|████████████████████████████████████████████████████████████████████████████████| 111/111 [01:45<00:00,  1.06it/s]\n",
      "100%|██████████████████████████████████████████████████████████████████████████████████| 28/28 [00:21<00:00,  1.35it/s]\n",
      "100%|████████████████████████████████████████████████████████████████████████████████| 111/111 [01:25<00:00,  1.32it/s]\n"
     ]
    },
    {
     "name": "stdout",
     "output_type": "stream",
     "text": [
      "epoch: 38, f1_test: 0.6225743662281873, f1_train: 0.8844608183516685\n"
     ]
    },
    {
     "name": "stderr",
     "output_type": "stream",
     "text": [
      "100%|████████████████████████████████████████████████████████████████████████████████| 111/111 [01:45<00:00,  1.05it/s]\n",
      "100%|██████████████████████████████████████████████████████████████████████████████████| 28/28 [00:21<00:00,  1.34it/s]\n",
      "100%|████████████████████████████████████████████████████████████████████████████████| 111/111 [01:26<00:00,  1.24it/s]\n"
     ]
    },
    {
     "name": "stdout",
     "output_type": "stream",
     "text": [
      "epoch: 39, f1_test: 0.6310528210643435, f1_train: 0.892211406522624\n"
     ]
    },
    {
     "name": "stderr",
     "output_type": "stream",
     "text": [
      "100%|████████████████████████████████████████████████████████████████████████████████| 111/111 [01:45<00:00,  1.08it/s]\n",
      "100%|██████████████████████████████████████████████████████████████████████████████████| 28/28 [00:21<00:00,  1.32it/s]\n",
      "100%|████████████████████████████████████████████████████████████████████████████████| 111/111 [01:26<00:00,  1.32it/s]\n"
     ]
    },
    {
     "name": "stdout",
     "output_type": "stream",
     "text": [
      "epoch: 40, f1_test: 0.6302298876149559, f1_train: 0.8896047805465238\n"
     ]
    },
    {
     "name": "stderr",
     "output_type": "stream",
     "text": [
      "100%|████████████████████████████████████████████████████████████████████████████████| 111/111 [01:45<00:00,  1.05it/s]\n",
      "100%|██████████████████████████████████████████████████████████████████████████████████| 28/28 [00:21<00:00,  1.32it/s]\n",
      "100%|████████████████████████████████████████████████████████████████████████████████| 111/111 [01:26<00:00,  1.33it/s]\n"
     ]
    },
    {
     "name": "stdout",
     "output_type": "stream",
     "text": [
      "epoch: 41, f1_test: 0.6370136723121735, f1_train: 0.89766948818579\n"
     ]
    },
    {
     "name": "stderr",
     "output_type": "stream",
     "text": [
      "100%|████████████████████████████████████████████████████████████████████████████████| 111/111 [01:45<00:00,  1.08it/s]\n",
      "100%|██████████████████████████████████████████████████████████████████████████████████| 28/28 [00:21<00:00,  1.34it/s]\n",
      "100%|████████████████████████████████████████████████████████████████████████████████| 111/111 [01:25<00:00,  1.34it/s]\n"
     ]
    },
    {
     "name": "stdout",
     "output_type": "stream",
     "text": [
      "epoch: 42, f1_test: 0.6379681066980532, f1_train: 0.8987834006289545\n"
     ]
    },
    {
     "name": "stderr",
     "output_type": "stream",
     "text": [
      "100%|████████████████████████████████████████████████████████████████████████████████| 111/111 [01:45<00:00,  1.07it/s]\n",
      "100%|██████████████████████████████████████████████████████████████████████████████████| 28/28 [00:21<00:00,  1.36it/s]\n",
      "100%|████████████████████████████████████████████████████████████████████████████████| 111/111 [01:26<00:00,  1.29it/s]\n"
     ]
    },
    {
     "name": "stdout",
     "output_type": "stream",
     "text": [
      "epoch: 43, f1_test: 0.62619461326388, f1_train: 0.8978870814963711\n"
     ]
    },
    {
     "name": "stderr",
     "output_type": "stream",
     "text": [
      "100%|████████████████████████████████████████████████████████████████████████████████| 111/111 [01:45<00:00,  1.07it/s]\n",
      "100%|██████████████████████████████████████████████████████████████████████████████████| 28/28 [00:21<00:00,  1.36it/s]\n",
      "100%|████████████████████████████████████████████████████████████████████████████████| 111/111 [01:25<00:00,  1.30it/s]\n"
     ]
    },
    {
     "name": "stdout",
     "output_type": "stream",
     "text": [
      "epoch: 44, f1_test: 0.6393994154424196, f1_train: 0.9027438541281698\n"
     ]
    },
    {
     "name": "stderr",
     "output_type": "stream",
     "text": [
      "100%|████████████████████████████████████████████████████████████████████████████████| 111/111 [01:45<00:00,  1.08it/s]\n",
      "100%|██████████████████████████████████████████████████████████████████████████████████| 28/28 [00:21<00:00,  1.35it/s]\n",
      "100%|████████████████████████████████████████████████████████████████████████████████| 111/111 [01:26<00:00,  1.29it/s]\n"
     ]
    },
    {
     "name": "stdout",
     "output_type": "stream",
     "text": [
      "epoch: 45, f1_test: 0.6412114735621012, f1_train: 0.9007138372723689\n"
     ]
    },
    {
     "name": "stderr",
     "output_type": "stream",
     "text": [
      "100%|████████████████████████████████████████████████████████████████████████████████| 111/111 [01:45<00:00,  1.05it/s]\n",
      "100%|██████████████████████████████████████████████████████████████████████████████████| 28/28 [00:21<00:00,  1.31it/s]\n",
      "100%|████████████████████████████████████████████████████████████████████████████████| 111/111 [01:26<00:00,  1.32it/s]\n"
     ]
    },
    {
     "name": "stdout",
     "output_type": "stream",
     "text": [
      "epoch: 46, f1_test: 0.6428756558366053, f1_train: 0.8997460040653805\n"
     ]
    },
    {
     "name": "stderr",
     "output_type": "stream",
     "text": [
      "100%|████████████████████████████████████████████████████████████████████████████████| 111/111 [01:45<00:00,  1.05it/s]\n",
      "100%|██████████████████████████████████████████████████████████████████████████████████| 28/28 [00:21<00:00,  1.34it/s]\n",
      "100%|████████████████████████████████████████████████████████████████████████████████| 111/111 [01:25<00:00,  1.32it/s]\n"
     ]
    },
    {
     "name": "stdout",
     "output_type": "stream",
     "text": [
      "epoch: 47, f1_test: 0.6349743294674086, f1_train: 0.9061272900133683\n"
     ]
    },
    {
     "name": "stderr",
     "output_type": "stream",
     "text": [
      "100%|████████████████████████████████████████████████████████████████████████████████| 111/111 [01:45<00:00,  1.06it/s]\n",
      "100%|██████████████████████████████████████████████████████████████████████████████████| 28/28 [00:21<00:00,  1.34it/s]\n",
      "100%|████████████████████████████████████████████████████████████████████████████████| 111/111 [01:26<00:00,  1.30it/s]\n"
     ]
    },
    {
     "name": "stdout",
     "output_type": "stream",
     "text": [
      "epoch: 48, f1_test: 0.6368314397927342, f1_train: 0.9081896622912746\n"
     ]
    },
    {
     "name": "stderr",
     "output_type": "stream",
     "text": [
      "100%|████████████████████████████████████████████████████████████████████████████████| 111/111 [01:44<00:00,  1.10it/s]\n",
      "100%|██████████████████████████████████████████████████████████████████████████████████| 28/28 [00:21<00:00,  1.32it/s]\n",
      "100%|████████████████████████████████████████████████████████████████████████████████| 111/111 [01:25<00:00,  1.27it/s]\n"
     ]
    },
    {
     "name": "stdout",
     "output_type": "stream",
     "text": [
      "epoch: 49, f1_test: 0.6476211903043436, f1_train: 0.9009532061209591\n"
     ]
    },
    {
     "name": "stderr",
     "output_type": "stream",
     "text": [
      "100%|████████████████████████████████████████████████████████████████████████████████| 111/111 [01:45<00:00,  1.07it/s]\n",
      "100%|██████████████████████████████████████████████████████████████████████████████████| 28/28 [00:21<00:00,  1.37it/s]\n",
      "100%|████████████████████████████████████████████████████████████████████████████████| 111/111 [01:26<00:00,  1.29it/s]\n"
     ]
    },
    {
     "name": "stdout",
     "output_type": "stream",
     "text": [
      "epoch: 50, f1_test: 0.6495657530044129, f1_train: 0.9067333846947077\n"
     ]
    },
    {
     "name": "stderr",
     "output_type": "stream",
     "text": [
      "100%|████████████████████████████████████████████████████████████████████████████████| 111/111 [01:46<00:00,  1.04it/s]\n",
      "100%|██████████████████████████████████████████████████████████████████████████████████| 28/28 [00:21<00:00,  1.34it/s]\n",
      "100%|████████████████████████████████████████████████████████████████████████████████| 111/111 [01:26<00:00,  1.32it/s]\n"
     ]
    },
    {
     "name": "stdout",
     "output_type": "stream",
     "text": [
      "epoch: 51, f1_test: 0.6346873509968974, f1_train: 0.9028284943460638\n"
     ]
    },
    {
     "name": "stderr",
     "output_type": "stream",
     "text": [
      "100%|████████████████████████████████████████████████████████████████████████████████| 111/111 [01:44<00:00,  1.07it/s]\n",
      "100%|██████████████████████████████████████████████████████████████████████████████████| 28/28 [00:21<00:00,  1.34it/s]\n",
      "100%|████████████████████████████████████████████████████████████████████████████████| 111/111 [01:25<00:00,  1.32it/s]\n"
     ]
    },
    {
     "name": "stdout",
     "output_type": "stream",
     "text": [
      "epoch: 52, f1_test: 0.6302503492186389, f1_train: 0.9015347958529754\n"
     ]
    },
    {
     "name": "stderr",
     "output_type": "stream",
     "text": [
      "100%|████████████████████████████████████████████████████████████████████████████████| 111/111 [01:45<00:00,  1.06it/s]\n",
      "100%|██████████████████████████████████████████████████████████████████████████████████| 28/28 [00:21<00:00,  1.33it/s]\n",
      "100%|████████████████████████████████████████████████████████████████████████████████| 111/111 [01:26<00:00,  1.32it/s]\n"
     ]
    },
    {
     "name": "stdout",
     "output_type": "stream",
     "text": [
      "epoch: 53, f1_test: 0.6476305268274585, f1_train: 0.9101389934480708\n"
     ]
    },
    {
     "name": "stderr",
     "output_type": "stream",
     "text": [
      "100%|████████████████████████████████████████████████████████████████████████████████| 111/111 [01:45<00:00,  1.06it/s]\n",
      "100%|██████████████████████████████████████████████████████████████████████████████████| 28/28 [00:21<00:00,  1.36it/s]\n",
      "100%|████████████████████████████████████████████████████████████████████████████████| 111/111 [01:26<00:00,  1.34it/s]\n"
     ]
    },
    {
     "name": "stdout",
     "output_type": "stream",
     "text": [
      "epoch: 54, f1_test: 0.6305997061348758, f1_train: 0.8998043991854136\n"
     ]
    },
    {
     "name": "stderr",
     "output_type": "stream",
     "text": [
      "100%|████████████████████████████████████████████████████████████████████████████████| 111/111 [01:44<00:00,  1.06it/s]\n",
      "100%|██████████████████████████████████████████████████████████████████████████████████| 28/28 [00:21<00:00,  1.33it/s]\n",
      "100%|████████████████████████████████████████████████████████████████████████████████| 111/111 [01:25<00:00,  1.33it/s]\n"
     ]
    },
    {
     "name": "stdout",
     "output_type": "stream",
     "text": [
      "epoch: 55, f1_test: 0.6421657222518456, f1_train: 0.904959035060057\n"
     ]
    },
    {
     "name": "stderr",
     "output_type": "stream",
     "text": [
      "100%|████████████████████████████████████████████████████████████████████████████████| 111/111 [01:44<00:00,  1.06it/s]\n",
      "100%|██████████████████████████████████████████████████████████████████████████████████| 28/28 [00:21<00:00,  1.38it/s]\n",
      "100%|████████████████████████████████████████████████████████████████████████████████| 111/111 [01:26<00:00,  1.32it/s]\n"
     ]
    },
    {
     "name": "stdout",
     "output_type": "stream",
     "text": [
      "epoch: 56, f1_test: 0.6376208263753584, f1_train: 0.9079573009195614\n"
     ]
    },
    {
     "name": "stderr",
     "output_type": "stream",
     "text": [
      "100%|████████████████████████████████████████████████████████████████████████████████| 111/111 [01:45<00:00,  1.06it/s]\n",
      "100%|██████████████████████████████████████████████████████████████████████████████████| 28/28 [00:21<00:00,  1.33it/s]\n",
      "100%|████████████████████████████████████████████████████████████████████████████████| 111/111 [01:26<00:00,  1.30it/s]\n"
     ]
    },
    {
     "name": "stdout",
     "output_type": "stream",
     "text": [
      "epoch: 57, f1_test: 0.6464557619181416, f1_train: 0.9047278128536104\n"
     ]
    },
    {
     "name": "stderr",
     "output_type": "stream",
     "text": [
      "100%|████████████████████████████████████████████████████████████████████████████████| 111/111 [01:45<00:00,  1.06it/s]\n",
      "100%|██████████████████████████████████████████████████████████████████████████████████| 28/28 [00:21<00:00,  1.36it/s]\n",
      "100%|████████████████████████████████████████████████████████████████████████████████| 111/111 [01:25<00:00,  1.34it/s]\n"
     ]
    },
    {
     "name": "stdout",
     "output_type": "stream",
     "text": [
      "epoch: 58, f1_test: 0.6487450139587716, f1_train: 0.9183647467103863\n"
     ]
    },
    {
     "name": "stderr",
     "output_type": "stream",
     "text": [
      "100%|████████████████████████████████████████████████████████████████████████████████| 111/111 [01:44<00:00,  1.07it/s]\n",
      "100%|██████████████████████████████████████████████████████████████████████████████████| 28/28 [00:21<00:00,  1.35it/s]\n",
      "100%|████████████████████████████████████████████████████████████████████████████████| 111/111 [01:25<00:00,  1.33it/s]\n"
     ]
    },
    {
     "name": "stdout",
     "output_type": "stream",
     "text": [
      "epoch: 59, f1_test: 0.6362857876865833, f1_train: 0.9068653626455616\n"
     ]
    },
    {
     "name": "stderr",
     "output_type": "stream",
     "text": [
      "100%|████████████████████████████████████████████████████████████████████████████████| 111/111 [01:44<00:00,  1.08it/s]\n",
      "100%|██████████████████████████████████████████████████████████████████████████████████| 28/28 [00:21<00:00,  1.33it/s]\n",
      "100%|████████████████████████████████████████████████████████████████████████████████| 111/111 [01:25<00:00,  1.31it/s]\n"
     ]
    },
    {
     "name": "stdout",
     "output_type": "stream",
     "text": [
      "epoch: 60, f1_test: 0.6481778794041146, f1_train: 0.9151802415324423\n"
     ]
    },
    {
     "name": "stderr",
     "output_type": "stream",
     "text": [
      "100%|████████████████████████████████████████████████████████████████████████████████| 111/111 [01:45<00:00,  1.07it/s]\n",
      "100%|██████████████████████████████████████████████████████████████████████████████████| 28/28 [00:21<00:00,  1.34it/s]\n",
      "100%|████████████████████████████████████████████████████████████████████████████████| 111/111 [01:25<00:00,  1.29it/s]\n"
     ]
    },
    {
     "name": "stdout",
     "output_type": "stream",
     "text": [
      "epoch: 61, f1_test: 0.6319666436380529, f1_train: 0.9166870578415295\n"
     ]
    },
    {
     "name": "stderr",
     "output_type": "stream",
     "text": [
      "100%|████████████████████████████████████████████████████████████████████████████████| 111/111 [01:45<00:00,  1.07it/s]\n",
      "100%|██████████████████████████████████████████████████████████████████████████████████| 28/28 [00:21<00:00,  1.36it/s]\n",
      "100%|████████████████████████████████████████████████████████████████████████████████| 111/111 [01:27<00:00,  1.31it/s]\n"
     ]
    },
    {
     "name": "stdout",
     "output_type": "stream",
     "text": [
      "epoch: 62, f1_test: 0.6461019615244994, f1_train: 0.9182343950074622\n"
     ]
    },
    {
     "name": "stderr",
     "output_type": "stream",
     "text": [
      "100%|████████████████████████████████████████████████████████████████████████████████| 111/111 [01:44<00:00,  1.07it/s]\n",
      "100%|██████████████████████████████████████████████████████████████████████████████████| 28/28 [00:21<00:00,  1.31it/s]\n",
      "100%|████████████████████████████████████████████████████████████████████████████████| 111/111 [01:26<00:00,  1.31it/s]\n"
     ]
    },
    {
     "name": "stdout",
     "output_type": "stream",
     "text": [
      "epoch: 63, f1_test: 0.6368234281705752, f1_train: 0.9143769854467949\n"
     ]
    },
    {
     "name": "stderr",
     "output_type": "stream",
     "text": [
      "100%|████████████████████████████████████████████████████████████████████████████████| 111/111 [01:45<00:00,  1.09it/s]\n",
      "100%|██████████████████████████████████████████████████████████████████████████████████| 28/28 [00:21<00:00,  1.36it/s]\n",
      "100%|████████████████████████████████████████████████████████████████████████████████| 111/111 [01:26<00:00,  1.33it/s]\n"
     ]
    },
    {
     "name": "stdout",
     "output_type": "stream",
     "text": [
      "epoch: 64, f1_test: 0.6464877717174543, f1_train: 0.9178030561336632\n"
     ]
    },
    {
     "name": "stderr",
     "output_type": "stream",
     "text": [
      "100%|████████████████████████████████████████████████████████████████████████████████| 111/111 [01:45<00:00,  1.06it/s]\n",
      "100%|██████████████████████████████████████████████████████████████████████████████████| 28/28 [00:21<00:00,  1.38it/s]\n",
      "100%|████████████████████████████████████████████████████████████████████████████████| 111/111 [01:25<00:00,  1.35it/s]\n"
     ]
    },
    {
     "name": "stdout",
     "output_type": "stream",
     "text": [
      "epoch: 65, f1_test: 0.6406432029050475, f1_train: 0.9113418128040703\n"
     ]
    },
    {
     "name": "stderr",
     "output_type": "stream",
     "text": [
      "100%|████████████████████████████████████████████████████████████████████████████████| 111/111 [01:45<00:00,  1.08it/s]\n",
      "100%|██████████████████████████████████████████████████████████████████████████████████| 28/28 [00:21<00:00,  1.35it/s]\n",
      "100%|████████████████████████████████████████████████████████████████████████████████| 111/111 [01:25<00:00,  1.31it/s]\n"
     ]
    },
    {
     "name": "stdout",
     "output_type": "stream",
     "text": [
      "epoch: 66, f1_test: 0.6434741587836758, f1_train: 0.9151443700612919\n"
     ]
    },
    {
     "name": "stderr",
     "output_type": "stream",
     "text": [
      "100%|████████████████████████████████████████████████████████████████████████████████| 111/111 [01:46<00:00,  1.09it/s]\n",
      "100%|██████████████████████████████████████████████████████████████████████████████████| 28/28 [00:21<00:00,  1.32it/s]\n",
      "100%|████████████████████████████████████████████████████████████████████████████████| 111/111 [01:25<00:00,  1.31it/s]\n"
     ]
    },
    {
     "name": "stdout",
     "output_type": "stream",
     "text": [
      "epoch: 67, f1_test: 0.6203374729175856, f1_train: 0.9121160913173836\n"
     ]
    },
    {
     "name": "stderr",
     "output_type": "stream",
     "text": [
      "100%|████████████████████████████████████████████████████████████████████████████████| 111/111 [01:45<00:00,  1.06it/s]\n",
      "100%|██████████████████████████████████████████████████████████████████████████████████| 28/28 [00:21<00:00,  1.31it/s]\n",
      "100%|████████████████████████████████████████████████████████████████████████████████| 111/111 [01:26<00:00,  1.29it/s]\n"
     ]
    },
    {
     "name": "stdout",
     "output_type": "stream",
     "text": [
      "epoch: 68, f1_test: 0.6641978742214212, f1_train: 0.919154658112295\n"
     ]
    },
    {
     "name": "stderr",
     "output_type": "stream",
     "text": [
      "100%|████████████████████████████████████████████████████████████████████████████████| 111/111 [01:44<00:00,  1.08it/s]\n",
      "100%|██████████████████████████████████████████████████████████████████████████████████| 28/28 [00:21<00:00,  1.35it/s]\n",
      "100%|████████████████████████████████████████████████████████████████████████████████| 111/111 [01:26<00:00,  1.33it/s]\n"
     ]
    },
    {
     "name": "stdout",
     "output_type": "stream",
     "text": [
      "epoch: 69, f1_test: 0.6446001902298603, f1_train: 0.9113565363473738\n"
     ]
    },
    {
     "name": "stderr",
     "output_type": "stream",
     "text": [
      "100%|████████████████████████████████████████████████████████████████████████████████| 111/111 [01:45<00:00,  1.09it/s]\n",
      "100%|██████████████████████████████████████████████████████████████████████████████████| 28/28 [00:21<00:00,  1.31it/s]\n",
      "100%|████████████████████████████████████████████████████████████████████████████████| 111/111 [01:26<00:00,  1.29it/s]\n"
     ]
    },
    {
     "name": "stdout",
     "output_type": "stream",
     "text": [
      "epoch: 70, f1_test: 0.6413847762803591, f1_train: 0.9163164873034468\n"
     ]
    },
    {
     "name": "stderr",
     "output_type": "stream",
     "text": [
      "100%|████████████████████████████████████████████████████████████████████████████████| 111/111 [01:44<00:00,  1.08it/s]\n",
      "100%|██████████████████████████████████████████████████████████████████████████████████| 28/28 [00:21<00:00,  1.34it/s]\n",
      "100%|████████████████████████████████████████████████████████████████████████████████| 111/111 [01:25<00:00,  1.32it/s]\n"
     ]
    },
    {
     "name": "stdout",
     "output_type": "stream",
     "text": [
      "epoch: 71, f1_test: 0.6473191622952362, f1_train: 0.9213350847753429\n"
     ]
    },
    {
     "name": "stderr",
     "output_type": "stream",
     "text": [
      "100%|████████████████████████████████████████████████████████████████████████████████| 111/111 [01:44<00:00,  1.07it/s]\n",
      "100%|██████████████████████████████████████████████████████████████████████████████████| 28/28 [00:21<00:00,  1.34it/s]\n",
      "100%|████████████████████████████████████████████████████████████████████████████████| 111/111 [01:25<00:00,  1.31it/s]\n"
     ]
    },
    {
     "name": "stdout",
     "output_type": "stream",
     "text": [
      "epoch: 72, f1_test: 0.6381828138197846, f1_train: 0.9228554728825955\n"
     ]
    },
    {
     "name": "stderr",
     "output_type": "stream",
     "text": [
      "100%|████████████████████████████████████████████████████████████████████████████████| 111/111 [01:45<00:00,  1.04it/s]\n",
      "100%|██████████████████████████████████████████████████████████████████████████████████| 28/28 [00:21<00:00,  1.38it/s]\n",
      "100%|████████████████████████████████████████████████████████████████████████████████| 111/111 [01:25<00:00,  1.34it/s]\n"
     ]
    },
    {
     "name": "stdout",
     "output_type": "stream",
     "text": [
      "epoch: 73, f1_test: 0.6388243082994138, f1_train: 0.9236854061340567\n"
     ]
    },
    {
     "name": "stderr",
     "output_type": "stream",
     "text": [
      "100%|████████████████████████████████████████████████████████████████████████████████| 111/111 [01:45<00:00,  1.08it/s]\n",
      "100%|██████████████████████████████████████████████████████████████████████████████████| 28/28 [00:22<00:00,  1.34it/s]\n",
      "100%|████████████████████████████████████████████████████████████████████████████████| 111/111 [01:25<00:00,  1.31it/s]\n"
     ]
    },
    {
     "name": "stdout",
     "output_type": "stream",
     "text": [
      "epoch: 74, f1_test: 0.6542815746675306, f1_train: 0.9243961319553855\n"
     ]
    },
    {
     "name": "stderr",
     "output_type": "stream",
     "text": [
      "100%|████████████████████████████████████████████████████████████████████████████████| 111/111 [01:45<00:00,  1.07it/s]\n",
      "100%|██████████████████████████████████████████████████████████████████████████████████| 28/28 [00:21<00:00,  1.34it/s]\n",
      "100%|████████████████████████████████████████████████████████████████████████████████| 111/111 [01:25<00:00,  1.35it/s]\n"
     ]
    },
    {
     "name": "stdout",
     "output_type": "stream",
     "text": [
      "epoch: 75, f1_test: 0.6370887398479277, f1_train: 0.9127620800044584\n"
     ]
    },
    {
     "name": "stderr",
     "output_type": "stream",
     "text": [
      "100%|████████████████████████████████████████████████████████████████████████████████| 111/111 [01:45<00:00,  1.06it/s]\n",
      "100%|██████████████████████████████████████████████████████████████████████████████████| 28/28 [00:21<00:00,  1.37it/s]\n",
      "100%|████████████████████████████████████████████████████████████████████████████████| 111/111 [01:24<00:00,  1.36it/s]\n"
     ]
    },
    {
     "name": "stdout",
     "output_type": "stream",
     "text": [
      "epoch: 76, f1_test: 0.6639292923288502, f1_train: 0.9161471631056681\n"
     ]
    },
    {
     "name": "stderr",
     "output_type": "stream",
     "text": [
      "100%|████████████████████████████████████████████████████████████████████████████████| 111/111 [01:44<00:00,  1.07it/s]\n",
      "100%|██████████████████████████████████████████████████████████████████████████████████| 28/28 [00:21<00:00,  1.34it/s]\n",
      "100%|████████████████████████████████████████████████████████████████████████████████| 111/111 [01:25<00:00,  1.33it/s]\n"
     ]
    },
    {
     "name": "stdout",
     "output_type": "stream",
     "text": [
      "epoch: 77, f1_test: 0.6451943974000429, f1_train: 0.9174736730838225\n"
     ]
    },
    {
     "name": "stderr",
     "output_type": "stream",
     "text": [
      "100%|████████████████████████████████████████████████████████████████████████████████| 111/111 [01:44<00:00,  1.08it/s]\n",
      "100%|██████████████████████████████████████████████████████████████████████████████████| 28/28 [00:21<00:00,  1.37it/s]\n",
      "100%|████████████████████████████████████████████████████████████████████████████████| 111/111 [01:25<00:00,  1.34it/s]\n"
     ]
    },
    {
     "name": "stdout",
     "output_type": "stream",
     "text": [
      "epoch: 78, f1_test: 0.6336647701714777, f1_train: 0.9189863907236553\n"
     ]
    },
    {
     "name": "stderr",
     "output_type": "stream",
     "text": [
      "100%|████████████████████████████████████████████████████████████████████████████████| 111/111 [01:45<00:00,  1.07it/s]\n",
      "100%|██████████████████████████████████████████████████████████████████████████████████| 28/28 [00:21<00:00,  1.36it/s]\n",
      "100%|████████████████████████████████████████████████████████████████████████████████| 111/111 [01:25<00:00,  1.34it/s]\n"
     ]
    },
    {
     "name": "stdout",
     "output_type": "stream",
     "text": [
      "epoch: 79, f1_test: 0.6362844371314432, f1_train: 0.915524545302868\n"
     ]
    },
    {
     "name": "stderr",
     "output_type": "stream",
     "text": [
      "100%|████████████████████████████████████████████████████████████████████████████████| 111/111 [01:45<00:00,  1.06it/s]\n",
      "100%|██████████████████████████████████████████████████████████████████████████████████| 28/28 [00:21<00:00,  1.34it/s]\n",
      "100%|████████████████████████████████████████████████████████████████████████████████| 111/111 [01:26<00:00,  1.29it/s]\n"
     ]
    },
    {
     "name": "stdout",
     "output_type": "stream",
     "text": [
      "epoch: 80, f1_test: 0.6426091433734621, f1_train: 0.9142235381494291\n"
     ]
    },
    {
     "name": "stderr",
     "output_type": "stream",
     "text": [
      "100%|████████████████████████████████████████████████████████████████████████████████| 111/111 [01:45<00:00,  1.07it/s]\n",
      "100%|██████████████████████████████████████████████████████████████████████████████████| 28/28 [00:21<00:00,  1.32it/s]\n",
      "100%|████████████████████████████████████████████████████████████████████████████████| 111/111 [01:26<00:00,  1.34it/s]\n"
     ]
    },
    {
     "name": "stdout",
     "output_type": "stream",
     "text": [
      "epoch: 81, f1_test: 0.6528234465082691, f1_train: 0.9199783990488941\n"
     ]
    },
    {
     "name": "stderr",
     "output_type": "stream",
     "text": [
      "100%|████████████████████████████████████████████████████████████████████████████████| 111/111 [01:45<00:00,  1.09it/s]\n",
      "100%|██████████████████████████████████████████████████████████████████████████████████| 28/28 [00:21<00:00,  1.36it/s]\n",
      "100%|████████████████████████████████████████████████████████████████████████████████| 111/111 [01:25<00:00,  1.33it/s]\n"
     ]
    },
    {
     "name": "stdout",
     "output_type": "stream",
     "text": [
      "epoch: 82, f1_test: 0.6410846077879276, f1_train: 0.9171992744535222\n"
     ]
    },
    {
     "name": "stderr",
     "output_type": "stream",
     "text": [
      "100%|████████████████████████████████████████████████████████████████████████████████| 111/111 [01:44<00:00,  1.06it/s]\n",
      "100%|██████████████████████████████████████████████████████████████████████████████████| 28/28 [00:21<00:00,  1.32it/s]\n",
      "100%|████████████████████████████████████████████████████████████████████████████████| 111/111 [01:25<00:00,  1.29it/s]\n"
     ]
    },
    {
     "name": "stdout",
     "output_type": "stream",
     "text": [
      "epoch: 83, f1_test: 0.6488585214266885, f1_train: 0.9119961683563363\n"
     ]
    },
    {
     "name": "stderr",
     "output_type": "stream",
     "text": [
      "100%|████████████████████████████████████████████████████████████████████████████████| 111/111 [01:46<00:00,  1.08it/s]\n",
      "100%|██████████████████████████████████████████████████████████████████████████████████| 28/28 [00:21<00:00,  1.36it/s]\n",
      "100%|████████████████████████████████████████████████████████████████████████████████| 111/111 [01:25<00:00,  1.30it/s]\n"
     ]
    },
    {
     "name": "stdout",
     "output_type": "stream",
     "text": [
      "epoch: 84, f1_test: 0.6450435910698591, f1_train: 0.925244871714853\n"
     ]
    },
    {
     "name": "stderr",
     "output_type": "stream",
     "text": [
      "100%|████████████████████████████████████████████████████████████████████████████████| 111/111 [01:45<00:00,  1.09it/s]\n",
      "100%|██████████████████████████████████████████████████████████████████████████████████| 28/28 [00:22<00:00,  1.34it/s]\n",
      "100%|████████████████████████████████████████████████████████████████████████████████| 111/111 [01:25<00:00,  1.29it/s]\n"
     ]
    },
    {
     "name": "stdout",
     "output_type": "stream",
     "text": [
      "epoch: 85, f1_test: 0.6559321938005044, f1_train: 0.9209983666708923\n"
     ]
    },
    {
     "name": "stderr",
     "output_type": "stream",
     "text": [
      "100%|████████████████████████████████████████████████████████████████████████████████| 111/111 [01:45<00:00,  1.06it/s]\n",
      "100%|██████████████████████████████████████████████████████████████████████████████████| 28/28 [00:21<00:00,  1.34it/s]\n",
      "100%|████████████████████████████████████████████████████████████████████████████████| 111/111 [01:26<00:00,  1.31it/s]\n"
     ]
    },
    {
     "name": "stdout",
     "output_type": "stream",
     "text": [
      "epoch: 86, f1_test: 0.6630836021375833, f1_train: 0.920521473887369\n"
     ]
    },
    {
     "name": "stderr",
     "output_type": "stream",
     "text": [
      "100%|████████████████████████████████████████████████████████████████████████████████| 111/111 [01:45<00:00,  1.06it/s]\n",
      "100%|██████████████████████████████████████████████████████████████████████████████████| 28/28 [00:21<00:00,  1.37it/s]\n",
      "100%|████████████████████████████████████████████████████████████████████████████████| 111/111 [01:26<00:00,  1.35it/s]\n"
     ]
    },
    {
     "name": "stdout",
     "output_type": "stream",
     "text": [
      "epoch: 87, f1_test: 0.6425224544367455, f1_train: 0.925222288063278\n"
     ]
    },
    {
     "name": "stderr",
     "output_type": "stream",
     "text": [
      "100%|████████████████████████████████████████████████████████████████████████████████| 111/111 [01:44<00:00,  1.08it/s]\n",
      "100%|██████████████████████████████████████████████████████████████████████████████████| 28/28 [00:21<00:00,  1.37it/s]\n",
      "100%|████████████████████████████████████████████████████████████████████████████████| 111/111 [01:26<00:00,  1.30it/s]\n"
     ]
    },
    {
     "name": "stdout",
     "output_type": "stream",
     "text": [
      "epoch: 88, f1_test: 0.6649288810176733, f1_train: 0.9247309980223566\n"
     ]
    },
    {
     "name": "stderr",
     "output_type": "stream",
     "text": [
      "100%|████████████████████████████████████████████████████████████████████████████████| 111/111 [01:45<00:00,  1.07it/s]\n",
      "100%|██████████████████████████████████████████████████████████████████████████████████| 28/28 [00:21<00:00,  1.37it/s]\n",
      "100%|████████████████████████████████████████████████████████████████████████████████| 111/111 [01:26<00:00,  1.30it/s]\n"
     ]
    },
    {
     "name": "stdout",
     "output_type": "stream",
     "text": [
      "epoch: 89, f1_test: 0.6431428480081826, f1_train: 0.9224739756692368\n"
     ]
    },
    {
     "name": "stderr",
     "output_type": "stream",
     "text": [
      "100%|████████████████████████████████████████████████████████████████████████████████| 111/111 [01:45<00:00,  1.06it/s]\n",
      "100%|██████████████████████████████████████████████████████████████████████████████████| 28/28 [00:21<00:00,  1.33it/s]\n",
      "100%|████████████████████████████████████████████████████████████████████████████████| 111/111 [01:26<00:00,  1.28it/s]\n"
     ]
    },
    {
     "name": "stdout",
     "output_type": "stream",
     "text": [
      "epoch: 90, f1_test: 0.6419744797234224, f1_train: 0.9210569659872613\n"
     ]
    },
    {
     "name": "stderr",
     "output_type": "stream",
     "text": [
      "100%|████████████████████████████████████████████████████████████████████████████████| 111/111 [01:45<00:00,  1.08it/s]\n",
      "100%|██████████████████████████████████████████████████████████████████████████████████| 28/28 [00:21<00:00,  1.30it/s]\n",
      "100%|████████████████████████████████████████████████████████████████████████████████| 111/111 [01:26<00:00,  1.28it/s]\n"
     ]
    },
    {
     "name": "stdout",
     "output_type": "stream",
     "text": [
      "epoch: 91, f1_test: 0.6455516314588411, f1_train: 0.9222294658447014\n"
     ]
    },
    {
     "name": "stderr",
     "output_type": "stream",
     "text": [
      "100%|████████████████████████████████████████████████████████████████████████████████| 111/111 [01:45<00:00,  1.08it/s]\n",
      "100%|██████████████████████████████████████████████████████████████████████████████████| 28/28 [00:21<00:00,  1.29it/s]\n",
      "100%|████████████████████████████████████████████████████████████████████████████████| 111/111 [01:26<00:00,  1.31it/s]\n"
     ]
    },
    {
     "name": "stdout",
     "output_type": "stream",
     "text": [
      "epoch: 92, f1_test: 0.6623896174452653, f1_train: 0.9295782439765581\n"
     ]
    },
    {
     "name": "stderr",
     "output_type": "stream",
     "text": [
      "100%|████████████████████████████████████████████████████████████████████████████████| 111/111 [01:45<00:00,  1.06it/s]\n",
      "100%|██████████████████████████████████████████████████████████████████████████████████| 28/28 [00:21<00:00,  1.34it/s]\n",
      "100%|████████████████████████████████████████████████████████████████████████████████| 111/111 [01:26<00:00,  1.31it/s]\n"
     ]
    },
    {
     "name": "stdout",
     "output_type": "stream",
     "text": [
      "epoch: 93, f1_test: 0.6471274468684578, f1_train: 0.923522850058005\n"
     ]
    },
    {
     "name": "stderr",
     "output_type": "stream",
     "text": [
      "100%|████████████████████████████████████████████████████████████████████████████████| 111/111 [01:46<00:00,  1.02it/s]\n",
      "100%|██████████████████████████████████████████████████████████████████████████████████| 28/28 [00:21<00:00,  1.37it/s]\n",
      "100%|████████████████████████████████████████████████████████████████████████████████| 111/111 [01:26<00:00,  1.27it/s]\n"
     ]
    },
    {
     "name": "stdout",
     "output_type": "stream",
     "text": [
      "epoch: 94, f1_test: 0.6538511769175966, f1_train: 0.92336504430227\n"
     ]
    },
    {
     "name": "stderr",
     "output_type": "stream",
     "text": [
      "100%|████████████████████████████████████████████████████████████████████████████████| 111/111 [01:47<00:00,  1.05it/s]\n",
      "100%|██████████████████████████████████████████████████████████████████████████████████| 28/28 [00:22<00:00,  1.30it/s]\n",
      "100%|████████████████████████████████████████████████████████████████████████████████| 111/111 [01:27<00:00,  1.28it/s]\n"
     ]
    },
    {
     "name": "stdout",
     "output_type": "stream",
     "text": [
      "epoch: 95, f1_test: 0.6427164741091375, f1_train: 0.9177342889868205\n"
     ]
    },
    {
     "name": "stderr",
     "output_type": "stream",
     "text": [
      "100%|████████████████████████████████████████████████████████████████████████████████| 111/111 [01:47<00:00,  1.03it/s]\n",
      "100%|██████████████████████████████████████████████████████████████████████████████████| 28/28 [00:22<00:00,  1.32it/s]\n",
      "100%|████████████████████████████████████████████████████████████████████████████████| 111/111 [01:26<00:00,  1.30it/s]\n"
     ]
    },
    {
     "name": "stdout",
     "output_type": "stream",
     "text": [
      "epoch: 96, f1_test: 0.6529440170242353, f1_train: 0.9222752041446389\n"
     ]
    },
    {
     "name": "stderr",
     "output_type": "stream",
     "text": [
      "100%|████████████████████████████████████████████████████████████████████████████████| 111/111 [01:47<00:00,  1.04it/s]\n",
      "100%|██████████████████████████████████████████████████████████████████████████████████| 28/28 [00:22<00:00,  1.31it/s]\n",
      "100%|████████████████████████████████████████████████████████████████████████████████| 111/111 [01:26<00:00,  1.32it/s]\n"
     ]
    },
    {
     "name": "stdout",
     "output_type": "stream",
     "text": [
      "epoch: 97, f1_test: 0.6582541572197542, f1_train: 0.9232587342423773\n"
     ]
    },
    {
     "name": "stderr",
     "output_type": "stream",
     "text": [
      "100%|████████████████████████████████████████████████████████████████████████████████| 111/111 [01:47<00:00,  1.04it/s]\n",
      "100%|██████████████████████████████████████████████████████████████████████████████████| 28/28 [00:21<00:00,  1.36it/s]\n",
      "100%|████████████████████████████████████████████████████████████████████████████████| 111/111 [01:27<00:00,  1.32it/s]\n"
     ]
    },
    {
     "name": "stdout",
     "output_type": "stream",
     "text": [
      "epoch: 98, f1_test: 0.6633448350658607, f1_train: 0.9247033282108053\n"
     ]
    },
    {
     "name": "stderr",
     "output_type": "stream",
     "text": [
      "100%|████████████████████████████████████████████████████████████████████████████████| 111/111 [01:47<00:00,  1.04it/s]\n",
      "100%|██████████████████████████████████████████████████████████████████████████████████| 28/28 [00:21<00:00,  1.31it/s]\n",
      "100%|████████████████████████████████████████████████████████████████████████████████| 111/111 [01:26<00:00,  1.30it/s]\n"
     ]
    },
    {
     "name": "stdout",
     "output_type": "stream",
     "text": [
      "epoch: 99, f1_test: 0.6278180621239979, f1_train: 0.9224463047136672\n"
     ]
    }
   ],
   "source": [
    "n_epoch = 100\n",
    "best_f1 = 0\n",
    "for epoch in range(n_epoch):\n",
    "    model.train()\n",
    "    for wavs, labs in tqdm(train_loader):\n",
    "        optimizer.zero_grad()\n",
    "        wavs, labs = wavs.cuda(), labs.cuda()\n",
    "        outputs = model(wavs)\n",
    "        loss = criterion(outputs, labs)\n",
    "        loss.backward()\n",
    "        optimizer.step()\n",
    "    f1 = eval_model(model, val_loader)\n",
    "    f1_train = eval_model(model, train_loader)\n",
    "    print(f'epoch: {epoch}, f1_test: {f1}, f1_train: {f1_train}')\n",
    "    if f1 > best_f1:\n",
    "        best_f1 = f1\n",
    "        torch.save(model.state_dict(), '../baseline_v5.pt')\n",
    "        \n",
    "    lr = lr * 0.95\n",
    "    for param_group in optimizer.param_groups:\n",
    "        param_group['lr'] = lr"
   ]
  },
  {
   "cell_type": "code",
   "execution_count": 96,
   "metadata": {},
   "outputs": [
    {
     "name": "stdout",
     "output_type": "stream",
     "text": [
      "Loaded pretrained weights for efficientnet-b0\n"
     ]
    },
    {
     "name": "stderr",
     "output_type": "stream",
     "text": [
      "  0%|                                                                                           | 0/93 [00:00<?, ?it/s]D:\\Programs\\Anaconda\\lib\\site-packages\\ipykernel_launcher.py:58: UserWarning: Implicit dimension choice for softmax has been deprecated. Change the call to include dim=X as an argument.\n",
      "100%|██████████████████████████████████████████████████████████████████████████████████| 93/93 [00:59<00:00,  1.84it/s]\n"
     ]
    }
   ],
   "source": [
    "# make a model\n",
    "model_name = 'baseline_v5.pt'\n",
    "model = BaseLineModel().cuda()\n",
    "model.load_state_dict(torch.load(os.path.join('..', model_name)))\n",
    "model.eval()\n",
    "forecast = []\n",
    "with torch.no_grad():\n",
    "    for wavs in tqdm(test_loader):\n",
    "        wavs = wavs.cuda()\n",
    "        outputs = model.inference(wavs)\n",
    "        outputs = outputs.detach().cpu().numpy().argmax(axis=1)\n",
    "        forecast.append(outputs)\n",
    "forecast = [x for sublist in forecast for x in sublist]\n",
    "decoder = {classes_dict[cl]:cl for cl in classes_dict}\n",
    "forecast = pd.Series(forecast).map(decoder)\n",
    "df_test['label'] = forecast\n",
    "df_test.to_csv(f'{model_name}.csv', index=None)"
   ]
  },
  {
   "cell_type": "code",
   "execution_count": null,
   "metadata": {},
   "outputs": [],
   "source": []
  },
  {
   "cell_type": "code",
   "execution_count": 25,
   "metadata": {},
   "outputs": [],
   "source": [
    "def model_predict(model, data_loader):\n",
    "    forecast = []\n",
    "    probs = []\n",
    "    with torch.no_grad():\n",
    "        for wavs, labs in tqdm(data_loader):\n",
    "            wavs = wavs.cuda()\n",
    "            outputs = model.inference(wavs)\n",
    "            probs.append(outputs.detach().cpu().numpy())\n",
    "            outputs = outputs.detach().cpu().numpy().argmax(axis=1)\n",
    "            forecast.append(outputs)\n",
    "    forecast = [x for sublist in forecast for x in sublist]\n",
    "    probs = [x for sublist in probs for x in sublist]\n",
    "    decoder = {classes_dict[cl]:cl for cl in classes_dict}\n",
    "    forecast = pd.Series(forecast).map(decoder)\n",
    "    \n",
    "    return forecast, probs"
   ]
  },
  {
   "cell_type": "code",
   "execution_count": 1,
   "metadata": {},
   "outputs": [],
   "source": [
    "def model_predict_test(model, test_loader):\n",
    "    forecast = []\n",
    "    probs = []\n",
    "    with torch.no_grad():\n",
    "        for wavs in tqdm(test_loader):\n",
    "            wavs = wavs.cuda()\n",
    "            outputs = model.inference(wavs)\n",
    "            probs.append(outputs.detach().cpu().numpy())\n",
    "            outputs = outputs.detach().cpu().numpy().argmax(axis=1)\n",
    "            forecast.append(outputs)\n",
    "    forecast = [x for sublist in forecast for x in sublist]\n",
    "    probs = [x for sublist in probs for x in sublist]\n",
    "    decoder = {classes_dict[cl]:cl for cl in classes_dict}\n",
    "    forecast = pd.Series(forecast).map(decoder)\n",
    "    \n",
    "    return forecast, probs"
   ]
  },
  {
   "cell_type": "code",
   "execution_count": 20,
   "metadata": {},
   "outputs": [],
   "source": [
    "def model_train(model, train_loader, val_loader, name, learning_rate, epoch):\n",
    "    n_epoch = epoch\n",
    "    best_f1 = 0\n",
    "    for epoch in range(n_epoch):\n",
    "        model.train()\n",
    "        for wavs, labs in tqdm(train_loader):\n",
    "            optimizer.zero_grad()\n",
    "            wavs, labs = wavs.cuda(), labs.cuda()\n",
    "            outputs = model(wavs)\n",
    "            loss = criterion(outputs, labs)\n",
    "            loss.backward()\n",
    "            optimizer.step()\n",
    "        f1 = eval_model(model, val_loader)\n",
    "        f1_train = eval_model(model, train_loader)\n",
    "        print(f'epoch: {epoch}, f1_test: {f1}, f1_train: {f1_train}')\n",
    "        if f1 > best_f1:\n",
    "            best_f1 = f1\n",
    "            torch.save(model.state_dict(), '../' + name)\n",
    "        \n",
    "        learning_rate = learning_rate * 0.95\n",
    "        for param_group in optimizer.param_groups:\n",
    "            param_group['lr'] = learning_rate"
   ]
  },
  {
   "cell_type": "markdown",
   "metadata": {},
   "source": [
    "# Semi-supervised learning"
   ]
  },
  {
   "cell_type": "code",
   "execution_count": 164,
   "metadata": {},
   "outputs": [
    {
     "name": "stdout",
     "output_type": "stream",
     "text": [
      "Loaded pretrained weights for efficientnet-b0\n"
     ]
    },
    {
     "name": "stderr",
     "output_type": "stream",
     "text": [
      "  0%|                                                                                           | 0/93 [00:00<?, ?it/s]D:\\Programs\\Anaconda\\lib\\site-packages\\ipykernel_launcher.py:56: UserWarning: Implicit dimension choice for softmax has been deprecated. Change the call to include dim=X as an argument.\n",
      "100%|██████████████████████████████████████████████████████████████████████████████████| 93/93 [01:08<00:00,  1.66it/s]\n"
     ]
    }
   ],
   "source": [
    "model_name = 'baseline_v4.pt'\n",
    "model = Model_4().cuda()\n",
    "model.load_state_dict(torch.load(os.path.join('..', model_name)))\n",
    "model.eval()\n",
    "_, probs = model_predict_test(model, test_loader)"
   ]
  },
  {
   "cell_type": "code",
   "execution_count": 165,
   "metadata": {},
   "outputs": [],
   "source": [
    "probmax = [max(x) for x in probs]\n",
    "\n",
    "idx_max = []\n",
    "idx_else = []\n",
    "for i, prob in enumerate(probmax):\n",
    "    if (prob) > 0.99:\n",
    "        idx_max.append(i)\n",
    "    else:\n",
    "        idx_else.append(i)"
   ]
  },
  {
   "cell_type": "code",
   "execution_count": 166,
   "metadata": {},
   "outputs": [],
   "source": [
    "# Создание нового train\n",
    "\n",
    "df_train_new = pd.read_csv(os.path.join(DATA_PATH, train_meta_fname))\n",
    "df_train_new['label_encoded'] = df_train_new.label.map(classes_dict)\n",
    "\n",
    "for i in idx_max:\n",
    "    df_train_new.loc[len(df_train_new)] = [df_test['fname'][i], df_test['label'][i], classes_dict[df_test['label'][i]]]\n",
    "    \n",
    "df_train_new.to_csv('train_with_test_99_v4.csv', index=None) "
   ]
  },
  {
   "cell_type": "code",
   "execution_count": 171,
   "metadata": {},
   "outputs": [],
   "source": [
    "# Создание нового test\n",
    "\n",
    "df_test_new = pd.DataFrame(columns = ['fname', 'label'])\n",
    "\n",
    "for i in idx_else:\n",
    "    df_test_new.loc[len(df_test_new)] = [df_test['fname'][i], 0.0]\n",
    "    \n",
    "df_test_new.to_csv('test_new_99_v4.csv', index=None)"
   ]
  },
  {
   "cell_type": "code",
   "execution_count": 174,
   "metadata": {},
   "outputs": [],
   "source": [
    "X_train, X_val, y_train, y_val = train_test_split(df_train_new.fname.values, df_train_new.label_encoded.values, \n",
    "                                                  test_size=0.2, random_state=42)\n",
    "train_loader_new = DataLoader(\n",
    "                        EventDetectionDataset(os.path.join(DATA_PATH, train_data_folder), X_train, y_train),\n",
    "                        batch_size=41\n",
    "                )\n",
    "val_loader_new = DataLoader(\n",
    "                        EventDetectionDataset(os.path.join(DATA_PATH, train_data_folder), X_val, y_val),\n",
    "                        batch_size=41\n",
    "                )\n",
    "test_loader_new = DataLoader(\n",
    "                        EventDetectionDataset(os.path.join(DATA_PATH, test_data_folder), df_test_new.fname.values, None),\n",
    "                        batch_size=41, shuffle=False\n",
    "                )"
   ]
  },
  {
   "cell_type": "code",
   "execution_count": 175,
   "metadata": {},
   "outputs": [
    {
     "name": "stdout",
     "output_type": "stream",
     "text": [
      "Loaded pretrained weights for efficientnet-b0\n"
     ]
    }
   ],
   "source": [
    "criterion = nn.CrossEntropyLoss()\n",
    "model = Model_4()\n",
    "model = model.cuda()\n",
    "model_name = 'Semi_S_99_v4.pt'\n",
    "lr = 1e-3\n",
    "\n",
    "optimizer = torch.optim.Adam(model.parameters(), lr=lr)"
   ]
  },
  {
   "cell_type": "code",
   "execution_count": 176,
   "metadata": {},
   "outputs": [
    {
     "name": "stderr",
     "output_type": "stream",
     "text": [
      "100%|████████████████████████████████████████████████████████████████████████████████| 157/157 [03:08<00:00,  1.07it/s]\n",
      "  0%|                                                                                           | 0/40 [00:00<?, ?it/s]D:\\Programs\\Anaconda\\lib\\site-packages\\ipykernel_launcher.py:56: UserWarning: Implicit dimension choice for softmax has been deprecated. Change the call to include dim=X as an argument.\n",
      "100%|██████████████████████████████████████████████████████████████████████████████████| 40/40 [00:33<00:00,  1.53it/s]\n",
      "100%|████████████████████████████████████████████████████████████████████████████████| 157/157 [02:11<00:00,  1.49it/s]\n"
     ]
    },
    {
     "name": "stdout",
     "output_type": "stream",
     "text": [
      "epoch: 0, f1_test: 0.1499860104082086, f1_train: 0.15291866398152365\n"
     ]
    },
    {
     "name": "stderr",
     "output_type": "stream",
     "text": [
      "100%|████████████████████████████████████████████████████████████████████████████████| 157/157 [02:52<00:00,  1.11it/s]\n",
      "100%|██████████████████████████████████████████████████████████████████████████████████| 40/40 [00:33<00:00,  1.60it/s]\n",
      "100%|████████████████████████████████████████████████████████████████████████████████| 157/157 [02:12<00:00,  1.50it/s]\n"
     ]
    },
    {
     "name": "stdout",
     "output_type": "stream",
     "text": [
      "epoch: 1, f1_test: 0.2010687756240733, f1_train: 0.22305684845611687\n"
     ]
    },
    {
     "name": "stderr",
     "output_type": "stream",
     "text": [
      "100%|████████████████████████████████████████████████████████████████████████████████| 157/157 [02:53<00:00,  1.10it/s]\n",
      "100%|██████████████████████████████████████████████████████████████████████████████████| 40/40 [00:33<00:00,  1.55it/s]\n",
      "100%|████████████████████████████████████████████████████████████████████████████████| 157/157 [02:13<00:00,  1.51it/s]\n"
     ]
    },
    {
     "name": "stdout",
     "output_type": "stream",
     "text": [
      "epoch: 2, f1_test: 0.24716021598634802, f1_train: 0.2810978512993651\n"
     ]
    },
    {
     "name": "stderr",
     "output_type": "stream",
     "text": [
      "100%|████████████████████████████████████████████████████████████████████████████████| 157/157 [02:53<00:00,  1.07it/s]\n",
      "100%|██████████████████████████████████████████████████████████████████████████████████| 40/40 [00:33<00:00,  1.58it/s]\n",
      "100%|████████████████████████████████████████████████████████████████████████████████| 157/157 [02:11<00:00,  1.48it/s]\n"
     ]
    },
    {
     "name": "stdout",
     "output_type": "stream",
     "text": [
      "epoch: 3, f1_test: 0.34512766008502016, f1_train: 0.39309654302432695\n"
     ]
    },
    {
     "name": "stderr",
     "output_type": "stream",
     "text": [
      "100%|████████████████████████████████████████████████████████████████████████████████| 157/157 [02:52<00:00,  1.12it/s]\n",
      "100%|██████████████████████████████████████████████████████████████████████████████████| 40/40 [00:33<00:00,  1.59it/s]\n",
      "100%|████████████████████████████████████████████████████████████████████████████████| 157/157 [02:10<00:00,  1.51it/s]\n"
     ]
    },
    {
     "name": "stdout",
     "output_type": "stream",
     "text": [
      "epoch: 4, f1_test: 0.35204829372223173, f1_train: 0.3905210398070769\n"
     ]
    },
    {
     "name": "stderr",
     "output_type": "stream",
     "text": [
      "100%|████████████████████████████████████████████████████████████████████████████████| 157/157 [02:52<00:00,  1.10it/s]\n",
      "100%|██████████████████████████████████████████████████████████████████████████████████| 40/40 [00:33<00:00,  1.58it/s]\n",
      "100%|████████████████████████████████████████████████████████████████████████████████| 157/157 [02:11<00:00,  1.52it/s]\n"
     ]
    },
    {
     "name": "stdout",
     "output_type": "stream",
     "text": [
      "epoch: 5, f1_test: 0.5327174461477622, f1_train: 0.6039141408444303\n"
     ]
    },
    {
     "name": "stderr",
     "output_type": "stream",
     "text": [
      "100%|████████████████████████████████████████████████████████████████████████████████| 157/157 [02:52<00:00,  1.09it/s]\n",
      "100%|██████████████████████████████████████████████████████████████████████████████████| 40/40 [00:33<00:00,  1.58it/s]\n",
      "100%|████████████████████████████████████████████████████████████████████████████████| 157/157 [02:10<00:00,  1.49it/s]\n"
     ]
    },
    {
     "name": "stdout",
     "output_type": "stream",
     "text": [
      "epoch: 6, f1_test: 0.49149227580659505, f1_train: 0.5708146467090741\n"
     ]
    },
    {
     "name": "stderr",
     "output_type": "stream",
     "text": [
      "100%|████████████████████████████████████████████████████████████████████████████████| 157/157 [02:52<00:00,  1.09it/s]\n",
      "100%|██████████████████████████████████████████████████████████████████████████████████| 40/40 [00:32<00:00,  1.57it/s]\n",
      "100%|████████████████████████████████████████████████████████████████████████████████| 157/157 [02:10<00:00,  1.51it/s]\n"
     ]
    },
    {
     "name": "stdout",
     "output_type": "stream",
     "text": [
      "epoch: 7, f1_test: 0.5010403421681542, f1_train: 0.567939961345116\n"
     ]
    },
    {
     "name": "stderr",
     "output_type": "stream",
     "text": [
      "100%|████████████████████████████████████████████████████████████████████████████████| 157/157 [02:52<00:00,  1.12it/s]\n",
      "100%|██████████████████████████████████████████████████████████████████████████████████| 40/40 [00:33<00:00,  1.56it/s]\n",
      "100%|████████████████████████████████████████████████████████████████████████████████| 157/157 [02:10<00:00,  1.49it/s]\n"
     ]
    },
    {
     "name": "stdout",
     "output_type": "stream",
     "text": [
      "epoch: 8, f1_test: 0.4709989914002118, f1_train: 0.5570595341359484\n"
     ]
    },
    {
     "name": "stderr",
     "output_type": "stream",
     "text": [
      "100%|████████████████████████████████████████████████████████████████████████████████| 157/157 [02:52<00:00,  1.08it/s]\n",
      "100%|██████████████████████████████████████████████████████████████████████████████████| 40/40 [00:33<00:00,  1.56it/s]\n",
      "100%|████████████████████████████████████████████████████████████████████████████████| 157/157 [02:12<00:00,  1.49it/s]\n"
     ]
    },
    {
     "name": "stdout",
     "output_type": "stream",
     "text": [
      "epoch: 9, f1_test: 0.4307739553884733, f1_train: 0.5090077018163776\n"
     ]
    },
    {
     "name": "stderr",
     "output_type": "stream",
     "text": [
      "100%|████████████████████████████████████████████████████████████████████████████████| 157/157 [02:52<00:00,  1.10it/s]\n",
      "100%|██████████████████████████████████████████████████████████████████████████████████| 40/40 [00:33<00:00,  1.56it/s]\n",
      "100%|████████████████████████████████████████████████████████████████████████████████| 157/157 [02:10<00:00,  1.52it/s]\n"
     ]
    },
    {
     "name": "stdout",
     "output_type": "stream",
     "text": [
      "epoch: 10, f1_test: 0.4527046535676188, f1_train: 0.5343721691427188\n"
     ]
    },
    {
     "name": "stderr",
     "output_type": "stream",
     "text": [
      "100%|████████████████████████████████████████████████████████████████████████████████| 157/157 [02:52<00:00,  1.10it/s]\n",
      "100%|██████████████████████████████████████████████████████████████████████████████████| 40/40 [00:33<00:00,  1.56it/s]\n",
      "100%|████████████████████████████████████████████████████████████████████████████████| 157/157 [02:11<00:00,  1.50it/s]\n"
     ]
    },
    {
     "name": "stdout",
     "output_type": "stream",
     "text": [
      "epoch: 11, f1_test: 0.46526418730206376, f1_train: 0.5776330483534474\n"
     ]
    },
    {
     "name": "stderr",
     "output_type": "stream",
     "text": [
      "100%|████████████████████████████████████████████████████████████████████████████████| 157/157 [02:52<00:00,  1.11it/s]\n",
      "100%|██████████████████████████████████████████████████████████████████████████████████| 40/40 [00:33<00:00,  1.56it/s]\n",
      "100%|████████████████████████████████████████████████████████████████████████████████| 157/157 [02:11<00:00,  1.49it/s]\n"
     ]
    },
    {
     "name": "stdout",
     "output_type": "stream",
     "text": [
      "epoch: 12, f1_test: 0.535125224862124, f1_train: 0.6575721700550503\n"
     ]
    },
    {
     "name": "stderr",
     "output_type": "stream",
     "text": [
      "100%|████████████████████████████████████████████████████████████████████████████████| 157/157 [02:54<00:00,  1.09it/s]\n",
      "100%|██████████████████████████████████████████████████████████████████████████████████| 40/40 [00:36<00:00,  1.48it/s]\n",
      "100%|████████████████████████████████████████████████████████████████████████████████| 157/157 [02:11<00:00,  1.49it/s]\n"
     ]
    },
    {
     "name": "stdout",
     "output_type": "stream",
     "text": [
      "epoch: 13, f1_test: 0.5649975314030622, f1_train: 0.6792225149476577\n"
     ]
    },
    {
     "name": "stderr",
     "output_type": "stream",
     "text": [
      "100%|████████████████████████████████████████████████████████████████████████████████| 157/157 [02:52<00:00,  1.10it/s]\n",
      "100%|██████████████████████████████████████████████████████████████████████████████████| 40/40 [00:33<00:00,  1.57it/s]\n",
      "100%|████████████████████████████████████████████████████████████████████████████████| 157/157 [02:10<00:00,  1.54it/s]\n"
     ]
    },
    {
     "name": "stdout",
     "output_type": "stream",
     "text": [
      "epoch: 14, f1_test: 0.40376350648191195, f1_train: 0.5288103718638413\n"
     ]
    },
    {
     "name": "stderr",
     "output_type": "stream",
     "text": [
      "100%|████████████████████████████████████████████████████████████████████████████████| 157/157 [02:52<00:00,  1.08it/s]\n",
      "100%|██████████████████████████████████████████████████████████████████████████████████| 40/40 [00:33<00:00,  1.58it/s]\n",
      "100%|████████████████████████████████████████████████████████████████████████████████| 157/157 [02:12<00:00,  1.51it/s]\n"
     ]
    },
    {
     "name": "stdout",
     "output_type": "stream",
     "text": [
      "epoch: 15, f1_test: 0.5889328119679804, f1_train: 0.7148050826532977\n"
     ]
    },
    {
     "name": "stderr",
     "output_type": "stream",
     "text": [
      "100%|████████████████████████████████████████████████████████████████████████████████| 157/157 [02:53<00:00,  1.10it/s]\n",
      "100%|██████████████████████████████████████████████████████████████████████████████████| 40/40 [00:33<00:00,  1.55it/s]\n",
      "100%|████████████████████████████████████████████████████████████████████████████████| 157/157 [02:12<00:00,  1.51it/s]\n"
     ]
    },
    {
     "name": "stdout",
     "output_type": "stream",
     "text": [
      "epoch: 16, f1_test: 0.5673073534008994, f1_train: 0.6935241225390529\n"
     ]
    },
    {
     "name": "stderr",
     "output_type": "stream",
     "text": [
      "100%|████████████████████████████████████████████████████████████████████████████████| 157/157 [02:53<00:00,  1.10it/s]\n",
      "100%|██████████████████████████████████████████████████████████████████████████████████| 40/40 [00:32<00:00,  1.55it/s]\n",
      "100%|████████████████████████████████████████████████████████████████████████████████| 157/157 [02:11<00:00,  1.50it/s]\n"
     ]
    },
    {
     "name": "stdout",
     "output_type": "stream",
     "text": [
      "epoch: 17, f1_test: 0.6919810533001439, f1_train: 0.8508029440000945\n"
     ]
    },
    {
     "name": "stderr",
     "output_type": "stream",
     "text": [
      "100%|████████████████████████████████████████████████████████████████████████████████| 157/157 [02:52<00:00,  1.10it/s]\n",
      "100%|██████████████████████████████████████████████████████████████████████████████████| 40/40 [00:33<00:00,  1.57it/s]\n",
      "100%|████████████████████████████████████████████████████████████████████████████████| 157/157 [02:11<00:00,  1.51it/s]\n"
     ]
    },
    {
     "name": "stdout",
     "output_type": "stream",
     "text": [
      "epoch: 18, f1_test: 0.6314923155818645, f1_train: 0.7724063071657125\n"
     ]
    },
    {
     "name": "stderr",
     "output_type": "stream",
     "text": [
      "100%|████████████████████████████████████████████████████████████████████████████████| 157/157 [02:52<00:00,  1.11it/s]\n",
      "100%|██████████████████████████████████████████████████████████████████████████████████| 40/40 [00:33<00:00,  1.54it/s]\n",
      "100%|████████████████████████████████████████████████████████████████████████████████| 157/157 [02:10<00:00,  1.51it/s]\n"
     ]
    },
    {
     "name": "stdout",
     "output_type": "stream",
     "text": [
      "epoch: 19, f1_test: 0.6936366954805506, f1_train: 0.8720324288920785\n"
     ]
    },
    {
     "name": "stderr",
     "output_type": "stream",
     "text": [
      "100%|████████████████████████████████████████████████████████████████████████████████| 157/157 [02:52<00:00,  1.11it/s]\n",
      "100%|██████████████████████████████████████████████████████████████████████████████████| 40/40 [00:32<00:00,  1.56it/s]\n",
      "100%|████████████████████████████████████████████████████████████████████████████████| 157/157 [02:11<00:00,  1.47it/s]\n"
     ]
    },
    {
     "name": "stdout",
     "output_type": "stream",
     "text": [
      "epoch: 20, f1_test: 0.5991078462119702, f1_train: 0.7377315109550392\n"
     ]
    },
    {
     "name": "stderr",
     "output_type": "stream",
     "text": [
      "100%|████████████████████████████████████████████████████████████████████████████████| 157/157 [02:53<00:00,  1.09it/s]\n",
      "100%|██████████████████████████████████████████████████████████████████████████████████| 40/40 [00:33<00:00,  1.57it/s]\n",
      "100%|████████████████████████████████████████████████████████████████████████████████| 157/157 [02:11<00:00,  1.50it/s]\n"
     ]
    },
    {
     "name": "stdout",
     "output_type": "stream",
     "text": [
      "epoch: 21, f1_test: 0.7092578157174767, f1_train: 0.891159536586847\n"
     ]
    },
    {
     "name": "stderr",
     "output_type": "stream",
     "text": [
      "100%|████████████████████████████████████████████████████████████████████████████████| 157/157 [02:53<00:00,  1.09it/s]\n",
      "100%|██████████████████████████████████████████████████████████████████████████████████| 40/40 [00:33<00:00,  1.56it/s]\n",
      "100%|████████████████████████████████████████████████████████████████████████████████| 157/157 [02:10<00:00,  1.52it/s]\n"
     ]
    },
    {
     "name": "stdout",
     "output_type": "stream",
     "text": [
      "epoch: 22, f1_test: 0.6814449228237618, f1_train: 0.8393552374313388\n"
     ]
    },
    {
     "name": "stderr",
     "output_type": "stream",
     "text": [
      "100%|████████████████████████████████████████████████████████████████████████████████| 157/157 [02:52<00:00,  1.11it/s]\n",
      "100%|██████████████████████████████████████████████████████████████████████████████████| 40/40 [00:33<00:00,  1.57it/s]\n",
      "100%|████████████████████████████████████████████████████████████████████████████████| 157/157 [02:13<00:00,  1.45it/s]\n"
     ]
    },
    {
     "name": "stdout",
     "output_type": "stream",
     "text": [
      "epoch: 23, f1_test: 0.49857274940610546, f1_train: 0.6293708399719088\n"
     ]
    },
    {
     "name": "stderr",
     "output_type": "stream",
     "text": [
      "100%|████████████████████████████████████████████████████████████████████████████████| 157/157 [02:53<00:00,  1.11it/s]\n",
      "100%|██████████████████████████████████████████████████████████████████████████████████| 40/40 [00:33<00:00,  1.57it/s]\n",
      "100%|████████████████████████████████████████████████████████████████████████████████| 157/157 [02:11<00:00,  1.51it/s]\n"
     ]
    },
    {
     "name": "stdout",
     "output_type": "stream",
     "text": [
      "epoch: 24, f1_test: 0.5621651058513182, f1_train: 0.6924706729410107\n"
     ]
    },
    {
     "name": "stderr",
     "output_type": "stream",
     "text": [
      "100%|████████████████████████████████████████████████████████████████████████████████| 157/157 [02:54<00:00,  1.10it/s]\n",
      "100%|██████████████████████████████████████████████████████████████████████████████████| 40/40 [00:33<00:00,  1.57it/s]\n",
      "100%|████████████████████████████████████████████████████████████████████████████████| 157/157 [02:12<00:00,  1.44it/s]\n"
     ]
    },
    {
     "name": "stdout",
     "output_type": "stream",
     "text": [
      "epoch: 25, f1_test: 0.7230880814094893, f1_train: 0.9060532133262011\n"
     ]
    },
    {
     "name": "stderr",
     "output_type": "stream",
     "text": [
      "100%|████████████████████████████████████████████████████████████████████████████████| 157/157 [02:52<00:00,  1.12it/s]\n",
      "100%|██████████████████████████████████████████████████████████████████████████████████| 40/40 [00:33<00:00,  1.59it/s]\n",
      "100%|████████████████████████████████████████████████████████████████████████████████| 157/157 [02:10<00:00,  1.50it/s]\n"
     ]
    },
    {
     "name": "stdout",
     "output_type": "stream",
     "text": [
      "epoch: 26, f1_test: 0.5888270121032462, f1_train: 0.7340766599230317\n"
     ]
    },
    {
     "name": "stderr",
     "output_type": "stream",
     "text": [
      "100%|████████████████████████████████████████████████████████████████████████████████| 157/157 [02:52<00:00,  1.10it/s]\n",
      "100%|██████████████████████████████████████████████████████████████████████████████████| 40/40 [00:33<00:00,  1.58it/s]\n",
      "100%|████████████████████████████████████████████████████████████████████████████████| 157/157 [02:11<00:00,  1.47it/s]\n"
     ]
    },
    {
     "name": "stdout",
     "output_type": "stream",
     "text": [
      "epoch: 27, f1_test: 0.7029414297772894, f1_train: 0.8786500952323296\n"
     ]
    },
    {
     "name": "stderr",
     "output_type": "stream",
     "text": [
      "100%|████████████████████████████████████████████████████████████████████████████████| 157/157 [02:53<00:00,  1.10it/s]\n",
      "100%|██████████████████████████████████████████████████████████████████████████████████| 40/40 [00:33<00:00,  1.57it/s]\n",
      "100%|████████████████████████████████████████████████████████████████████████████████| 157/157 [02:11<00:00,  1.51it/s]\n"
     ]
    },
    {
     "name": "stdout",
     "output_type": "stream",
     "text": [
      "epoch: 28, f1_test: 0.7079079580676185, f1_train: 0.8996509440419929\n"
     ]
    },
    {
     "name": "stderr",
     "output_type": "stream",
     "text": [
      "100%|████████████████████████████████████████████████████████████████████████████████| 157/157 [02:53<00:00,  1.10it/s]\n",
      "100%|██████████████████████████████████████████████████████████████████████████████████| 40/40 [00:33<00:00,  1.57it/s]\n",
      "100%|████████████████████████████████████████████████████████████████████████████████| 157/157 [02:11<00:00,  1.49it/s]\n"
     ]
    },
    {
     "name": "stdout",
     "output_type": "stream",
     "text": [
      "epoch: 29, f1_test: 0.6257707861633097, f1_train: 0.7910949140156404\n"
     ]
    },
    {
     "name": "stderr",
     "output_type": "stream",
     "text": [
      "100%|████████████████████████████████████████████████████████████████████████████████| 157/157 [02:52<00:00,  1.11it/s]\n",
      "100%|██████████████████████████████████████████████████████████████████████████████████| 40/40 [00:32<00:00,  1.59it/s]\n",
      "100%|████████████████████████████████████████████████████████████████████████████████| 157/157 [02:10<00:00,  1.51it/s]\n"
     ]
    },
    {
     "name": "stdout",
     "output_type": "stream",
     "text": [
      "epoch: 30, f1_test: 0.7157323376315632, f1_train: 0.8943180594361371\n"
     ]
    },
    {
     "name": "stderr",
     "output_type": "stream",
     "text": [
      "100%|████████████████████████████████████████████████████████████████████████████████| 157/157 [02:52<00:00,  1.12it/s]\n",
      "100%|██████████████████████████████████████████████████████████████████████████████████| 40/40 [00:33<00:00,  1.54it/s]\n",
      "100%|████████████████████████████████████████████████████████████████████████████████| 157/157 [02:11<00:00,  1.50it/s]\n"
     ]
    },
    {
     "name": "stdout",
     "output_type": "stream",
     "text": [
      "epoch: 31, f1_test: 0.6289415075729617, f1_train: 0.7794968331013546\n"
     ]
    },
    {
     "name": "stderr",
     "output_type": "stream",
     "text": [
      "100%|████████████████████████████████████████████████████████████████████████████████| 157/157 [02:52<00:00,  1.10it/s]\n",
      "100%|██████████████████████████████████████████████████████████████████████████████████| 40/40 [00:32<00:00,  1.59it/s]\n",
      "100%|████████████████████████████████████████████████████████████████████████████████| 157/157 [02:10<00:00,  1.50it/s]\n"
     ]
    },
    {
     "name": "stdout",
     "output_type": "stream",
     "text": [
      "epoch: 32, f1_test: 0.714838811740461, f1_train: 0.907821462400618\n"
     ]
    },
    {
     "name": "stderr",
     "output_type": "stream",
     "text": [
      "100%|████████████████████████████████████████████████████████████████████████████████| 157/157 [02:52<00:00,  1.11it/s]\n",
      "100%|██████████████████████████████████████████████████████████████████████████████████| 40/40 [00:32<00:00,  1.60it/s]\n",
      "100%|████████████████████████████████████████████████████████████████████████████████| 157/157 [02:11<00:00,  1.45it/s]\n"
     ]
    },
    {
     "name": "stdout",
     "output_type": "stream",
     "text": [
      "epoch: 33, f1_test: 0.7049233558499651, f1_train: 0.899338709810409\n"
     ]
    },
    {
     "name": "stderr",
     "output_type": "stream",
     "text": [
      "100%|████████████████████████████████████████████████████████████████████████████████| 157/157 [02:55<00:00,  1.10it/s]\n",
      "100%|██████████████████████████████████████████████████████████████████████████████████| 40/40 [00:33<00:00,  1.53it/s]\n",
      "100%|████████████████████████████████████████████████████████████████████████████████| 157/157 [02:11<00:00,  1.52it/s]\n"
     ]
    },
    {
     "name": "stdout",
     "output_type": "stream",
     "text": [
      "epoch: 34, f1_test: 0.7454982198612519, f1_train: 0.9243747354129546\n"
     ]
    },
    {
     "name": "stderr",
     "output_type": "stream",
     "text": [
      "100%|████████████████████████████████████████████████████████████████████████████████| 157/157 [02:53<00:00,  1.09it/s]\n",
      "100%|██████████████████████████████████████████████████████████████████████████████████| 40/40 [00:33<00:00,  1.57it/s]\n",
      "100%|████████████████████████████████████████████████████████████████████████████████| 157/157 [02:11<00:00,  1.51it/s]\n"
     ]
    },
    {
     "name": "stdout",
     "output_type": "stream",
     "text": [
      "epoch: 35, f1_test: 0.7213062070159612, f1_train: 0.9142190491183787\n"
     ]
    },
    {
     "name": "stderr",
     "output_type": "stream",
     "text": [
      "100%|████████████████████████████████████████████████████████████████████████████████| 157/157 [02:52<00:00,  1.10it/s]\n",
      "100%|██████████████████████████████████████████████████████████████████████████████████| 40/40 [00:33<00:00,  1.58it/s]\n",
      "100%|████████████████████████████████████████████████████████████████████████████████| 157/157 [02:10<00:00,  1.49it/s]\n"
     ]
    },
    {
     "name": "stdout",
     "output_type": "stream",
     "text": [
      "epoch: 36, f1_test: 0.7562831453578055, f1_train: 0.9392178994214857\n"
     ]
    },
    {
     "name": "stderr",
     "output_type": "stream",
     "text": [
      "100%|████████████████████████████████████████████████████████████████████████████████| 157/157 [02:53<00:00,  1.10it/s]\n",
      "100%|██████████████████████████████████████████████████████████████████████████████████| 40/40 [00:33<00:00,  1.56it/s]\n",
      "100%|████████████████████████████████████████████████████████████████████████████████| 157/157 [02:10<00:00,  1.50it/s]\n"
     ]
    },
    {
     "name": "stdout",
     "output_type": "stream",
     "text": [
      "epoch: 37, f1_test: 0.6582367626207024, f1_train: 0.8400627530962598\n"
     ]
    },
    {
     "name": "stderr",
     "output_type": "stream",
     "text": [
      "100%|████████████████████████████████████████████████████████████████████████████████| 157/157 [02:52<00:00,  1.11it/s]\n",
      "100%|██████████████████████████████████████████████████████████████████████████████████| 40/40 [00:33<00:00,  1.58it/s]\n",
      "100%|████████████████████████████████████████████████████████████████████████████████| 157/157 [02:10<00:00,  1.49it/s]\n"
     ]
    },
    {
     "name": "stdout",
     "output_type": "stream",
     "text": [
      "epoch: 38, f1_test: 0.6634321187056894, f1_train: 0.8551180733616334\n"
     ]
    },
    {
     "name": "stderr",
     "output_type": "stream",
     "text": [
      "100%|████████████████████████████████████████████████████████████████████████████████| 157/157 [02:52<00:00,  1.08it/s]\n",
      "100%|██████████████████████████████████████████████████████████████████████████████████| 40/40 [00:33<00:00,  1.57it/s]\n",
      "100%|████████████████████████████████████████████████████████████████████████████████| 157/157 [02:11<00:00,  1.49it/s]\n"
     ]
    },
    {
     "name": "stdout",
     "output_type": "stream",
     "text": [
      "epoch: 39, f1_test: 0.7401670011910395, f1_train: 0.9366899466501857\n"
     ]
    },
    {
     "name": "stderr",
     "output_type": "stream",
     "text": [
      "100%|████████████████████████████████████████████████████████████████████████████████| 157/157 [02:52<00:00,  1.09it/s]\n",
      "100%|██████████████████████████████████████████████████████████████████████████████████| 40/40 [00:33<00:00,  1.55it/s]\n",
      "100%|████████████████████████████████████████████████████████████████████████████████| 157/157 [02:11<00:00,  1.52it/s]\n"
     ]
    },
    {
     "name": "stdout",
     "output_type": "stream",
     "text": [
      "epoch: 40, f1_test: 0.7218320215422386, f1_train: 0.9312834185502757\n"
     ]
    },
    {
     "name": "stderr",
     "output_type": "stream",
     "text": [
      "100%|████████████████████████████████████████████████████████████████████████████████| 157/157 [02:52<00:00,  1.12it/s]\n",
      "100%|██████████████████████████████████████████████████████████████████████████████████| 40/40 [00:33<00:00,  1.57it/s]\n",
      "100%|████████████████████████████████████████████████████████████████████████████████| 157/157 [02:11<00:00,  1.50it/s]\n"
     ]
    },
    {
     "name": "stdout",
     "output_type": "stream",
     "text": [
      "epoch: 41, f1_test: 0.6465318155424475, f1_train: 0.8080538283938508\n"
     ]
    },
    {
     "name": "stderr",
     "output_type": "stream",
     "text": [
      "100%|████████████████████████████████████████████████████████████████████████████████| 157/157 [02:52<00:00,  1.08it/s]\n",
      "100%|██████████████████████████████████████████████████████████████████████████████████| 40/40 [00:33<00:00,  1.58it/s]\n",
      "100%|████████████████████████████████████████████████████████████████████████████████| 157/157 [02:10<00:00,  1.50it/s]\n"
     ]
    },
    {
     "name": "stdout",
     "output_type": "stream",
     "text": [
      "epoch: 42, f1_test: 0.7295251787484252, f1_train: 0.9121568219558908\n"
     ]
    },
    {
     "name": "stderr",
     "output_type": "stream",
     "text": [
      "100%|████████████████████████████████████████████████████████████████████████████████| 157/157 [02:53<00:00,  1.08it/s]\n",
      "100%|██████████████████████████████████████████████████████████████████████████████████| 40/40 [00:33<00:00,  1.55it/s]\n",
      "100%|████████████████████████████████████████████████████████████████████████████████| 157/157 [02:10<00:00,  1.53it/s]\n"
     ]
    },
    {
     "name": "stdout",
     "output_type": "stream",
     "text": [
      "epoch: 43, f1_test: 0.6556268735395263, f1_train: 0.8383717145557734\n"
     ]
    },
    {
     "name": "stderr",
     "output_type": "stream",
     "text": [
      "100%|████████████████████████████████████████████████████████████████████████████████| 157/157 [02:52<00:00,  1.11it/s]\n",
      "100%|██████████████████████████████████████████████████████████████████████████████████| 40/40 [00:33<00:00,  1.59it/s]\n",
      "100%|████████████████████████████████████████████████████████████████████████████████| 157/157 [02:10<00:00,  1.49it/s]\n"
     ]
    },
    {
     "name": "stdout",
     "output_type": "stream",
     "text": [
      "epoch: 44, f1_test: 0.5943543248684208, f1_train: 0.7617487553468903\n"
     ]
    },
    {
     "name": "stderr",
     "output_type": "stream",
     "text": [
      "100%|████████████████████████████████████████████████████████████████████████████████| 157/157 [02:52<00:00,  1.13it/s]\n",
      "100%|██████████████████████████████████████████████████████████████████████████████████| 40/40 [00:33<00:00,  1.57it/s]\n",
      "100%|████████████████████████████████████████████████████████████████████████████████| 157/157 [02:10<00:00,  1.51it/s]\n"
     ]
    },
    {
     "name": "stdout",
     "output_type": "stream",
     "text": [
      "epoch: 45, f1_test: 0.7190850646053666, f1_train: 0.9173388148106496\n"
     ]
    },
    {
     "name": "stderr",
     "output_type": "stream",
     "text": [
      "100%|████████████████████████████████████████████████████████████████████████████████| 157/157 [02:52<00:00,  1.12it/s]\n",
      "100%|██████████████████████████████████████████████████████████████████████████████████| 40/40 [00:33<00:00,  1.54it/s]\n",
      "100%|████████████████████████████████████████████████████████████████████████████████| 157/157 [02:10<00:00,  1.48it/s]\n"
     ]
    },
    {
     "name": "stdout",
     "output_type": "stream",
     "text": [
      "epoch: 46, f1_test: 0.7300630727446328, f1_train: 0.9329416253484752\n"
     ]
    },
    {
     "name": "stderr",
     "output_type": "stream",
     "text": [
      "100%|████████████████████████████████████████████████████████████████████████████████| 157/157 [02:53<00:00,  1.11it/s]\n",
      "100%|██████████████████████████████████████████████████████████████████████████████████| 40/40 [00:33<00:00,  1.59it/s]\n",
      "100%|████████████████████████████████████████████████████████████████████████████████| 157/157 [02:11<00:00,  1.48it/s]\n"
     ]
    },
    {
     "name": "stdout",
     "output_type": "stream",
     "text": [
      "epoch: 47, f1_test: 0.7145281446199343, f1_train: 0.90668513319798\n"
     ]
    },
    {
     "name": "stderr",
     "output_type": "stream",
     "text": [
      "100%|████████████████████████████████████████████████████████████████████████████████| 157/157 [02:52<00:00,  1.11it/s]\n",
      "100%|██████████████████████████████████████████████████████████████████████████████████| 40/40 [00:32<00:00,  1.60it/s]\n",
      "100%|████████████████████████████████████████████████████████████████████████████████| 157/157 [02:10<00:00,  1.49it/s]\n"
     ]
    },
    {
     "name": "stdout",
     "output_type": "stream",
     "text": [
      "epoch: 48, f1_test: 0.7286813889447815, f1_train: 0.9418307652738918\n"
     ]
    },
    {
     "name": "stderr",
     "output_type": "stream",
     "text": [
      "100%|████████████████████████████████████████████████████████████████████████████████| 157/157 [02:53<00:00,  1.10it/s]\n",
      "100%|██████████████████████████████████████████████████████████████████████████████████| 40/40 [00:33<00:00,  1.57it/s]\n",
      "100%|████████████████████████████████████████████████████████████████████████████████| 157/157 [02:12<00:00,  1.50it/s]\n"
     ]
    },
    {
     "name": "stdout",
     "output_type": "stream",
     "text": [
      "epoch: 49, f1_test: 0.6194842602535255, f1_train: 0.7912824366014531\n"
     ]
    },
    {
     "name": "stderr",
     "output_type": "stream",
     "text": [
      "100%|████████████████████████████████████████████████████████████████████████████████| 157/157 [02:53<00:00,  1.11it/s]\n",
      "100%|██████████████████████████████████████████████████████████████████████████████████| 40/40 [00:33<00:00,  1.58it/s]\n",
      "100%|████████████████████████████████████████████████████████████████████████████████| 157/157 [02:10<00:00,  1.53it/s]\n"
     ]
    },
    {
     "name": "stdout",
     "output_type": "stream",
     "text": [
      "epoch: 50, f1_test: 0.7463929576093132, f1_train: 0.9478543419862909\n"
     ]
    },
    {
     "name": "stderr",
     "output_type": "stream",
     "text": [
      "100%|████████████████████████████████████████████████████████████████████████████████| 157/157 [02:52<00:00,  1.11it/s]\n",
      "100%|██████████████████████████████████████████████████████████████████████████████████| 40/40 [00:32<00:00,  1.60it/s]\n",
      "100%|████████████████████████████████████████████████████████████████████████████████| 157/157 [02:10<00:00,  1.51it/s]\n"
     ]
    },
    {
     "name": "stdout",
     "output_type": "stream",
     "text": [
      "epoch: 51, f1_test: 0.6451807279278098, f1_train: 0.8511321514113369\n"
     ]
    },
    {
     "name": "stderr",
     "output_type": "stream",
     "text": [
      "100%|████████████████████████████████████████████████████████████████████████████████| 157/157 [02:52<00:00,  1.10it/s]\n",
      "100%|██████████████████████████████████████████████████████████████████████████████████| 40/40 [00:33<00:00,  1.57it/s]\n",
      "100%|████████████████████████████████████████████████████████████████████████████████| 157/157 [02:11<00:00,  1.50it/s]\n"
     ]
    },
    {
     "name": "stdout",
     "output_type": "stream",
     "text": [
      "epoch: 52, f1_test: 0.7449166804176645, f1_train: 0.9444764277599879\n"
     ]
    },
    {
     "name": "stderr",
     "output_type": "stream",
     "text": [
      "100%|████████████████████████████████████████████████████████████████████████████████| 157/157 [02:52<00:00,  1.10it/s]\n",
      "100%|██████████████████████████████████████████████████████████████████████████████████| 40/40 [00:33<00:00,  1.56it/s]\n",
      "100%|████████████████████████████████████████████████████████████████████████████████| 157/157 [02:10<00:00,  1.46it/s]\n"
     ]
    },
    {
     "name": "stdout",
     "output_type": "stream",
     "text": [
      "epoch: 53, f1_test: 0.7152104605791745, f1_train: 0.9223275436032845\n"
     ]
    },
    {
     "name": "stderr",
     "output_type": "stream",
     "text": [
      "100%|████████████████████████████████████████████████████████████████████████████████| 157/157 [02:52<00:00,  1.12it/s]\n",
      "100%|██████████████████████████████████████████████████████████████████████████████████| 40/40 [00:33<00:00,  1.57it/s]\n",
      "100%|████████████████████████████████████████████████████████████████████████████████| 157/157 [02:10<00:00,  1.51it/s]\n"
     ]
    },
    {
     "name": "stdout",
     "output_type": "stream",
     "text": [
      "epoch: 54, f1_test: 0.6326719276168912, f1_train: 0.8271708439516142\n"
     ]
    },
    {
     "name": "stderr",
     "output_type": "stream",
     "text": [
      "100%|████████████████████████████████████████████████████████████████████████████████| 157/157 [02:53<00:00,  1.10it/s]\n",
      "100%|██████████████████████████████████████████████████████████████████████████████████| 40/40 [00:33<00:00,  1.57it/s]\n",
      "100%|████████████████████████████████████████████████████████████████████████████████| 157/157 [02:12<00:00,  1.52it/s]\n"
     ]
    },
    {
     "name": "stdout",
     "output_type": "stream",
     "text": [
      "epoch: 55, f1_test: 0.6520299264993004, f1_train: 0.8612206006299302\n"
     ]
    },
    {
     "name": "stderr",
     "output_type": "stream",
     "text": [
      "100%|████████████████████████████████████████████████████████████████████████████████| 157/157 [02:53<00:00,  1.12it/s]\n",
      "100%|██████████████████████████████████████████████████████████████████████████████████| 40/40 [00:33<00:00,  1.58it/s]\n",
      "100%|████████████████████████████████████████████████████████████████████████████████| 157/157 [02:11<00:00,  1.48it/s]\n"
     ]
    },
    {
     "name": "stdout",
     "output_type": "stream",
     "text": [
      "epoch: 56, f1_test: 0.7331798213155225, f1_train: 0.9320407287202592\n"
     ]
    },
    {
     "name": "stderr",
     "output_type": "stream",
     "text": [
      "100%|████████████████████████████████████████████████████████████████████████████████| 157/157 [02:53<00:00,  1.12it/s]\n",
      "100%|██████████████████████████████████████████████████████████████████████████████████| 40/40 [00:33<00:00,  1.57it/s]\n",
      "100%|████████████████████████████████████████████████████████████████████████████████| 157/157 [02:11<00:00,  1.50it/s]\n"
     ]
    },
    {
     "name": "stdout",
     "output_type": "stream",
     "text": [
      "epoch: 57, f1_test: 0.7179809489901654, f1_train: 0.9102718577282533\n"
     ]
    },
    {
     "name": "stderr",
     "output_type": "stream",
     "text": [
      "100%|████████████████████████████████████████████████████████████████████████████████| 157/157 [02:52<00:00,  1.10it/s]\n",
      "100%|██████████████████████████████████████████████████████████████████████████████████| 40/40 [00:33<00:00,  1.59it/s]\n",
      "100%|████████████████████████████████████████████████████████████████████████████████| 157/157 [02:11<00:00,  1.47it/s]\n"
     ]
    },
    {
     "name": "stdout",
     "output_type": "stream",
     "text": [
      "epoch: 58, f1_test: 0.73590397633756, f1_train: 0.9556032244242803\n"
     ]
    },
    {
     "name": "stderr",
     "output_type": "stream",
     "text": [
      "100%|████████████████████████████████████████████████████████████████████████████████| 157/157 [02:53<00:00,  1.09it/s]\n",
      "100%|██████████████████████████████████████████████████████████████████████████████████| 40/40 [00:33<00:00,  1.61it/s]\n",
      "100%|████████████████████████████████████████████████████████████████████████████████| 157/157 [02:11<00:00,  1.51it/s]\n"
     ]
    },
    {
     "name": "stdout",
     "output_type": "stream",
     "text": [
      "epoch: 59, f1_test: 0.7200336093861087, f1_train: 0.911545607113777\n"
     ]
    },
    {
     "name": "stderr",
     "output_type": "stream",
     "text": [
      "100%|████████████████████████████████████████████████████████████████████████████████| 157/157 [02:53<00:00,  1.08it/s]\n",
      "100%|██████████████████████████████████████████████████████████████████████████████████| 40/40 [00:33<00:00,  1.57it/s]\n",
      "100%|████████████████████████████████████████████████████████████████████████████████| 157/157 [02:11<00:00,  1.50it/s]\n"
     ]
    },
    {
     "name": "stdout",
     "output_type": "stream",
     "text": [
      "epoch: 60, f1_test: 0.7505711590621789, f1_train: 0.9444779091382784\n"
     ]
    },
    {
     "name": "stderr",
     "output_type": "stream",
     "text": [
      "100%|████████████████████████████████████████████████████████████████████████████████| 157/157 [02:53<00:00,  1.11it/s]\n",
      "100%|██████████████████████████████████████████████████████████████████████████████████| 40/40 [00:33<00:00,  1.56it/s]\n",
      "100%|████████████████████████████████████████████████████████████████████████████████| 157/157 [02:10<00:00,  1.51it/s]\n"
     ]
    },
    {
     "name": "stdout",
     "output_type": "stream",
     "text": [
      "epoch: 61, f1_test: 0.6483074595860459, f1_train: 0.8467611192862887\n"
     ]
    },
    {
     "name": "stderr",
     "output_type": "stream",
     "text": [
      "100%|████████████████████████████████████████████████████████████████████████████████| 157/157 [02:52<00:00,  1.12it/s]\n",
      "100%|██████████████████████████████████████████████████████████████████████████████████| 40/40 [00:32<00:00,  1.59it/s]\n",
      "100%|████████████████████████████████████████████████████████████████████████████████| 157/157 [02:10<00:00,  1.46it/s]\n"
     ]
    },
    {
     "name": "stdout",
     "output_type": "stream",
     "text": [
      "epoch: 62, f1_test: 0.7422770669920965, f1_train: 0.9550614475716019\n"
     ]
    },
    {
     "name": "stderr",
     "output_type": "stream",
     "text": [
      "100%|████████████████████████████████████████████████████████████████████████████████| 157/157 [02:52<00:00,  1.11it/s]\n",
      "100%|██████████████████████████████████████████████████████████████████████████████████| 40/40 [00:33<00:00,  1.56it/s]\n",
      "100%|████████████████████████████████████████████████████████████████████████████████| 157/157 [02:11<00:00,  1.47it/s]\n"
     ]
    },
    {
     "name": "stdout",
     "output_type": "stream",
     "text": [
      "epoch: 63, f1_test: 0.7073796215106464, f1_train: 0.9128316155579332\n"
     ]
    },
    {
     "name": "stderr",
     "output_type": "stream",
     "text": [
      "100%|████████████████████████████████████████████████████████████████████████████████| 157/157 [02:53<00:00,  1.11it/s]\n",
      "100%|██████████████████████████████████████████████████████████████████████████████████| 40/40 [00:33<00:00,  1.58it/s]\n",
      "100%|████████████████████████████████████████████████████████████████████████████████| 157/157 [02:11<00:00,  1.50it/s]\n"
     ]
    },
    {
     "name": "stdout",
     "output_type": "stream",
     "text": [
      "epoch: 64, f1_test: 0.743304236723515, f1_train: 0.9538076881151563\n"
     ]
    },
    {
     "name": "stderr",
     "output_type": "stream",
     "text": [
      "100%|████████████████████████████████████████████████████████████████████████████████| 157/157 [02:52<00:00,  1.11it/s]\n",
      "100%|██████████████████████████████████████████████████████████████████████████████████| 40/40 [00:33<00:00,  1.59it/s]\n",
      "100%|████████████████████████████████████████████████████████████████████████████████| 157/157 [02:11<00:00,  1.51it/s]\n"
     ]
    },
    {
     "name": "stdout",
     "output_type": "stream",
     "text": [
      "epoch: 65, f1_test: 0.7462451920170714, f1_train: 0.9504367914466967\n"
     ]
    },
    {
     "name": "stderr",
     "output_type": "stream",
     "text": [
      "100%|████████████████████████████████████████████████████████████████████████████████| 157/157 [02:54<00:00,  1.11it/s]\n",
      "100%|██████████████████████████████████████████████████████████████████████████████████| 40/40 [00:33<00:00,  1.57it/s]\n",
      "100%|████████████████████████████████████████████████████████████████████████████████| 157/157 [02:10<00:00,  1.49it/s]\n"
     ]
    },
    {
     "name": "stdout",
     "output_type": "stream",
     "text": [
      "epoch: 66, f1_test: 0.6893419028012375, f1_train: 0.8691065057914332\n"
     ]
    },
    {
     "name": "stderr",
     "output_type": "stream",
     "text": [
      "100%|████████████████████████████████████████████████████████████████████████████████| 157/157 [02:52<00:00,  1.11it/s]\n",
      "100%|██████████████████████████████████████████████████████████████████████████████████| 40/40 [00:33<00:00,  1.56it/s]\n",
      "100%|████████████████████████████████████████████████████████████████████████████████| 157/157 [02:11<00:00,  1.44it/s]\n"
     ]
    },
    {
     "name": "stdout",
     "output_type": "stream",
     "text": [
      "epoch: 67, f1_test: 0.6907429693047737, f1_train: 0.8802753407469164\n"
     ]
    },
    {
     "name": "stderr",
     "output_type": "stream",
     "text": [
      "100%|████████████████████████████████████████████████████████████████████████████████| 157/157 [02:53<00:00,  1.09it/s]\n",
      "100%|██████████████████████████████████████████████████████████████████████████████████| 40/40 [00:33<00:00,  1.56it/s]\n",
      "100%|████████████████████████████████████████████████████████████████████████████████| 157/157 [02:11<00:00,  1.50it/s]\n"
     ]
    },
    {
     "name": "stdout",
     "output_type": "stream",
     "text": [
      "epoch: 68, f1_test: 0.6903800698641491, f1_train: 0.9023961249938248\n"
     ]
    },
    {
     "name": "stderr",
     "output_type": "stream",
     "text": [
      "100%|████████████████████████████████████████████████████████████████████████████████| 157/157 [02:53<00:00,  1.10it/s]\n",
      "100%|██████████████████████████████████████████████████████████████████████████████████| 40/40 [00:33<00:00,  1.58it/s]\n",
      "100%|████████████████████████████████████████████████████████████████████████████████| 157/157 [02:11<00:00,  1.47it/s]\n"
     ]
    },
    {
     "name": "stdout",
     "output_type": "stream",
     "text": [
      "epoch: 69, f1_test: 0.7292127896978903, f1_train: 0.9457097609676759\n"
     ]
    },
    {
     "name": "stderr",
     "output_type": "stream",
     "text": [
      "100%|████████████████████████████████████████████████████████████████████████████████| 157/157 [02:53<00:00,  1.10it/s]\n",
      "100%|██████████████████████████████████████████████████████████████████████████████████| 40/40 [00:33<00:00,  1.56it/s]\n",
      "100%|████████████████████████████████████████████████████████████████████████████████| 157/157 [02:11<00:00,  1.49it/s]\n"
     ]
    },
    {
     "name": "stdout",
     "output_type": "stream",
     "text": [
      "epoch: 70, f1_test: 0.6980920853280578, f1_train: 0.9080224817724677\n"
     ]
    },
    {
     "name": "stderr",
     "output_type": "stream",
     "text": [
      "100%|████████████████████████████████████████████████████████████████████████████████| 157/157 [02:53<00:00,  1.10it/s]\n",
      "100%|██████████████████████████████████████████████████████████████████████████████████| 40/40 [00:33<00:00,  1.55it/s]\n",
      "100%|████████████████████████████████████████████████████████████████████████████████| 157/157 [02:11<00:00,  1.50it/s]\n"
     ]
    },
    {
     "name": "stdout",
     "output_type": "stream",
     "text": [
      "epoch: 71, f1_test: 0.7447879728999403, f1_train: 0.9586800371060342\n"
     ]
    },
    {
     "name": "stderr",
     "output_type": "stream",
     "text": [
      "100%|████████████████████████████████████████████████████████████████████████████████| 157/157 [02:53<00:00,  1.09it/s]\n",
      "100%|██████████████████████████████████████████████████████████████████████████████████| 40/40 [00:33<00:00,  1.55it/s]\n",
      "100%|████████████████████████████████████████████████████████████████████████████████| 157/157 [02:11<00:00,  1.50it/s]\n"
     ]
    },
    {
     "name": "stdout",
     "output_type": "stream",
     "text": [
      "epoch: 72, f1_test: 0.6568871348086389, f1_train: 0.8684450917793065\n"
     ]
    },
    {
     "name": "stderr",
     "output_type": "stream",
     "text": [
      "100%|████████████████████████████████████████████████████████████████████████████████| 157/157 [02:53<00:00,  1.10it/s]\n",
      "100%|██████████████████████████████████████████████████████████████████████████████████| 40/40 [00:33<00:00,  1.56it/s]\n",
      "100%|████████████████████████████████████████████████████████████████████████████████| 157/157 [02:12<00:00,  1.51it/s]\n"
     ]
    },
    {
     "name": "stdout",
     "output_type": "stream",
     "text": [
      "epoch: 73, f1_test: 0.6883832024771837, f1_train: 0.8982448360752147\n"
     ]
    },
    {
     "name": "stderr",
     "output_type": "stream",
     "text": [
      "100%|████████████████████████████████████████████████████████████████████████████████| 157/157 [02:53<00:00,  1.10it/s]\n",
      "100%|██████████████████████████████████████████████████████████████████████████████████| 40/40 [00:33<00:00,  1.54it/s]\n",
      "100%|████████████████████████████████████████████████████████████████████████████████| 157/157 [02:12<00:00,  1.47it/s]\n"
     ]
    },
    {
     "name": "stdout",
     "output_type": "stream",
     "text": [
      "epoch: 74, f1_test: 0.6938393783007292, f1_train: 0.9003560646721506\n"
     ]
    },
    {
     "name": "stderr",
     "output_type": "stream",
     "text": [
      "100%|████████████████████████████████████████████████████████████████████████████████| 157/157 [02:53<00:00,  1.10it/s]\n",
      "100%|██████████████████████████████████████████████████████████████████████████████████| 40/40 [00:33<00:00,  1.57it/s]\n",
      "100%|████████████████████████████████████████████████████████████████████████████████| 157/157 [02:11<00:00,  1.48it/s]\n"
     ]
    },
    {
     "name": "stdout",
     "output_type": "stream",
     "text": [
      "epoch: 75, f1_test: 0.7496028718474409, f1_train: 0.9594641389064261\n"
     ]
    },
    {
     "name": "stderr",
     "output_type": "stream",
     "text": [
      "100%|████████████████████████████████████████████████████████████████████████████████| 157/157 [02:53<00:00,  1.08it/s]\n",
      "100%|██████████████████████████████████████████████████████████████████████████████████| 40/40 [00:33<00:00,  1.57it/s]\n",
      "100%|████████████████████████████████████████████████████████████████████████████████| 157/157 [02:13<00:00,  1.51it/s]\n"
     ]
    },
    {
     "name": "stdout",
     "output_type": "stream",
     "text": [
      "epoch: 76, f1_test: 0.7200344545754896, f1_train: 0.9321765119993951\n"
     ]
    },
    {
     "name": "stderr",
     "output_type": "stream",
     "text": [
      "100%|████████████████████████████████████████████████████████████████████████████████| 157/157 [02:52<00:00,  1.10it/s]\n",
      "100%|██████████████████████████████████████████████████████████████████████████████████| 40/40 [00:33<00:00,  1.60it/s]\n",
      "100%|████████████████████████████████████████████████████████████████████████████████| 157/157 [02:10<00:00,  1.51it/s]\n"
     ]
    },
    {
     "name": "stdout",
     "output_type": "stream",
     "text": [
      "epoch: 77, f1_test: 0.6977638832423434, f1_train: 0.9021682744315305\n"
     ]
    },
    {
     "name": "stderr",
     "output_type": "stream",
     "text": [
      "100%|████████████████████████████████████████████████████████████████████████████████| 157/157 [02:51<00:00,  1.11it/s]\n",
      "100%|██████████████████████████████████████████████████████████████████████████████████| 40/40 [00:32<00:00,  1.60it/s]\n",
      "100%|████████████████████████████████████████████████████████████████████████████████| 157/157 [02:10<00:00,  1.53it/s]\n"
     ]
    },
    {
     "name": "stdout",
     "output_type": "stream",
     "text": [
      "epoch: 78, f1_test: 0.6594852717914836, f1_train: 0.8520292784340082\n"
     ]
    },
    {
     "name": "stderr",
     "output_type": "stream",
     "text": [
      "100%|████████████████████████████████████████████████████████████████████████████████| 157/157 [02:52<00:00,  1.10it/s]\n",
      "100%|██████████████████████████████████████████████████████████████████████████████████| 40/40 [00:33<00:00,  1.57it/s]\n",
      "100%|████████████████████████████████████████████████████████████████████████████████| 157/157 [02:11<00:00,  1.49it/s]\n"
     ]
    },
    {
     "name": "stdout",
     "output_type": "stream",
     "text": [
      "epoch: 79, f1_test: 0.6686893761734509, f1_train: 0.8848262570801553\n"
     ]
    },
    {
     "name": "stderr",
     "output_type": "stream",
     "text": [
      "100%|████████████████████████████████████████████████████████████████████████████████| 157/157 [02:53<00:00,  1.11it/s]\n",
      "100%|██████████████████████████████████████████████████████████████████████████████████| 40/40 [00:33<00:00,  1.56it/s]\n",
      "100%|████████████████████████████████████████████████████████████████████████████████| 157/157 [02:12<00:00,  1.49it/s]\n"
     ]
    },
    {
     "name": "stdout",
     "output_type": "stream",
     "text": [
      "epoch: 80, f1_test: 0.6922890894263991, f1_train: 0.8956390179543986\n"
     ]
    },
    {
     "name": "stderr",
     "output_type": "stream",
     "text": [
      "100%|████████████████████████████████████████████████████████████████████████████████| 157/157 [02:54<00:00,  1.09it/s]\n",
      "100%|██████████████████████████████████████████████████████████████████████████████████| 40/40 [00:33<00:00,  1.55it/s]\n",
      "100%|████████████████████████████████████████████████████████████████████████████████| 157/157 [02:12<00:00,  1.48it/s]\n"
     ]
    },
    {
     "name": "stdout",
     "output_type": "stream",
     "text": [
      "epoch: 81, f1_test: 0.6975633319253225, f1_train: 0.8933722480315087\n"
     ]
    },
    {
     "name": "stderr",
     "output_type": "stream",
     "text": [
      "100%|████████████████████████████████████████████████████████████████████████████████| 157/157 [02:53<00:00,  1.09it/s]\n",
      "100%|██████████████████████████████████████████████████████████████████████████████████| 40/40 [00:33<00:00,  1.57it/s]\n",
      "100%|████████████████████████████████████████████████████████████████████████████████| 157/157 [02:12<00:00,  1.48it/s]\n"
     ]
    },
    {
     "name": "stdout",
     "output_type": "stream",
     "text": [
      "epoch: 82, f1_test: 0.6751360245816355, f1_train: 0.8972962107635375\n"
     ]
    },
    {
     "name": "stderr",
     "output_type": "stream",
     "text": [
      "100%|████████████████████████████████████████████████████████████████████████████████| 157/157 [02:52<00:00,  1.11it/s]\n",
      "100%|██████████████████████████████████████████████████████████████████████████████████| 40/40 [00:33<00:00,  1.55it/s]\n",
      "100%|████████████████████████████████████████████████████████████████████████████████| 157/157 [02:10<00:00,  1.48it/s]\n"
     ]
    },
    {
     "name": "stdout",
     "output_type": "stream",
     "text": [
      "epoch: 83, f1_test: 0.6708931989695911, f1_train: 0.8838187843972086\n"
     ]
    },
    {
     "name": "stderr",
     "output_type": "stream",
     "text": [
      "100%|████████████████████████████████████████████████████████████████████████████████| 157/157 [02:49<00:00,  1.13it/s]\n",
      "100%|██████████████████████████████████████████████████████████████████████████████████| 40/40 [00:33<00:00,  1.57it/s]\n",
      "100%|████████████████████████████████████████████████████████████████████████████████| 157/157 [02:11<00:00,  1.48it/s]\n"
     ]
    },
    {
     "name": "stdout",
     "output_type": "stream",
     "text": [
      "epoch: 84, f1_test: 0.7498753118945016, f1_train: 0.9439840826527395\n"
     ]
    },
    {
     "name": "stderr",
     "output_type": "stream",
     "text": [
      "100%|████████████████████████████████████████████████████████████████████████████████| 157/157 [02:49<00:00,  1.14it/s]\n",
      "100%|██████████████████████████████████████████████████████████████████████████████████| 40/40 [00:33<00:00,  1.58it/s]\n",
      "100%|████████████████████████████████████████████████████████████████████████████████| 157/157 [02:11<00:00,  1.48it/s]\n"
     ]
    },
    {
     "name": "stdout",
     "output_type": "stream",
     "text": [
      "epoch: 85, f1_test: 0.7239914424089281, f1_train: 0.9289392902139784\n"
     ]
    },
    {
     "name": "stderr",
     "output_type": "stream",
     "text": [
      "100%|████████████████████████████████████████████████████████████████████████████████| 157/157 [02:49<00:00,  1.13it/s]\n",
      "100%|██████████████████████████████████████████████████████████████████████████████████| 40/40 [00:33<00:00,  1.58it/s]\n",
      "100%|████████████████████████████████████████████████████████████████████████████████| 157/157 [02:10<00:00,  1.45it/s]\n"
     ]
    },
    {
     "name": "stdout",
     "output_type": "stream",
     "text": [
      "epoch: 86, f1_test: 0.6949403430368981, f1_train: 0.9025413877107241\n"
     ]
    },
    {
     "name": "stderr",
     "output_type": "stream",
     "text": [
      "100%|████████████████████████████████████████████████████████████████████████████████| 157/157 [02:52<00:00,  1.11it/s]\n",
      "100%|██████████████████████████████████████████████████████████████████████████████████| 40/40 [00:33<00:00,  1.58it/s]\n",
      "100%|████████████████████████████████████████████████████████████████████████████████| 157/157 [02:11<00:00,  1.49it/s]\n"
     ]
    },
    {
     "name": "stdout",
     "output_type": "stream",
     "text": [
      "epoch: 87, f1_test: 0.7156116259149579, f1_train: 0.9183136039550851\n"
     ]
    },
    {
     "name": "stderr",
     "output_type": "stream",
     "text": [
      "100%|████████████████████████████████████████████████████████████████████████████████| 157/157 [02:49<00:00,  1.14it/s]\n",
      "100%|██████████████████████████████████████████████████████████████████████████████████| 40/40 [00:33<00:00,  1.59it/s]\n",
      "100%|████████████████████████████████████████████████████████████████████████████████| 157/157 [02:11<00:00,  1.54it/s]\n"
     ]
    },
    {
     "name": "stdout",
     "output_type": "stream",
     "text": [
      "epoch: 88, f1_test: 0.7305431987331283, f1_train: 0.9370930040244458\n"
     ]
    },
    {
     "name": "stderr",
     "output_type": "stream",
     "text": [
      "100%|████████████████████████████████████████████████████████████████████████████████| 157/157 [02:49<00:00,  1.15it/s]\n",
      "100%|██████████████████████████████████████████████████████████████████████████████████| 40/40 [00:33<00:00,  1.58it/s]\n",
      "100%|████████████████████████████████████████████████████████████████████████████████| 157/157 [02:11<00:00,  1.43it/s]\n"
     ]
    },
    {
     "name": "stdout",
     "output_type": "stream",
     "text": [
      "epoch: 89, f1_test: 0.7431176538674611, f1_train: 0.9476537940749329\n"
     ]
    },
    {
     "name": "stderr",
     "output_type": "stream",
     "text": [
      "100%|████████████████████████████████████████████████████████████████████████████████| 157/157 [02:49<00:00,  1.12it/s]\n",
      "100%|██████████████████████████████████████████████████████████████████████████████████| 40/40 [00:33<00:00,  1.58it/s]\n",
      "100%|████████████████████████████████████████████████████████████████████████████████| 157/157 [02:11<00:00,  1.51it/s]\n"
     ]
    },
    {
     "name": "stdout",
     "output_type": "stream",
     "text": [
      "epoch: 90, f1_test: 0.6958146315441531, f1_train: 0.9010815985937409\n"
     ]
    },
    {
     "name": "stderr",
     "output_type": "stream",
     "text": [
      "100%|████████████████████████████████████████████████████████████████████████████████| 157/157 [02:49<00:00,  1.11it/s]\n",
      "100%|██████████████████████████████████████████████████████████████████████████████████| 40/40 [00:33<00:00,  1.58it/s]\n",
      "100%|████████████████████████████████████████████████████████████████████████████████| 157/157 [02:11<00:00,  1.47it/s]\n"
     ]
    },
    {
     "name": "stdout",
     "output_type": "stream",
     "text": [
      "epoch: 91, f1_test: 0.7436118524666866, f1_train: 0.9435804003379291\n"
     ]
    },
    {
     "name": "stderr",
     "output_type": "stream",
     "text": [
      "100%|████████████████████████████████████████████████████████████████████████████████| 157/157 [02:53<00:00,  1.11it/s]\n",
      "100%|██████████████████████████████████████████████████████████████████████████████████| 40/40 [00:33<00:00,  1.55it/s]\n",
      "100%|████████████████████████████████████████████████████████████████████████████████| 157/157 [02:11<00:00,  1.48it/s]\n"
     ]
    },
    {
     "name": "stdout",
     "output_type": "stream",
     "text": [
      "epoch: 92, f1_test: 0.7229153386320508, f1_train: 0.9303073637003008\n"
     ]
    },
    {
     "name": "stderr",
     "output_type": "stream",
     "text": [
      "100%|████████████████████████████████████████████████████████████████████████████████| 157/157 [02:53<00:00,  1.10it/s]\n",
      "100%|██████████████████████████████████████████████████████████████████████████████████| 40/40 [00:33<00:00,  1.57it/s]\n",
      "100%|████████████████████████████████████████████████████████████████████████████████| 157/157 [02:11<00:00,  1.50it/s]\n"
     ]
    },
    {
     "name": "stdout",
     "output_type": "stream",
     "text": [
      "epoch: 93, f1_test: 0.6884051287449819, f1_train: 0.8999491047277877\n"
     ]
    },
    {
     "name": "stderr",
     "output_type": "stream",
     "text": [
      "100%|████████████████████████████████████████████████████████████████████████████████| 157/157 [02:53<00:00,  1.11it/s]\n",
      "100%|██████████████████████████████████████████████████████████████████████████████████| 40/40 [00:32<00:00,  1.58it/s]\n",
      "100%|████████████████████████████████████████████████████████████████████████████████| 157/157 [02:11<00:00,  1.51it/s]\n"
     ]
    },
    {
     "name": "stdout",
     "output_type": "stream",
     "text": [
      "epoch: 94, f1_test: 0.6914382387835335, f1_train: 0.8965240287895518\n"
     ]
    },
    {
     "name": "stderr",
     "output_type": "stream",
     "text": [
      "100%|████████████████████████████████████████████████████████████████████████████████| 157/157 [02:53<00:00,  1.11it/s]\n",
      "100%|██████████████████████████████████████████████████████████████████████████████████| 40/40 [00:33<00:00,  1.58it/s]\n",
      "100%|████████████████████████████████████████████████████████████████████████████████| 157/157 [02:11<00:00,  1.47it/s]\n"
     ]
    },
    {
     "name": "stdout",
     "output_type": "stream",
     "text": [
      "epoch: 95, f1_test: 0.7226729514445954, f1_train: 0.9240032355518577\n"
     ]
    },
    {
     "name": "stderr",
     "output_type": "stream",
     "text": [
      "100%|████████████████████████████████████████████████████████████████████████████████| 157/157 [02:53<00:00,  1.10it/s]\n",
      "100%|██████████████████████████████████████████████████████████████████████████████████| 40/40 [00:33<00:00,  1.58it/s]\n",
      "100%|████████████████████████████████████████████████████████████████████████████████| 157/157 [02:11<00:00,  1.51it/s]\n"
     ]
    },
    {
     "name": "stdout",
     "output_type": "stream",
     "text": [
      "epoch: 96, f1_test: 0.72513496609559, f1_train: 0.9207093687957352\n"
     ]
    },
    {
     "name": "stderr",
     "output_type": "stream",
     "text": [
      "100%|████████████████████████████████████████████████████████████████████████████████| 157/157 [02:53<00:00,  1.10it/s]\n",
      "100%|██████████████████████████████████████████████████████████████████████████████████| 40/40 [00:33<00:00,  1.59it/s]\n",
      "100%|████████████████████████████████████████████████████████████████████████████████| 157/157 [02:11<00:00,  1.41it/s]\n"
     ]
    },
    {
     "name": "stdout",
     "output_type": "stream",
     "text": [
      "epoch: 97, f1_test: 0.6997600371989525, f1_train: 0.9092888284194388\n"
     ]
    },
    {
     "name": "stderr",
     "output_type": "stream",
     "text": [
      "100%|████████████████████████████████████████████████████████████████████████████████| 157/157 [02:55<00:00,  1.10it/s]\n",
      "100%|██████████████████████████████████████████████████████████████████████████████████| 40/40 [00:33<00:00,  1.56it/s]\n",
      "100%|████████████████████████████████████████████████████████████████████████████████| 157/157 [02:11<00:00,  1.47it/s]\n"
     ]
    },
    {
     "name": "stdout",
     "output_type": "stream",
     "text": [
      "epoch: 98, f1_test: 0.7002841085854583, f1_train: 0.9119728766005948\n"
     ]
    },
    {
     "name": "stderr",
     "output_type": "stream",
     "text": [
      "100%|████████████████████████████████████████████████████████████████████████████████| 157/157 [02:52<00:00,  1.09it/s]\n",
      "100%|██████████████████████████████████████████████████████████████████████████████████| 40/40 [00:33<00:00,  1.60it/s]\n",
      "100%|████████████████████████████████████████████████████████████████████████████████| 157/157 [02:11<00:00,  1.50it/s]\n"
     ]
    },
    {
     "name": "stdout",
     "output_type": "stream",
     "text": [
      "epoch: 99, f1_test: 0.7065616446042786, f1_train: 0.9154465142196506\n"
     ]
    }
   ],
   "source": [
    "model_train(model, train_loader_new, val_loader_new, model_name, lr, 100)"
   ]
  },
  {
   "cell_type": "code",
   "execution_count": 179,
   "metadata": {},
   "outputs": [
    {
     "name": "stdout",
     "output_type": "stream",
     "text": [
      "Loaded pretrained weights for efficientnet-b0\n"
     ]
    },
    {
     "name": "stderr",
     "output_type": "stream",
     "text": [
      "  0%|                                                                                           | 0/93 [00:00<?, ?it/s]D:\\Programs\\Anaconda\\lib\\site-packages\\ipykernel_launcher.py:56: UserWarning: Implicit dimension choice for softmax has been deprecated. Change the call to include dim=X as an argument.\n",
      "100%|██████████████████████████████████████████████████████████████████████████████████| 93/93 [01:06<00:00,  1.72it/s]\n"
     ]
    }
   ],
   "source": [
    "model_name = 'Semi_S_99_v4.pt'\n",
    "model = Model_4().cuda()\n",
    "model.load_state_dict(torch.load(os.path.join('..', model_name)))\n",
    "model.eval()\n",
    "forecast, _ = model_predict_test(model, test_loader)\n",
    "\n",
    "df_test['label'] = forecast\n",
    "df_test.to_csv(f'{model_name}.csv', index=None)"
   ]
  },
  {
   "cell_type": "code",
   "execution_count": 180,
   "metadata": {},
   "outputs": [
    {
     "name": "stdout",
     "output_type": "stream",
     "text": [
      "Loaded pretrained weights for efficientnet-b0\n"
     ]
    },
    {
     "name": "stderr",
     "output_type": "stream",
     "text": [
      "  0%|                                                                                           | 0/36 [00:00<?, ?it/s]D:\\Programs\\Anaconda\\lib\\site-packages\\ipykernel_launcher.py:56: UserWarning: Implicit dimension choice for softmax has been deprecated. Change the call to include dim=X as an argument.\n",
      "100%|██████████████████████████████████████████████████████████████████████████████████| 36/36 [00:36<00:00,  1.07it/s]\n"
     ]
    }
   ],
   "source": [
    "_, probs = model_predict_test(model, test_loader_new)"
   ]
  },
  {
   "cell_type": "code",
   "execution_count": 182,
   "metadata": {},
   "outputs": [],
   "source": [
    "probmax = [max(x) for x in probs]\n",
    "\n",
    "idx_max = []\n",
    "idx_else = []\n",
    "for i, prob in enumerate(probmax):\n",
    "    if (prob) > 0.99:\n",
    "        idx_max.append(i)\n",
    "    else:\n",
    "        idx_else.append(i)"
   ]
  },
  {
   "cell_type": "code",
   "execution_count": 187,
   "metadata": {},
   "outputs": [],
   "source": [
    "df_train_new_2 = pd.read_csv(os.path.join('', 'train_with_test_99_v4.csv'))\n",
    "df_train_new_2['label_encoded'] = df_train_new_2.label.map(classes_dict)\n",
    "\n",
    "for i in idx_max:\n",
    "    df_train_new_2.loc[len(df_train_new_2)] = [df_test_new['fname'][i], df_test_new['label'][i], classes_dict[df_test_new['label'][i]]]\n",
    "    \n",
    "df_train_new_2.to_csv('train_with_test_99_v4_2.csv', index=None) "
   ]
  },
  {
   "cell_type": "code",
   "execution_count": 184,
   "metadata": {},
   "outputs": [],
   "source": [
    "df_test_new_2 =pd.DataFrame(columns = ['fname', 'label'])\n",
    "\n",
    "for i in idx_else:\n",
    "    df_test_new_2.loc[len(df_test_new_2)] = [df_test_new['fname'][i], 0.0]\n",
    "    \n",
    "df_test_new_2.to_csv('test_new_99_v4_2.csv', index=None)"
   ]
  },
  {
   "cell_type": "code",
   "execution_count": 189,
   "metadata": {},
   "outputs": [],
   "source": [
    "X_train, X_val, y_train, y_val = train_test_split(df_train_new_2.fname.values, df_train_new_2.label_encoded.values, \n",
    "                                                  test_size=0.2, random_state=42)\n",
    "train_loader_new_2 = DataLoader(\n",
    "                        EventDetectionDataset(os.path.join(DATA_PATH, train_data_folder), X_train, y_train),\n",
    "                        batch_size=41\n",
    "                )\n",
    "val_loader_new_2 = DataLoader(\n",
    "                        EventDetectionDataset(os.path.join(DATA_PATH, train_data_folder), X_val, y_val),\n",
    "                        batch_size=41\n",
    "                )\n",
    "test_loader_new_2 = DataLoader(\n",
    "                        EventDetectionDataset(os.path.join(DATA_PATH, test_data_folder), df_test_new_2.fname.values, None),\n",
    "                        batch_size=41, shuffle=False\n",
    "                )"
   ]
  },
  {
   "cell_type": "code",
   "execution_count": 190,
   "metadata": {},
   "outputs": [
    {
     "name": "stderr",
     "output_type": "stream",
     "text": [
      "100%|████████████████████████████████████████████████████████████████████████████████| 166/166 [03:04<00:00,  1.12it/s]\n",
      "  0%|                                                                                           | 0/42 [00:00<?, ?it/s]D:\\Programs\\Anaconda\\lib\\site-packages\\ipykernel_launcher.py:56: UserWarning: Implicit dimension choice for softmax has been deprecated. Change the call to include dim=X as an argument.\n",
      "100%|██████████████████████████████████████████████████████████████████████████████████| 42/42 [00:35<00:00,  1.41it/s]\n",
      "100%|████████████████████████████████████████████████████████████████████████████████| 166/166 [02:19<00:00,  1.57it/s]\n"
     ]
    },
    {
     "name": "stdout",
     "output_type": "stream",
     "text": [
      "epoch: 0, f1_test: 0.8024424927843058, f1_train: 0.8785463774712606\n"
     ]
    },
    {
     "name": "stderr",
     "output_type": "stream",
     "text": [
      "100%|████████████████████████████████████████████████████████████████████████████████| 166/166 [03:03<00:00,  1.14it/s]\n",
      "100%|██████████████████████████████████████████████████████████████████████████████████| 42/42 [00:35<00:00,  1.41it/s]\n",
      "100%|████████████████████████████████████████████████████████████████████████████████| 166/166 [02:20<00:00,  1.55it/s]\n"
     ]
    },
    {
     "name": "stdout",
     "output_type": "stream",
     "text": [
      "epoch: 1, f1_test: 0.8241997229440223, f1_train: 0.8760639138566225\n"
     ]
    },
    {
     "name": "stderr",
     "output_type": "stream",
     "text": [
      "100%|████████████████████████████████████████████████████████████████████████████████| 166/166 [03:05<00:00,  1.13it/s]\n",
      "100%|██████████████████████████████████████████████████████████████████████████████████| 42/42 [00:35<00:00,  1.40it/s]\n",
      "100%|████████████████████████████████████████████████████████████████████████████████| 166/166 [02:20<00:00,  1.55it/s]\n"
     ]
    },
    {
     "name": "stdout",
     "output_type": "stream",
     "text": [
      "epoch: 2, f1_test: 0.7986106543914305, f1_train: 0.8652183967416499\n"
     ]
    },
    {
     "name": "stderr",
     "output_type": "stream",
     "text": [
      "100%|████████████████████████████████████████████████████████████████████████████████| 166/166 [03:06<00:00,  1.12it/s]\n",
      "100%|██████████████████████████████████████████████████████████████████████████████████| 42/42 [00:35<00:00,  1.40it/s]\n",
      "100%|████████████████████████████████████████████████████████████████████████████████| 166/166 [02:19<00:00,  1.56it/s]\n"
     ]
    },
    {
     "name": "stdout",
     "output_type": "stream",
     "text": [
      "epoch: 3, f1_test: 0.7945654885958393, f1_train: 0.8603652954774884\n"
     ]
    },
    {
     "name": "stderr",
     "output_type": "stream",
     "text": [
      "100%|████████████████████████████████████████████████████████████████████████████████| 166/166 [03:04<00:00,  1.16it/s]\n",
      "100%|██████████████████████████████████████████████████████████████████████████████████| 42/42 [00:35<00:00,  1.41it/s]\n",
      "100%|████████████████████████████████████████████████████████████████████████████████| 166/166 [02:20<00:00,  1.56it/s]\n"
     ]
    },
    {
     "name": "stdout",
     "output_type": "stream",
     "text": [
      "epoch: 4, f1_test: 0.7857191717882425, f1_train: 0.8598200539520626\n"
     ]
    },
    {
     "name": "stderr",
     "output_type": "stream",
     "text": [
      "100%|████████████████████████████████████████████████████████████████████████████████| 166/166 [03:05<00:00,  1.11it/s]\n",
      "100%|██████████████████████████████████████████████████████████████████████████████████| 42/42 [00:35<00:00,  1.42it/s]\n",
      "100%|████████████████████████████████████████████████████████████████████████████████| 166/166 [02:20<00:00,  1.56it/s]\n"
     ]
    },
    {
     "name": "stdout",
     "output_type": "stream",
     "text": [
      "epoch: 5, f1_test: 0.8044740469257609, f1_train: 0.8721945627808472\n"
     ]
    },
    {
     "name": "stderr",
     "output_type": "stream",
     "text": [
      "100%|████████████████████████████████████████████████████████████████████████████████| 166/166 [03:05<00:00,  1.13it/s]\n",
      "100%|██████████████████████████████████████████████████████████████████████████████████| 42/42 [00:35<00:00,  1.42it/s]\n",
      "100%|████████████████████████████████████████████████████████████████████████████████| 166/166 [02:20<00:00,  1.54it/s]\n"
     ]
    },
    {
     "name": "stdout",
     "output_type": "stream",
     "text": [
      "epoch: 6, f1_test: 0.7943876641454383, f1_train: 0.8674539956081007\n"
     ]
    },
    {
     "name": "stderr",
     "output_type": "stream",
     "text": [
      "100%|████████████████████████████████████████████████████████████████████████████████| 166/166 [03:04<00:00,  1.14it/s]\n",
      "100%|██████████████████████████████████████████████████████████████████████████████████| 42/42 [00:35<00:00,  1.41it/s]\n",
      "100%|████████████████████████████████████████████████████████████████████████████████| 166/166 [02:19<00:00,  1.57it/s]\n"
     ]
    },
    {
     "name": "stdout",
     "output_type": "stream",
     "text": [
      "epoch: 7, f1_test: 0.7856537636834386, f1_train: 0.8708534709967616\n"
     ]
    },
    {
     "name": "stderr",
     "output_type": "stream",
     "text": [
      "100%|████████████████████████████████████████████████████████████████████████████████| 166/166 [03:04<00:00,  1.13it/s]\n",
      "100%|██████████████████████████████████████████████████████████████████████████████████| 42/42 [00:35<00:00,  1.42it/s]\n",
      "100%|████████████████████████████████████████████████████████████████████████████████| 166/166 [02:19<00:00,  1.57it/s]\n"
     ]
    },
    {
     "name": "stdout",
     "output_type": "stream",
     "text": [
      "epoch: 8, f1_test: 0.803100322221446, f1_train: 0.8681803903208352\n"
     ]
    },
    {
     "name": "stderr",
     "output_type": "stream",
     "text": [
      "100%|████████████████████████████████████████████████████████████████████████████████| 166/166 [03:03<00:00,  1.15it/s]\n",
      "100%|██████████████████████████████████████████████████████████████████████████████████| 42/42 [00:35<00:00,  1.40it/s]\n",
      "100%|████████████████████████████████████████████████████████████████████████████████| 166/166 [02:19<00:00,  1.58it/s]\n"
     ]
    },
    {
     "name": "stdout",
     "output_type": "stream",
     "text": [
      "epoch: 9, f1_test: 0.7773329344856242, f1_train: 0.8652811336990406\n"
     ]
    },
    {
     "name": "stderr",
     "output_type": "stream",
     "text": [
      "100%|████████████████████████████████████████████████████████████████████████████████| 166/166 [03:04<00:00,  1.14it/s]\n",
      "100%|██████████████████████████████████████████████████████████████████████████████████| 42/42 [00:35<00:00,  1.40it/s]\n",
      "100%|████████████████████████████████████████████████████████████████████████████████| 166/166 [02:20<00:00,  1.57it/s]\n"
     ]
    },
    {
     "name": "stdout",
     "output_type": "stream",
     "text": [
      "epoch: 10, f1_test: 0.7917832565536027, f1_train: 0.8704193602010203\n"
     ]
    },
    {
     "name": "stderr",
     "output_type": "stream",
     "text": [
      "100%|████████████████████████████████████████████████████████████████████████████████| 166/166 [03:04<00:00,  1.15it/s]\n",
      "100%|██████████████████████████████████████████████████████████████████████████████████| 42/42 [00:35<00:00,  1.41it/s]\n",
      "100%|████████████████████████████████████████████████████████████████████████████████| 166/166 [02:19<00:00,  1.56it/s]\n"
     ]
    },
    {
     "name": "stdout",
     "output_type": "stream",
     "text": [
      "epoch: 11, f1_test: 0.8020118917542952, f1_train: 0.8650814318032938\n"
     ]
    },
    {
     "name": "stderr",
     "output_type": "stream",
     "text": [
      "100%|████████████████████████████████████████████████████████████████████████████████| 166/166 [03:04<00:00,  1.16it/s]\n",
      "100%|██████████████████████████████████████████████████████████████████████████████████| 42/42 [00:35<00:00,  1.41it/s]\n",
      "100%|████████████████████████████████████████████████████████████████████████████████| 166/166 [02:20<00:00,  1.57it/s]\n"
     ]
    },
    {
     "name": "stdout",
     "output_type": "stream",
     "text": [
      "epoch: 12, f1_test: 0.7980524113413137, f1_train: 0.8644519808669858\n"
     ]
    },
    {
     "name": "stderr",
     "output_type": "stream",
     "text": [
      "100%|████████████████████████████████████████████████████████████████████████████████| 166/166 [03:06<00:00,  1.14it/s]\n",
      "100%|██████████████████████████████████████████████████████████████████████████████████| 42/42 [00:35<00:00,  1.42it/s]\n",
      "100%|████████████████████████████████████████████████████████████████████████████████| 166/166 [02:19<00:00,  1.56it/s]\n"
     ]
    },
    {
     "name": "stdout",
     "output_type": "stream",
     "text": [
      "epoch: 13, f1_test: 0.7854673470344853, f1_train: 0.868252610163781\n"
     ]
    },
    {
     "name": "stderr",
     "output_type": "stream",
     "text": [
      "100%|████████████████████████████████████████████████████████████████████████████████| 166/166 [03:04<00:00,  1.14it/s]\n",
      "100%|██████████████████████████████████████████████████████████████████████████████████| 42/42 [00:35<00:00,  1.42it/s]\n",
      "100%|████████████████████████████████████████████████████████████████████████████████| 166/166 [02:20<00:00,  1.55it/s]\n"
     ]
    },
    {
     "name": "stdout",
     "output_type": "stream",
     "text": [
      "epoch: 14, f1_test: 0.7850722166753352, f1_train: 0.8637768505275122\n"
     ]
    },
    {
     "name": "stderr",
     "output_type": "stream",
     "text": [
      "100%|████████████████████████████████████████████████████████████████████████████████| 166/166 [03:03<00:00,  1.15it/s]\n",
      "100%|██████████████████████████████████████████████████████████████████████████████████| 42/42 [00:35<00:00,  1.42it/s]\n",
      "100%|████████████████████████████████████████████████████████████████████████████████| 166/166 [02:20<00:00,  1.58it/s]\n"
     ]
    },
    {
     "name": "stdout",
     "output_type": "stream",
     "text": [
      "epoch: 15, f1_test: 0.800901723878531, f1_train: 0.8667148794556999\n"
     ]
    },
    {
     "name": "stderr",
     "output_type": "stream",
     "text": [
      "100%|████████████████████████████████████████████████████████████████████████████████| 166/166 [03:05<00:00,  1.14it/s]\n",
      "100%|██████████████████████████████████████████████████████████████████████████████████| 42/42 [00:35<00:00,  1.39it/s]\n",
      "100%|████████████████████████████████████████████████████████████████████████████████| 166/166 [02:20<00:00,  1.55it/s]\n"
     ]
    },
    {
     "name": "stdout",
     "output_type": "stream",
     "text": [
      "epoch: 16, f1_test: 0.8012479220031969, f1_train: 0.8632520169647049\n"
     ]
    },
    {
     "name": "stderr",
     "output_type": "stream",
     "text": [
      "100%|████████████████████████████████████████████████████████████████████████████████| 166/166 [03:04<00:00,  1.13it/s]\n",
      "100%|██████████████████████████████████████████████████████████████████████████████████| 42/42 [00:35<00:00,  1.41it/s]\n",
      "100%|████████████████████████████████████████████████████████████████████████████████| 166/166 [02:21<00:00,  1.56it/s]\n"
     ]
    },
    {
     "name": "stdout",
     "output_type": "stream",
     "text": [
      "epoch: 17, f1_test: 0.7951488269399397, f1_train: 0.865885116184084\n"
     ]
    },
    {
     "name": "stderr",
     "output_type": "stream",
     "text": [
      "100%|████████████████████████████████████████████████████████████████████████████████| 166/166 [03:05<00:00,  1.15it/s]\n",
      "100%|██████████████████████████████████████████████████████████████████████████████████| 42/42 [00:35<00:00,  1.41it/s]\n",
      "100%|████████████████████████████████████████████████████████████████████████████████| 166/166 [02:20<00:00,  1.54it/s]\n"
     ]
    },
    {
     "name": "stdout",
     "output_type": "stream",
     "text": [
      "epoch: 18, f1_test: 0.78775232593789, f1_train: 0.8743700976213472\n"
     ]
    },
    {
     "name": "stderr",
     "output_type": "stream",
     "text": [
      "100%|████████████████████████████████████████████████████████████████████████████████| 166/166 [03:04<00:00,  1.14it/s]\n",
      "100%|██████████████████████████████████████████████████████████████████████████████████| 42/42 [00:35<00:00,  1.42it/s]\n",
      "100%|████████████████████████████████████████████████████████████████████████████████| 166/166 [02:19<00:00,  1.59it/s]\n"
     ]
    },
    {
     "name": "stdout",
     "output_type": "stream",
     "text": [
      "epoch: 19, f1_test: 0.8104419487320246, f1_train: 0.8730872499868223\n"
     ]
    },
    {
     "name": "stderr",
     "output_type": "stream",
     "text": [
      "100%|████████████████████████████████████████████████████████████████████████████████| 166/166 [03:05<00:00,  1.12it/s]\n",
      "100%|██████████████████████████████████████████████████████████████████████████████████| 42/42 [00:35<00:00,  1.40it/s]\n",
      "100%|████████████████████████████████████████████████████████████████████████████████| 166/166 [02:19<00:00,  1.57it/s]\n"
     ]
    },
    {
     "name": "stdout",
     "output_type": "stream",
     "text": [
      "epoch: 20, f1_test: 0.7939146726877617, f1_train: 0.8675344603140874\n"
     ]
    },
    {
     "name": "stderr",
     "output_type": "stream",
     "text": [
      "100%|████████████████████████████████████████████████████████████████████████████████| 166/166 [03:04<00:00,  1.12it/s]\n",
      "100%|██████████████████████████████████████████████████████████████████████████████████| 42/42 [00:35<00:00,  1.40it/s]\n",
      "100%|████████████████████████████████████████████████████████████████████████████████| 166/166 [02:19<00:00,  1.58it/s]\n"
     ]
    },
    {
     "name": "stdout",
     "output_type": "stream",
     "text": [
      "epoch: 21, f1_test: 0.7914213216444486, f1_train: 0.8689163567723397\n"
     ]
    },
    {
     "name": "stderr",
     "output_type": "stream",
     "text": [
      "100%|████████████████████████████████████████████████████████████████████████████████| 166/166 [03:01<00:00,  1.14it/s]\n",
      "100%|██████████████████████████████████████████████████████████████████████████████████| 42/42 [00:35<00:00,  1.41it/s]\n",
      "100%|████████████████████████████████████████████████████████████████████████████████| 166/166 [02:20<00:00,  1.57it/s]\n"
     ]
    },
    {
     "name": "stdout",
     "output_type": "stream",
     "text": [
      "epoch: 22, f1_test: 0.8027026721081544, f1_train: 0.8729011748692946\n"
     ]
    },
    {
     "name": "stderr",
     "output_type": "stream",
     "text": [
      "100%|████████████████████████████████████████████████████████████████████████████████| 166/166 [03:02<00:00,  1.15it/s]\n",
      "100%|██████████████████████████████████████████████████████████████████████████████████| 42/42 [00:35<00:00,  1.38it/s]\n",
      "100%|████████████████████████████████████████████████████████████████████████████████| 166/166 [02:19<00:00,  1.56it/s]\n"
     ]
    },
    {
     "name": "stdout",
     "output_type": "stream",
     "text": [
      "epoch: 23, f1_test: 0.7944518709823307, f1_train: 0.863752075866963\n"
     ]
    },
    {
     "name": "stderr",
     "output_type": "stream",
     "text": [
      "100%|████████████████████████████████████████████████████████████████████████████████| 166/166 [03:00<00:00,  1.16it/s]\n",
      "100%|██████████████████████████████████████████████████████████████████████████████████| 42/42 [00:35<00:00,  1.41it/s]\n",
      "100%|████████████████████████████████████████████████████████████████████████████████| 166/166 [02:20<00:00,  1.54it/s]\n"
     ]
    },
    {
     "name": "stdout",
     "output_type": "stream",
     "text": [
      "epoch: 24, f1_test: 0.7881894776895555, f1_train: 0.867810650099677\n"
     ]
    },
    {
     "name": "stderr",
     "output_type": "stream",
     "text": [
      "100%|████████████████████████████████████████████████████████████████████████████████| 166/166 [03:00<00:00,  1.16it/s]\n",
      "100%|██████████████████████████████████████████████████████████████████████████████████| 42/42 [00:35<00:00,  1.43it/s]\n",
      "100%|████████████████████████████████████████████████████████████████████████████████| 166/166 [02:20<00:00,  1.56it/s]\n"
     ]
    },
    {
     "name": "stdout",
     "output_type": "stream",
     "text": [
      "epoch: 25, f1_test: 0.8006601230534719, f1_train: 0.8722905560787153\n"
     ]
    },
    {
     "name": "stderr",
     "output_type": "stream",
     "text": [
      "100%|████████████████████████████████████████████████████████████████████████████████| 166/166 [03:01<00:00,  1.13it/s]\n",
      "100%|██████████████████████████████████████████████████████████████████████████████████| 42/42 [00:35<00:00,  1.43it/s]\n",
      "100%|████████████████████████████████████████████████████████████████████████████████| 166/166 [02:20<00:00,  1.55it/s]\n"
     ]
    },
    {
     "name": "stdout",
     "output_type": "stream",
     "text": [
      "epoch: 26, f1_test: 0.7836407337676977, f1_train: 0.8675520667365729\n"
     ]
    },
    {
     "name": "stderr",
     "output_type": "stream",
     "text": [
      "100%|████████████████████████████████████████████████████████████████████████████████| 166/166 [03:00<00:00,  1.15it/s]\n",
      "100%|██████████████████████████████████████████████████████████████████████████████████| 42/42 [00:35<00:00,  1.39it/s]\n",
      "100%|████████████████████████████████████████████████████████████████████████████████| 166/166 [02:21<00:00,  1.56it/s]\n"
     ]
    },
    {
     "name": "stdout",
     "output_type": "stream",
     "text": [
      "epoch: 27, f1_test: 0.7927127730183446, f1_train: 0.8726190553105786\n"
     ]
    },
    {
     "name": "stderr",
     "output_type": "stream",
     "text": [
      "100%|████████████████████████████████████████████████████████████████████████████████| 166/166 [03:00<00:00,  1.14it/s]\n",
      "100%|██████████████████████████████████████████████████████████████████████████████████| 42/42 [00:35<00:00,  1.41it/s]\n",
      "100%|████████████████████████████████████████████████████████████████████████████████| 166/166 [02:20<00:00,  1.57it/s]\n"
     ]
    },
    {
     "name": "stdout",
     "output_type": "stream",
     "text": [
      "epoch: 28, f1_test: 0.79428056083909, f1_train: 0.8710189090334411\n"
     ]
    },
    {
     "name": "stderr",
     "output_type": "stream",
     "text": [
      "100%|████████████████████████████████████████████████████████████████████████████████| 166/166 [03:04<00:00,  1.11it/s]\n",
      "100%|██████████████████████████████████████████████████████████████████████████████████| 42/42 [00:35<00:00,  1.42it/s]\n",
      "100%|████████████████████████████████████████████████████████████████████████████████| 166/166 [02:19<00:00,  1.57it/s]\n"
     ]
    },
    {
     "name": "stdout",
     "output_type": "stream",
     "text": [
      "epoch: 29, f1_test: 0.7951232968397124, f1_train: 0.8648565179832155\n"
     ]
    },
    {
     "name": "stderr",
     "output_type": "stream",
     "text": [
      "100%|████████████████████████████████████████████████████████████████████████████████| 166/166 [03:00<00:00,  1.13it/s]\n",
      "100%|██████████████████████████████████████████████████████████████████████████████████| 42/42 [00:35<00:00,  1.40it/s]\n",
      "100%|████████████████████████████████████████████████████████████████████████████████| 166/166 [02:20<00:00,  1.55it/s]\n"
     ]
    },
    {
     "name": "stdout",
     "output_type": "stream",
     "text": [
      "epoch: 30, f1_test: 0.7909762618870645, f1_train: 0.8650018034729606\n"
     ]
    },
    {
     "name": "stderr",
     "output_type": "stream",
     "text": [
      "100%|████████████████████████████████████████████████████████████████████████████████| 166/166 [03:00<00:00,  1.17it/s]\n",
      "100%|██████████████████████████████████████████████████████████████████████████████████| 42/42 [00:35<00:00,  1.39it/s]\n",
      "100%|████████████████████████████████████████████████████████████████████████████████| 166/166 [02:20<00:00,  1.56it/s]\n"
     ]
    },
    {
     "name": "stdout",
     "output_type": "stream",
     "text": [
      "epoch: 31, f1_test: 0.7846313031569694, f1_train: 0.8676654172528335\n"
     ]
    },
    {
     "name": "stderr",
     "output_type": "stream",
     "text": [
      "100%|████████████████████████████████████████████████████████████████████████████████| 166/166 [03:03<00:00,  1.13it/s]\n",
      "100%|██████████████████████████████████████████████████████████████████████████████████| 42/42 [00:35<00:00,  1.44it/s]\n",
      "100%|████████████████████████████████████████████████████████████████████████████████| 166/166 [02:19<00:00,  1.55it/s]\n"
     ]
    },
    {
     "name": "stdout",
     "output_type": "stream",
     "text": [
      "epoch: 32, f1_test: 0.7855592799049335, f1_train: 0.8661885235725735\n"
     ]
    },
    {
     "name": "stderr",
     "output_type": "stream",
     "text": [
      "100%|████████████████████████████████████████████████████████████████████████████████| 166/166 [03:00<00:00,  1.16it/s]\n",
      "100%|██████████████████████████████████████████████████████████████████████████████████| 42/42 [00:35<00:00,  1.40it/s]\n",
      "100%|████████████████████████████████████████████████████████████████████████████████| 166/166 [02:20<00:00,  1.55it/s]\n"
     ]
    },
    {
     "name": "stdout",
     "output_type": "stream",
     "text": [
      "epoch: 33, f1_test: 0.7987081536681468, f1_train: 0.8689118801028509\n"
     ]
    },
    {
     "name": "stderr",
     "output_type": "stream",
     "text": [
      "100%|████████████████████████████████████████████████████████████████████████████████| 166/166 [03:03<00:00,  1.15it/s]\n",
      "100%|██████████████████████████████████████████████████████████████████████████████████| 42/42 [00:35<00:00,  1.40it/s]\n",
      "100%|████████████████████████████████████████████████████████████████████████████████| 166/166 [02:19<00:00,  1.56it/s]\n"
     ]
    },
    {
     "name": "stdout",
     "output_type": "stream",
     "text": [
      "epoch: 34, f1_test: 0.7912132573467567, f1_train: 0.8702533416118363\n"
     ]
    },
    {
     "name": "stderr",
     "output_type": "stream",
     "text": [
      "100%|████████████████████████████████████████████████████████████████████████████████| 166/166 [03:04<00:00,  1.17it/s]\n",
      "100%|██████████████████████████████████████████████████████████████████████████████████| 42/42 [00:35<00:00,  1.35it/s]\n",
      "100%|████████████████████████████████████████████████████████████████████████████████| 166/166 [02:20<00:00,  1.57it/s]\n"
     ]
    },
    {
     "name": "stdout",
     "output_type": "stream",
     "text": [
      "epoch: 35, f1_test: 0.7916421239733507, f1_train: 0.866675322404956\n"
     ]
    },
    {
     "name": "stderr",
     "output_type": "stream",
     "text": [
      "100%|████████████████████████████████████████████████████████████████████████████████| 166/166 [03:04<00:00,  1.16it/s]\n",
      "100%|██████████████████████████████████████████████████████████████████████████████████| 42/42 [00:35<00:00,  1.41it/s]\n",
      "100%|████████████████████████████████████████████████████████████████████████████████| 166/166 [02:20<00:00,  1.57it/s]\n"
     ]
    },
    {
     "name": "stdout",
     "output_type": "stream",
     "text": [
      "epoch: 36, f1_test: 0.7998068426894986, f1_train: 0.8655168968662993\n"
     ]
    },
    {
     "name": "stderr",
     "output_type": "stream",
     "text": [
      "100%|████████████████████████████████████████████████████████████████████████████████| 166/166 [03:05<00:00,  1.12it/s]\n",
      "100%|██████████████████████████████████████████████████████████████████████████████████| 42/42 [00:35<00:00,  1.39it/s]\n",
      "100%|████████████████████████████████████████████████████████████████████████████████| 166/166 [02:19<00:00,  1.55it/s]\n"
     ]
    },
    {
     "name": "stdout",
     "output_type": "stream",
     "text": [
      "epoch: 37, f1_test: 0.8048181120886134, f1_train: 0.872406566923295\n"
     ]
    },
    {
     "name": "stderr",
     "output_type": "stream",
     "text": [
      "100%|████████████████████████████████████████████████████████████████████████████████| 166/166 [03:04<00:00,  1.15it/s]\n",
      "100%|██████████████████████████████████████████████████████████████████████████████████| 42/42 [00:35<00:00,  1.41it/s]\n",
      "100%|████████████████████████████████████████████████████████████████████████████████| 166/166 [02:19<00:00,  1.58it/s]\n"
     ]
    },
    {
     "name": "stdout",
     "output_type": "stream",
     "text": [
      "epoch: 38, f1_test: 0.8027180150381699, f1_train: 0.8666202595412484\n"
     ]
    },
    {
     "name": "stderr",
     "output_type": "stream",
     "text": [
      "100%|████████████████████████████████████████████████████████████████████████████████| 166/166 [03:04<00:00,  1.14it/s]\n",
      "100%|██████████████████████████████████████████████████████████████████████████████████| 42/42 [00:35<00:00,  1.43it/s]\n",
      "100%|████████████████████████████████████████████████████████████████████████████████| 166/166 [02:20<00:00,  1.55it/s]\n"
     ]
    },
    {
     "name": "stdout",
     "output_type": "stream",
     "text": [
      "epoch: 39, f1_test: 0.7906256220502379, f1_train: 0.8658248519835214\n"
     ]
    },
    {
     "name": "stderr",
     "output_type": "stream",
     "text": [
      "100%|████████████████████████████████████████████████████████████████████████████████| 166/166 [03:03<00:00,  1.14it/s]\n",
      "100%|██████████████████████████████████████████████████████████████████████████████████| 42/42 [00:35<00:00,  1.40it/s]\n",
      "100%|████████████████████████████████████████████████████████████████████████████████| 166/166 [02:19<00:00,  1.56it/s]\n"
     ]
    },
    {
     "name": "stdout",
     "output_type": "stream",
     "text": [
      "epoch: 40, f1_test: 0.7879330052740868, f1_train: 0.8636604020956032\n"
     ]
    },
    {
     "name": "stderr",
     "output_type": "stream",
     "text": [
      "100%|████████████████████████████████████████████████████████████████████████████████| 166/166 [03:02<00:00,  1.13it/s]\n",
      "100%|██████████████████████████████████████████████████████████████████████████████████| 42/42 [00:35<00:00,  1.42it/s]\n",
      "100%|████████████████████████████████████████████████████████████████████████████████| 166/166 [02:19<00:00,  1.59it/s]\n"
     ]
    },
    {
     "name": "stdout",
     "output_type": "stream",
     "text": [
      "epoch: 41, f1_test: 0.7896487783573398, f1_train: 0.8676994941596893\n"
     ]
    },
    {
     "name": "stderr",
     "output_type": "stream",
     "text": [
      "100%|████████████████████████████████████████████████████████████████████████████████| 166/166 [03:03<00:00,  1.15it/s]\n",
      "100%|██████████████████████████████████████████████████████████████████████████████████| 42/42 [00:35<00:00,  1.45it/s]\n",
      "100%|████████████████████████████████████████████████████████████████████████████████| 166/166 [02:18<00:00,  1.58it/s]\n"
     ]
    },
    {
     "name": "stdout",
     "output_type": "stream",
     "text": [
      "epoch: 42, f1_test: 0.8004208953250457, f1_train: 0.8681315492327988\n"
     ]
    },
    {
     "name": "stderr",
     "output_type": "stream",
     "text": [
      "100%|████████████████████████████████████████████████████████████████████████████████| 166/166 [03:03<00:00,  1.16it/s]\n",
      "100%|██████████████████████████████████████████████████████████████████████████████████| 42/42 [00:35<00:00,  1.43it/s]\n",
      "100%|████████████████████████████████████████████████████████████████████████████████| 166/166 [02:19<00:00,  1.56it/s]\n"
     ]
    },
    {
     "name": "stdout",
     "output_type": "stream",
     "text": [
      "epoch: 43, f1_test: 0.7991801042697381, f1_train: 0.8663125016222076\n"
     ]
    },
    {
     "name": "stderr",
     "output_type": "stream",
     "text": [
      "100%|████████████████████████████████████████████████████████████████████████████████| 166/166 [03:05<00:00,  1.15it/s]\n",
      "100%|██████████████████████████████████████████████████████████████████████████████████| 42/42 [00:35<00:00,  1.41it/s]\n",
      "100%|████████████████████████████████████████████████████████████████████████████████| 166/166 [02:20<00:00,  1.56it/s]\n"
     ]
    },
    {
     "name": "stdout",
     "output_type": "stream",
     "text": [
      "epoch: 44, f1_test: 0.791586670070999, f1_train: 0.870384100239805\n"
     ]
    },
    {
     "name": "stderr",
     "output_type": "stream",
     "text": [
      "100%|████████████████████████████████████████████████████████████████████████████████| 166/166 [03:04<00:00,  1.16it/s]\n",
      "100%|██████████████████████████████████████████████████████████████████████████████████| 42/42 [00:35<00:00,  1.44it/s]\n",
      "100%|████████████████████████████████████████████████████████████████████████████████| 166/166 [02:19<00:00,  1.57it/s]\n"
     ]
    },
    {
     "name": "stdout",
     "output_type": "stream",
     "text": [
      "epoch: 45, f1_test: 0.7942816206446649, f1_train: 0.8793873877493332\n"
     ]
    },
    {
     "name": "stderr",
     "output_type": "stream",
     "text": [
      "100%|████████████████████████████████████████████████████████████████████████████████| 166/166 [03:03<00:00,  1.15it/s]\n",
      "100%|██████████████████████████████████████████████████████████████████████████████████| 42/42 [00:34<00:00,  1.43it/s]\n",
      "100%|████████████████████████████████████████████████████████████████████████████████| 166/166 [02:19<00:00,  1.57it/s]\n"
     ]
    },
    {
     "name": "stdout",
     "output_type": "stream",
     "text": [
      "epoch: 46, f1_test: 0.8062934682953296, f1_train: 0.8714879147625239\n"
     ]
    },
    {
     "name": "stderr",
     "output_type": "stream",
     "text": [
      "100%|████████████████████████████████████████████████████████████████████████████████| 166/166 [03:03<00:00,  1.16it/s]\n",
      "100%|██████████████████████████████████████████████████████████████████████████████████| 42/42 [00:35<00:00,  1.43it/s]\n",
      "100%|████████████████████████████████████████████████████████████████████████████████| 166/166 [02:19<00:00,  1.58it/s]\n"
     ]
    },
    {
     "name": "stdout",
     "output_type": "stream",
     "text": [
      "epoch: 47, f1_test: 0.789696762045845, f1_train: 0.8669776781427079\n"
     ]
    },
    {
     "name": "stderr",
     "output_type": "stream",
     "text": [
      "100%|████████████████████████████████████████████████████████████████████████████████| 166/166 [03:03<00:00,  1.16it/s]\n",
      "100%|██████████████████████████████████████████████████████████████████████████████████| 42/42 [00:35<00:00,  1.39it/s]\n",
      "100%|████████████████████████████████████████████████████████████████████████████████| 166/166 [02:19<00:00,  1.55it/s]\n"
     ]
    },
    {
     "name": "stdout",
     "output_type": "stream",
     "text": [
      "epoch: 48, f1_test: 0.7878894440379189, f1_train: 0.869069914120278\n"
     ]
    },
    {
     "name": "stderr",
     "output_type": "stream",
     "text": [
      "100%|████████████████████████████████████████████████████████████████████████████████| 166/166 [03:07<00:00,  1.07it/s]\n",
      "100%|██████████████████████████████████████████████████████████████████████████████████| 42/42 [00:34<00:00,  1.44it/s]\n",
      "100%|████████████████████████████████████████████████████████████████████████████████| 166/166 [02:19<00:00,  1.56it/s]\n"
     ]
    },
    {
     "name": "stdout",
     "output_type": "stream",
     "text": [
      "epoch: 49, f1_test: 0.8031430156288554, f1_train: 0.8604788681401309\n"
     ]
    }
   ],
   "source": [
    "# Продолжение обучения на новых данных\n",
    "\n",
    "model_name = 'Semi_S_99_v4_2step_continie_learning.pt'\n",
    "model_train(model, train_loader_new_2, val_loader_new_2, model_name, lr, 50)"
   ]
  },
  {
   "cell_type": "code",
   "execution_count": 191,
   "metadata": {},
   "outputs": [
    {
     "name": "stdout",
     "output_type": "stream",
     "text": [
      "Loaded pretrained weights for efficientnet-b0\n"
     ]
    },
    {
     "name": "stderr",
     "output_type": "stream",
     "text": [
      "  0%|                                                                                           | 0/93 [00:00<?, ?it/s]D:\\Programs\\Anaconda\\lib\\site-packages\\ipykernel_launcher.py:56: UserWarning: Implicit dimension choice for softmax has been deprecated. Change the call to include dim=X as an argument.\n",
      "100%|██████████████████████████████████████████████████████████████████████████████████| 93/93 [01:01<00:00,  1.79it/s]\n"
     ]
    }
   ],
   "source": [
    "model_name = 'Semi_S_99_v4_2step_continie_learning.pt'\n",
    "model = Model_4().cuda()\n",
    "model.load_state_dict(torch.load(os.path.join('..', model_name)))\n",
    "model.eval()\n",
    "forecast, _ = model_predict_test(model, test_loader)\n",
    "\n",
    "df_test['label'] = forecast\n",
    "df_test.to_csv(f'{model_name}.csv', index=None)"
   ]
  },
  {
   "cell_type": "code",
   "execution_count": null,
   "metadata": {},
   "outputs": [],
   "source": []
  },
  {
   "cell_type": "markdown",
   "metadata": {},
   "source": [
    "# EM"
   ]
  },
  {
   "cell_type": "code",
   "execution_count": 196,
   "metadata": {},
   "outputs": [
    {
     "name": "stdout",
     "output_type": "stream",
     "text": [
      "Loaded pretrained weights for efficientnet-b0\n"
     ]
    },
    {
     "name": "stderr",
     "output_type": "stream",
     "text": [
      "  0%|                                                                                           | 0/93 [00:00<?, ?it/s]D:\\Programs\\Anaconda\\lib\\site-packages\\ipykernel_launcher.py:56: UserWarning: Implicit dimension choice for softmax has been deprecated. Change the call to include dim=X as an argument.\n",
      "100%|██████████████████████████████████████████████████████████████████████████████████| 93/93 [01:01<00:00,  1.74it/s]\n"
     ]
    }
   ],
   "source": [
    "# Загрузить модель\n",
    "\n",
    "model_name = 'baseline_v4.pt'\n",
    "model = Model_4().cuda()\n",
    "model.load_state_dict(torch.load(os.path.join('..', model_name)))\n",
    "model.eval()\n",
    "forecast, _ = model_predict_test(model, test_loader)\n",
    "df_test['label'] = forecast"
   ]
  },
  {
   "cell_type": "code",
   "execution_count": 197,
   "metadata": {},
   "outputs": [],
   "source": [
    "# добавление test к train\n",
    "\n",
    "df_train_new = pd.read_csv(os.path.join(DATA_PATH, train_meta_fname))\n",
    "df_train_new['label_encoded'] = df_train_new.label.map(classes_dict)\n",
    "\n",
    "for i in range(len(df_test)):\n",
    "    df_train_new.loc[len(df_train_new)] = [df_test['fname'][i], df_test['label'][i], classes_dict[df_test['label'][i]]]\n",
    "    \n",
    "df_train_new.to_csv('train_with_test_full_v4.csv', index=None) "
   ]
  },
  {
   "cell_type": "code",
   "execution_count": 198,
   "metadata": {},
   "outputs": [],
   "source": [
    "df_test_new = pd.read_csv(os.path.join(DATA_PATH, test_meta_fname))"
   ]
  },
  {
   "cell_type": "code",
   "execution_count": 200,
   "metadata": {},
   "outputs": [],
   "source": [
    "X_train, X_val, y_train, y_val = train_test_split(df_train_new.fname.values, df_train_new.label_encoded.values, \n",
    "                                                  test_size=0.2, random_state=42)\n",
    "train_loader_new = DataLoader(\n",
    "                        EventDetectionDataset(os.path.join(DATA_PATH, train_data_folder), X_train, y_train),\n",
    "                        batch_size=41\n",
    "                )\n",
    "val_loader_new = DataLoader(\n",
    "                        EventDetectionDataset(os.path.join(DATA_PATH, train_data_folder), X_val, y_val),\n",
    "                        batch_size=41\n",
    "                )"
   ]
  },
  {
   "cell_type": "code",
   "execution_count": 201,
   "metadata": {},
   "outputs": [
    {
     "name": "stderr",
     "output_type": "stream",
     "text": [
      "100%|████████████████████████████████████████████████████████████████████████████████| 185/185 [03:26<00:00,  1.08s/it]\n",
      "  0%|                                                                                           | 0/47 [00:00<?, ?it/s]D:\\Programs\\Anaconda\\lib\\site-packages\\ipykernel_launcher.py:56: UserWarning: Implicit dimension choice for softmax has been deprecated. Change the call to include dim=X as an argument.\n",
      "100%|██████████████████████████████████████████████████████████████████████████████████| 47/47 [00:40<00:00,  1.46it/s]\n",
      "100%|████████████████████████████████████████████████████████████████████████████████| 185/185 [02:41<00:00,  1.19it/s]\n"
     ]
    },
    {
     "name": "stdout",
     "output_type": "stream",
     "text": [
      "epoch: 0, f1_test: 0.8394925455284968, f1_train: 0.8600733609718199\n"
     ]
    },
    {
     "name": "stderr",
     "output_type": "stream",
     "text": [
      "100%|████████████████████████████████████████████████████████████████████████████████| 185/185 [03:30<00:00,  1.11s/it]\n",
      "100%|██████████████████████████████████████████████████████████████████████████████████| 47/47 [00:40<00:00,  1.47it/s]\n",
      "100%|████████████████████████████████████████████████████████████████████████████████| 185/185 [02:40<00:00,  1.19it/s]\n"
     ]
    },
    {
     "name": "stdout",
     "output_type": "stream",
     "text": [
      "epoch: 1, f1_test: 0.8317270446928757, f1_train: 0.854025300484776\n"
     ]
    },
    {
     "name": "stderr",
     "output_type": "stream",
     "text": [
      "100%|████████████████████████████████████████████████████████████████████████████████| 185/185 [03:31<00:00,  1.09s/it]\n",
      "100%|██████████████████████████████████████████████████████████████████████████████████| 47/47 [00:42<00:00,  1.44it/s]\n",
      "100%|████████████████████████████████████████████████████████████████████████████████| 185/185 [02:41<00:00,  1.20it/s]\n"
     ]
    },
    {
     "name": "stdout",
     "output_type": "stream",
     "text": [
      "epoch: 2, f1_test: 0.8519660884550218, f1_train: 0.8597108503149286\n"
     ]
    },
    {
     "name": "stderr",
     "output_type": "stream",
     "text": [
      "100%|████████████████████████████████████████████████████████████████████████████████| 185/185 [03:29<00:00,  1.08s/it]\n",
      "100%|██████████████████████████████████████████████████████████████████████████████████| 47/47 [00:40<00:00,  1.42it/s]\n",
      "100%|████████████████████████████████████████████████████████████████████████████████| 185/185 [02:41<00:00,  1.20it/s]\n"
     ]
    },
    {
     "name": "stdout",
     "output_type": "stream",
     "text": [
      "epoch: 3, f1_test: 0.8528754356464757, f1_train: 0.8515326152140154\n"
     ]
    },
    {
     "name": "stderr",
     "output_type": "stream",
     "text": [
      "100%|████████████████████████████████████████████████████████████████████████████████| 185/185 [03:26<00:00,  1.08s/it]\n",
      "100%|██████████████████████████████████████████████████████████████████████████████████| 47/47 [00:40<00:00,  1.44it/s]\n",
      "100%|████████████████████████████████████████████████████████████████████████████████| 185/185 [02:42<00:00,  1.19it/s]\n"
     ]
    },
    {
     "name": "stdout",
     "output_type": "stream",
     "text": [
      "epoch: 4, f1_test: 0.8521939389022936, f1_train: 0.8560390955994319\n"
     ]
    },
    {
     "name": "stderr",
     "output_type": "stream",
     "text": [
      "100%|████████████████████████████████████████████████████████████████████████████████| 185/185 [03:27<00:00,  1.11s/it]\n",
      "100%|██████████████████████████████████████████████████████████████████████████████████| 47/47 [00:41<00:00,  1.41it/s]\n",
      "100%|████████████████████████████████████████████████████████████████████████████████| 185/185 [02:43<00:00,  1.20it/s]\n"
     ]
    },
    {
     "name": "stdout",
     "output_type": "stream",
     "text": [
      "epoch: 5, f1_test: 0.8464426051726376, f1_train: 0.8508001133011923\n"
     ]
    },
    {
     "name": "stderr",
     "output_type": "stream",
     "text": [
      "100%|████████████████████████████████████████████████████████████████████████████████| 185/185 [03:28<00:00,  1.07s/it]\n",
      "100%|██████████████████████████████████████████████████████████████████████████████████| 47/47 [00:41<00:00,  1.42it/s]\n",
      "100%|████████████████████████████████████████████████████████████████████████████████| 185/185 [02:42<00:00,  1.15it/s]\n"
     ]
    },
    {
     "name": "stdout",
     "output_type": "stream",
     "text": [
      "epoch: 6, f1_test: 0.8475572518090084, f1_train: 0.8546903399683258\n"
     ]
    },
    {
     "name": "stderr",
     "output_type": "stream",
     "text": [
      "100%|████████████████████████████████████████████████████████████████████████████████| 185/185 [03:28<00:00,  1.07s/it]\n",
      "100%|██████████████████████████████████████████████████████████████████████████████████| 47/47 [00:41<00:00,  1.42it/s]\n",
      "100%|████████████████████████████████████████████████████████████████████████████████| 185/185 [02:42<00:00,  1.20it/s]\n"
     ]
    },
    {
     "name": "stdout",
     "output_type": "stream",
     "text": [
      "epoch: 7, f1_test: 0.8518824219526315, f1_train: 0.8552705441427112\n"
     ]
    },
    {
     "name": "stderr",
     "output_type": "stream",
     "text": [
      "100%|████████████████████████████████████████████████████████████████████████████████| 185/185 [03:27<00:00,  1.07s/it]\n",
      "100%|██████████████████████████████████████████████████████████████████████████████████| 47/47 [00:41<00:00,  1.44it/s]\n",
      "100%|████████████████████████████████████████████████████████████████████████████████| 185/185 [02:42<00:00,  1.19it/s]\n"
     ]
    },
    {
     "name": "stdout",
     "output_type": "stream",
     "text": [
      "epoch: 8, f1_test: 0.8478174478946525, f1_train: 0.8499288287222719\n"
     ]
    },
    {
     "name": "stderr",
     "output_type": "stream",
     "text": [
      "100%|████████████████████████████████████████████████████████████████████████████████| 185/185 [03:28<00:00,  1.08s/it]\n",
      "100%|██████████████████████████████████████████████████████████████████████████████████| 47/47 [00:41<00:00,  1.41it/s]\n",
      "100%|████████████████████████████████████████████████████████████████████████████████| 185/185 [02:42<00:00,  1.19it/s]\n"
     ]
    },
    {
     "name": "stdout",
     "output_type": "stream",
     "text": [
      "epoch: 9, f1_test: 0.8463661310097005, f1_train: 0.8531657825483348\n"
     ]
    },
    {
     "name": "stderr",
     "output_type": "stream",
     "text": [
      "100%|████████████████████████████████████████████████████████████████████████████████| 185/185 [03:27<00:00,  1.07s/it]\n",
      "100%|██████████████████████████████████████████████████████████████████████████████████| 47/47 [00:41<00:00,  1.41it/s]\n",
      "100%|████████████████████████████████████████████████████████████████████████████████| 185/185 [02:42<00:00,  1.19it/s]\n"
     ]
    },
    {
     "name": "stdout",
     "output_type": "stream",
     "text": [
      "epoch: 10, f1_test: 0.8473476432200351, f1_train: 0.8596417227618224\n"
     ]
    },
    {
     "name": "stderr",
     "output_type": "stream",
     "text": [
      "100%|████████████████████████████████████████████████████████████████████████████████| 185/185 [03:30<00:00,  1.06s/it]\n",
      "100%|██████████████████████████████████████████████████████████████████████████████████| 47/47 [00:41<00:00,  1.45it/s]\n",
      "100%|████████████████████████████████████████████████████████████████████████████████| 185/185 [02:42<00:00,  1.15it/s]\n"
     ]
    },
    {
     "name": "stdout",
     "output_type": "stream",
     "text": [
      "epoch: 11, f1_test: 0.8369562822744864, f1_train: 0.8620056429744637\n"
     ]
    },
    {
     "name": "stderr",
     "output_type": "stream",
     "text": [
      "100%|████████████████████████████████████████████████████████████████████████████████| 185/185 [03:29<00:00,  1.10s/it]\n",
      "100%|██████████████████████████████████████████████████████████████████████████████████| 47/47 [00:41<00:00,  1.46it/s]\n",
      "100%|████████████████████████████████████████████████████████████████████████████████| 185/185 [02:41<00:00,  1.20it/s]\n"
     ]
    },
    {
     "name": "stdout",
     "output_type": "stream",
     "text": [
      "epoch: 12, f1_test: 0.840348491628757, f1_train: 0.8504222517842996\n"
     ]
    },
    {
     "name": "stderr",
     "output_type": "stream",
     "text": [
      "100%|████████████████████████████████████████████████████████████████████████████████| 185/185 [03:32<00:00,  1.11s/it]\n",
      "100%|██████████████████████████████████████████████████████████████████████████████████| 47/47 [00:41<00:00,  1.45it/s]\n",
      "100%|████████████████████████████████████████████████████████████████████████████████| 185/185 [02:41<00:00,  1.18it/s]\n"
     ]
    },
    {
     "name": "stdout",
     "output_type": "stream",
     "text": [
      "epoch: 13, f1_test: 0.8453823000248705, f1_train: 0.8586135343295069\n"
     ]
    },
    {
     "name": "stderr",
     "output_type": "stream",
     "text": [
      "100%|████████████████████████████████████████████████████████████████████████████████| 185/185 [03:27<00:00,  1.07s/it]\n",
      "100%|██████████████████████████████████████████████████████████████████████████████████| 47/47 [00:41<00:00,  1.46it/s]\n",
      "100%|████████████████████████████████████████████████████████████████████████████████| 185/185 [02:42<00:00,  1.18it/s]\n"
     ]
    },
    {
     "name": "stdout",
     "output_type": "stream",
     "text": [
      "epoch: 14, f1_test: 0.8356772188207668, f1_train: 0.855956995036752\n"
     ]
    },
    {
     "name": "stderr",
     "output_type": "stream",
     "text": [
      "100%|████████████████████████████████████████████████████████████████████████████████| 185/185 [03:27<00:00,  1.10s/it]\n",
      "100%|██████████████████████████████████████████████████████████████████████████████████| 47/47 [00:41<00:00,  1.43it/s]\n",
      "100%|████████████████████████████████████████████████████████████████████████████████| 185/185 [02:41<00:00,  1.18it/s]\n"
     ]
    },
    {
     "name": "stdout",
     "output_type": "stream",
     "text": [
      "epoch: 15, f1_test: 0.8442681201115234, f1_train: 0.8630500195997236\n"
     ]
    },
    {
     "name": "stderr",
     "output_type": "stream",
     "text": [
      "100%|████████████████████████████████████████████████████████████████████████████████| 185/185 [03:27<00:00,  1.09s/it]\n",
      "100%|██████████████████████████████████████████████████████████████████████████████████| 47/47 [00:41<00:00,  1.46it/s]\n",
      "100%|████████████████████████████████████████████████████████████████████████████████| 185/185 [02:42<00:00,  1.18it/s]\n"
     ]
    },
    {
     "name": "stdout",
     "output_type": "stream",
     "text": [
      "epoch: 16, f1_test: 0.838892768401228, f1_train: 0.8586408927214221\n"
     ]
    },
    {
     "name": "stderr",
     "output_type": "stream",
     "text": [
      "100%|████████████████████████████████████████████████████████████████████████████████| 185/185 [03:26<00:00,  1.08s/it]\n",
      "100%|██████████████████████████████████████████████████████████████████████████████████| 47/47 [00:41<00:00,  1.45it/s]\n",
      "100%|████████████████████████████████████████████████████████████████████████████████| 185/185 [02:42<00:00,  1.19it/s]\n"
     ]
    },
    {
     "name": "stdout",
     "output_type": "stream",
     "text": [
      "epoch: 17, f1_test: 0.8524856285848703, f1_train: 0.8552008340644539\n"
     ]
    },
    {
     "name": "stderr",
     "output_type": "stream",
     "text": [
      "100%|████████████████████████████████████████████████████████████████████████████████| 185/185 [03:26<00:00,  1.08s/it]\n",
      "100%|██████████████████████████████████████████████████████████████████████████████████| 47/47 [00:41<00:00,  1.45it/s]\n",
      "100%|████████████████████████████████████████████████████████████████████████████████| 185/185 [02:41<00:00,  1.19it/s]\n"
     ]
    },
    {
     "name": "stdout",
     "output_type": "stream",
     "text": [
      "epoch: 18, f1_test: 0.8455521370725517, f1_train: 0.8557409731340094\n"
     ]
    },
    {
     "name": "stderr",
     "output_type": "stream",
     "text": [
      "100%|████████████████████████████████████████████████████████████████████████████████| 185/185 [03:27<00:00,  1.06s/it]\n",
      "100%|██████████████████████████████████████████████████████████████████████████████████| 47/47 [00:43<00:00,  1.44it/s]\n",
      "100%|████████████████████████████████████████████████████████████████████████████████| 185/185 [02:42<00:00,  1.16it/s]\n"
     ]
    },
    {
     "name": "stdout",
     "output_type": "stream",
     "text": [
      "epoch: 19, f1_test: 0.8541865145403916, f1_train: 0.8568369880875747\n"
     ]
    },
    {
     "name": "stderr",
     "output_type": "stream",
     "text": [
      "100%|████████████████████████████████████████████████████████████████████████████████| 185/185 [03:31<00:00,  1.10s/it]\n",
      "100%|██████████████████████████████████████████████████████████████████████████████████| 47/47 [00:41<00:00,  1.44it/s]\n",
      "100%|████████████████████████████████████████████████████████████████████████████████| 185/185 [02:42<00:00,  1.18it/s]\n"
     ]
    },
    {
     "name": "stdout",
     "output_type": "stream",
     "text": [
      "epoch: 20, f1_test: 0.8423142876198108, f1_train: 0.8530640603600722\n"
     ]
    },
    {
     "name": "stderr",
     "output_type": "stream",
     "text": [
      "100%|████████████████████████████████████████████████████████████████████████████████| 185/185 [03:32<00:00,  1.12s/it]\n",
      "100%|██████████████████████████████████████████████████████████████████████████████████| 47/47 [00:41<00:00,  1.46it/s]\n",
      "100%|████████████████████████████████████████████████████████████████████████████████| 185/185 [02:42<00:00,  1.18it/s]\n"
     ]
    },
    {
     "name": "stdout",
     "output_type": "stream",
     "text": [
      "epoch: 21, f1_test: 0.8381339165818777, f1_train: 0.8525992992237924\n"
     ]
    },
    {
     "name": "stderr",
     "output_type": "stream",
     "text": [
      "100%|████████████████████████████████████████████████████████████████████████████████| 185/185 [03:31<00:00,  1.09s/it]\n",
      "100%|██████████████████████████████████████████████████████████████████████████████████| 47/47 [00:41<00:00,  1.44it/s]\n",
      "100%|████████████████████████████████████████████████████████████████████████████████| 185/185 [02:41<00:00,  1.18it/s]\n"
     ]
    },
    {
     "name": "stdout",
     "output_type": "stream",
     "text": [
      "epoch: 22, f1_test: 0.8375300262055437, f1_train: 0.8594656304926259\n"
     ]
    },
    {
     "name": "stderr",
     "output_type": "stream",
     "text": [
      "100%|████████████████████████████████████████████████████████████████████████████████| 185/185 [03:30<00:00,  1.10s/it]\n",
      "100%|██████████████████████████████████████████████████████████████████████████████████| 47/47 [00:41<00:00,  1.46it/s]\n",
      "100%|████████████████████████████████████████████████████████████████████████████████| 185/185 [02:41<00:00,  1.19it/s]\n"
     ]
    },
    {
     "name": "stdout",
     "output_type": "stream",
     "text": [
      "epoch: 23, f1_test: 0.8424051013163468, f1_train: 0.8554842962143633\n"
     ]
    },
    {
     "name": "stderr",
     "output_type": "stream",
     "text": [
      "100%|████████████████████████████████████████████████████████████████████████████████| 185/185 [03:31<00:00,  1.11s/it]\n",
      "100%|██████████████████████████████████████████████████████████████████████████████████| 47/47 [00:41<00:00,  1.44it/s]\n",
      "100%|████████████████████████████████████████████████████████████████████████████████| 185/185 [02:42<00:00,  1.17it/s]\n"
     ]
    },
    {
     "name": "stdout",
     "output_type": "stream",
     "text": [
      "epoch: 24, f1_test: 0.8405469176784944, f1_train: 0.8581339657328712\n"
     ]
    },
    {
     "name": "stderr",
     "output_type": "stream",
     "text": [
      "100%|████████████████████████████████████████████████████████████████████████████████| 185/185 [03:31<00:00,  1.11s/it]\n",
      "100%|██████████████████████████████████████████████████████████████████████████████████| 47/47 [00:41<00:00,  1.44it/s]\n",
      "100%|████████████████████████████████████████████████████████████████████████████████| 185/185 [02:42<00:00,  1.19it/s]\n"
     ]
    },
    {
     "name": "stdout",
     "output_type": "stream",
     "text": [
      "epoch: 25, f1_test: 0.8334072714724808, f1_train: 0.8528543608193093\n"
     ]
    },
    {
     "name": "stderr",
     "output_type": "stream",
     "text": [
      "100%|████████████████████████████████████████████████████████████████████████████████| 185/185 [03:32<00:00,  1.10s/it]\n",
      "100%|██████████████████████████████████████████████████████████████████████████████████| 47/47 [00:41<00:00,  1.43it/s]\n",
      "100%|████████████████████████████████████████████████████████████████████████████████| 185/185 [02:43<00:00,  1.18it/s]\n"
     ]
    },
    {
     "name": "stdout",
     "output_type": "stream",
     "text": [
      "epoch: 26, f1_test: 0.83412528978457, f1_train: 0.8534239205293241\n"
     ]
    },
    {
     "name": "stderr",
     "output_type": "stream",
     "text": [
      "100%|████████████████████████████████████████████████████████████████████████████████| 185/185 [03:32<00:00,  1.11s/it]\n",
      "100%|██████████████████████████████████████████████████████████████████████████████████| 47/47 [00:41<00:00,  1.43it/s]\n",
      "100%|████████████████████████████████████████████████████████████████████████████████| 185/185 [02:42<00:00,  1.16it/s]\n"
     ]
    },
    {
     "name": "stdout",
     "output_type": "stream",
     "text": [
      "epoch: 27, f1_test: 0.8473314055599158, f1_train: 0.8568919810504693\n"
     ]
    },
    {
     "name": "stderr",
     "output_type": "stream",
     "text": [
      "100%|████████████████████████████████████████████████████████████████████████████████| 185/185 [03:34<00:00,  1.10s/it]\n",
      "100%|██████████████████████████████████████████████████████████████████████████████████| 47/47 [00:40<00:00,  1.44it/s]\n",
      "100%|████████████████████████████████████████████████████████████████████████████████| 185/185 [02:41<00:00,  1.19it/s]\n"
     ]
    },
    {
     "name": "stdout",
     "output_type": "stream",
     "text": [
      "epoch: 28, f1_test: 0.8452344003103882, f1_train: 0.8548290996662288\n"
     ]
    },
    {
     "name": "stderr",
     "output_type": "stream",
     "text": [
      "100%|████████████████████████████████████████████████████████████████████████████████| 185/185 [03:30<00:00,  1.10s/it]\n",
      "100%|██████████████████████████████████████████████████████████████████████████████████| 47/47 [00:40<00:00,  1.44it/s]\n",
      "100%|████████████████████████████████████████████████████████████████████████████████| 185/185 [02:42<00:00,  1.18it/s]\n"
     ]
    },
    {
     "name": "stdout",
     "output_type": "stream",
     "text": [
      "epoch: 29, f1_test: 0.8460504692511124, f1_train: 0.8563263435035078\n"
     ]
    }
   ],
   "source": [
    "# Продолжение обучения\n",
    "\n",
    "model_name = 'EM_v4_continie_learning.pt'\n",
    "model_train(model, train_loader_new, val_loader_new, model_name, lr, 30)"
   ]
  },
  {
   "cell_type": "code",
   "execution_count": 202,
   "metadata": {},
   "outputs": [
    {
     "name": "stdout",
     "output_type": "stream",
     "text": [
      "Loaded pretrained weights for efficientnet-b0\n"
     ]
    },
    {
     "name": "stderr",
     "output_type": "stream",
     "text": [
      "  0%|                                                                                           | 0/93 [00:00<?, ?it/s]D:\\Programs\\Anaconda\\lib\\site-packages\\ipykernel_launcher.py:56: UserWarning: Implicit dimension choice for softmax has been deprecated. Change the call to include dim=X as an argument.\n",
      "100%|██████████████████████████████████████████████████████████████████████████████████| 93/93 [01:01<00:00,  1.77it/s]\n"
     ]
    }
   ],
   "source": [
    "model_name = 'EM_v4_continie_learning.pt'\n",
    "model = Model_4().cuda()\n",
    "model.load_state_dict(torch.load(os.path.join('..', model_name)))\n",
    "model.eval()\n",
    "forecast, _ = model_predict_test(model, test_loader)\n",
    "\n",
    "df_test_new['label'] = forecast\n",
    "df_test_new.to_csv(f'{model_name}.csv', index=None)"
   ]
  },
  {
   "cell_type": "code",
   "execution_count": 204,
   "metadata": {},
   "outputs": [
    {
     "name": "stdout",
     "output_type": "stream",
     "text": [
      "Различных значений: 764\n"
     ]
    }
   ],
   "source": [
    "# сравнение старого test и test_new\n",
    "\n",
    "csv = ['baseline_v4.pt.csv', 'EM_v4_continie_learning.pt.csv']\n",
    "df = pd.DataFrame()\n",
    "\n",
    "for i in range(len(csv)):\n",
    "    temp_df = pd.read_csv(os.path.join('', csv[i]))\n",
    "    df['label' + str(i)] = temp_df.label   \n",
    "\n",
    "print('Различных значений:', sum(df['label0'] != df['label1']))"
   ]
  },
  {
   "cell_type": "code",
   "execution_count": 205,
   "metadata": {},
   "outputs": [],
   "source": [
    "# обновление train\n",
    "\n",
    "df_train_new_2 = pd.read_csv(os.path.join(DATA_PATH, train_meta_fname))\n",
    "df_train_new_2['label_encoded'] = df_train_new_2.label.map(classes_dict)\n",
    "\n",
    "for i in range(len(df_test_new)):\n",
    "    df_train_new_2.loc[len(df_train_new_2)] = [df_test_new['fname'][i], df_test_new['label'][i], classes_dict[df_test_new['label'][i]]]\n",
    "    \n",
    "df_train_new_2.to_csv('train_with_test_full_v4_step2.csv', index=None) "
   ]
  },
  {
   "cell_type": "code",
   "execution_count": 206,
   "metadata": {},
   "outputs": [],
   "source": [
    "df_test_new_2 = pd.read_csv(os.path.join(DATA_PATH, test_meta_fname))"
   ]
  },
  {
   "cell_type": "code",
   "execution_count": 208,
   "metadata": {},
   "outputs": [],
   "source": [
    "X_train, X_val, y_train, y_val = train_test_split(df_train_new_2.fname.values, df_train_new_2.label_encoded.values, \n",
    "                                                  test_size=0.2, random_state=42)\n",
    "train_loader_new_2 = DataLoader(\n",
    "                        EventDetectionDataset(os.path.join(DATA_PATH, train_data_folder), X_train, y_train),\n",
    "                        batch_size=41\n",
    "                )\n",
    "val_loader_new_2 = DataLoader(\n",
    "                        EventDetectionDataset(os.path.join(DATA_PATH, train_data_folder), X_val, y_val),\n",
    "                        batch_size=41\n",
    "                )"
   ]
  },
  {
   "cell_type": "code",
   "execution_count": 209,
   "metadata": {},
   "outputs": [
    {
     "name": "stderr",
     "output_type": "stream",
     "text": [
      "100%|████████████████████████████████████████████████████████████████████████████████| 185/185 [03:29<00:00,  1.11s/it]\n",
      "  0%|                                                                                           | 0/47 [00:00<?, ?it/s]D:\\Programs\\Anaconda\\lib\\site-packages\\ipykernel_launcher.py:56: UserWarning: Implicit dimension choice for softmax has been deprecated. Change the call to include dim=X as an argument.\n",
      "100%|██████████████████████████████████████████████████████████████████████████████████| 47/47 [00:41<00:00,  1.45it/s]\n",
      "100%|████████████████████████████████████████████████████████████████████████████████| 185/185 [02:41<00:00,  1.20it/s]\n"
     ]
    },
    {
     "name": "stdout",
     "output_type": "stream",
     "text": [
      "epoch: 0, f1_test: 0.8409535863630542, f1_train: 0.8585190454382254\n"
     ]
    },
    {
     "name": "stderr",
     "output_type": "stream",
     "text": [
      "100%|████████████████████████████████████████████████████████████████████████████████| 185/185 [03:30<00:00,  1.10s/it]\n",
      "100%|██████████████████████████████████████████████████████████████████████████████████| 47/47 [00:40<00:00,  1.44it/s]\n",
      "100%|████████████████████████████████████████████████████████████████████████████████| 185/185 [02:41<00:00,  1.20it/s]\n"
     ]
    },
    {
     "name": "stdout",
     "output_type": "stream",
     "text": [
      "epoch: 1, f1_test: 0.857791021534404, f1_train: 0.8602213163497571\n"
     ]
    },
    {
     "name": "stderr",
     "output_type": "stream",
     "text": [
      "100%|████████████████████████████████████████████████████████████████████████████████| 185/185 [03:29<00:00,  1.10s/it]\n",
      "100%|██████████████████████████████████████████████████████████████████████████████████| 47/47 [00:40<00:00,  1.46it/s]\n",
      "100%|████████████████████████████████████████████████████████████████████████████████| 185/185 [02:39<00:00,  1.19it/s]\n"
     ]
    },
    {
     "name": "stdout",
     "output_type": "stream",
     "text": [
      "epoch: 2, f1_test: 0.8458285132600627, f1_train: 0.8534087591642566\n"
     ]
    },
    {
     "name": "stderr",
     "output_type": "stream",
     "text": [
      "100%|████████████████████████████████████████████████████████████████████████████████| 185/185 [03:27<00:00,  1.07s/it]\n",
      "100%|██████████████████████████████████████████████████████████████████████████████████| 47/47 [00:40<00:00,  1.40it/s]\n",
      "100%|████████████████████████████████████████████████████████████████████████████████| 185/185 [02:41<00:00,  1.19it/s]\n"
     ]
    },
    {
     "name": "stdout",
     "output_type": "stream",
     "text": [
      "epoch: 3, f1_test: 0.8548217070596635, f1_train: 0.8590919730581802\n"
     ]
    },
    {
     "name": "stderr",
     "output_type": "stream",
     "text": [
      "100%|████████████████████████████████████████████████████████████████████████████████| 185/185 [03:25<00:00,  1.07s/it]\n",
      "100%|██████████████████████████████████████████████████████████████████████████████████| 47/47 [00:40<00:00,  1.46it/s]\n",
      "100%|████████████████████████████████████████████████████████████████████████████████| 185/185 [02:40<00:00,  1.21it/s]\n"
     ]
    },
    {
     "name": "stdout",
     "output_type": "stream",
     "text": [
      "epoch: 4, f1_test: 0.8498617410261973, f1_train: 0.8610336715375584\n"
     ]
    },
    {
     "name": "stderr",
     "output_type": "stream",
     "text": [
      "100%|████████████████████████████████████████████████████████████████████████████████| 185/185 [03:25<00:00,  1.07s/it]\n",
      "100%|██████████████████████████████████████████████████████████████████████████████████| 47/47 [00:40<00:00,  1.47it/s]\n",
      "100%|████████████████████████████████████████████████████████████████████████████████| 185/185 [02:40<00:00,  1.20it/s]\n"
     ]
    },
    {
     "name": "stdout",
     "output_type": "stream",
     "text": [
      "epoch: 5, f1_test: 0.8479771818812248, f1_train: 0.8620499934431446\n"
     ]
    },
    {
     "name": "stderr",
     "output_type": "stream",
     "text": [
      "100%|████████████████████████████████████████████████████████████████████████████████| 185/185 [03:28<00:00,  1.10s/it]\n",
      "100%|██████████████████████████████████████████████████████████████████████████████████| 47/47 [00:40<00:00,  1.46it/s]\n",
      "100%|████████████████████████████████████████████████████████████████████████████████| 185/185 [02:40<00:00,  1.20it/s]\n"
     ]
    },
    {
     "name": "stdout",
     "output_type": "stream",
     "text": [
      "epoch: 6, f1_test: 0.8448051650388165, f1_train: 0.8616855698158962\n"
     ]
    },
    {
     "name": "stderr",
     "output_type": "stream",
     "text": [
      "100%|████████████████████████████████████████████████████████████████████████████████| 185/185 [03:25<00:00,  1.07s/it]\n",
      "100%|██████████████████████████████████████████████████████████████████████████████████| 47/47 [00:40<00:00,  1.44it/s]\n",
      "100%|████████████████████████████████████████████████████████████████████████████████| 185/185 [02:40<00:00,  1.20it/s]\n"
     ]
    },
    {
     "name": "stdout",
     "output_type": "stream",
     "text": [
      "epoch: 7, f1_test: 0.857556474464596, f1_train: 0.8613396822906406\n"
     ]
    },
    {
     "name": "stderr",
     "output_type": "stream",
     "text": [
      "100%|████████████████████████████████████████████████████████████████████████████████| 185/185 [03:26<00:00,  1.07s/it]\n",
      "100%|██████████████████████████████████████████████████████████████████████████████████| 47/47 [00:40<00:00,  1.47it/s]\n",
      "100%|████████████████████████████████████████████████████████████████████████████████| 185/185 [02:40<00:00,  1.20it/s]\n"
     ]
    },
    {
     "name": "stdout",
     "output_type": "stream",
     "text": [
      "epoch: 8, f1_test: 0.844042928126312, f1_train: 0.8535594509861676\n"
     ]
    },
    {
     "name": "stderr",
     "output_type": "stream",
     "text": [
      "100%|████████████████████████████████████████████████████████████████████████████████| 185/185 [03:25<00:00,  1.07s/it]\n",
      "100%|██████████████████████████████████████████████████████████████████████████████████| 47/47 [00:40<00:00,  1.45it/s]\n",
      "100%|████████████████████████████████████████████████████████████████████████████████| 185/185 [02:40<00:00,  1.20it/s]\n"
     ]
    },
    {
     "name": "stdout",
     "output_type": "stream",
     "text": [
      "epoch: 9, f1_test: 0.8487076380079809, f1_train: 0.8562775559803252\n"
     ]
    },
    {
     "name": "stderr",
     "output_type": "stream",
     "text": [
      "100%|████████████████████████████████████████████████████████████████████████████████| 185/185 [03:26<00:00,  1.08s/it]\n",
      "100%|██████████████████████████████████████████████████████████████████████████████████| 47/47 [00:40<00:00,  1.46it/s]\n",
      "100%|████████████████████████████████████████████████████████████████████████████████| 185/185 [02:40<00:00,  1.19it/s]\n"
     ]
    },
    {
     "name": "stdout",
     "output_type": "stream",
     "text": [
      "epoch: 10, f1_test: 0.8528039320077698, f1_train: 0.8585499608313358\n"
     ]
    },
    {
     "name": "stderr",
     "output_type": "stream",
     "text": [
      "100%|████████████████████████████████████████████████████████████████████████████████| 185/185 [03:25<00:00,  1.07s/it]\n",
      "100%|██████████████████████████████████████████████████████████████████████████████████| 47/47 [00:40<00:00,  1.45it/s]\n",
      "100%|████████████████████████████████████████████████████████████████████████████████| 185/185 [02:40<00:00,  1.19it/s]\n"
     ]
    },
    {
     "name": "stdout",
     "output_type": "stream",
     "text": [
      "epoch: 11, f1_test: 0.8378240245339101, f1_train: 0.8534434554432213\n"
     ]
    },
    {
     "name": "stderr",
     "output_type": "stream",
     "text": [
      "100%|████████████████████████████████████████████████████████████████████████████████| 185/185 [03:25<00:00,  1.07s/it]\n",
      "100%|██████████████████████████████████████████████████████████████████████████████████| 47/47 [00:40<00:00,  1.47it/s]\n",
      "100%|████████████████████████████████████████████████████████████████████████████████| 185/185 [02:40<00:00,  1.19it/s]\n"
     ]
    },
    {
     "name": "stdout",
     "output_type": "stream",
     "text": [
      "epoch: 12, f1_test: 0.8467722836739097, f1_train: 0.8620920563778454\n"
     ]
    },
    {
     "name": "stderr",
     "output_type": "stream",
     "text": [
      "100%|████████████████████████████████████████████████████████████████████████████████| 185/185 [03:25<00:00,  1.08s/it]\n",
      "100%|██████████████████████████████████████████████████████████████████████████████████| 47/47 [00:40<00:00,  1.44it/s]\n",
      "100%|████████████████████████████████████████████████████████████████████████████████| 185/185 [02:40<00:00,  1.20it/s]\n"
     ]
    },
    {
     "name": "stdout",
     "output_type": "stream",
     "text": [
      "epoch: 13, f1_test: 0.8400621410329691, f1_train: 0.8536664875851552\n"
     ]
    },
    {
     "name": "stderr",
     "output_type": "stream",
     "text": [
      "100%|████████████████████████████████████████████████████████████████████████████████| 185/185 [03:25<00:00,  1.08s/it]\n",
      "100%|██████████████████████████████████████████████████████████████████████████████████| 47/47 [00:40<00:00,  1.46it/s]\n",
      "100%|████████████████████████████████████████████████████████████████████████████████| 185/185 [02:40<00:00,  1.18it/s]\n"
     ]
    },
    {
     "name": "stdout",
     "output_type": "stream",
     "text": [
      "epoch: 14, f1_test: 0.8466765317981526, f1_train: 0.8590907675082933\n"
     ]
    },
    {
     "name": "stderr",
     "output_type": "stream",
     "text": [
      "100%|████████████████████████████████████████████████████████████████████████████████| 185/185 [03:27<00:00,  1.08s/it]\n",
      "100%|██████████████████████████████████████████████████████████████████████████████████| 47/47 [00:40<00:00,  1.46it/s]\n",
      "100%|████████████████████████████████████████████████████████████████████████████████| 185/185 [02:40<00:00,  1.20it/s]\n"
     ]
    },
    {
     "name": "stdout",
     "output_type": "stream",
     "text": [
      "epoch: 15, f1_test: 0.8489625756992318, f1_train: 0.8616551024735783\n"
     ]
    },
    {
     "name": "stderr",
     "output_type": "stream",
     "text": [
      "100%|████████████████████████████████████████████████████████████████████████████████| 185/185 [03:28<00:00,  1.16s/it]\n",
      "100%|██████████████████████████████████████████████████████████████████████████████████| 47/47 [00:44<00:00,  1.36it/s]\n",
      "100%|████████████████████████████████████████████████████████████████████████████████| 185/185 [03:03<00:00,  1.01s/it]\n"
     ]
    },
    {
     "name": "stdout",
     "output_type": "stream",
     "text": [
      "epoch: 16, f1_test: 0.8564500799149258, f1_train: 0.8554226168863147\n"
     ]
    },
    {
     "name": "stderr",
     "output_type": "stream",
     "text": [
      "100%|████████████████████████████████████████████████████████████████████████████████| 185/185 [03:40<00:00,  1.11s/it]\n",
      "100%|██████████████████████████████████████████████████████████████████████████████████| 47/47 [00:41<00:00,  1.42it/s]\n",
      "100%|████████████████████████████████████████████████████████████████████████████████| 185/185 [02:41<00:00,  1.19it/s]\n"
     ]
    },
    {
     "name": "stdout",
     "output_type": "stream",
     "text": [
      "epoch: 17, f1_test: 0.8543290009187295, f1_train: 0.8604099277072716\n"
     ]
    },
    {
     "name": "stderr",
     "output_type": "stream",
     "text": [
      "100%|████████████████████████████████████████████████████████████████████████████████| 185/185 [03:31<00:00,  1.10s/it]\n",
      "100%|██████████████████████████████████████████████████████████████████████████████████| 47/47 [00:41<00:00,  1.41it/s]\n",
      "100%|████████████████████████████████████████████████████████████████████████████████| 185/185 [02:41<00:00,  1.18it/s]\n"
     ]
    },
    {
     "name": "stdout",
     "output_type": "stream",
     "text": [
      "epoch: 18, f1_test: 0.8588172622408867, f1_train: 0.8605545254425664\n"
     ]
    },
    {
     "name": "stderr",
     "output_type": "stream",
     "text": [
      "100%|████████████████████████████████████████████████████████████████████████████████| 185/185 [03:30<00:00,  1.11s/it]\n",
      "100%|██████████████████████████████████████████████████████████████████████████████████| 47/47 [00:40<00:00,  1.46it/s]\n",
      "100%|████████████████████████████████████████████████████████████████████████████████| 185/185 [02:41<00:00,  1.18it/s]\n"
     ]
    },
    {
     "name": "stdout",
     "output_type": "stream",
     "text": [
      "epoch: 19, f1_test: 0.859660362615267, f1_train: 0.8649227587857519\n"
     ]
    }
   ],
   "source": [
    "# Продолжение обучения\n",
    "\n",
    "model_name = 'EM_v4_step2_continie_learning.pt'\n",
    "model_train(model, train_loader_new_2, val_loader_new_2, model_name, lr, 20)"
   ]
  },
  {
   "cell_type": "code",
   "execution_count": 210,
   "metadata": {},
   "outputs": [
    {
     "name": "stdout",
     "output_type": "stream",
     "text": [
      "Loaded pretrained weights for efficientnet-b0\n"
     ]
    },
    {
     "name": "stderr",
     "output_type": "stream",
     "text": [
      "  0%|                                                                                           | 0/93 [00:00<?, ?it/s]D:\\Programs\\Anaconda\\lib\\site-packages\\ipykernel_launcher.py:56: UserWarning: Implicit dimension choice for softmax has been deprecated. Change the call to include dim=X as an argument.\n",
      "100%|██████████████████████████████████████████████████████████████████████████████████| 93/93 [01:04<00:00,  1.73it/s]\n"
     ]
    }
   ],
   "source": [
    "model_name = 'EM_v4_step2_continie_learning.pt'\n",
    "model = Model_4().cuda()\n",
    "model.load_state_dict(torch.load(os.path.join('..', model_name)))\n",
    "model.eval()\n",
    "forecast, _ = model_predict_test(model, test_loader)\n",
    "\n",
    "df_test_new_2['label'] = forecast\n",
    "df_test_new_2.to_csv(f'{model_name}.csv', index=None)"
   ]
  },
  {
   "cell_type": "code",
   "execution_count": 212,
   "metadata": {},
   "outputs": [],
   "source": [
    "df = pd.DataFrame()\n",
    "\n",
    "df['label' + str(0)] = df_test.label\n",
    "df['label' + str(1)] = df_test_new.label\n",
    "df['label' + str(2)] = df_test_new_2.label "
   ]
  },
  {
   "cell_type": "code",
   "execution_count": 215,
   "metadata": {},
   "outputs": [
    {
     "name": "stdout",
     "output_type": "stream",
     "text": [
      "Различных значений: 705\n"
     ]
    }
   ],
   "source": [
    "print('Различных значений:', sum(df['label1'] != df['label2']))"
   ]
  },
  {
   "cell_type": "markdown",
   "metadata": {},
   "source": [
    "# Голосование"
   ]
  },
  {
   "cell_type": "code",
   "execution_count": 337,
   "metadata": {},
   "outputs": [],
   "source": [
    "def voiting(csv, name):    \n",
    "    df = pd.DataFrame()\n",
    "    \n",
    "    for i in range(len(csv)):\n",
    "        temp_df = pd.read_csv(os.path.join('', csv[i]))\n",
    "        df['label' + str(i)] = temp_df.label   \n",
    "    \n",
    "    df_test['label'] = df.mode(axis='columns')[0]\n",
    "    df_test.to_csv(name, index=None)\n",
    "    \n",
    "    return df"
   ]
  },
  {
   "cell_type": "code",
   "execution_count": 85,
   "metadata": {},
   "outputs": [],
   "source": [
    "csv_arr = ['baseline_v5.pt.csv', 'baseline_v3.pt.csv', 'baseline_v2.pt.csv']\n",
    "labels_result = voiting(csv_arr, 'voting_v5_3_2.csv')"
   ]
  },
  {
   "cell_type": "code",
   "execution_count": 341,
   "metadata": {},
   "outputs": [],
   "source": [
    "csv_arr = ['Stacking_v1_2_3_4_5_SS41_EM42.csv', 'Stacking_v1_2_3_4_5_SS41_SS42_EM41_EM42.csv', 'Stacking_v1_4_SS41_EM42.csv', 'Stacking_v2_3_4_5.csv', 'Stacking_vSS41_SS42_EM41_EM42.csv']\n",
    "labels_result = voiting(csv_arr, 'Voting_v_Stacking_all.csv')"
   ]
  },
  {
   "cell_type": "code",
   "execution_count": null,
   "metadata": {},
   "outputs": [],
   "source": [
    "# Варианты csv\n",
    "\n",
    "# 'baseline_v4.pt.csv', 'baseline_fulldiv.pt.csv', 'baseline_v5.pt.csv', 'baseline_v3.pt.csv', 'baseline_v2.pt.csv'\n",
    "# 'Semi_S_99_v4.pt.csv','Semi_S_99_v4_2step_continie_learning.pt.csv','EM_v4_continie_learning.pt.csv','EM_v4_step2_continie_learning.pt.csv'\n",
    "# 'Stacking_v1_2_3_4_5_SS41_EM42.csv', 'Stacking_v1_2_3_4_5_SS41_SS42_EM41_EM42.csv', 'Stacking_v1_4_SS41_EM42.csv', 'Stacking_v2_3_4_5.csv', 'Stacking_vSS41_SS42_EM41_EM42.csv'"
   ]
  },
  {
   "cell_type": "markdown",
   "metadata": {},
   "source": [
    "# Stacking"
   ]
  },
  {
   "cell_type": "code",
   "execution_count": null,
   "metadata": {},
   "outputs": [],
   "source": [
    "# Предсказания моделей на train, val и test\n",
    "# Разные data_loader и функции"
   ]
  },
  {
   "cell_type": "code",
   "execution_count": 320,
   "metadata": {},
   "outputs": [
    {
     "name": "stdout",
     "output_type": "stream",
     "text": [
      "Loaded pretrained weights for efficientnet-b0\n"
     ]
    },
    {
     "name": "stderr",
     "output_type": "stream",
     "text": [
      "  0%|                                                                                           | 0/93 [00:00<?, ?it/s]D:\\Programs\\Anaconda\\lib\\site-packages\\ipykernel_launcher.py:29: UserWarning: Implicit dimension choice for softmax has been deprecated. Change the call to include dim=X as an argument.\n",
      "100%|██████████████████████████████████████████████████████████████████████████████████| 93/93 [01:02<00:00,  1.73it/s]\n"
     ]
    }
   ],
   "source": [
    "model_name = 'Semi_S_99_v4_2step_continie_learning.pt'\n",
    "model = Model_4().cuda()\n",
    "model.load_state_dict(torch.load(os.path.join('..', model_name)))\n",
    "model.eval()\n",
    "_, probs_1 = model_predict_test(model, test_loader)"
   ]
  },
  {
   "cell_type": "code",
   "execution_count": 321,
   "metadata": {},
   "outputs": [
    {
     "name": "stdout",
     "output_type": "stream",
     "text": [
      "Loaded pretrained weights for efficientnet-b0\n"
     ]
    },
    {
     "name": "stderr",
     "output_type": "stream",
     "text": [
      "  0%|                                                                                           | 0/93 [00:00<?, ?it/s]D:\\Programs\\Anaconda\\lib\\site-packages\\ipykernel_launcher.py:29: UserWarning: Implicit dimension choice for softmax has been deprecated. Change the call to include dim=X as an argument.\n",
      "100%|██████████████████████████████████████████████████████████████████████████████████| 93/93 [01:01<00:00,  1.75it/s]\n"
     ]
    }
   ],
   "source": [
    "model_name = 'EM_v4_continie_learning.pt'\n",
    "model = Model_4().cuda()\n",
    "model.load_state_dict(torch.load(os.path.join('..', model_name)))\n",
    "model.eval()\n",
    "_, probs_2 = model_predict_test(model, test_loader)"
   ]
  },
  {
   "cell_type": "code",
   "execution_count": 322,
   "metadata": {},
   "outputs": [
    {
     "name": "stdout",
     "output_type": "stream",
     "text": [
      "Loaded pretrained weights for efficientnet-b0\n"
     ]
    },
    {
     "name": "stderr",
     "output_type": "stream",
     "text": [
      "  0%|                                                                                           | 0/93 [00:00<?, ?it/s]D:\\Programs\\Anaconda\\lib\\site-packages\\ipykernel_launcher.py:29: UserWarning: Implicit dimension choice for softmax has been deprecated. Change the call to include dim=X as an argument.\n",
      "100%|██████████████████████████████████████████████████████████████████████████████████| 93/93 [01:01<00:00,  1.75it/s]\n"
     ]
    }
   ],
   "source": [
    "model_name = 'Semi_S_99_v4.pt'\n",
    "model = Model_4().cuda()\n",
    "model.load_state_dict(torch.load(os.path.join('..', model_name)))\n",
    "model.eval()\n",
    "_, probs_3 = model_predict_test(model, test_loader)"
   ]
  },
  {
   "cell_type": "code",
   "execution_count": 323,
   "metadata": {},
   "outputs": [
    {
     "name": "stdout",
     "output_type": "stream",
     "text": [
      "Loaded pretrained weights for efficientnet-b0\n"
     ]
    },
    {
     "name": "stderr",
     "output_type": "stream",
     "text": [
      "  0%|                                                                                           | 0/93 [00:00<?, ?it/s]D:\\Programs\\Anaconda\\lib\\site-packages\\ipykernel_launcher.py:29: UserWarning: Implicit dimension choice for softmax has been deprecated. Change the call to include dim=X as an argument.\n",
      "100%|██████████████████████████████████████████████████████████████████████████████████| 93/93 [01:01<00:00,  1.79it/s]\n"
     ]
    }
   ],
   "source": [
    "model_name = 'EM_v4_step2_continie_learning.pt'\n",
    "model = Model_4().cuda()\n",
    "model.load_state_dict(torch.load(os.path.join('..', model_name)))\n",
    "model.eval()\n",
    "_, probs_4 = model_predict_test(model, test_loader)"
   ]
  },
  {
   "cell_type": "code",
   "execution_count": null,
   "metadata": {},
   "outputs": [],
   "source": [
    "# Объединение предсказаний"
   ]
  },
  {
   "cell_type": "code",
   "execution_count": 288,
   "metadata": {},
   "outputs": [],
   "source": [
    "probs_train = np.hstack((probs_1, probs_2, probs_3, probs_4))"
   ]
  },
  {
   "cell_type": "code",
   "execution_count": 294,
   "metadata": {},
   "outputs": [],
   "source": [
    "probs_val = np.hstack((probs_1, probs_2, probs_3, probs_4))"
   ]
  },
  {
   "cell_type": "code",
   "execution_count": 281,
   "metadata": {},
   "outputs": [],
   "source": [
    "probs_test = np.hstack((probs_1, probs_2, probs_3, probs_4))"
   ]
  },
  {
   "cell_type": "code",
   "execution_count": 332,
   "metadata": {},
   "outputs": [
    {
     "name": "stderr",
     "output_type": "stream",
     "text": [
      "D:\\Programs\\Anaconda\\lib\\site-packages\\sklearn\\linear_model\\logistic.py:432: FutureWarning: Default solver will be changed to 'lbfgs' in 0.22. Specify a solver to silence this warning.\n",
      "  FutureWarning)\n",
      "D:\\Programs\\Anaconda\\lib\\site-packages\\sklearn\\linear_model\\logistic.py:469: FutureWarning: Default multi_class will be changed to 'auto' in 0.22. Specify the multi_class option to silence this warning.\n",
      "  \"this warning.\", FutureWarning)\n"
     ]
    }
   ],
   "source": [
    "# Обучение классификкатора\n",
    "\n",
    "from sklearn.linear_model import LogisticRegression\n",
    "\n",
    "clf = LogisticRegression().fit(probs_train, y_train)"
   ]
  },
  {
   "cell_type": "code",
   "execution_count": 333,
   "metadata": {},
   "outputs": [],
   "source": [
    "predict_val = clf.predict_proba(probs_val)"
   ]
  },
  {
   "cell_type": "code",
   "execution_count": 336,
   "metadata": {},
   "outputs": [],
   "source": [
    "predict_test = clf.predict_proba(probs_test) \n",
    "\n",
    "decoder = {classes_dict[cl]:cl for cl in classes_dict}\n",
    "forecast = pd.Series(predict_test.argmax(axis=1)).map(decoder)\n",
    "\n",
    "df_test['label'] = forecast\n",
    "df_test.to_csv('Stacking_vSS41_SS42_EM41_EM42.csv', index=None)"
   ]
  },
  {
   "cell_type": "code",
   "execution_count": 334,
   "metadata": {},
   "outputs": [],
   "source": [
    "# f1-score для разных наборов классификаторов"
   ]
  },
  {
   "cell_type": "code",
   "execution_count": 263,
   "metadata": {},
   "outputs": [
    {
     "data": {
      "text/plain": [
       "0.7533077700861295"
      ]
     },
     "execution_count": 263,
     "metadata": {},
     "output_type": "execute_result"
    }
   ],
   "source": [
    "f1_score(predict_val.argmax(axis=1), y_val, average='macro') # классификаторы v 2 3 4 5"
   ]
  },
  {
   "cell_type": "code",
   "execution_count": 299,
   "metadata": {},
   "outputs": [
    {
     "data": {
      "text/plain": [
       "0.7932197206315299"
      ]
     },
     "execution_count": 299,
     "metadata": {},
     "output_type": "execute_result"
    }
   ],
   "source": [
    "f1_score(predict_val.argmax(axis=1), y_val, average='macro') # классификаторы v 1 4 SS41 EM42"
   ]
  },
  {
   "cell_type": "code",
   "execution_count": 307,
   "metadata": {},
   "outputs": [
    {
     "data": {
      "text/plain": [
       "0.8168401720502562"
      ]
     },
     "execution_count": 307,
     "metadata": {},
     "output_type": "execute_result"
    }
   ],
   "source": [
    "f1_score(predict_val.argmax(axis=1), y_val, average='macro') # классификаторы v 1 2 3 4 5 SS41 EM42"
   ]
  },
  {
   "cell_type": "code",
   "execution_count": 335,
   "metadata": {},
   "outputs": [
    {
     "data": {
      "text/plain": [
       "0.8141336888247914"
      ]
     },
     "execution_count": 335,
     "metadata": {},
     "output_type": "execute_result"
    }
   ],
   "source": [
    "f1_score(predict_val.argmax(axis=1), y_val, average='macro') # классификаторы v SS41 SS42 EM41 EM42"
   ]
  },
  {
   "cell_type": "code",
   "execution_count": 329,
   "metadata": {},
   "outputs": [
    {
     "data": {
      "text/plain": [
       "0.8244484560798716"
      ]
     },
     "execution_count": 329,
     "metadata": {},
     "output_type": "execute_result"
    }
   ],
   "source": [
    "f1_score(predict_val.argmax(axis=1), y_val, average='macro') # классификаторы v 1 2 3 4 5 SS41 SS42 EM41 EM42"
   ]
  },
  {
   "cell_type": "code",
   "execution_count": null,
   "metadata": {},
   "outputs": [],
   "source": []
  },
  {
   "cell_type": "code",
   "execution_count": null,
   "metadata": {},
   "outputs": [],
   "source": [
    "# Обучение классификаторов на разных частях датасета"
   ]
  },
  {
   "cell_type": "code",
   "execution_count": 16,
   "metadata": {},
   "outputs": [],
   "source": [
    "X_train, X_val, y_train, y_val = train_test_split(df_train.fname.values, df_train.label_encoded.values, \n",
    "                                                  test_size=0.2, random_state=42)\n",
    "\n",
    "X_train_12, X_train_34, y_train_12, y_train_34 = train_test_split(X_train, y_train, test_size=0.5, random_state=42)\n",
    "X_train_1, X_train_2, y_train_1, y_train_2 = train_test_split(X_train_12, y_train_12, test_size=0.5, random_state=42)\n",
    "X_train_3, X_train_4, y_train_3, y_train_4 = train_test_split(X_train_34, y_train_34, test_size=0.5, random_state=42)\n",
    "\n",
    "X_train_clf1 = np.hstack((X_train_2, X_train_3, X_train_4))\n",
    "X_train_clf2 = np.hstack((X_train_1, X_train_3, X_train_4))\n",
    "X_train_clf3 = np.hstack((X_train_1, X_train_2, X_train_4))\n",
    "X_train_clf4 = np.hstack((X_train_1, X_train_2, X_train_3))\n",
    "y_train_clf1 = np.hstack((y_train_2, y_train_3, y_train_4))\n",
    "y_train_clf2 = np.hstack((y_train_1, y_train_3, y_train_4))\n",
    "y_train_clf3 = np.hstack((y_train_1, y_train_2, y_train_4))\n",
    "y_train_clf4 = np.hstack((y_train_1, y_train_2, y_train_3))\n",
    "\n",
    "train_loader = DataLoader(\n",
    "                        EventDetectionDataset(os.path.join(DATA_PATH, train_data_folder), X_train, y_train),\n",
    "                        batch_size=41\n",
    "                )\n",
    "train_loader_1 = DataLoader(\n",
    "                        EventDetectionDataset(os.path.join(DATA_PATH, train_data_folder), X_train_clf1, y_train_clf1),\n",
    "                        batch_size=41\n",
    "                )\n",
    "train_loader_2 = DataLoader(\n",
    "                        EventDetectionDataset(os.path.join(DATA_PATH, train_data_folder), X_train_clf2, y_train_clf2),\n",
    "                        batch_size=41\n",
    "                )\n",
    "train_loader_3 = DataLoader(\n",
    "                        EventDetectionDataset(os.path.join(DATA_PATH, train_data_folder), X_train_clf3, y_train_clf3),\n",
    "                        batch_size=41\n",
    "                )\n",
    "train_loader_4 = DataLoader(\n",
    "                        EventDetectionDataset(os.path.join(DATA_PATH, train_data_folder), X_train_clf4, y_train_clf4),\n",
    "                        batch_size=41\n",
    "                )\n",
    "val_loader_1 = DataLoader(\n",
    "                        EventDetectionDataset(os.path.join(DATA_PATH, train_data_folder), X_train_1, y_train_1),\n",
    "                        batch_size=41\n",
    "                )\n",
    "val_loader_2 = DataLoader(\n",
    "                        EventDetectionDataset(os.path.join(DATA_PATH, train_data_folder), X_train_2, y_train_2),\n",
    "                        batch_size=41\n",
    "                )\n",
    "val_loader_3 = DataLoader(\n",
    "                        EventDetectionDataset(os.path.join(DATA_PATH, train_data_folder), X_train_3, y_train_3),\n",
    "                        batch_size=41\n",
    "                )\n",
    "val_loader_4 = DataLoader(\n",
    "                        EventDetectionDataset(os.path.join(DATA_PATH, train_data_folder), X_train_4, y_train_4),\n",
    "                        batch_size=41\n",
    "                )\n",
    "val_loader = DataLoader(\n",
    "                        EventDetectionDataset(os.path.join(DATA_PATH, train_data_folder), X_val, y_val),\n",
    "                        batch_size=41\n",
    "                )"
   ]
  },
  {
   "cell_type": "code",
   "execution_count": 21,
   "metadata": {},
   "outputs": [
    {
     "name": "stdout",
     "output_type": "stream",
     "text": [
      "Loaded pretrained weights for efficientnet-b0\n"
     ]
    },
    {
     "name": "stderr",
     "output_type": "stream",
     "text": [
      "100%|██████████████████████████████████████████████████████████████████████████████████| 84/84 [01:40<00:00,  1.18it/s]\n",
      "  0%|                                                                                           | 0/28 [00:00<?, ?it/s]D:\\Programs\\Anaconda\\lib\\site-packages\\ipykernel_launcher.py:27: UserWarning: Implicit dimension choice for softmax has been deprecated. Change the call to include dim=X as an argument.\n",
      "100%|██████████████████████████████████████████████████████████████████████████████████| 28/28 [00:22<00:00,  1.39it/s]\n",
      "D:\\Programs\\Anaconda\\lib\\site-packages\\sklearn\\metrics\\classification.py:1439: UndefinedMetricWarning: F-score is ill-defined and being set to 0.0 in labels with no true samples.\n",
      "  'recall', 'true', average, warn_for)\n",
      "100%|██████████████████████████████████████████████████████████████████████████████████| 84/84 [01:07<00:00,  1.67it/s]\n"
     ]
    },
    {
     "name": "stdout",
     "output_type": "stream",
     "text": [
      "epoch: 0, f1_test: 0.08250707795199802, f1_train: 0.08733755465107046\n"
     ]
    },
    {
     "name": "stderr",
     "output_type": "stream",
     "text": [
      "100%|██████████████████████████████████████████████████████████████████████████████████| 84/84 [01:25<00:00,  1.20it/s]\n",
      "100%|██████████████████████████████████████████████████████████████████████████████████| 28/28 [00:21<00:00,  1.40it/s]\n",
      "100%|██████████████████████████████████████████████████████████████████████████████████| 84/84 [01:04<00:00,  1.65it/s]\n"
     ]
    },
    {
     "name": "stdout",
     "output_type": "stream",
     "text": [
      "epoch: 1, f1_test: 0.09193549295435971, f1_train: 0.1175754389913618\n"
     ]
    },
    {
     "name": "stderr",
     "output_type": "stream",
     "text": [
      "100%|██████████████████████████████████████████████████████████████████████████████████| 84/84 [01:25<00:00,  1.19it/s]\n",
      "100%|██████████████████████████████████████████████████████████████████████████████████| 28/28 [00:21<00:00,  1.40it/s]\n",
      "100%|██████████████████████████████████████████████████████████████████████████████████| 84/84 [01:04<00:00,  1.67it/s]\n"
     ]
    },
    {
     "name": "stdout",
     "output_type": "stream",
     "text": [
      "epoch: 2, f1_test: 0.17304290211342707, f1_train: 0.23687181376464736\n"
     ]
    },
    {
     "name": "stderr",
     "output_type": "stream",
     "text": [
      "100%|██████████████████████████████████████████████████████████████████████████████████| 84/84 [01:25<00:00,  1.21it/s]\n",
      "100%|██████████████████████████████████████████████████████████████████████████████████| 28/28 [00:21<00:00,  1.41it/s]\n",
      "100%|██████████████████████████████████████████████████████████████████████████████████| 84/84 [01:04<00:00,  1.66it/s]\n"
     ]
    },
    {
     "name": "stdout",
     "output_type": "stream",
     "text": [
      "epoch: 3, f1_test: 0.23266451337584731, f1_train: 0.27600589165010914\n"
     ]
    },
    {
     "name": "stderr",
     "output_type": "stream",
     "text": [
      "100%|██████████████████████████████████████████████████████████████████████████████████| 84/84 [01:25<00:00,  1.19it/s]\n",
      "100%|██████████████████████████████████████████████████████████████████████████████████| 28/28 [00:21<00:00,  1.40it/s]\n",
      "100%|██████████████████████████████████████████████████████████████████████████████████| 84/84 [01:03<00:00,  1.67it/s]\n"
     ]
    },
    {
     "name": "stdout",
     "output_type": "stream",
     "text": [
      "epoch: 4, f1_test: 0.23770708996020432, f1_train: 0.3086094391575349\n"
     ]
    },
    {
     "name": "stderr",
     "output_type": "stream",
     "text": [
      "100%|██████████████████████████████████████████████████████████████████████████████████| 84/84 [01:25<00:00,  1.20it/s]\n",
      "100%|██████████████████████████████████████████████████████████████████████████████████| 28/28 [00:21<00:00,  1.41it/s]\n",
      "100%|██████████████████████████████████████████████████████████████████████████████████| 84/84 [01:04<00:00,  1.69it/s]\n"
     ]
    },
    {
     "name": "stdout",
     "output_type": "stream",
     "text": [
      "epoch: 5, f1_test: 0.2991219662013337, f1_train: 0.3760425867659124\n"
     ]
    },
    {
     "name": "stderr",
     "output_type": "stream",
     "text": [
      "100%|██████████████████████████████████████████████████████████████████████████████████| 84/84 [01:25<00:00,  1.23it/s]\n",
      "100%|██████████████████████████████████████████████████████████████████████████████████| 28/28 [00:21<00:00,  1.40it/s]\n",
      "100%|██████████████████████████████████████████████████████████████████████████████████| 84/84 [01:04<00:00,  1.68it/s]\n"
     ]
    },
    {
     "name": "stdout",
     "output_type": "stream",
     "text": [
      "epoch: 6, f1_test: 0.319381736065498, f1_train: 0.3986007479671152\n"
     ]
    },
    {
     "name": "stderr",
     "output_type": "stream",
     "text": [
      "100%|██████████████████████████████████████████████████████████████████████████████████| 84/84 [01:25<00:00,  1.21it/s]\n",
      "100%|██████████████████████████████████████████████████████████████████████████████████| 28/28 [00:21<00:00,  1.41it/s]\n",
      "100%|██████████████████████████████████████████████████████████████████████████████████| 84/84 [01:04<00:00,  1.67it/s]\n"
     ]
    },
    {
     "name": "stdout",
     "output_type": "stream",
     "text": [
      "epoch: 7, f1_test: 0.39093088828176764, f1_train: 0.4956469880342873\n"
     ]
    },
    {
     "name": "stderr",
     "output_type": "stream",
     "text": [
      "100%|██████████████████████████████████████████████████████████████████████████████████| 84/84 [01:25<00:00,  1.21it/s]\n",
      "100%|██████████████████████████████████████████████████████████████████████████████████| 28/28 [00:21<00:00,  1.41it/s]\n",
      "100%|██████████████████████████████████████████████████████████████████████████████████| 84/84 [01:04<00:00,  1.66it/s]\n"
     ]
    },
    {
     "name": "stdout",
     "output_type": "stream",
     "text": [
      "epoch: 8, f1_test: 0.436939551349789, f1_train: 0.5247997695216481\n"
     ]
    },
    {
     "name": "stderr",
     "output_type": "stream",
     "text": [
      "100%|██████████████████████████████████████████████████████████████████████████████████| 84/84 [01:25<00:00,  1.17it/s]\n",
      "100%|██████████████████████████████████████████████████████████████████████████████████| 28/28 [00:21<00:00,  1.39it/s]\n",
      "100%|██████████████████████████████████████████████████████████████████████████████████| 84/84 [01:04<00:00,  1.66it/s]\n"
     ]
    },
    {
     "name": "stdout",
     "output_type": "stream",
     "text": [
      "epoch: 9, f1_test: 0.3406834951576722, f1_train: 0.4607522123422016\n"
     ]
    },
    {
     "name": "stderr",
     "output_type": "stream",
     "text": [
      "100%|██████████████████████████████████████████████████████████████████████████████████| 84/84 [01:25<00:00,  1.15it/s]\n",
      "100%|██████████████████████████████████████████████████████████████████████████████████| 28/28 [00:21<00:00,  1.40it/s]\n",
      "100%|██████████████████████████████████████████████████████████████████████████████████| 84/84 [01:04<00:00,  1.65it/s]\n"
     ]
    },
    {
     "name": "stdout",
     "output_type": "stream",
     "text": [
      "epoch: 10, f1_test: 0.5147437660246147, f1_train: 0.6352628981128442\n"
     ]
    },
    {
     "name": "stderr",
     "output_type": "stream",
     "text": [
      "100%|██████████████████████████████████████████████████████████████████████████████████| 84/84 [01:25<00:00,  1.18it/s]\n",
      "100%|██████████████████████████████████████████████████████████████████████████████████| 28/28 [00:21<00:00,  1.40it/s]\n",
      "100%|██████████████████████████████████████████████████████████████████████████████████| 84/84 [01:04<00:00,  1.65it/s]\n"
     ]
    },
    {
     "name": "stdout",
     "output_type": "stream",
     "text": [
      "epoch: 11, f1_test: 0.46434420964568274, f1_train: 0.611707919023083\n"
     ]
    },
    {
     "name": "stderr",
     "output_type": "stream",
     "text": [
      "100%|██████████████████████████████████████████████████████████████████████████████████| 84/84 [01:24<00:00,  1.23it/s]\n",
      "100%|██████████████████████████████████████████████████████████████████████████████████| 28/28 [00:21<00:00,  1.39it/s]\n",
      "100%|██████████████████████████████████████████████████████████████████████████████████| 84/84 [01:04<00:00,  1.65it/s]\n"
     ]
    },
    {
     "name": "stdout",
     "output_type": "stream",
     "text": [
      "epoch: 12, f1_test: 0.38854853431958686, f1_train: 0.5089743554453301\n"
     ]
    },
    {
     "name": "stderr",
     "output_type": "stream",
     "text": [
      "100%|██████████████████████████████████████████████████████████████████████████████████| 84/84 [01:24<00:00,  1.22it/s]\n",
      "100%|██████████████████████████████████████████████████████████████████████████████████| 28/28 [00:21<00:00,  1.38it/s]\n",
      "100%|██████████████████████████████████████████████████████████████████████████████████| 84/84 [01:04<00:00,  1.65it/s]\n"
     ]
    },
    {
     "name": "stdout",
     "output_type": "stream",
     "text": [
      "epoch: 13, f1_test: 0.41635623178602577, f1_train: 0.5466793618453915\n"
     ]
    },
    {
     "name": "stderr",
     "output_type": "stream",
     "text": [
      "100%|██████████████████████████████████████████████████████████████████████████████████| 84/84 [01:24<00:00,  1.20it/s]\n",
      "100%|██████████████████████████████████████████████████████████████████████████████████| 28/28 [00:21<00:00,  1.41it/s]\n",
      "100%|██████████████████████████████████████████████████████████████████████████████████| 84/84 [01:04<00:00,  1.64it/s]\n"
     ]
    },
    {
     "name": "stdout",
     "output_type": "stream",
     "text": [
      "epoch: 14, f1_test: 0.441923870460923, f1_train: 0.5567451523061918\n"
     ]
    },
    {
     "name": "stderr",
     "output_type": "stream",
     "text": [
      "100%|██████████████████████████████████████████████████████████████████████████████████| 84/84 [01:25<00:00,  1.21it/s]\n",
      "100%|██████████████████████████████████████████████████████████████████████████████████| 28/28 [00:21<00:00,  1.36it/s]\n",
      "100%|██████████████████████████████████████████████████████████████████████████████████| 84/84 [01:05<00:00,  1.61it/s]\n"
     ]
    },
    {
     "name": "stdout",
     "output_type": "stream",
     "text": [
      "epoch: 15, f1_test: 0.43168215880002486, f1_train: 0.5902423467646545\n"
     ]
    },
    {
     "name": "stderr",
     "output_type": "stream",
     "text": [
      "100%|██████████████████████████████████████████████████████████████████████████████████| 84/84 [01:24<00:00,  1.22it/s]\n",
      "100%|██████████████████████████████████████████████████████████████████████████████████| 28/28 [00:21<00:00,  1.40it/s]\n",
      "100%|██████████████████████████████████████████████████████████████████████████████████| 84/84 [01:05<00:00,  1.68it/s]\n"
     ]
    },
    {
     "name": "stdout",
     "output_type": "stream",
     "text": [
      "epoch: 16, f1_test: 0.44576359860575354, f1_train: 0.5846683255964443\n"
     ]
    },
    {
     "name": "stderr",
     "output_type": "stream",
     "text": [
      "100%|██████████████████████████████████████████████████████████████████████████████████| 84/84 [01:24<00:00,  1.21it/s]\n",
      "100%|██████████████████████████████████████████████████████████████████████████████████| 28/28 [00:21<00:00,  1.39it/s]\n",
      "100%|██████████████████████████████████████████████████████████████████████████████████| 84/84 [01:05<00:00,  1.61it/s]\n"
     ]
    },
    {
     "name": "stdout",
     "output_type": "stream",
     "text": [
      "epoch: 17, f1_test: 0.457812931061356, f1_train: 0.6164300946948742\n"
     ]
    },
    {
     "name": "stderr",
     "output_type": "stream",
     "text": [
      "100%|██████████████████████████████████████████████████████████████████████████████████| 84/84 [01:25<00:00,  1.22it/s]\n",
      "100%|██████████████████████████████████████████████████████████████████████████████████| 28/28 [00:21<00:00,  1.37it/s]\n",
      "100%|██████████████████████████████████████████████████████████████████████████████████| 84/84 [01:04<00:00,  1.67it/s]\n"
     ]
    },
    {
     "name": "stdout",
     "output_type": "stream",
     "text": [
      "epoch: 18, f1_test: 0.5174141866543229, f1_train: 0.6881368188729844\n"
     ]
    },
    {
     "name": "stderr",
     "output_type": "stream",
     "text": [
      "100%|██████████████████████████████████████████████████████████████████████████████████| 84/84 [01:25<00:00,  1.25it/s]\n",
      "100%|██████████████████████████████████████████████████████████████████████████████████| 28/28 [00:21<00:00,  1.36it/s]\n",
      "100%|██████████████████████████████████████████████████████████████████████████████████| 84/84 [01:06<00:00,  1.62it/s]\n"
     ]
    },
    {
     "name": "stdout",
     "output_type": "stream",
     "text": [
      "epoch: 19, f1_test: 0.5052967342951501, f1_train: 0.6894573773658602\n"
     ]
    },
    {
     "name": "stderr",
     "output_type": "stream",
     "text": [
      "100%|██████████████████████████████████████████████████████████████████████████████████| 84/84 [01:25<00:00,  1.21it/s]\n",
      "100%|██████████████████████████████████████████████████████████████████████████████████| 28/28 [00:21<00:00,  1.40it/s]\n",
      "100%|██████████████████████████████████████████████████████████████████████████████████| 84/84 [01:04<00:00,  1.62it/s]\n"
     ]
    },
    {
     "name": "stdout",
     "output_type": "stream",
     "text": [
      "epoch: 20, f1_test: 0.5064849603931543, f1_train: 0.6795053909050007\n"
     ]
    },
    {
     "name": "stderr",
     "output_type": "stream",
     "text": [
      "100%|██████████████████████████████████████████████████████████████████████████████████| 84/84 [01:24<00:00,  1.21it/s]\n",
      "100%|██████████████████████████████████████████████████████████████████████████████████| 28/28 [00:23<00:00,  1.30it/s]\n",
      "100%|██████████████████████████████████████████████████████████████████████████████████| 84/84 [01:04<00:00,  1.65it/s]\n"
     ]
    },
    {
     "name": "stdout",
     "output_type": "stream",
     "text": [
      "epoch: 21, f1_test: 0.4798656647298063, f1_train: 0.6739836368772097\n"
     ]
    },
    {
     "name": "stderr",
     "output_type": "stream",
     "text": [
      "100%|██████████████████████████████████████████████████████████████████████████████████| 84/84 [01:24<00:00,  1.21it/s]\n",
      "100%|██████████████████████████████████████████████████████████████████████████████████| 28/28 [00:21<00:00,  1.39it/s]\n",
      "100%|██████████████████████████████████████████████████████████████████████████████████| 84/84 [01:04<00:00,  1.65it/s]\n"
     ]
    },
    {
     "name": "stdout",
     "output_type": "stream",
     "text": [
      "epoch: 22, f1_test: 0.5814962431739408, f1_train: 0.8454705401948351\n"
     ]
    },
    {
     "name": "stderr",
     "output_type": "stream",
     "text": [
      "100%|██████████████████████████████████████████████████████████████████████████████████| 84/84 [01:24<00:00,  1.19it/s]\n",
      "100%|██████████████████████████████████████████████████████████████████████████████████| 28/28 [00:22<00:00,  1.37it/s]\n",
      "100%|██████████████████████████████████████████████████████████████████████████████████| 84/84 [01:04<00:00,  1.65it/s]\n"
     ]
    },
    {
     "name": "stdout",
     "output_type": "stream",
     "text": [
      "epoch: 23, f1_test: 0.5166072488019228, f1_train: 0.7575558516689475\n"
     ]
    },
    {
     "name": "stderr",
     "output_type": "stream",
     "text": [
      "100%|██████████████████████████████████████████████████████████████████████████████████| 84/84 [01:24<00:00,  1.21it/s]\n",
      "100%|██████████████████████████████████████████████████████████████████████████████████| 28/28 [00:21<00:00,  1.39it/s]\n",
      "100%|██████████████████████████████████████████████████████████████████████████████████| 84/84 [01:04<00:00,  1.66it/s]\n"
     ]
    },
    {
     "name": "stdout",
     "output_type": "stream",
     "text": [
      "epoch: 24, f1_test: 0.48405485694609723, f1_train: 0.6946871601697613\n"
     ]
    },
    {
     "name": "stderr",
     "output_type": "stream",
     "text": [
      "100%|██████████████████████████████████████████████████████████████████████████████████| 84/84 [01:24<00:00,  1.18it/s]\n",
      "100%|██████████████████████████████████████████████████████████████████████████████████| 28/28 [00:21<00:00,  1.39it/s]\n",
      "100%|██████████████████████████████████████████████████████████████████████████████████| 84/84 [01:05<00:00,  1.65it/s]\n"
     ]
    },
    {
     "name": "stdout",
     "output_type": "stream",
     "text": [
      "epoch: 25, f1_test: 0.5017556232902947, f1_train: 0.7196636369133633\n"
     ]
    },
    {
     "name": "stderr",
     "output_type": "stream",
     "text": [
      "100%|██████████████████████████████████████████████████████████████████████████████████| 84/84 [01:24<00:00,  1.22it/s]\n",
      "100%|██████████████████████████████████████████████████████████████████████████████████| 28/28 [00:22<00:00,  1.39it/s]\n",
      "100%|██████████████████████████████████████████████████████████████████████████████████| 84/84 [01:05<00:00,  1.67it/s]\n"
     ]
    },
    {
     "name": "stdout",
     "output_type": "stream",
     "text": [
      "epoch: 26, f1_test: 0.4791509110212319, f1_train: 0.6765024411286854\n"
     ]
    },
    {
     "name": "stderr",
     "output_type": "stream",
     "text": [
      "100%|██████████████████████████████████████████████████████████████████████████████████| 84/84 [01:24<00:00,  1.22it/s]\n",
      "100%|██████████████████████████████████████████████████████████████████████████████████| 28/28 [00:22<00:00,  1.37it/s]\n",
      "100%|██████████████████████████████████████████████████████████████████████████████████| 84/84 [01:05<00:00,  1.62it/s]\n"
     ]
    },
    {
     "name": "stdout",
     "output_type": "stream",
     "text": [
      "epoch: 27, f1_test: 0.41475319171894953, f1_train: 0.558817770960086\n"
     ]
    },
    {
     "name": "stderr",
     "output_type": "stream",
     "text": [
      "100%|██████████████████████████████████████████████████████████████████████████████████| 84/84 [01:24<00:00,  1.21it/s]\n",
      "100%|██████████████████████████████████████████████████████████████████████████████████| 28/28 [00:22<00:00,  1.37it/s]\n",
      "100%|██████████████████████████████████████████████████████████████████████████████████| 84/84 [01:05<00:00,  1.65it/s]\n"
     ]
    },
    {
     "name": "stdout",
     "output_type": "stream",
     "text": [
      "epoch: 28, f1_test: 0.43922592332783483, f1_train: 0.6189277559907423\n"
     ]
    },
    {
     "name": "stderr",
     "output_type": "stream",
     "text": [
      "100%|██████████████████████████████████████████████████████████████████████████████████| 84/84 [01:25<00:00,  1.22it/s]\n",
      "100%|██████████████████████████████████████████████████████████████████████████████████| 28/28 [00:21<00:00,  1.39it/s]\n",
      "100%|██████████████████████████████████████████████████████████████████████████████████| 84/84 [01:04<00:00,  1.67it/s]\n"
     ]
    },
    {
     "name": "stdout",
     "output_type": "stream",
     "text": [
      "epoch: 29, f1_test: 0.5121958374098398, f1_train: 0.7296572646321268\n"
     ]
    },
    {
     "name": "stderr",
     "output_type": "stream",
     "text": [
      "100%|██████████████████████████████████████████████████████████████████████████████████| 84/84 [01:24<00:00,  1.20it/s]\n",
      "100%|██████████████████████████████████████████████████████████████████████████████████| 28/28 [00:21<00:00,  1.39it/s]\n",
      "100%|██████████████████████████████████████████████████████████████████████████████████| 84/84 [01:04<00:00,  1.67it/s]\n"
     ]
    },
    {
     "name": "stdout",
     "output_type": "stream",
     "text": [
      "epoch: 30, f1_test: 0.526194219888133, f1_train: 0.7439147401292714\n"
     ]
    },
    {
     "name": "stderr",
     "output_type": "stream",
     "text": [
      "100%|██████████████████████████████████████████████████████████████████████████████████| 84/84 [01:24<00:00,  1.22it/s]\n",
      "100%|██████████████████████████████████████████████████████████████████████████████████| 28/28 [00:21<00:00,  1.39it/s]\n",
      "100%|██████████████████████████████████████████████████████████████████████████████████| 84/84 [01:04<00:00,  1.68it/s]\n"
     ]
    },
    {
     "name": "stdout",
     "output_type": "stream",
     "text": [
      "epoch: 31, f1_test: 0.4994769720054824, f1_train: 0.7074370820640652\n"
     ]
    },
    {
     "name": "stderr",
     "output_type": "stream",
     "text": [
      "100%|██████████████████████████████████████████████████████████████████████████████████| 84/84 [01:24<00:00,  1.22it/s]\n",
      "100%|██████████████████████████████████████████████████████████████████████████████████| 28/28 [00:21<00:00,  1.40it/s]\n",
      "100%|██████████████████████████████████████████████████████████████████████████████████| 84/84 [01:04<00:00,  1.64it/s]\n"
     ]
    },
    {
     "name": "stdout",
     "output_type": "stream",
     "text": [
      "epoch: 32, f1_test: 0.5237071179830748, f1_train: 0.7234935620006246\n"
     ]
    },
    {
     "name": "stderr",
     "output_type": "stream",
     "text": [
      "100%|██████████████████████████████████████████████████████████████████████████████████| 84/84 [01:24<00:00,  1.21it/s]\n",
      "100%|██████████████████████████████████████████████████████████████████████████████████| 28/28 [00:21<00:00,  1.38it/s]\n",
      "100%|██████████████████████████████████████████████████████████████████████████████████| 84/84 [01:04<00:00,  1.67it/s]\n"
     ]
    },
    {
     "name": "stdout",
     "output_type": "stream",
     "text": [
      "epoch: 33, f1_test: 0.47502355073956326, f1_train: 0.6974852984089687\n"
     ]
    },
    {
     "name": "stderr",
     "output_type": "stream",
     "text": [
      "100%|██████████████████████████████████████████████████████████████████████████████████| 84/84 [01:24<00:00,  1.21it/s]\n",
      "100%|██████████████████████████████████████████████████████████████████████████████████| 28/28 [00:22<00:00,  1.41it/s]\n",
      "100%|██████████████████████████████████████████████████████████████████████████████████| 84/84 [01:04<00:00,  1.68it/s]\n"
     ]
    },
    {
     "name": "stdout",
     "output_type": "stream",
     "text": [
      "epoch: 34, f1_test: 0.5457822743608706, f1_train: 0.7545231241923166\n"
     ]
    },
    {
     "name": "stderr",
     "output_type": "stream",
     "text": [
      "100%|██████████████████████████████████████████████████████████████████████████████████| 84/84 [01:24<00:00,  1.18it/s]\n",
      "100%|██████████████████████████████████████████████████████████████████████████████████| 28/28 [00:21<00:00,  1.40it/s]\n",
      "100%|██████████████████████████████████████████████████████████████████████████████████| 84/84 [01:04<00:00,  1.61it/s]\n"
     ]
    },
    {
     "name": "stdout",
     "output_type": "stream",
     "text": [
      "epoch: 35, f1_test: 0.5102252950175196, f1_train: 0.7438845263415567\n"
     ]
    },
    {
     "name": "stderr",
     "output_type": "stream",
     "text": [
      "100%|██████████████████████████████████████████████████████████████████████████████████| 84/84 [01:24<00:00,  1.19it/s]\n",
      "100%|██████████████████████████████████████████████████████████████████████████████████| 28/28 [00:21<00:00,  1.38it/s]\n",
      "100%|██████████████████████████████████████████████████████████████████████████████████| 84/84 [01:05<00:00,  1.63it/s]\n"
     ]
    },
    {
     "name": "stdout",
     "output_type": "stream",
     "text": [
      "epoch: 36, f1_test: 0.539480858864174, f1_train: 0.7391524703722918\n"
     ]
    },
    {
     "name": "stderr",
     "output_type": "stream",
     "text": [
      "100%|██████████████████████████████████████████████████████████████████████████████████| 84/84 [01:26<00:00,  1.19it/s]\n",
      "100%|██████████████████████████████████████████████████████████████████████████████████| 28/28 [00:22<00:00,  1.37it/s]\n",
      "100%|██████████████████████████████████████████████████████████████████████████████████| 84/84 [01:05<00:00,  1.65it/s]\n"
     ]
    },
    {
     "name": "stdout",
     "output_type": "stream",
     "text": [
      "epoch: 37, f1_test: 0.5104524356706188, f1_train: 0.7270104544136302\n"
     ]
    },
    {
     "name": "stderr",
     "output_type": "stream",
     "text": [
      "100%|██████████████████████████████████████████████████████████████████████████████████| 84/84 [01:24<00:00,  1.18it/s]\n",
      "100%|██████████████████████████████████████████████████████████████████████████████████| 28/28 [00:21<00:00,  1.40it/s]\n",
      "100%|██████████████████████████████████████████████████████████████████████████████████| 84/84 [01:04<00:00,  1.69it/s]\n"
     ]
    },
    {
     "name": "stdout",
     "output_type": "stream",
     "text": [
      "epoch: 38, f1_test: 0.5583757279231369, f1_train: 0.7979574712476145\n"
     ]
    },
    {
     "name": "stderr",
     "output_type": "stream",
     "text": [
      "100%|██████████████████████████████████████████████████████████████████████████████████| 84/84 [01:23<00:00,  1.21it/s]\n",
      "100%|██████████████████████████████████████████████████████████████████████████████████| 28/28 [00:21<00:00,  1.41it/s]\n",
      "100%|██████████████████████████████████████████████████████████████████████████████████| 84/84 [01:04<00:00,  1.67it/s]\n"
     ]
    },
    {
     "name": "stdout",
     "output_type": "stream",
     "text": [
      "epoch: 39, f1_test: 0.5509193129770891, f1_train: 0.7632791304294609\n"
     ]
    },
    {
     "name": "stderr",
     "output_type": "stream",
     "text": [
      "100%|██████████████████████████████████████████████████████████████████████████████████| 84/84 [01:24<00:00,  1.21it/s]\n",
      "100%|██████████████████████████████████████████████████████████████████████████████████| 28/28 [00:21<00:00,  1.41it/s]\n",
      "100%|██████████████████████████████████████████████████████████████████████████████████| 84/84 [01:04<00:00,  1.65it/s]\n"
     ]
    },
    {
     "name": "stdout",
     "output_type": "stream",
     "text": [
      "epoch: 40, f1_test: 0.541847907326795, f1_train: 0.7456516215300477\n"
     ]
    },
    {
     "name": "stderr",
     "output_type": "stream",
     "text": [
      "100%|██████████████████████████████████████████████████████████████████████████████████| 84/84 [01:24<00:00,  1.23it/s]\n",
      "100%|██████████████████████████████████████████████████████████████████████████████████| 28/28 [00:21<00:00,  1.40it/s]\n",
      "100%|██████████████████████████████████████████████████████████████████████████████████| 84/84 [01:04<00:00,  1.66it/s]\n"
     ]
    },
    {
     "name": "stdout",
     "output_type": "stream",
     "text": [
      "epoch: 41, f1_test: 0.5593652949439254, f1_train: 0.7984742482828926\n"
     ]
    },
    {
     "name": "stderr",
     "output_type": "stream",
     "text": [
      "100%|██████████████████████████████████████████████████████████████████████████████████| 84/84 [01:25<00:00,  1.22it/s]\n",
      "100%|██████████████████████████████████████████████████████████████████████████████████| 28/28 [00:23<00:00,  1.26s/it]\n",
      "100%|██████████████████████████████████████████████████████████████████████████████████| 84/84 [01:05<00:00,  1.64it/s]\n"
     ]
    },
    {
     "name": "stdout",
     "output_type": "stream",
     "text": [
      "epoch: 42, f1_test: 0.5615428672225667, f1_train: 0.7886208233525553\n"
     ]
    },
    {
     "name": "stderr",
     "output_type": "stream",
     "text": [
      "100%|██████████████████████████████████████████████████████████████████████████████████| 84/84 [01:25<00:00,  1.21it/s]\n",
      "100%|██████████████████████████████████████████████████████████████████████████████████| 28/28 [00:21<00:00,  1.40it/s]\n",
      "100%|██████████████████████████████████████████████████████████████████████████████████| 84/84 [01:04<00:00,  1.66it/s]\n"
     ]
    },
    {
     "name": "stdout",
     "output_type": "stream",
     "text": [
      "epoch: 43, f1_test: 0.5341786030972236, f1_train: 0.7727109635683549\n"
     ]
    },
    {
     "name": "stderr",
     "output_type": "stream",
     "text": [
      "100%|██████████████████████████████████████████████████████████████████████████████████| 84/84 [01:25<00:00,  1.20it/s]\n",
      "100%|██████████████████████████████████████████████████████████████████████████████████| 28/28 [00:22<00:00,  1.37it/s]\n",
      "100%|██████████████████████████████████████████████████████████████████████████████████| 84/84 [01:04<00:00,  1.70it/s]\n"
     ]
    },
    {
     "name": "stdout",
     "output_type": "stream",
     "text": [
      "epoch: 44, f1_test: 0.5126611328086496, f1_train: 0.7363581522938788\n"
     ]
    },
    {
     "name": "stderr",
     "output_type": "stream",
     "text": [
      "100%|██████████████████████████████████████████████████████████████████████████████████| 84/84 [01:25<00:00,  1.20it/s]\n",
      "100%|██████████████████████████████████████████████████████████████████████████████████| 28/28 [00:21<00:00,  1.38it/s]\n",
      "100%|██████████████████████████████████████████████████████████████████████████████████| 84/84 [01:04<00:00,  1.65it/s]\n"
     ]
    },
    {
     "name": "stdout",
     "output_type": "stream",
     "text": [
      "epoch: 45, f1_test: 0.5402903414886087, f1_train: 0.7810866625422277\n"
     ]
    },
    {
     "name": "stderr",
     "output_type": "stream",
     "text": [
      "100%|██████████████████████████████████████████████████████████████████████████████████| 84/84 [01:25<00:00,  1.19it/s]\n",
      "100%|██████████████████████████████████████████████████████████████████████████████████| 28/28 [00:21<00:00,  1.41it/s]\n",
      "100%|██████████████████████████████████████████████████████████████████████████████████| 84/84 [01:05<00:00,  1.63it/s]\n"
     ]
    },
    {
     "name": "stdout",
     "output_type": "stream",
     "text": [
      "epoch: 46, f1_test: 0.5305264742029024, f1_train: 0.7894306362817244\n"
     ]
    },
    {
     "name": "stderr",
     "output_type": "stream",
     "text": [
      "100%|██████████████████████████████████████████████████████████████████████████████████| 84/84 [01:25<00:00,  1.21it/s]\n",
      "100%|██████████████████████████████████████████████████████████████████████████████████| 28/28 [00:21<00:00,  1.39it/s]\n",
      "100%|██████████████████████████████████████████████████████████████████████████████████| 84/84 [01:04<00:00,  1.65it/s]\n"
     ]
    },
    {
     "name": "stdout",
     "output_type": "stream",
     "text": [
      "epoch: 47, f1_test: 0.5280257263609724, f1_train: 0.7376895577327506\n"
     ]
    },
    {
     "name": "stderr",
     "output_type": "stream",
     "text": [
      "100%|██████████████████████████████████████████████████████████████████████████████████| 84/84 [01:26<00:00,  1.19it/s]\n",
      "100%|██████████████████████████████████████████████████████████████████████████████████| 28/28 [00:21<00:00,  1.39it/s]\n",
      "100%|██████████████████████████████████████████████████████████████████████████████████| 84/84 [01:05<00:00,  1.68it/s]\n"
     ]
    },
    {
     "name": "stdout",
     "output_type": "stream",
     "text": [
      "epoch: 48, f1_test: 0.5208135139271919, f1_train: 0.7651737422459222\n"
     ]
    },
    {
     "name": "stderr",
     "output_type": "stream",
     "text": [
      "100%|██████████████████████████████████████████████████████████████████████████████████| 84/84 [01:26<00:00,  1.18it/s]\n",
      "100%|██████████████████████████████████████████████████████████████████████████████████| 28/28 [00:21<00:00,  1.40it/s]\n",
      "100%|██████████████████████████████████████████████████████████████████████████████████| 84/84 [01:04<00:00,  1.64it/s]\n"
     ]
    },
    {
     "name": "stdout",
     "output_type": "stream",
     "text": [
      "epoch: 49, f1_test: 0.5221534971371806, f1_train: 0.7540418461453421\n"
     ]
    }
   ],
   "source": [
    "criterion = nn.CrossEntropyLoss()\n",
    "model = Model_1()\n",
    "model = model.cuda()\n",
    "model_name = 'baseline_v1_Stackikng_1.pt'\n",
    "lr = 1e-3\n",
    "\n",
    "optimizer = torch.optim.Adam(model.parameters(), lr=lr)\n",
    "\n",
    "model_train(model, train_loader_1, val_loader_1, model_name, lr, 50)"
   ]
  },
  {
   "cell_type": "code",
   "execution_count": 22,
   "metadata": {},
   "outputs": [
    {
     "name": "stdout",
     "output_type": "stream",
     "text": [
      "Loaded pretrained weights for efficientnet-b0\n"
     ]
    },
    {
     "name": "stderr",
     "output_type": "stream",
     "text": [
      "100%|██████████████████████████████████████████████████████████████████████████████████| 84/84 [01:21<00:00,  1.29it/s]\n",
      "  0%|                                                                                           | 0/28 [00:00<?, ?it/s]D:\\Programs\\Anaconda\\lib\\site-packages\\ipykernel_launcher.py:27: UserWarning: Implicit dimension choice for softmax has been deprecated. Change the call to include dim=X as an argument.\n",
      "100%|██████████████████████████████████████████████████████████████████████████████████| 28/28 [00:21<00:00,  1.39it/s]\n",
      "100%|██████████████████████████████████████████████████████████████████████████████████| 84/84 [01:03<00:00,  1.72it/s]\n"
     ]
    },
    {
     "name": "stdout",
     "output_type": "stream",
     "text": [
      "epoch: 0, f1_test: 0.10231935803673246, f1_train: 0.11186283736889271\n"
     ]
    },
    {
     "name": "stderr",
     "output_type": "stream",
     "text": [
      "100%|██████████████████████████████████████████████████████████████████████████████████| 84/84 [01:18<00:00,  1.32it/s]\n",
      "100%|██████████████████████████████████████████████████████████████████████████████████| 28/28 [00:21<00:00,  1.36it/s]\n",
      "100%|██████████████████████████████████████████████████████████████████████████████████| 84/84 [01:03<00:00,  1.69it/s]\n"
     ]
    },
    {
     "name": "stdout",
     "output_type": "stream",
     "text": [
      "epoch: 1, f1_test: 0.24887444784440257, f1_train: 0.3273511839689139\n"
     ]
    },
    {
     "name": "stderr",
     "output_type": "stream",
     "text": [
      "100%|██████████████████████████████████████████████████████████████████████████████████| 84/84 [01:18<00:00,  1.30it/s]\n",
      "100%|██████████████████████████████████████████████████████████████████████████████████| 28/28 [00:21<00:00,  1.38it/s]\n",
      "100%|██████████████████████████████████████████████████████████████████████████████████| 84/84 [01:04<00:00,  1.70it/s]\n"
     ]
    },
    {
     "name": "stdout",
     "output_type": "stream",
     "text": [
      "epoch: 2, f1_test: 0.33316057541817073, f1_train: 0.41635519220236705\n"
     ]
    },
    {
     "name": "stderr",
     "output_type": "stream",
     "text": [
      "100%|██████████████████████████████████████████████████████████████████████████████████| 84/84 [01:18<00:00,  1.31it/s]\n",
      "100%|██████████████████████████████████████████████████████████████████████████████████| 28/28 [00:21<00:00,  1.36it/s]\n",
      "100%|██████████████████████████████████████████████████████████████████████████████████| 84/84 [01:04<00:00,  1.68it/s]\n"
     ]
    },
    {
     "name": "stdout",
     "output_type": "stream",
     "text": [
      "epoch: 3, f1_test: 0.34828656173124245, f1_train: 0.434154694236163\n"
     ]
    },
    {
     "name": "stderr",
     "output_type": "stream",
     "text": [
      "100%|██████████████████████████████████████████████████████████████████████████████████| 84/84 [01:18<00:00,  1.32it/s]\n",
      "100%|██████████████████████████████████████████████████████████████████████████████████| 28/28 [00:21<00:00,  1.39it/s]\n",
      "100%|██████████████████████████████████████████████████████████████████████████████████| 84/84 [01:04<00:00,  1.73it/s]\n"
     ]
    },
    {
     "name": "stdout",
     "output_type": "stream",
     "text": [
      "epoch: 4, f1_test: 0.41035469410638037, f1_train: 0.5215624162397687\n"
     ]
    },
    {
     "name": "stderr",
     "output_type": "stream",
     "text": [
      "100%|██████████████████████████████████████████████████████████████████████████████████| 84/84 [01:18<00:00,  1.33it/s]\n",
      "100%|██████████████████████████████████████████████████████████████████████████████████| 28/28 [00:21<00:00,  1.37it/s]\n",
      "100%|██████████████████████████████████████████████████████████████████████████████████| 84/84 [01:03<00:00,  1.69it/s]\n"
     ]
    },
    {
     "name": "stdout",
     "output_type": "stream",
     "text": [
      "epoch: 5, f1_test: 0.4350660526326836, f1_train: 0.542035796666177\n"
     ]
    },
    {
     "name": "stderr",
     "output_type": "stream",
     "text": [
      "100%|██████████████████████████████████████████████████████████████████████████████████| 84/84 [01:18<00:00,  1.28it/s]\n",
      "100%|██████████████████████████████████████████████████████████████████████████████████| 28/28 [00:21<00:00,  1.38it/s]\n",
      "100%|██████████████████████████████████████████████████████████████████████████████████| 84/84 [01:03<00:00,  1.69it/s]\n"
     ]
    },
    {
     "name": "stdout",
     "output_type": "stream",
     "text": [
      "epoch: 6, f1_test: 0.4240709927559209, f1_train: 0.5791828603525395\n"
     ]
    },
    {
     "name": "stderr",
     "output_type": "stream",
     "text": [
      "100%|██████████████████████████████████████████████████████████████████████████████████| 84/84 [01:18<00:00,  1.30it/s]\n",
      "100%|██████████████████████████████████████████████████████████████████████████████████| 28/28 [00:21<00:00,  1.34it/s]\n",
      "100%|██████████████████████████████████████████████████████████████████████████████████| 84/84 [01:04<00:00,  1.47it/s]\n"
     ]
    },
    {
     "name": "stdout",
     "output_type": "stream",
     "text": [
      "epoch: 7, f1_test: 0.4629416958188731, f1_train: 0.6206787950556888\n"
     ]
    },
    {
     "name": "stderr",
     "output_type": "stream",
     "text": [
      "100%|██████████████████████████████████████████████████████████████████████████████████| 84/84 [01:18<00:00,  1.32it/s]\n",
      "100%|██████████████████████████████████████████████████████████████████████████████████| 28/28 [00:21<00:00,  1.31it/s]\n",
      "100%|██████████████████████████████████████████████████████████████████████████████████| 84/84 [01:04<00:00,  1.71it/s]\n"
     ]
    },
    {
     "name": "stdout",
     "output_type": "stream",
     "text": [
      "epoch: 8, f1_test: 0.474800521889344, f1_train: 0.6603383697228341\n"
     ]
    },
    {
     "name": "stderr",
     "output_type": "stream",
     "text": [
      "100%|██████████████████████████████████████████████████████████████████████████████████| 84/84 [01:19<00:00,  1.29it/s]\n",
      "100%|██████████████████████████████████████████████████████████████████████████████████| 28/28 [00:21<00:00,  1.38it/s]\n",
      "100%|██████████████████████████████████████████████████████████████████████████████████| 84/84 [01:04<00:00,  1.63it/s]\n"
     ]
    },
    {
     "name": "stdout",
     "output_type": "stream",
     "text": [
      "epoch: 9, f1_test: 0.46511564100991687, f1_train: 0.7054017067026818\n"
     ]
    },
    {
     "name": "stderr",
     "output_type": "stream",
     "text": [
      "100%|██████████████████████████████████████████████████████████████████████████████████| 84/84 [01:19<00:00,  1.28it/s]\n",
      "100%|██████████████████████████████████████████████████████████████████████████████████| 28/28 [00:21<00:00,  1.37it/s]\n",
      "100%|██████████████████████████████████████████████████████████████████████████████████| 84/84 [01:04<00:00,  1.68it/s]\n"
     ]
    },
    {
     "name": "stdout",
     "output_type": "stream",
     "text": [
      "epoch: 10, f1_test: 0.4858398003924931, f1_train: 0.6830341965555958\n"
     ]
    },
    {
     "name": "stderr",
     "output_type": "stream",
     "text": [
      "100%|██████████████████████████████████████████████████████████████████████████████████| 84/84 [01:21<00:00,  1.30it/s]\n",
      "100%|██████████████████████████████████████████████████████████████████████████████████| 28/28 [00:21<00:00,  1.34it/s]\n",
      "100%|██████████████████████████████████████████████████████████████████████████████████| 84/84 [01:04<00:00,  1.68it/s]\n"
     ]
    },
    {
     "name": "stdout",
     "output_type": "stream",
     "text": [
      "epoch: 11, f1_test: 0.49859036565815323, f1_train: 0.7189402089781525\n"
     ]
    },
    {
     "name": "stderr",
     "output_type": "stream",
     "text": [
      "100%|██████████████████████████████████████████████████████████████████████████████████| 84/84 [01:19<00:00,  1.29it/s]\n",
      "100%|██████████████████████████████████████████████████████████████████████████████████| 28/28 [00:21<00:00,  1.33it/s]\n",
      "100%|██████████████████████████████████████████████████████████████████████████████████| 84/84 [01:04<00:00,  1.66it/s]\n"
     ]
    },
    {
     "name": "stdout",
     "output_type": "stream",
     "text": [
      "epoch: 12, f1_test: 0.5042973423818014, f1_train: 0.7412653743988293\n"
     ]
    },
    {
     "name": "stderr",
     "output_type": "stream",
     "text": [
      "100%|██████████████████████████████████████████████████████████████████████████████████| 84/84 [01:19<00:00,  1.25it/s]\n",
      "100%|██████████████████████████████████████████████████████████████████████████████████| 28/28 [00:21<00:00,  1.33it/s]\n",
      "100%|██████████████████████████████████████████████████████████████████████████████████| 84/84 [01:04<00:00,  1.72it/s]\n"
     ]
    },
    {
     "name": "stdout",
     "output_type": "stream",
     "text": [
      "epoch: 13, f1_test: 0.5213584454566019, f1_train: 0.7645554714337193\n"
     ]
    },
    {
     "name": "stderr",
     "output_type": "stream",
     "text": [
      "100%|██████████████████████████████████████████████████████████████████████████████████| 84/84 [01:19<00:00,  1.29it/s]\n",
      "100%|██████████████████████████████████████████████████████████████████████████████████| 28/28 [00:21<00:00,  1.34it/s]\n",
      "100%|██████████████████████████████████████████████████████████████████████████████████| 84/84 [01:04<00:00,  1.70it/s]\n"
     ]
    },
    {
     "name": "stdout",
     "output_type": "stream",
     "text": [
      "epoch: 14, f1_test: 0.5221074933572805, f1_train: 0.7897740836573859\n"
     ]
    },
    {
     "name": "stderr",
     "output_type": "stream",
     "text": [
      "100%|██████████████████████████████████████████████████████████████████████████████████| 84/84 [01:19<00:00,  1.29it/s]\n",
      "100%|██████████████████████████████████████████████████████████████████████████████████| 28/28 [00:21<00:00,  1.37it/s]\n",
      "100%|██████████████████████████████████████████████████████████████████████████████████| 84/84 [01:04<00:00,  1.70it/s]\n"
     ]
    },
    {
     "name": "stdout",
     "output_type": "stream",
     "text": [
      "epoch: 15, f1_test: 0.5170934692311747, f1_train: 0.7931143035476579\n"
     ]
    },
    {
     "name": "stderr",
     "output_type": "stream",
     "text": [
      "100%|██████████████████████████████████████████████████████████████████████████████████| 84/84 [01:18<00:00,  1.32it/s]\n",
      "100%|██████████████████████████████████████████████████████████████████████████████████| 28/28 [00:21<00:00,  1.33it/s]\n",
      "100%|██████████████████████████████████████████████████████████████████████████████████| 84/84 [01:04<00:00,  1.71it/s]\n"
     ]
    },
    {
     "name": "stdout",
     "output_type": "stream",
     "text": [
      "epoch: 16, f1_test: 0.5262102348999639, f1_train: 0.8129919175922028\n"
     ]
    },
    {
     "name": "stderr",
     "output_type": "stream",
     "text": [
      "100%|██████████████████████████████████████████████████████████████████████████████████| 84/84 [01:19<00:00,  1.26it/s]\n",
      "100%|██████████████████████████████████████████████████████████████████████████████████| 28/28 [00:21<00:00,  1.35it/s]\n",
      "100%|██████████████████████████████████████████████████████████████████████████████████| 84/84 [01:04<00:00,  1.66it/s]\n"
     ]
    },
    {
     "name": "stdout",
     "output_type": "stream",
     "text": [
      "epoch: 17, f1_test: 0.5446972234621656, f1_train: 0.840763891801096\n"
     ]
    },
    {
     "name": "stderr",
     "output_type": "stream",
     "text": [
      "100%|██████████████████████████████████████████████████████████████████████████████████| 84/84 [01:19<00:00,  1.31it/s]\n",
      "100%|██████████████████████████████████████████████████████████████████████████████████| 28/28 [00:21<00:00,  1.38it/s]\n",
      "100%|██████████████████████████████████████████████████████████████████████████████████| 84/84 [01:04<00:00,  1.70it/s]\n"
     ]
    },
    {
     "name": "stdout",
     "output_type": "stream",
     "text": [
      "epoch: 18, f1_test: 0.5409814236125752, f1_train: 0.8170361000306108\n"
     ]
    },
    {
     "name": "stderr",
     "output_type": "stream",
     "text": [
      "100%|██████████████████████████████████████████████████████████████████████████████████| 84/84 [01:18<00:00,  1.29it/s]\n",
      "100%|██████████████████████████████████████████████████████████████████████████████████| 28/28 [00:21<00:00,  1.33it/s]\n",
      "100%|██████████████████████████████████████████████████████████████████████████████████| 84/84 [01:04<00:00,  1.70it/s]\n"
     ]
    },
    {
     "name": "stdout",
     "output_type": "stream",
     "text": [
      "epoch: 19, f1_test: 0.5437462398180026, f1_train: 0.8219678089166551\n"
     ]
    },
    {
     "name": "stderr",
     "output_type": "stream",
     "text": [
      "100%|██████████████████████████████████████████████████████████████████████████████████| 84/84 [01:18<00:00,  1.30it/s]\n",
      "100%|██████████████████████████████████████████████████████████████████████████████████| 28/28 [00:21<00:00,  1.36it/s]\n",
      "100%|██████████████████████████████████████████████████████████████████████████████████| 84/84 [01:04<00:00,  1.67it/s]\n"
     ]
    },
    {
     "name": "stdout",
     "output_type": "stream",
     "text": [
      "epoch: 20, f1_test: 0.5539065847340705, f1_train: 0.8351988806903792\n"
     ]
    },
    {
     "name": "stderr",
     "output_type": "stream",
     "text": [
      "100%|██████████████████████████████████████████████████████████████████████████████████| 84/84 [01:19<00:00,  1.27it/s]\n",
      "100%|██████████████████████████████████████████████████████████████████████████████████| 28/28 [00:21<00:00,  1.35it/s]\n",
      "100%|██████████████████████████████████████████████████████████████████████████████████| 84/84 [01:04<00:00,  1.67it/s]\n"
     ]
    },
    {
     "name": "stdout",
     "output_type": "stream",
     "text": [
      "epoch: 21, f1_test: 0.5631697835912215, f1_train: 0.8586139103246986\n"
     ]
    },
    {
     "name": "stderr",
     "output_type": "stream",
     "text": [
      "100%|██████████████████████████████████████████████████████████████████████████████████| 84/84 [01:18<00:00,  1.29it/s]\n",
      "100%|██████████████████████████████████████████████████████████████████████████████████| 28/28 [00:21<00:00,  1.36it/s]\n",
      "100%|██████████████████████████████████████████████████████████████████████████████████| 84/84 [01:04<00:00,  1.70it/s]\n"
     ]
    },
    {
     "name": "stdout",
     "output_type": "stream",
     "text": [
      "epoch: 22, f1_test: 0.5500266292069972, f1_train: 0.8583647710719781\n"
     ]
    },
    {
     "name": "stderr",
     "output_type": "stream",
     "text": [
      "100%|██████████████████████████████████████████████████████████████████████████████████| 84/84 [01:18<00:00,  1.32it/s]\n",
      "100%|██████████████████████████████████████████████████████████████████████████████████| 28/28 [00:21<00:00,  1.38it/s]\n",
      "100%|██████████████████████████████████████████████████████████████████████████████████| 84/84 [01:03<00:00,  1.68it/s]\n"
     ]
    },
    {
     "name": "stdout",
     "output_type": "stream",
     "text": [
      "epoch: 23, f1_test: 0.5516063548576823, f1_train: 0.8680848405433333\n"
     ]
    },
    {
     "name": "stderr",
     "output_type": "stream",
     "text": [
      "100%|██████████████████████████████████████████████████████████████████████████████████| 84/84 [01:18<00:00,  1.32it/s]\n",
      "100%|██████████████████████████████████████████████████████████████████████████████████| 28/28 [00:20<00:00,  1.39it/s]\n",
      "100%|██████████████████████████████████████████████████████████████████████████████████| 84/84 [01:03<00:00,  1.75it/s]\n"
     ]
    },
    {
     "name": "stdout",
     "output_type": "stream",
     "text": [
      "epoch: 24, f1_test: 0.5603068827598122, f1_train: 0.8654377173196783\n"
     ]
    },
    {
     "name": "stderr",
     "output_type": "stream",
     "text": [
      "100%|██████████████████████████████████████████████████████████████████████████████████| 84/84 [01:18<00:00,  1.31it/s]\n",
      "100%|██████████████████████████████████████████████████████████████████████████████████| 28/28 [00:21<00:00,  1.37it/s]\n",
      "100%|██████████████████████████████████████████████████████████████████████████████████| 84/84 [01:02<00:00,  1.73it/s]\n"
     ]
    },
    {
     "name": "stdout",
     "output_type": "stream",
     "text": [
      "epoch: 25, f1_test: 0.5573241785232042, f1_train: 0.8730255779220675\n"
     ]
    },
    {
     "name": "stderr",
     "output_type": "stream",
     "text": [
      "100%|██████████████████████████████████████████████████████████████████████████████████| 84/84 [01:18<00:00,  1.32it/s]\n",
      "100%|██████████████████████████████████████████████████████████████████████████████████| 28/28 [00:21<00:00,  1.40it/s]\n",
      "100%|██████████████████████████████████████████████████████████████████████████████████| 84/84 [01:02<00:00,  1.74it/s]\n"
     ]
    },
    {
     "name": "stdout",
     "output_type": "stream",
     "text": [
      "epoch: 26, f1_test: 0.5441404940392788, f1_train: 0.8659088004687401\n"
     ]
    },
    {
     "name": "stderr",
     "output_type": "stream",
     "text": [
      "100%|██████████████████████████████████████████████████████████████████████████████████| 84/84 [01:19<00:00,  1.30it/s]\n",
      "100%|██████████████████████████████████████████████████████████████████████████████████| 28/28 [00:21<00:00,  1.34it/s]\n",
      "100%|██████████████████████████████████████████████████████████████████████████████████| 84/84 [01:04<00:00,  1.69it/s]\n"
     ]
    },
    {
     "name": "stdout",
     "output_type": "stream",
     "text": [
      "epoch: 27, f1_test: 0.567790289393202, f1_train: 0.8906682198401873\n"
     ]
    },
    {
     "name": "stderr",
     "output_type": "stream",
     "text": [
      "100%|██████████████████████████████████████████████████████████████████████████████████| 84/84 [01:19<00:00,  1.26it/s]\n",
      "100%|██████████████████████████████████████████████████████████████████████████████████| 28/28 [00:21<00:00,  1.39it/s]\n",
      "100%|██████████████████████████████████████████████████████████████████████████████████| 84/84 [01:04<00:00,  1.65it/s]\n"
     ]
    },
    {
     "name": "stdout",
     "output_type": "stream",
     "text": [
      "epoch: 28, f1_test: 0.5736596261956869, f1_train: 0.8980607306586079\n"
     ]
    },
    {
     "name": "stderr",
     "output_type": "stream",
     "text": [
      "100%|██████████████████████████████████████████████████████████████████████████████████| 84/84 [01:19<00:00,  1.29it/s]\n",
      "100%|██████████████████████████████████████████████████████████████████████████████████| 28/28 [00:21<00:00,  1.31it/s]\n",
      "100%|██████████████████████████████████████████████████████████████████████████████████| 84/84 [01:05<00:00,  1.65it/s]\n"
     ]
    },
    {
     "name": "stdout",
     "output_type": "stream",
     "text": [
      "epoch: 29, f1_test: 0.573897504414282, f1_train: 0.898647547679344\n"
     ]
    },
    {
     "name": "stderr",
     "output_type": "stream",
     "text": [
      "100%|██████████████████████████████████████████████████████████████████████████████████| 84/84 [01:20<00:00,  1.26it/s]\n",
      "100%|██████████████████████████████████████████████████████████████████████████████████| 28/28 [00:21<00:00,  1.32it/s]\n",
      "100%|██████████████████████████████████████████████████████████████████████████████████| 84/84 [01:04<00:00,  1.70it/s]\n"
     ]
    },
    {
     "name": "stdout",
     "output_type": "stream",
     "text": [
      "epoch: 30, f1_test: 0.5566935837000133, f1_train: 0.9001764674727308\n"
     ]
    },
    {
     "name": "stderr",
     "output_type": "stream",
     "text": [
      "100%|██████████████████████████████████████████████████████████████████████████████████| 84/84 [01:19<00:00,  1.30it/s]\n",
      "100%|██████████████████████████████████████████████████████████████████████████████████| 28/28 [00:21<00:00,  1.36it/s]\n",
      "100%|██████████████████████████████████████████████████████████████████████████████████| 84/84 [01:04<00:00,  1.68it/s]\n"
     ]
    },
    {
     "name": "stdout",
     "output_type": "stream",
     "text": [
      "epoch: 31, f1_test: 0.5581951663108268, f1_train: 0.8979060771116532\n"
     ]
    },
    {
     "name": "stderr",
     "output_type": "stream",
     "text": [
      "100%|██████████████████████████████████████████████████████████████████████████████████| 84/84 [01:21<00:00,  1.25it/s]\n",
      "100%|██████████████████████████████████████████████████████████████████████████████████| 28/28 [00:21<00:00,  1.32it/s]\n",
      "100%|██████████████████████████████████████████████████████████████████████████████████| 84/84 [01:04<00:00,  1.64it/s]\n"
     ]
    },
    {
     "name": "stdout",
     "output_type": "stream",
     "text": [
      "epoch: 32, f1_test: 0.5672651036485187, f1_train: 0.9001122255963369\n"
     ]
    },
    {
     "name": "stderr",
     "output_type": "stream",
     "text": [
      "100%|██████████████████████████████████████████████████████████████████████████████████| 84/84 [01:19<00:00,  1.28it/s]\n",
      "100%|██████████████████████████████████████████████████████████████████████████████████| 28/28 [00:21<00:00,  1.34it/s]\n",
      "100%|██████████████████████████████████████████████████████████████████████████████████| 84/84 [01:04<00:00,  1.69it/s]\n"
     ]
    },
    {
     "name": "stdout",
     "output_type": "stream",
     "text": [
      "epoch: 33, f1_test: 0.5741994888441043, f1_train: 0.9037667714562446\n"
     ]
    },
    {
     "name": "stderr",
     "output_type": "stream",
     "text": [
      "100%|██████████████████████████████████████████████████████████████████████████████████| 84/84 [01:19<00:00,  1.24it/s]\n",
      "100%|██████████████████████████████████████████████████████████████████████████████████| 28/28 [00:21<00:00,  1.37it/s]\n",
      "100%|██████████████████████████████████████████████████████████████████████████████████| 84/84 [01:03<00:00,  1.71it/s]\n"
     ]
    },
    {
     "name": "stdout",
     "output_type": "stream",
     "text": [
      "epoch: 34, f1_test: 0.5601102810470306, f1_train: 0.8981100403809992\n"
     ]
    },
    {
     "name": "stderr",
     "output_type": "stream",
     "text": [
      "100%|██████████████████████████████████████████████████████████████████████████████████| 84/84 [01:19<00:00,  1.27it/s]\n",
      "100%|██████████████████████████████████████████████████████████████████████████████████| 28/28 [00:21<00:00,  1.35it/s]\n",
      "100%|██████████████████████████████████████████████████████████████████████████████████| 84/84 [01:03<00:00,  1.66it/s]\n"
     ]
    },
    {
     "name": "stdout",
     "output_type": "stream",
     "text": [
      "epoch: 35, f1_test: 0.57335660715635, f1_train: 0.9024004210048012\n"
     ]
    },
    {
     "name": "stderr",
     "output_type": "stream",
     "text": [
      "100%|██████████████████████████████████████████████████████████████████████████████████| 84/84 [01:19<00:00,  1.28it/s]\n",
      "100%|██████████████████████████████████████████████████████████████████████████████████| 28/28 [00:21<00:00,  1.34it/s]\n",
      "100%|██████████████████████████████████████████████████████████████████████████████████| 84/84 [01:04<00:00,  1.68it/s]\n"
     ]
    },
    {
     "name": "stdout",
     "output_type": "stream",
     "text": [
      "epoch: 36, f1_test: 0.5494312983126228, f1_train: 0.9021206375000768\n"
     ]
    },
    {
     "name": "stderr",
     "output_type": "stream",
     "text": [
      "100%|██████████████████████████████████████████████████████████████████████████████████| 84/84 [01:21<00:00,  1.28it/s]\n",
      "100%|██████████████████████████████████████████████████████████████████████████████████| 28/28 [00:21<00:00,  1.36it/s]\n",
      "100%|██████████████████████████████████████████████████████████████████████████████████| 84/84 [01:03<00:00,  1.63it/s]\n"
     ]
    },
    {
     "name": "stdout",
     "output_type": "stream",
     "text": [
      "epoch: 37, f1_test: 0.5814664308258708, f1_train: 0.9158215729631013\n"
     ]
    },
    {
     "name": "stderr",
     "output_type": "stream",
     "text": [
      "100%|██████████████████████████████████████████████████████████████████████████████████| 84/84 [01:20<00:00,  1.29it/s]\n",
      "100%|██████████████████████████████████████████████████████████████████████████████████| 28/28 [00:21<00:00,  1.36it/s]\n",
      "100%|██████████████████████████████████████████████████████████████████████████████████| 84/84 [01:04<00:00,  1.66it/s]\n"
     ]
    },
    {
     "name": "stdout",
     "output_type": "stream",
     "text": [
      "epoch: 38, f1_test: 0.5710559564155211, f1_train: 0.9050640752842158\n"
     ]
    },
    {
     "name": "stderr",
     "output_type": "stream",
     "text": [
      "100%|██████████████████████████████████████████████████████████████████████████████████| 84/84 [01:19<00:00,  1.27it/s]\n",
      "100%|██████████████████████████████████████████████████████████████████████████████████| 28/28 [00:21<00:00,  1.37it/s]\n",
      "100%|██████████████████████████████████████████████████████████████████████████████████| 84/84 [01:04<00:00,  1.66it/s]\n"
     ]
    },
    {
     "name": "stdout",
     "output_type": "stream",
     "text": [
      "epoch: 39, f1_test: 0.561076061294703, f1_train: 0.9172421758679348\n"
     ]
    },
    {
     "name": "stderr",
     "output_type": "stream",
     "text": [
      "100%|██████████████████████████████████████████████████████████████████████████████████| 84/84 [01:19<00:00,  1.26it/s]\n",
      "100%|██████████████████████████████████████████████████████████████████████████████████| 28/28 [00:21<00:00,  1.32it/s]\n",
      "100%|██████████████████████████████████████████████████████████████████████████████████| 84/84 [01:04<00:00,  1.65it/s]\n"
     ]
    },
    {
     "name": "stdout",
     "output_type": "stream",
     "text": [
      "epoch: 40, f1_test: 0.5747639232491031, f1_train: 0.9155774650654437\n"
     ]
    },
    {
     "name": "stderr",
     "output_type": "stream",
     "text": [
      "100%|██████████████████████████████████████████████████████████████████████████████████| 84/84 [01:20<00:00,  1.24it/s]\n",
      "100%|██████████████████████████████████████████████████████████████████████████████████| 28/28 [00:21<00:00,  1.35it/s]\n",
      "100%|██████████████████████████████████████████████████████████████████████████████████| 84/84 [01:04<00:00,  1.60it/s]\n"
     ]
    },
    {
     "name": "stdout",
     "output_type": "stream",
     "text": [
      "epoch: 41, f1_test: 0.5564255250515667, f1_train: 0.9154362668960001\n"
     ]
    },
    {
     "name": "stderr",
     "output_type": "stream",
     "text": [
      "100%|██████████████████████████████████████████████████████████████████████████████████| 84/84 [01:19<00:00,  1.25it/s]\n",
      "100%|██████████████████████████████████████████████████████████████████████████████████| 28/28 [00:21<00:00,  1.32it/s]\n",
      "100%|██████████████████████████████████████████████████████████████████████████████████| 84/84 [01:04<00:00,  1.69it/s]\n"
     ]
    },
    {
     "name": "stdout",
     "output_type": "stream",
     "text": [
      "epoch: 42, f1_test: 0.5865826567101824, f1_train: 0.9149636008999711\n"
     ]
    },
    {
     "name": "stderr",
     "output_type": "stream",
     "text": [
      "100%|██████████████████████████████████████████████████████████████████████████████████| 84/84 [01:20<00:00,  1.29it/s]\n",
      "100%|██████████████████████████████████████████████████████████████████████████████████| 28/28 [00:21<00:00,  1.33it/s]\n",
      "100%|██████████████████████████████████████████████████████████████████████████████████| 84/84 [01:04<00:00,  1.63it/s]\n"
     ]
    },
    {
     "name": "stdout",
     "output_type": "stream",
     "text": [
      "epoch: 43, f1_test: 0.5756296861003621, f1_train: 0.917479503456167\n"
     ]
    },
    {
     "name": "stderr",
     "output_type": "stream",
     "text": [
      "100%|██████████████████████████████████████████████████████████████████████████████████| 84/84 [01:20<00:00,  1.22it/s]\n",
      "100%|██████████████████████████████████████████████████████████████████████████████████| 28/28 [00:21<00:00,  1.32it/s]\n",
      "100%|██████████████████████████████████████████████████████████████████████████████████| 84/84 [01:04<00:00,  1.69it/s]\n"
     ]
    },
    {
     "name": "stdout",
     "output_type": "stream",
     "text": [
      "epoch: 44, f1_test: 0.5670452553148422, f1_train: 0.9218174344295337\n"
     ]
    },
    {
     "name": "stderr",
     "output_type": "stream",
     "text": [
      "100%|██████████████████████████████████████████████████████████████████████████████████| 84/84 [01:19<00:00,  1.27it/s]\n",
      "100%|██████████████████████████████████████████████████████████████████████████████████| 28/28 [00:21<00:00,  1.36it/s]\n",
      "100%|██████████████████████████████████████████████████████████████████████████████████| 84/84 [01:04<00:00,  1.65it/s]\n"
     ]
    },
    {
     "name": "stdout",
     "output_type": "stream",
     "text": [
      "epoch: 45, f1_test: 0.5643814386678971, f1_train: 0.9197335514444416\n"
     ]
    },
    {
     "name": "stderr",
     "output_type": "stream",
     "text": [
      "100%|██████████████████████████████████████████████████████████████████████████████████| 84/84 [01:19<00:00,  1.26it/s]\n",
      "100%|██████████████████████████████████████████████████████████████████████████████████| 28/28 [00:21<00:00,  1.37it/s]\n",
      "100%|██████████████████████████████████████████████████████████████████████████████████| 84/84 [01:04<00:00,  1.69it/s]\n"
     ]
    },
    {
     "name": "stdout",
     "output_type": "stream",
     "text": [
      "epoch: 46, f1_test: 0.5688517888127874, f1_train: 0.922419273675468\n"
     ]
    },
    {
     "name": "stderr",
     "output_type": "stream",
     "text": [
      "100%|██████████████████████████████████████████████████████████████████████████████████| 84/84 [01:19<00:00,  1.30it/s]\n",
      "100%|██████████████████████████████████████████████████████████████████████████████████| 28/28 [00:21<00:00,  1.40it/s]\n",
      "100%|██████████████████████████████████████████████████████████████████████████████████| 84/84 [01:03<00:00,  1.67it/s]\n"
     ]
    },
    {
     "name": "stdout",
     "output_type": "stream",
     "text": [
      "epoch: 47, f1_test: 0.5773426549123948, f1_train: 0.9225128394401514\n"
     ]
    },
    {
     "name": "stderr",
     "output_type": "stream",
     "text": [
      "100%|██████████████████████████████████████████████████████████████████████████████████| 84/84 [01:19<00:00,  1.31it/s]\n",
      "100%|██████████████████████████████████████████████████████████████████████████████████| 28/28 [00:21<00:00,  1.33it/s]\n",
      "100%|██████████████████████████████████████████████████████████████████████████████████| 84/84 [01:03<00:00,  1.72it/s]\n"
     ]
    },
    {
     "name": "stdout",
     "output_type": "stream",
     "text": [
      "epoch: 48, f1_test: 0.573713396936962, f1_train: 0.9206055014179242\n"
     ]
    },
    {
     "name": "stderr",
     "output_type": "stream",
     "text": [
      "100%|██████████████████████████████████████████████████████████████████████████████████| 84/84 [01:19<00:00,  1.32it/s]\n",
      "100%|██████████████████████████████████████████████████████████████████████████████████| 28/28 [00:21<00:00,  1.36it/s]\n",
      "100%|██████████████████████████████████████████████████████████████████████████████████| 84/84 [01:04<00:00,  1.67it/s]\n"
     ]
    },
    {
     "name": "stdout",
     "output_type": "stream",
     "text": [
      "epoch: 49, f1_test: 0.5730938385772906, f1_train: 0.9166185409202112\n"
     ]
    }
   ],
   "source": [
    "criterion = nn.CrossEntropyLoss()\n",
    "model = Model_3()\n",
    "model = model.cuda()\n",
    "model_name = 'baseline_v3_Stackikng_2.pt'\n",
    "lr = 1e-3\n",
    "\n",
    "optimizer = torch.optim.Adam(model.parameters(), lr=lr)\n",
    "\n",
    "model_train(model, train_loader_2, val_loader_2, model_name, lr, 50)"
   ]
  },
  {
   "cell_type": "code",
   "execution_count": 23,
   "metadata": {},
   "outputs": [
    {
     "name": "stdout",
     "output_type": "stream",
     "text": [
      "Loaded pretrained weights for efficientnet-b0\n"
     ]
    },
    {
     "name": "stderr",
     "output_type": "stream",
     "text": [
      "100%|██████████████████████████████████████████████████████████████████████████████████| 84/84 [01:27<00:00,  1.18it/s]\n",
      "  0%|                                                                                           | 0/28 [00:00<?, ?it/s]D:\\Programs\\Anaconda\\lib\\site-packages\\ipykernel_launcher.py:29: UserWarning: Implicit dimension choice for softmax has been deprecated. Change the call to include dim=X as an argument.\n",
      "100%|██████████████████████████████████████████████████████████████████████████████████| 28/28 [00:21<00:00,  1.43it/s]\n",
      "100%|██████████████████████████████████████████████████████████████████████████████████| 84/84 [01:05<00:00,  1.65it/s]\n"
     ]
    },
    {
     "name": "stdout",
     "output_type": "stream",
     "text": [
      "epoch: 0, f1_test: 0.06462912425363793, f1_train: 0.07636991028241652\n"
     ]
    },
    {
     "name": "stderr",
     "output_type": "stream",
     "text": [
      "100%|██████████████████████████████████████████████████████████████████████████████████| 84/84 [01:27<00:00,  1.21it/s]\n",
      "100%|██████████████████████████████████████████████████████████████████████████████████| 28/28 [00:21<00:00,  1.43it/s]\n",
      "100%|██████████████████████████████████████████████████████████████████████████████████| 84/84 [01:05<00:00,  1.64it/s]\n"
     ]
    },
    {
     "name": "stdout",
     "output_type": "stream",
     "text": [
      "epoch: 1, f1_test: 0.1133751390939587, f1_train: 0.11005515316791675\n"
     ]
    },
    {
     "name": "stderr",
     "output_type": "stream",
     "text": [
      "100%|██████████████████████████████████████████████████████████████████████████████████| 84/84 [01:26<00:00,  1.17it/s]\n",
      "100%|██████████████████████████████████████████████████████████████████████████████████| 28/28 [00:21<00:00,  1.47it/s]\n",
      "100%|██████████████████████████████████████████████████████████████████████████████████| 84/84 [01:07<00:00,  1.66it/s]\n"
     ]
    },
    {
     "name": "stdout",
     "output_type": "stream",
     "text": [
      "epoch: 2, f1_test: 0.2816400443467009, f1_train: 0.32655034297927393\n"
     ]
    },
    {
     "name": "stderr",
     "output_type": "stream",
     "text": [
      "100%|██████████████████████████████████████████████████████████████████████████████████| 84/84 [01:27<00:00,  1.18it/s]\n",
      "100%|██████████████████████████████████████████████████████████████████████████████████| 28/28 [00:21<00:00,  1.45it/s]\n",
      "100%|██████████████████████████████████████████████████████████████████████████████████| 84/84 [01:05<00:00,  1.62it/s]\n"
     ]
    },
    {
     "name": "stdout",
     "output_type": "stream",
     "text": [
      "epoch: 3, f1_test: 0.24160492102869288, f1_train: 0.26645788797136444\n"
     ]
    },
    {
     "name": "stderr",
     "output_type": "stream",
     "text": [
      "100%|██████████████████████████████████████████████████████████████████████████████████| 84/84 [01:29<00:00,  1.17it/s]\n",
      "100%|██████████████████████████████████████████████████████████████████████████████████| 28/28 [00:21<00:00,  1.39it/s]\n",
      "100%|██████████████████████████████████████████████████████████████████████████████████| 84/84 [01:05<00:00,  1.65it/s]\n"
     ]
    },
    {
     "name": "stdout",
     "output_type": "stream",
     "text": [
      "epoch: 4, f1_test: 0.43774644263467744, f1_train: 0.4751624602278244\n"
     ]
    },
    {
     "name": "stderr",
     "output_type": "stream",
     "text": [
      "100%|██████████████████████████████████████████████████████████████████████████████████| 84/84 [01:27<00:00,  1.17it/s]\n",
      "100%|██████████████████████████████████████████████████████████████████████████████████| 28/28 [00:26<00:00,  1.42it/s]\n",
      "100%|██████████████████████████████████████████████████████████████████████████████████| 84/84 [01:05<00:00,  1.65it/s]\n"
     ]
    },
    {
     "name": "stdout",
     "output_type": "stream",
     "text": [
      "epoch: 5, f1_test: 0.3381398391781162, f1_train: 0.4280603883907077\n"
     ]
    },
    {
     "name": "stderr",
     "output_type": "stream",
     "text": [
      "100%|██████████████████████████████████████████████████████████████████████████████████| 84/84 [01:27<00:00,  1.16it/s]\n",
      "100%|██████████████████████████████████████████████████████████████████████████████████| 28/28 [00:21<00:00,  1.45it/s]\n",
      "100%|██████████████████████████████████████████████████████████████████████████████████| 84/84 [01:05<00:00,  1.65it/s]\n"
     ]
    },
    {
     "name": "stdout",
     "output_type": "stream",
     "text": [
      "epoch: 6, f1_test: 0.4210982763388379, f1_train: 0.5435123433448776\n"
     ]
    },
    {
     "name": "stderr",
     "output_type": "stream",
     "text": [
      "100%|██████████████████████████████████████████████████████████████████████████████████| 84/84 [01:25<00:00,  1.20it/s]\n",
      "100%|██████████████████████████████████████████████████████████████████████████████████| 28/28 [00:21<00:00,  1.46it/s]\n",
      "100%|██████████████████████████████████████████████████████████████████████████████████| 84/84 [01:05<00:00,  1.64it/s]\n"
     ]
    },
    {
     "name": "stdout",
     "output_type": "stream",
     "text": [
      "epoch: 7, f1_test: 0.369851855391885, f1_train: 0.4725512330402566\n"
     ]
    },
    {
     "name": "stderr",
     "output_type": "stream",
     "text": [
      "100%|██████████████████████████████████████████████████████████████████████████████████| 84/84 [01:26<00:00,  1.21it/s]\n",
      "100%|██████████████████████████████████████████████████████████████████████████████████| 28/28 [00:21<00:00,  1.46it/s]\n",
      "100%|██████████████████████████████████████████████████████████████████████████████████| 84/84 [01:05<00:00,  1.68it/s]\n"
     ]
    },
    {
     "name": "stdout",
     "output_type": "stream",
     "text": [
      "epoch: 8, f1_test: 0.5768007969224672, f1_train: 0.7031344032240732\n"
     ]
    },
    {
     "name": "stderr",
     "output_type": "stream",
     "text": [
      "100%|██████████████████████████████████████████████████████████████████████████████████| 84/84 [01:26<00:00,  1.21it/s]\n",
      "100%|██████████████████████████████████████████████████████████████████████████████████| 28/28 [00:21<00:00,  1.44it/s]\n",
      "100%|██████████████████████████████████████████████████████████████████████████████████| 84/84 [01:05<00:00,  1.63it/s]\n"
     ]
    },
    {
     "name": "stdout",
     "output_type": "stream",
     "text": [
      "epoch: 9, f1_test: 0.43235297189728444, f1_train: 0.5489948687438281\n"
     ]
    },
    {
     "name": "stderr",
     "output_type": "stream",
     "text": [
      "100%|██████████████████████████████████████████████████████████████████████████████████| 84/84 [01:26<00:00,  1.21it/s]\n",
      "100%|██████████████████████████████████████████████████████████████████████████████████| 28/28 [00:21<00:00,  1.45it/s]\n",
      "100%|██████████████████████████████████████████████████████████████████████████████████| 84/84 [01:05<00:00,  1.66it/s]\n"
     ]
    },
    {
     "name": "stdout",
     "output_type": "stream",
     "text": [
      "epoch: 10, f1_test: 0.5397779006709876, f1_train: 0.695348119306312\n"
     ]
    },
    {
     "name": "stderr",
     "output_type": "stream",
     "text": [
      "100%|██████████████████████████████████████████████████████████████████████████████████| 84/84 [01:26<00:00,  1.18it/s]\n",
      "100%|██████████████████████████████████████████████████████████████████████████████████| 28/28 [00:21<00:00,  1.44it/s]\n",
      "100%|██████████████████████████████████████████████████████████████████████████████████| 84/84 [01:05<00:00,  1.59it/s]\n"
     ]
    },
    {
     "name": "stdout",
     "output_type": "stream",
     "text": [
      "epoch: 11, f1_test: 0.558973120203983, f1_train: 0.7130154256591464\n"
     ]
    },
    {
     "name": "stderr",
     "output_type": "stream",
     "text": [
      "100%|██████████████████████████████████████████████████████████████████████████████████| 84/84 [01:26<00:00,  1.20it/s]\n",
      "100%|██████████████████████████████████████████████████████████████████████████████████| 28/28 [00:21<00:00,  1.44it/s]\n",
      "100%|██████████████████████████████████████████████████████████████████████████████████| 84/84 [01:05<00:00,  1.64it/s]\n"
     ]
    },
    {
     "name": "stdout",
     "output_type": "stream",
     "text": [
      "epoch: 12, f1_test: 0.5832355473731806, f1_train: 0.7610775380154591\n"
     ]
    },
    {
     "name": "stderr",
     "output_type": "stream",
     "text": [
      "100%|██████████████████████████████████████████████████████████████████████████████████| 84/84 [01:26<00:00,  1.21it/s]\n",
      "100%|██████████████████████████████████████████████████████████████████████████████████| 28/28 [00:21<00:00,  1.44it/s]\n",
      "100%|██████████████████████████████████████████████████████████████████████████████████| 84/84 [01:05<00:00,  1.65it/s]\n"
     ]
    },
    {
     "name": "stdout",
     "output_type": "stream",
     "text": [
      "epoch: 13, f1_test: 0.5576556280616018, f1_train: 0.7404459452336146\n"
     ]
    },
    {
     "name": "stderr",
     "output_type": "stream",
     "text": [
      "100%|██████████████████████████████████████████████████████████████████████████████████| 84/84 [01:26<00:00,  1.21it/s]\n",
      "100%|██████████████████████████████████████████████████████████████████████████████████| 28/28 [00:21<00:00,  1.42it/s]\n",
      "100%|██████████████████████████████████████████████████████████████████████████████████| 84/84 [01:05<00:00,  1.65it/s]\n"
     ]
    },
    {
     "name": "stdout",
     "output_type": "stream",
     "text": [
      "epoch: 14, f1_test: 0.5215137455328811, f1_train: 0.7039539138874578\n"
     ]
    },
    {
     "name": "stderr",
     "output_type": "stream",
     "text": [
      "100%|██████████████████████████████████████████████████████████████████████████████████| 84/84 [01:26<00:00,  1.18it/s]\n",
      "100%|██████████████████████████████████████████████████████████████████████████████████| 28/28 [00:21<00:00,  1.47it/s]\n",
      "100%|██████████████████████████████████████████████████████████████████████████████████| 84/84 [01:05<00:00,  1.66it/s]\n"
     ]
    },
    {
     "name": "stdout",
     "output_type": "stream",
     "text": [
      "epoch: 15, f1_test: 0.6190861660087325, f1_train: 0.8052354746252837\n"
     ]
    },
    {
     "name": "stderr",
     "output_type": "stream",
     "text": [
      "100%|██████████████████████████████████████████████████████████████████████████████████| 84/84 [01:26<00:00,  1.18it/s]\n",
      "100%|██████████████████████████████████████████████████████████████████████████████████| 28/28 [00:21<00:00,  1.43it/s]\n",
      "100%|██████████████████████████████████████████████████████████████████████████████████| 84/84 [01:05<00:00,  1.62it/s]\n"
     ]
    },
    {
     "name": "stdout",
     "output_type": "stream",
     "text": [
      "epoch: 16, f1_test: 0.613396289466805, f1_train: 0.7942131640328898\n"
     ]
    },
    {
     "name": "stderr",
     "output_type": "stream",
     "text": [
      "100%|██████████████████████████████████████████████████████████████████████████████████| 84/84 [01:26<00:00,  1.18it/s]\n",
      "100%|██████████████████████████████████████████████████████████████████████████████████| 28/28 [00:21<00:00,  1.43it/s]\n",
      "100%|██████████████████████████████████████████████████████████████████████████████████| 84/84 [01:05<00:00,  1.66it/s]\n"
     ]
    },
    {
     "name": "stdout",
     "output_type": "stream",
     "text": [
      "epoch: 17, f1_test: 0.6386705614526786, f1_train: 0.8510744856952915\n"
     ]
    },
    {
     "name": "stderr",
     "output_type": "stream",
     "text": [
      "100%|██████████████████████████████████████████████████████████████████████████████████| 84/84 [01:26<00:00,  1.20it/s]\n",
      "100%|██████████████████████████████████████████████████████████████████████████████████| 28/28 [00:21<00:00,  1.42it/s]\n",
      "100%|██████████████████████████████████████████████████████████████████████████████████| 84/84 [01:06<00:00,  1.61it/s]\n"
     ]
    },
    {
     "name": "stdout",
     "output_type": "stream",
     "text": [
      "epoch: 18, f1_test: 0.6176369129833451, f1_train: 0.80007324653011\n"
     ]
    },
    {
     "name": "stderr",
     "output_type": "stream",
     "text": [
      "100%|██████████████████████████████████████████████████████████████████████████████████| 84/84 [01:26<00:00,  1.17it/s]\n",
      "100%|██████████████████████████████████████████████████████████████████████████████████| 28/28 [00:21<00:00,  1.44it/s]\n",
      "100%|██████████████████████████████████████████████████████████████████████████████████| 84/84 [01:05<00:00,  1.63it/s]\n"
     ]
    },
    {
     "name": "stdout",
     "output_type": "stream",
     "text": [
      "epoch: 19, f1_test: 0.6098564119050262, f1_train: 0.8363704119550834\n"
     ]
    },
    {
     "name": "stderr",
     "output_type": "stream",
     "text": [
      "100%|██████████████████████████████████████████████████████████████████████████████████| 84/84 [01:26<00:00,  1.18it/s]\n",
      "100%|██████████████████████████████████████████████████████████████████████████████████| 28/28 [00:21<00:00,  1.44it/s]\n",
      "100%|██████████████████████████████████████████████████████████████████████████████████| 84/84 [01:05<00:00,  1.64it/s]\n"
     ]
    },
    {
     "name": "stdout",
     "output_type": "stream",
     "text": [
      "epoch: 20, f1_test: 0.6437131100211774, f1_train: 0.8375018446285654\n"
     ]
    },
    {
     "name": "stderr",
     "output_type": "stream",
     "text": [
      "100%|██████████████████████████████████████████████████████████████████████████████████| 84/84 [01:26<00:00,  1.19it/s]\n",
      "100%|██████████████████████████████████████████████████████████████████████████████████| 28/28 [00:21<00:00,  1.44it/s]\n",
      "100%|██████████████████████████████████████████████████████████████████████████████████| 84/84 [01:05<00:00,  1.66it/s]\n"
     ]
    },
    {
     "name": "stdout",
     "output_type": "stream",
     "text": [
      "epoch: 21, f1_test: 0.5940823859414691, f1_train: 0.8116087763328058\n"
     ]
    },
    {
     "name": "stderr",
     "output_type": "stream",
     "text": [
      "100%|██████████████████████████████████████████████████████████████████████████████████| 84/84 [01:25<00:00,  1.21it/s]\n",
      "100%|██████████████████████████████████████████████████████████████████████████████████| 28/28 [00:21<00:00,  1.42it/s]\n",
      "100%|██████████████████████████████████████████████████████████████████████████████████| 84/84 [01:05<00:00,  1.64it/s]\n"
     ]
    },
    {
     "name": "stdout",
     "output_type": "stream",
     "text": [
      "epoch: 22, f1_test: 0.5997989856011495, f1_train: 0.8352003627147377\n"
     ]
    },
    {
     "name": "stderr",
     "output_type": "stream",
     "text": [
      "100%|██████████████████████████████████████████████████████████████████████████████████| 84/84 [01:28<00:00,  1.19it/s]\n",
      "100%|██████████████████████████████████████████████████████████████████████████████████| 28/28 [00:21<00:00,  1.44it/s]\n",
      "100%|██████████████████████████████████████████████████████████████████████████████████| 84/84 [01:05<00:00,  1.64it/s]\n"
     ]
    },
    {
     "name": "stdout",
     "output_type": "stream",
     "text": [
      "epoch: 23, f1_test: 0.6259588537746614, f1_train: 0.8583426860842543\n"
     ]
    },
    {
     "name": "stderr",
     "output_type": "stream",
     "text": [
      "100%|██████████████████████████████████████████████████████████████████████████████████| 84/84 [01:26<00:00,  1.19it/s]\n",
      "100%|██████████████████████████████████████████████████████████████████████████████████| 28/28 [00:21<00:00,  1.44it/s]\n",
      "100%|██████████████████████████████████████████████████████████████████████████████████| 84/84 [01:05<00:00,  1.64it/s]\n"
     ]
    },
    {
     "name": "stdout",
     "output_type": "stream",
     "text": [
      "epoch: 24, f1_test: 0.620159899737017, f1_train: 0.8563249904626834\n"
     ]
    },
    {
     "name": "stderr",
     "output_type": "stream",
     "text": [
      "100%|██████████████████████████████████████████████████████████████████████████████████| 84/84 [01:26<00:00,  1.20it/s]\n",
      "100%|██████████████████████████████████████████████████████████████████████████████████| 28/28 [00:21<00:00,  1.42it/s]\n",
      "100%|██████████████████████████████████████████████████████████████████████████████████| 84/84 [01:05<00:00,  1.64it/s]\n"
     ]
    },
    {
     "name": "stdout",
     "output_type": "stream",
     "text": [
      "epoch: 25, f1_test: 0.6506996391660037, f1_train: 0.874436645991211\n"
     ]
    },
    {
     "name": "stderr",
     "output_type": "stream",
     "text": [
      "100%|██████████████████████████████████████████████████████████████████████████████████| 84/84 [01:26<00:00,  1.19it/s]\n",
      "100%|██████████████████████████████████████████████████████████████████████████████████| 28/28 [00:21<00:00,  1.45it/s]\n",
      "100%|██████████████████████████████████████████████████████████████████████████████████| 84/84 [01:05<00:00,  1.64it/s]\n"
     ]
    },
    {
     "name": "stdout",
     "output_type": "stream",
     "text": [
      "epoch: 26, f1_test: 0.5867902936832703, f1_train: 0.814245510705913\n"
     ]
    },
    {
     "name": "stderr",
     "output_type": "stream",
     "text": [
      "100%|██████████████████████████████████████████████████████████████████████████████████| 84/84 [01:26<00:00,  1.19it/s]\n",
      "100%|██████████████████████████████████████████████████████████████████████████████████| 28/28 [00:21<00:00,  1.43it/s]\n",
      "100%|██████████████████████████████████████████████████████████████████████████████████| 84/84 [01:05<00:00,  1.63it/s]\n"
     ]
    },
    {
     "name": "stdout",
     "output_type": "stream",
     "text": [
      "epoch: 27, f1_test: 0.6373936692731909, f1_train: 0.8812704332722852\n"
     ]
    },
    {
     "name": "stderr",
     "output_type": "stream",
     "text": [
      "100%|██████████████████████████████████████████████████████████████████████████████████| 84/84 [01:26<00:00,  1.17it/s]\n",
      "100%|██████████████████████████████████████████████████████████████████████████████████| 28/28 [00:21<00:00,  1.44it/s]\n",
      "100%|██████████████████████████████████████████████████████████████████████████████████| 84/84 [01:05<00:00,  1.64it/s]\n"
     ]
    },
    {
     "name": "stdout",
     "output_type": "stream",
     "text": [
      "epoch: 28, f1_test: 0.6517056528979087, f1_train: 0.8991498229722058\n"
     ]
    },
    {
     "name": "stderr",
     "output_type": "stream",
     "text": [
      "100%|██████████████████████████████████████████████████████████████████████████████████| 84/84 [01:26<00:00,  1.19it/s]\n",
      "100%|██████████████████████████████████████████████████████████████████████████████████| 28/28 [00:21<00:00,  1.44it/s]\n",
      "100%|██████████████████████████████████████████████████████████████████████████████████| 84/84 [01:05<00:00,  1.64it/s]\n"
     ]
    },
    {
     "name": "stdout",
     "output_type": "stream",
     "text": [
      "epoch: 29, f1_test: 0.6391848460421532, f1_train: 0.8617519452658\n"
     ]
    },
    {
     "name": "stderr",
     "output_type": "stream",
     "text": [
      "100%|██████████████████████████████████████████████████████████████████████████████████| 84/84 [01:26<00:00,  1.19it/s]\n",
      "100%|██████████████████████████████████████████████████████████████████████████████████| 28/28 [00:21<00:00,  1.43it/s]\n",
      "100%|██████████████████████████████████████████████████████████████████████████████████| 84/84 [01:05<00:00,  1.62it/s]\n"
     ]
    },
    {
     "name": "stdout",
     "output_type": "stream",
     "text": [
      "epoch: 30, f1_test: 0.6641606741012985, f1_train: 0.906940410093665\n"
     ]
    },
    {
     "name": "stderr",
     "output_type": "stream",
     "text": [
      "100%|██████████████████████████████████████████████████████████████████████████████████| 84/84 [01:26<00:00,  1.19it/s]\n",
      "100%|██████████████████████████████████████████████████████████████████████████████████| 28/28 [00:21<00:00,  1.45it/s]\n",
      "100%|██████████████████████████████████████████████████████████████████████████████████| 84/84 [01:05<00:00,  1.62it/s]\n"
     ]
    },
    {
     "name": "stdout",
     "output_type": "stream",
     "text": [
      "epoch: 31, f1_test: 0.6501674845781534, f1_train: 0.8834605601662804\n"
     ]
    },
    {
     "name": "stderr",
     "output_type": "stream",
     "text": [
      "100%|██████████████████████████████████████████████████████████████████████████████████| 84/84 [01:26<00:00,  1.21it/s]\n",
      "100%|██████████████████████████████████████████████████████████████████████████████████| 28/28 [00:21<00:00,  1.41it/s]\n",
      "100%|██████████████████████████████████████████████████████████████████████████████████| 84/84 [01:05<00:00,  1.61it/s]\n"
     ]
    },
    {
     "name": "stdout",
     "output_type": "stream",
     "text": [
      "epoch: 32, f1_test: 0.6550016635262649, f1_train: 0.8881105149322281\n"
     ]
    },
    {
     "name": "stderr",
     "output_type": "stream",
     "text": [
      "100%|██████████████████████████████████████████████████████████████████████████████████| 84/84 [01:28<00:00,  1.14it/s]\n",
      "100%|██████████████████████████████████████████████████████████████████████████████████| 28/28 [00:21<00:00,  1.44it/s]\n",
      "100%|██████████████████████████████████████████████████████████████████████████████████| 84/84 [01:05<00:00,  1.64it/s]\n"
     ]
    },
    {
     "name": "stdout",
     "output_type": "stream",
     "text": [
      "epoch: 33, f1_test: 0.6540427413563402, f1_train: 0.9021191350925742\n"
     ]
    },
    {
     "name": "stderr",
     "output_type": "stream",
     "text": [
      "100%|██████████████████████████████████████████████████████████████████████████████████| 84/84 [01:27<00:00,  1.19it/s]\n",
      "100%|██████████████████████████████████████████████████████████████████████████████████| 28/28 [00:21<00:00,  1.44it/s]\n",
      "100%|██████████████████████████████████████████████████████████████████████████████████| 84/84 [01:05<00:00,  1.63it/s]\n"
     ]
    },
    {
     "name": "stdout",
     "output_type": "stream",
     "text": [
      "epoch: 34, f1_test: 0.6440585778532889, f1_train: 0.889920334796494\n"
     ]
    },
    {
     "name": "stderr",
     "output_type": "stream",
     "text": [
      "100%|██████████████████████████████████████████████████████████████████████████████████| 84/84 [01:27<00:00,  1.17it/s]\n",
      "100%|██████████████████████████████████████████████████████████████████████████████████| 28/28 [00:21<00:00,  1.43it/s]\n",
      "100%|██████████████████████████████████████████████████████████████████████████████████| 84/84 [01:05<00:00,  1.63it/s]\n"
     ]
    },
    {
     "name": "stdout",
     "output_type": "stream",
     "text": [
      "epoch: 35, f1_test: 0.6200183135209026, f1_train: 0.8727758161943749\n"
     ]
    },
    {
     "name": "stderr",
     "output_type": "stream",
     "text": [
      "100%|██████████████████████████████████████████████████████████████████████████████████| 84/84 [01:27<00:00,  1.20it/s]\n",
      "100%|██████████████████████████████████████████████████████████████████████████████████| 28/28 [00:21<00:00,  1.44it/s]\n",
      "100%|██████████████████████████████████████████████████████████████████████████████████| 84/84 [01:05<00:00,  1.67it/s]\n"
     ]
    },
    {
     "name": "stdout",
     "output_type": "stream",
     "text": [
      "epoch: 36, f1_test: 0.6488676869227971, f1_train: 0.9009672928138025\n"
     ]
    },
    {
     "name": "stderr",
     "output_type": "stream",
     "text": [
      "100%|██████████████████████████████████████████████████████████████████████████████████| 84/84 [01:26<00:00,  1.19it/s]\n",
      "100%|██████████████████████████████████████████████████████████████████████████████████| 28/28 [00:21<00:00,  1.45it/s]\n",
      "100%|██████████████████████████████████████████████████████████████████████████████████| 84/84 [01:05<00:00,  1.63it/s]\n"
     ]
    },
    {
     "name": "stdout",
     "output_type": "stream",
     "text": [
      "epoch: 37, f1_test: 0.63426190601434, f1_train: 0.888402525210934\n"
     ]
    },
    {
     "name": "stderr",
     "output_type": "stream",
     "text": [
      "100%|██████████████████████████████████████████████████████████████████████████████████| 84/84 [01:26<00:00,  1.16it/s]\n",
      "100%|██████████████████████████████████████████████████████████████████████████████████| 28/28 [00:21<00:00,  1.41it/s]\n",
      "100%|██████████████████████████████████████████████████████████████████████████████████| 84/84 [01:05<00:00,  1.64it/s]\n"
     ]
    },
    {
     "name": "stdout",
     "output_type": "stream",
     "text": [
      "epoch: 38, f1_test: 0.671058870708158, f1_train: 0.9187015368605109\n"
     ]
    },
    {
     "name": "stderr",
     "output_type": "stream",
     "text": [
      "100%|██████████████████████████████████████████████████████████████████████████████████| 84/84 [01:26<00:00,  1.20it/s]\n",
      "100%|██████████████████████████████████████████████████████████████████████████████████| 28/28 [00:21<00:00,  1.43it/s]\n",
      "100%|██████████████████████████████████████████████████████████████████████████████████| 84/84 [01:05<00:00,  1.63it/s]\n"
     ]
    },
    {
     "name": "stdout",
     "output_type": "stream",
     "text": [
      "epoch: 39, f1_test: 0.6527361146162044, f1_train: 0.9051582634083655\n"
     ]
    },
    {
     "name": "stderr",
     "output_type": "stream",
     "text": [
      "100%|██████████████████████████████████████████████████████████████████████████████████| 84/84 [01:25<00:00,  1.21it/s]\n",
      "100%|██████████████████████████████████████████████████████████████████████████████████| 28/28 [00:21<00:00,  1.44it/s]\n",
      "100%|██████████████████████████████████████████████████████████████████████████████████| 84/84 [01:05<00:00,  1.61it/s]\n"
     ]
    },
    {
     "name": "stdout",
     "output_type": "stream",
     "text": [
      "epoch: 40, f1_test: 0.6631287670371184, f1_train: 0.9092210896603808\n"
     ]
    },
    {
     "name": "stderr",
     "output_type": "stream",
     "text": [
      "100%|██████████████████████████████████████████████████████████████████████████████████| 84/84 [01:26<00:00,  1.19it/s]\n",
      "100%|██████████████████████████████████████████████████████████████████████████████████| 28/28 [00:21<00:00,  1.41it/s]\n",
      "100%|██████████████████████████████████████████████████████████████████████████████████| 84/84 [01:05<00:00,  1.67it/s]\n"
     ]
    },
    {
     "name": "stdout",
     "output_type": "stream",
     "text": [
      "epoch: 41, f1_test: 0.6429452294728181, f1_train: 0.8936196307406423\n"
     ]
    },
    {
     "name": "stderr",
     "output_type": "stream",
     "text": [
      "100%|██████████████████████████████████████████████████████████████████████████████████| 84/84 [01:26<00:00,  1.18it/s]\n",
      "100%|██████████████████████████████████████████████████████████████████████████████████| 28/28 [00:21<00:00,  1.45it/s]\n",
      "100%|██████████████████████████████████████████████████████████████████████████████████| 84/84 [01:05<00:00,  1.65it/s]\n"
     ]
    },
    {
     "name": "stdout",
     "output_type": "stream",
     "text": [
      "epoch: 42, f1_test: 0.6590823331074839, f1_train: 0.907654014868959\n"
     ]
    },
    {
     "name": "stderr",
     "output_type": "stream",
     "text": [
      "100%|██████████████████████████████████████████████████████████████████████████████████| 84/84 [01:26<00:00,  1.21it/s]\n",
      "100%|██████████████████████████████████████████████████████████████████████████████████| 28/28 [00:21<00:00,  1.44it/s]\n",
      "100%|██████████████████████████████████████████████████████████████████████████████████| 84/84 [01:05<00:00,  1.63it/s]\n"
     ]
    },
    {
     "name": "stdout",
     "output_type": "stream",
     "text": [
      "epoch: 43, f1_test: 0.6660782031215045, f1_train: 0.904074133844166\n"
     ]
    },
    {
     "name": "stderr",
     "output_type": "stream",
     "text": [
      "100%|██████████████████████████████████████████████████████████████████████████████████| 84/84 [01:26<00:00,  1.18it/s]\n",
      "100%|██████████████████████████████████████████████████████████████████████████████████| 28/28 [00:21<00:00,  1.44it/s]\n",
      "100%|██████████████████████████████████████████████████████████████████████████████████| 84/84 [01:05<00:00,  1.65it/s]\n"
     ]
    },
    {
     "name": "stdout",
     "output_type": "stream",
     "text": [
      "epoch: 44, f1_test: 0.6528751883349814, f1_train: 0.8973751937775286\n"
     ]
    },
    {
     "name": "stderr",
     "output_type": "stream",
     "text": [
      "100%|██████████████████████████████████████████████████████████████████████████████████| 84/84 [01:26<00:00,  1.20it/s]\n",
      "100%|██████████████████████████████████████████████████████████████████████████████████| 28/28 [00:21<00:00,  1.43it/s]\n",
      "100%|██████████████████████████████████████████████████████████████████████████████████| 84/84 [01:05<00:00,  1.64it/s]\n"
     ]
    },
    {
     "name": "stdout",
     "output_type": "stream",
     "text": [
      "epoch: 45, f1_test: 0.6497412150001569, f1_train: 0.8998702251603724\n"
     ]
    },
    {
     "name": "stderr",
     "output_type": "stream",
     "text": [
      "100%|██████████████████████████████████████████████████████████████████████████████████| 84/84 [01:26<00:00,  1.21it/s]\n",
      "100%|██████████████████████████████████████████████████████████████████████████████████| 28/28 [00:21<00:00,  1.45it/s]\n",
      "100%|██████████████████████████████████████████████████████████████████████████████████| 84/84 [01:05<00:00,  1.61it/s]\n"
     ]
    },
    {
     "name": "stdout",
     "output_type": "stream",
     "text": [
      "epoch: 46, f1_test: 0.6648401977235978, f1_train: 0.9058692394760807\n"
     ]
    },
    {
     "name": "stderr",
     "output_type": "stream",
     "text": [
      "100%|██████████████████████████████████████████████████████████████████████████████████| 84/84 [01:26<00:00,  1.21it/s]\n",
      "100%|██████████████████████████████████████████████████████████████████████████████████| 28/28 [00:21<00:00,  1.41it/s]\n",
      "100%|██████████████████████████████████████████████████████████████████████████████████| 84/84 [01:05<00:00,  1.63it/s]\n"
     ]
    },
    {
     "name": "stdout",
     "output_type": "stream",
     "text": [
      "epoch: 47, f1_test: 0.6729256684190833, f1_train: 0.9169955919700499\n"
     ]
    },
    {
     "name": "stderr",
     "output_type": "stream",
     "text": [
      "100%|██████████████████████████████████████████████████████████████████████████████████| 84/84 [01:26<00:00,  1.18it/s]\n",
      "100%|██████████████████████████████████████████████████████████████████████████████████| 28/28 [00:21<00:00,  1.45it/s]\n",
      "100%|██████████████████████████████████████████████████████████████████████████████████| 84/84 [01:05<00:00,  1.63it/s]\n"
     ]
    },
    {
     "name": "stdout",
     "output_type": "stream",
     "text": [
      "epoch: 48, f1_test: 0.6630485875650165, f1_train: 0.9209284886623387\n"
     ]
    },
    {
     "name": "stderr",
     "output_type": "stream",
     "text": [
      "100%|██████████████████████████████████████████████████████████████████████████████████| 84/84 [01:26<00:00,  1.20it/s]\n",
      "100%|██████████████████████████████████████████████████████████████████████████████████| 28/28 [00:21<00:00,  1.44it/s]\n",
      "100%|██████████████████████████████████████████████████████████████████████████████████| 84/84 [01:05<00:00,  1.64it/s]\n"
     ]
    },
    {
     "name": "stdout",
     "output_type": "stream",
     "text": [
      "epoch: 49, f1_test: 0.6624695212875832, f1_train: 0.9171959074157839\n"
     ]
    }
   ],
   "source": [
    "criterion = nn.CrossEntropyLoss()\n",
    "model = Model_4()\n",
    "model = model.cuda()\n",
    "model_name = 'baseline_v4_Stackikng_3.pt'\n",
    "lr = 1e-3\n",
    "\n",
    "optimizer = torch.optim.Adam(model.parameters(), lr=lr)\n",
    "\n",
    "model_train(model, train_loader_3, val_loader_3, model_name, lr, 50)"
   ]
  },
  {
   "cell_type": "code",
   "execution_count": 24,
   "metadata": {},
   "outputs": [
    {
     "name": "stdout",
     "output_type": "stream",
     "text": [
      "Loaded pretrained weights for efficientnet-b0\n"
     ]
    },
    {
     "name": "stderr",
     "output_type": "stream",
     "text": [
      "100%|██████████████████████████████████████████████████████████████████████████████████| 84/84 [01:19<00:00,  1.32it/s]\n",
      "  0%|                                                                                           | 0/28 [00:00<?, ?it/s]D:\\Programs\\Anaconda\\lib\\site-packages\\ipykernel_launcher.py:31: UserWarning: Implicit dimension choice for softmax has been deprecated. Change the call to include dim=X as an argument.\n",
      "100%|██████████████████████████████████████████████████████████████████████████████████| 28/28 [00:20<00:00,  1.38it/s]\n",
      "100%|██████████████████████████████████████████████████████████████████████████████████| 84/84 [01:02<00:00,  1.79it/s]\n"
     ]
    },
    {
     "name": "stdout",
     "output_type": "stream",
     "text": [
      "epoch: 0, f1_test: 0.026697622398487282, f1_train: 0.03462015432231225\n"
     ]
    },
    {
     "name": "stderr",
     "output_type": "stream",
     "text": [
      "100%|██████████████████████████████████████████████████████████████████████████████████| 84/84 [01:19<00:00,  1.32it/s]\n",
      "100%|██████████████████████████████████████████████████████████████████████████████████| 28/28 [00:20<00:00,  1.44it/s]\n",
      "100%|██████████████████████████████████████████████████████████████████████████████████| 84/84 [01:02<00:00,  1.82it/s]\n"
     ]
    },
    {
     "name": "stdout",
     "output_type": "stream",
     "text": [
      "epoch: 1, f1_test: 0.14800666504267845, f1_train: 0.16023406969540988\n"
     ]
    },
    {
     "name": "stderr",
     "output_type": "stream",
     "text": [
      "100%|██████████████████████████████████████████████████████████████████████████████████| 84/84 [01:18<00:00,  1.35it/s]\n",
      "100%|██████████████████████████████████████████████████████████████████████████████████| 28/28 [00:21<00:00,  1.39it/s]\n",
      "100%|██████████████████████████████████████████████████████████████████████████████████| 84/84 [01:03<00:00,  1.78it/s]\n"
     ]
    },
    {
     "name": "stdout",
     "output_type": "stream",
     "text": [
      "epoch: 2, f1_test: 0.23499332815900925, f1_train: 0.2755033140950451\n"
     ]
    },
    {
     "name": "stderr",
     "output_type": "stream",
     "text": [
      "100%|██████████████████████████████████████████████████████████████████████████████████| 84/84 [01:18<00:00,  1.35it/s]\n",
      "100%|██████████████████████████████████████████████████████████████████████████████████| 28/28 [00:21<00:00,  1.39it/s]\n",
      "100%|██████████████████████████████████████████████████████████████████████████████████| 84/84 [01:04<00:00,  1.72it/s]\n"
     ]
    },
    {
     "name": "stdout",
     "output_type": "stream",
     "text": [
      "epoch: 3, f1_test: 0.2915847934921727, f1_train: 0.3400788664774556\n"
     ]
    },
    {
     "name": "stderr",
     "output_type": "stream",
     "text": [
      "100%|██████████████████████████████████████████████████████████████████████████████████| 84/84 [01:18<00:00,  1.34it/s]\n",
      "100%|██████████████████████████████████████████████████████████████████████████████████| 28/28 [00:21<00:00,  1.39it/s]\n",
      "100%|██████████████████████████████████████████████████████████████████████████████████| 84/84 [01:03<00:00,  1.80it/s]\n"
     ]
    },
    {
     "name": "stdout",
     "output_type": "stream",
     "text": [
      "epoch: 4, f1_test: 0.3011272826161423, f1_train: 0.3507345493577429\n"
     ]
    },
    {
     "name": "stderr",
     "output_type": "stream",
     "text": [
      "100%|██████████████████████████████████████████████████████████████████████████████████| 84/84 [01:18<00:00,  1.35it/s]\n",
      "100%|██████████████████████████████████████████████████████████████████████████████████| 28/28 [00:21<00:00,  1.43it/s]\n",
      "100%|██████████████████████████████████████████████████████████████████████████████████| 84/84 [01:04<00:00,  1.77it/s]\n"
     ]
    },
    {
     "name": "stdout",
     "output_type": "stream",
     "text": [
      "epoch: 5, f1_test: 0.34637361557935364, f1_train: 0.42709112673118055\n"
     ]
    },
    {
     "name": "stderr",
     "output_type": "stream",
     "text": [
      "100%|██████████████████████████████████████████████████████████████████████████████████| 84/84 [01:18<00:00,  1.37it/s]\n",
      "100%|██████████████████████████████████████████████████████████████████████████████████| 28/28 [00:21<00:00,  1.39it/s]\n",
      "100%|██████████████████████████████████████████████████████████████████████████████████| 84/84 [01:04<00:00,  1.74it/s]\n"
     ]
    },
    {
     "name": "stdout",
     "output_type": "stream",
     "text": [
      "epoch: 6, f1_test: 0.4042265713724763, f1_train: 0.4922940006955009\n"
     ]
    },
    {
     "name": "stderr",
     "output_type": "stream",
     "text": [
      "100%|██████████████████████████████████████████████████████████████████████████████████| 84/84 [01:18<00:00,  1.37it/s]\n",
      "100%|██████████████████████████████████████████████████████████████████████████████████| 28/28 [00:21<00:00,  1.41it/s]\n",
      "100%|██████████████████████████████████████████████████████████████████████████████████| 84/84 [01:04<00:00,  1.69it/s]\n"
     ]
    },
    {
     "name": "stdout",
     "output_type": "stream",
     "text": [
      "epoch: 7, f1_test: 0.41037241181285156, f1_train: 0.539997311121196\n"
     ]
    },
    {
     "name": "stderr",
     "output_type": "stream",
     "text": [
      "100%|██████████████████████████████████████████████████████████████████████████████████| 84/84 [01:18<00:00,  1.36it/s]\n",
      "100%|██████████████████████████████████████████████████████████████████████████████████| 28/28 [00:21<00:00,  1.38it/s]\n",
      "100%|██████████████████████████████████████████████████████████████████████████████████| 84/84 [01:03<00:00,  1.74it/s]\n"
     ]
    },
    {
     "name": "stdout",
     "output_type": "stream",
     "text": [
      "epoch: 8, f1_test: 0.45685164655339094, f1_train: 0.5810646592541757\n"
     ]
    },
    {
     "name": "stderr",
     "output_type": "stream",
     "text": [
      "100%|██████████████████████████████████████████████████████████████████████████████████| 84/84 [01:18<00:00,  1.37it/s]\n",
      "100%|██████████████████████████████████████████████████████████████████████████████████| 28/28 [00:21<00:00,  1.39it/s]\n",
      "100%|██████████████████████████████████████████████████████████████████████████████████| 84/84 [01:03<00:00,  1.76it/s]\n"
     ]
    },
    {
     "name": "stdout",
     "output_type": "stream",
     "text": [
      "epoch: 9, f1_test: 0.4126828080703952, f1_train: 0.5564944371327682\n"
     ]
    },
    {
     "name": "stderr",
     "output_type": "stream",
     "text": [
      "100%|██████████████████████████████████████████████████████████████████████████████████| 84/84 [01:17<00:00,  1.36it/s]\n",
      "100%|██████████████████████████████████████████████████████████████████████████████████| 28/28 [00:21<00:00,  1.38it/s]\n",
      "100%|██████████████████████████████████████████████████████████████████████████████████| 84/84 [01:04<00:00,  1.73it/s]\n"
     ]
    },
    {
     "name": "stdout",
     "output_type": "stream",
     "text": [
      "epoch: 10, f1_test: 0.46247819037977894, f1_train: 0.6183890830913715\n"
     ]
    },
    {
     "name": "stderr",
     "output_type": "stream",
     "text": [
      "100%|██████████████████████████████████████████████████████████████████████████████████| 84/84 [01:18<00:00,  1.32it/s]\n",
      "100%|██████████████████████████████████████████████████████████████████████████████████| 28/28 [00:21<00:00,  1.40it/s]\n",
      "100%|██████████████████████████████████████████████████████████████████████████████████| 84/84 [01:03<00:00,  1.75it/s]\n"
     ]
    },
    {
     "name": "stdout",
     "output_type": "stream",
     "text": [
      "epoch: 11, f1_test: 0.4734367973808393, f1_train: 0.650469869996865\n"
     ]
    },
    {
     "name": "stderr",
     "output_type": "stream",
     "text": [
      "100%|██████████████████████████████████████████████████████████████████████████████████| 84/84 [01:18<00:00,  1.30it/s]\n",
      "100%|██████████████████████████████████████████████████████████████████████████████████| 28/28 [00:20<00:00,  1.42it/s]\n",
      "100%|██████████████████████████████████████████████████████████████████████████████████| 84/84 [01:03<00:00,  1.80it/s]\n"
     ]
    },
    {
     "name": "stdout",
     "output_type": "stream",
     "text": [
      "epoch: 12, f1_test: 0.4908448024566947, f1_train: 0.6912605605991461\n"
     ]
    },
    {
     "name": "stderr",
     "output_type": "stream",
     "text": [
      "100%|██████████████████████████████████████████████████████████████████████████████████| 84/84 [01:18<00:00,  1.34it/s]\n",
      "100%|██████████████████████████████████████████████████████████████████████████████████| 28/28 [00:20<00:00,  1.44it/s]\n",
      "100%|██████████████████████████████████████████████████████████████████████████████████| 84/84 [01:03<00:00,  1.78it/s]\n"
     ]
    },
    {
     "name": "stdout",
     "output_type": "stream",
     "text": [
      "epoch: 13, f1_test: 0.477962765952635, f1_train: 0.6989903988551538\n"
     ]
    },
    {
     "name": "stderr",
     "output_type": "stream",
     "text": [
      "100%|██████████████████████████████████████████████████████████████████████████████████| 84/84 [01:19<00:00,  1.35it/s]\n",
      "100%|██████████████████████████████████████████████████████████████████████████████████| 28/28 [00:20<00:00,  1.43it/s]\n",
      "100%|██████████████████████████████████████████████████████████████████████████████████| 84/84 [01:02<00:00,  1.81it/s]\n"
     ]
    },
    {
     "name": "stdout",
     "output_type": "stream",
     "text": [
      "epoch: 14, f1_test: 0.4997569704223698, f1_train: 0.7281560773002611\n"
     ]
    },
    {
     "name": "stderr",
     "output_type": "stream",
     "text": [
      "100%|██████████████████████████████████████████████████████████████████████████████████| 84/84 [01:18<00:00,  1.33it/s]\n",
      "100%|██████████████████████████████████████████████████████████████████████████████████| 28/28 [00:20<00:00,  1.44it/s]\n",
      "100%|██████████████████████████████████████████████████████████████████████████████████| 84/84 [01:02<00:00,  1.79it/s]\n"
     ]
    },
    {
     "name": "stdout",
     "output_type": "stream",
     "text": [
      "epoch: 15, f1_test: 0.5356985108692732, f1_train: 0.7310177686870287\n"
     ]
    },
    {
     "name": "stderr",
     "output_type": "stream",
     "text": [
      "100%|██████████████████████████████████████████████████████████████████████████████████| 84/84 [01:18<00:00,  1.36it/s]\n",
      "100%|██████████████████████████████████████████████████████████████████████████████████| 28/28 [00:20<00:00,  1.42it/s]\n",
      "100%|██████████████████████████████████████████████████████████████████████████████████| 84/84 [01:03<00:00,  1.78it/s]\n"
     ]
    },
    {
     "name": "stdout",
     "output_type": "stream",
     "text": [
      "epoch: 16, f1_test: 0.5395394883657083, f1_train: 0.778136191433746\n"
     ]
    },
    {
     "name": "stderr",
     "output_type": "stream",
     "text": [
      "100%|██████████████████████████████████████████████████████████████████████████████████| 84/84 [01:18<00:00,  1.34it/s]\n",
      "100%|██████████████████████████████████████████████████████████████████████████████████| 28/28 [00:20<00:00,  1.41it/s]\n",
      "100%|██████████████████████████████████████████████████████████████████████████████████| 84/84 [01:04<00:00,  1.78it/s]\n"
     ]
    },
    {
     "name": "stdout",
     "output_type": "stream",
     "text": [
      "epoch: 17, f1_test: 0.5302816612856416, f1_train: 0.7625883259000672\n"
     ]
    },
    {
     "name": "stderr",
     "output_type": "stream",
     "text": [
      "100%|██████████████████████████████████████████████████████████████████████████████████| 84/84 [01:18<00:00,  1.34it/s]\n",
      "100%|██████████████████████████████████████████████████████████████████████████████████| 28/28 [00:21<00:00,  1.43it/s]\n",
      "100%|██████████████████████████████████████████████████████████████████████████████████| 84/84 [01:03<00:00,  1.73it/s]\n"
     ]
    },
    {
     "name": "stdout",
     "output_type": "stream",
     "text": [
      "epoch: 18, f1_test: 0.5426212975296679, f1_train: 0.7919966839551917\n"
     ]
    },
    {
     "name": "stderr",
     "output_type": "stream",
     "text": [
      "100%|██████████████████████████████████████████████████████████████████████████████████| 84/84 [01:18<00:00,  1.35it/s]\n",
      "100%|██████████████████████████████████████████████████████████████████████████████████| 28/28 [00:20<00:00,  1.44it/s]\n",
      "100%|██████████████████████████████████████████████████████████████████████████████████| 84/84 [01:03<00:00,  1.76it/s]\n"
     ]
    },
    {
     "name": "stdout",
     "output_type": "stream",
     "text": [
      "epoch: 19, f1_test: 0.5206227647714157, f1_train: 0.7971811179106613\n"
     ]
    },
    {
     "name": "stderr",
     "output_type": "stream",
     "text": [
      "100%|██████████████████████████████████████████████████████████████████████████████████| 84/84 [01:18<00:00,  1.38it/s]\n",
      "100%|██████████████████████████████████████████████████████████████████████████████████| 28/28 [00:21<00:00,  1.38it/s]\n",
      "100%|██████████████████████████████████████████████████████████████████████████████████| 84/84 [01:03<00:00,  1.78it/s]\n"
     ]
    },
    {
     "name": "stdout",
     "output_type": "stream",
     "text": [
      "epoch: 20, f1_test: 0.5204127724146433, f1_train: 0.7966526160966958\n"
     ]
    },
    {
     "name": "stderr",
     "output_type": "stream",
     "text": [
      "100%|██████████████████████████████████████████████████████████████████████████████████| 84/84 [01:18<00:00,  1.32it/s]\n",
      "100%|██████████████████████████████████████████████████████████████████████████████████| 28/28 [00:20<00:00,  1.43it/s]\n",
      "100%|██████████████████████████████████████████████████████████████████████████████████| 84/84 [01:03<00:00,  1.79it/s]\n"
     ]
    },
    {
     "name": "stdout",
     "output_type": "stream",
     "text": [
      "epoch: 21, f1_test: 0.5483261594609008, f1_train: 0.8088330396571286\n"
     ]
    },
    {
     "name": "stderr",
     "output_type": "stream",
     "text": [
      "100%|██████████████████████████████████████████████████████████████████████████████████| 84/84 [01:18<00:00,  1.32it/s]\n",
      "100%|██████████████████████████████████████████████████████████████████████████████████| 28/28 [00:20<00:00,  1.42it/s]\n",
      "100%|██████████████████████████████████████████████████████████████████████████████████| 84/84 [01:02<00:00,  1.78it/s]\n"
     ]
    },
    {
     "name": "stdout",
     "output_type": "stream",
     "text": [
      "epoch: 22, f1_test: 0.5284724209230109, f1_train: 0.7911131393115396\n"
     ]
    },
    {
     "name": "stderr",
     "output_type": "stream",
     "text": [
      "100%|██████████████████████████████████████████████████████████████████████████████████| 84/84 [01:18<00:00,  1.34it/s]\n",
      "100%|██████████████████████████████████████████████████████████████████████████████████| 28/28 [00:20<00:00,  1.40it/s]\n",
      "100%|██████████████████████████████████████████████████████████████████████████████████| 84/84 [01:03<00:00,  1.72it/s]\n"
     ]
    },
    {
     "name": "stdout",
     "output_type": "stream",
     "text": [
      "epoch: 23, f1_test: 0.5274478254766554, f1_train: 0.8017389085604397\n"
     ]
    },
    {
     "name": "stderr",
     "output_type": "stream",
     "text": [
      "100%|██████████████████████████████████████████████████████████████████████████████████| 84/84 [01:18<00:00,  1.32it/s]\n",
      "100%|██████████████████████████████████████████████████████████████████████████████████| 28/28 [00:20<00:00,  1.42it/s]\n",
      "100%|██████████████████████████████████████████████████████████████████████████████████| 84/84 [01:03<00:00,  1.79it/s]\n"
     ]
    },
    {
     "name": "stdout",
     "output_type": "stream",
     "text": [
      "epoch: 24, f1_test: 0.5550945300193373, f1_train: 0.8275175515400929\n"
     ]
    },
    {
     "name": "stderr",
     "output_type": "stream",
     "text": [
      "100%|██████████████████████████████████████████████████████████████████████████████████| 84/84 [01:18<00:00,  1.35it/s]\n",
      "100%|██████████████████████████████████████████████████████████████████████████████████| 28/28 [00:20<00:00,  1.44it/s]\n",
      "100%|██████████████████████████████████████████████████████████████████████████████████| 84/84 [01:03<00:00,  1.73it/s]\n"
     ]
    },
    {
     "name": "stdout",
     "output_type": "stream",
     "text": [
      "epoch: 25, f1_test: 0.5431988012953018, f1_train: 0.8318624522476935\n"
     ]
    },
    {
     "name": "stderr",
     "output_type": "stream",
     "text": [
      "100%|██████████████████████████████████████████████████████████████████████████████████| 84/84 [01:17<00:00,  1.34it/s]\n",
      "100%|██████████████████████████████████████████████████████████████████████████████████| 28/28 [00:21<00:00,  1.42it/s]\n",
      "100%|██████████████████████████████████████████████████████████████████████████████████| 84/84 [01:03<00:00,  1.70it/s]\n"
     ]
    },
    {
     "name": "stdout",
     "output_type": "stream",
     "text": [
      "epoch: 26, f1_test: 0.5695126199815821, f1_train: 0.8491000203451808\n"
     ]
    },
    {
     "name": "stderr",
     "output_type": "stream",
     "text": [
      "100%|██████████████████████████████████████████████████████████████████████████████████| 84/84 [01:18<00:00,  1.38it/s]\n",
      "100%|██████████████████████████████████████████████████████████████████████████████████| 28/28 [00:20<00:00,  1.41it/s]\n",
      "100%|██████████████████████████████████████████████████████████████████████████████████| 84/84 [01:03<00:00,  1.79it/s]\n"
     ]
    },
    {
     "name": "stdout",
     "output_type": "stream",
     "text": [
      "epoch: 27, f1_test: 0.5524526738250736, f1_train: 0.8505238449856167\n"
     ]
    },
    {
     "name": "stderr",
     "output_type": "stream",
     "text": [
      "100%|██████████████████████████████████████████████████████████████████████████████████| 84/84 [01:17<00:00,  1.35it/s]\n",
      "100%|██████████████████████████████████████████████████████████████████████████████████| 28/28 [00:21<00:00,  1.41it/s]\n",
      "100%|██████████████████████████████████████████████████████████████████████████████████| 84/84 [01:04<00:00,  1.78it/s]\n"
     ]
    },
    {
     "name": "stdout",
     "output_type": "stream",
     "text": [
      "epoch: 28, f1_test: 0.5502323341643167, f1_train: 0.851830908265742\n"
     ]
    },
    {
     "name": "stderr",
     "output_type": "stream",
     "text": [
      "100%|██████████████████████████████████████████████████████████████████████████████████| 84/84 [01:18<00:00,  1.33it/s]\n",
      "100%|██████████████████████████████████████████████████████████████████████████████████| 28/28 [00:21<00:00,  1.40it/s]\n",
      "100%|██████████████████████████████████████████████████████████████████████████████████| 84/84 [01:04<00:00,  1.76it/s]\n"
     ]
    },
    {
     "name": "stdout",
     "output_type": "stream",
     "text": [
      "epoch: 29, f1_test: 0.5834070176340721, f1_train: 0.8657739313911311\n"
     ]
    },
    {
     "name": "stderr",
     "output_type": "stream",
     "text": [
      "100%|██████████████████████████████████████████████████████████████████████████████████| 84/84 [01:18<00:00,  1.35it/s]\n",
      "100%|██████████████████████████████████████████████████████████████████████████████████| 28/28 [00:21<00:00,  1.38it/s]\n",
      "100%|██████████████████████████████████████████████████████████████████████████████████| 84/84 [01:03<00:00,  1.75it/s]\n"
     ]
    },
    {
     "name": "stdout",
     "output_type": "stream",
     "text": [
      "epoch: 30, f1_test: 0.5493488326705747, f1_train: 0.8549653363104736\n"
     ]
    },
    {
     "name": "stderr",
     "output_type": "stream",
     "text": [
      "100%|██████████████████████████████████████████████████████████████████████████████████| 84/84 [01:18<00:00,  1.35it/s]\n",
      "100%|██████████████████████████████████████████████████████████████████████████████████| 28/28 [00:21<00:00,  1.40it/s]\n",
      "100%|██████████████████████████████████████████████████████████████████████████████████| 84/84 [01:04<00:00,  1.74it/s]\n"
     ]
    },
    {
     "name": "stdout",
     "output_type": "stream",
     "text": [
      "epoch: 31, f1_test: 0.5637680521613877, f1_train: 0.8699333537807812\n"
     ]
    },
    {
     "name": "stderr",
     "output_type": "stream",
     "text": [
      "100%|██████████████████████████████████████████████████████████████████████████████████| 84/84 [01:18<00:00,  1.36it/s]\n",
      "100%|██████████████████████████████████████████████████████████████████████████████████| 28/28 [00:21<00:00,  1.39it/s]\n",
      "100%|██████████████████████████████████████████████████████████████████████████████████| 84/84 [01:04<00:00,  1.75it/s]\n"
     ]
    },
    {
     "name": "stdout",
     "output_type": "stream",
     "text": [
      "epoch: 32, f1_test: 0.5686900344406186, f1_train: 0.8722045618764837\n"
     ]
    },
    {
     "name": "stderr",
     "output_type": "stream",
     "text": [
      "100%|██████████████████████████████████████████████████████████████████████████████████| 84/84 [01:17<00:00,  1.36it/s]\n",
      "100%|██████████████████████████████████████████████████████████████████████████████████| 28/28 [00:20<00:00,  1.41it/s]\n",
      "100%|██████████████████████████████████████████████████████████████████████████████████| 84/84 [01:03<00:00,  1.78it/s]\n"
     ]
    },
    {
     "name": "stdout",
     "output_type": "stream",
     "text": [
      "epoch: 33, f1_test: 0.566492073499533, f1_train: 0.8754902150131527\n"
     ]
    },
    {
     "name": "stderr",
     "output_type": "stream",
     "text": [
      "100%|██████████████████████████████████████████████████████████████████████████████████| 84/84 [01:18<00:00,  1.32it/s]\n",
      "100%|██████████████████████████████████████████████████████████████████████████████████| 28/28 [00:21<00:00,  1.42it/s]\n",
      "100%|██████████████████████████████████████████████████████████████████████████████████| 84/84 [01:04<00:00,  1.76it/s]\n"
     ]
    },
    {
     "name": "stdout",
     "output_type": "stream",
     "text": [
      "epoch: 34, f1_test: 0.5689486242599796, f1_train: 0.8721018688316309\n"
     ]
    },
    {
     "name": "stderr",
     "output_type": "stream",
     "text": [
      "100%|██████████████████████████████████████████████████████████████████████████████████| 84/84 [01:18<00:00,  1.33it/s]\n",
      "100%|██████████████████████████████████████████████████████████████████████████████████| 28/28 [00:21<00:00,  1.39it/s]\n",
      "100%|██████████████████████████████████████████████████████████████████████████████████| 84/84 [01:03<00:00,  1.75it/s]\n"
     ]
    },
    {
     "name": "stdout",
     "output_type": "stream",
     "text": [
      "epoch: 35, f1_test: 0.5637593252482656, f1_train: 0.8894265843889286\n"
     ]
    },
    {
     "name": "stderr",
     "output_type": "stream",
     "text": [
      "100%|██████████████████████████████████████████████████████████████████████████████████| 84/84 [01:18<00:00,  1.40it/s]\n",
      "100%|██████████████████████████████████████████████████████████████████████████████████| 28/28 [00:21<00:00,  1.40it/s]\n",
      "100%|██████████████████████████████████████████████████████████████████████████████████| 84/84 [01:04<00:00,  1.72it/s]\n"
     ]
    },
    {
     "name": "stdout",
     "output_type": "stream",
     "text": [
      "epoch: 36, f1_test: 0.5805995931770647, f1_train: 0.8828182495778382\n"
     ]
    },
    {
     "name": "stderr",
     "output_type": "stream",
     "text": [
      "100%|██████████████████████████████████████████████████████████████████████████████████| 84/84 [01:18<00:00,  1.35it/s]\n",
      "100%|██████████████████████████████████████████████████████████████████████████████████| 28/28 [00:21<00:00,  1.38it/s]\n",
      "100%|██████████████████████████████████████████████████████████████████████████████████| 84/84 [01:04<00:00,  1.70it/s]\n"
     ]
    },
    {
     "name": "stdout",
     "output_type": "stream",
     "text": [
      "epoch: 37, f1_test: 0.5656467297443974, f1_train: 0.8821437165955264\n"
     ]
    },
    {
     "name": "stderr",
     "output_type": "stream",
     "text": [
      "100%|██████████████████████████████████████████████████████████████████████████████████| 84/84 [01:17<00:00,  1.36it/s]\n",
      "100%|██████████████████████████████████████████████████████████████████████████████████| 28/28 [00:21<00:00,  1.41it/s]\n",
      "100%|██████████████████████████████████████████████████████████████████████████████████| 84/84 [01:03<00:00,  1.74it/s]\n"
     ]
    },
    {
     "name": "stdout",
     "output_type": "stream",
     "text": [
      "epoch: 38, f1_test: 0.5559989215990968, f1_train: 0.8879505280428632\n"
     ]
    },
    {
     "name": "stderr",
     "output_type": "stream",
     "text": [
      "100%|██████████████████████████████████████████████████████████████████████████████████| 84/84 [01:17<00:00,  1.38it/s]\n",
      "100%|██████████████████████████████████████████████████████████████████████████████████| 28/28 [00:21<00:00,  1.41it/s]\n",
      "100%|██████████████████████████████████████████████████████████████████████████████████| 84/84 [01:05<00:00,  1.76it/s]\n"
     ]
    },
    {
     "name": "stdout",
     "output_type": "stream",
     "text": [
      "epoch: 39, f1_test: 0.5757632422621319, f1_train: 0.8848446897827349\n"
     ]
    },
    {
     "name": "stderr",
     "output_type": "stream",
     "text": [
      "100%|██████████████████████████████████████████████████████████████████████████████████| 84/84 [01:17<00:00,  1.32it/s]\n",
      "100%|██████████████████████████████████████████████████████████████████████████████████| 28/28 [00:21<00:00,  1.41it/s]\n",
      "100%|██████████████████████████████████████████████████████████████████████████████████| 84/84 [01:03<00:00,  1.75it/s]\n"
     ]
    },
    {
     "name": "stdout",
     "output_type": "stream",
     "text": [
      "epoch: 40, f1_test: 0.5693455347271874, f1_train: 0.8944794362098804\n"
     ]
    },
    {
     "name": "stderr",
     "output_type": "stream",
     "text": [
      "100%|██████████████████████████████████████████████████████████████████████████████████| 84/84 [01:18<00:00,  1.33it/s]\n",
      "100%|██████████████████████████████████████████████████████████████████████████████████| 28/28 [00:21<00:00,  1.40it/s]\n",
      "100%|██████████████████████████████████████████████████████████████████████████████████| 84/84 [01:04<00:00,  1.76it/s]\n"
     ]
    },
    {
     "name": "stdout",
     "output_type": "stream",
     "text": [
      "epoch: 41, f1_test: 0.5649001602578028, f1_train: 0.8940237966469484\n"
     ]
    },
    {
     "name": "stderr",
     "output_type": "stream",
     "text": [
      "100%|██████████████████████████████████████████████████████████████████████████████████| 84/84 [01:18<00:00,  1.34it/s]\n",
      "100%|██████████████████████████████████████████████████████████████████████████████████| 28/28 [00:21<00:00,  1.41it/s]\n",
      "100%|██████████████████████████████████████████████████████████████████████████████████| 84/84 [01:04<00:00,  1.77it/s]\n"
     ]
    },
    {
     "name": "stdout",
     "output_type": "stream",
     "text": [
      "epoch: 42, f1_test: 0.5680524614852672, f1_train: 0.8978326720014709\n"
     ]
    },
    {
     "name": "stderr",
     "output_type": "stream",
     "text": [
      "100%|██████████████████████████████████████████████████████████████████████████████████| 84/84 [01:18<00:00,  1.32it/s]\n",
      "100%|██████████████████████████████████████████████████████████████████████████████████| 28/28 [00:21<00:00,  1.43it/s]\n",
      "100%|██████████████████████████████████████████████████████████████████████████████████| 84/84 [01:03<00:00,  1.77it/s]\n"
     ]
    },
    {
     "name": "stdout",
     "output_type": "stream",
     "text": [
      "epoch: 43, f1_test: 0.568499847140599, f1_train: 0.902558290260035\n"
     ]
    },
    {
     "name": "stderr",
     "output_type": "stream",
     "text": [
      "100%|██████████████████████████████████████████████████████████████████████████████████| 84/84 [01:18<00:00,  1.32it/s]\n",
      "100%|██████████████████████████████████████████████████████████████████████████████████| 28/28 [00:21<00:00,  1.41it/s]\n",
      "100%|██████████████████████████████████████████████████████████████████████████████████| 84/84 [01:04<00:00,  1.71it/s]\n"
     ]
    },
    {
     "name": "stdout",
     "output_type": "stream",
     "text": [
      "epoch: 44, f1_test: 0.559877684232228, f1_train: 0.9009485454810353\n"
     ]
    },
    {
     "name": "stderr",
     "output_type": "stream",
     "text": [
      "100%|██████████████████████████████████████████████████████████████████████████████████| 84/84 [01:18<00:00,  1.36it/s]\n",
      "100%|██████████████████████████████████████████████████████████████████████████████████| 28/28 [00:21<00:00,  1.41it/s]\n",
      "100%|██████████████████████████████████████████████████████████████████████████████████| 84/84 [01:03<00:00,  1.75it/s]\n"
     ]
    },
    {
     "name": "stdout",
     "output_type": "stream",
     "text": [
      "epoch: 45, f1_test: 0.5687183868247702, f1_train: 0.9022217432490766\n"
     ]
    },
    {
     "name": "stderr",
     "output_type": "stream",
     "text": [
      "100%|██████████████████████████████████████████████████████████████████████████████████| 84/84 [01:18<00:00,  1.33it/s]\n",
      "100%|██████████████████████████████████████████████████████████████████████████████████| 28/28 [00:21<00:00,  1.38it/s]\n",
      "100%|██████████████████████████████████████████████████████████████████████████████████| 84/84 [01:03<00:00,  1.80it/s]\n"
     ]
    },
    {
     "name": "stdout",
     "output_type": "stream",
     "text": [
      "epoch: 46, f1_test: 0.5799426976187873, f1_train: 0.9068042765407411\n"
     ]
    },
    {
     "name": "stderr",
     "output_type": "stream",
     "text": [
      "100%|██████████████████████████████████████████████████████████████████████████████████| 84/84 [01:18<00:00,  1.36it/s]\n",
      "100%|██████████████████████████████████████████████████████████████████████████████████| 28/28 [00:21<00:00,  1.40it/s]\n",
      "100%|██████████████████████████████████████████████████████████████████████████████████| 84/84 [01:04<00:00,  1.77it/s]\n"
     ]
    },
    {
     "name": "stdout",
     "output_type": "stream",
     "text": [
      "epoch: 47, f1_test: 0.5633571318528887, f1_train: 0.906497513669577\n"
     ]
    },
    {
     "name": "stderr",
     "output_type": "stream",
     "text": [
      "100%|██████████████████████████████████████████████████████████████████████████████████| 84/84 [01:18<00:00,  1.35it/s]\n",
      "100%|██████████████████████████████████████████████████████████████████████████████████| 28/28 [00:21<00:00,  1.41it/s]\n",
      "100%|██████████████████████████████████████████████████████████████████████████████████| 84/84 [01:04<00:00,  1.73it/s]\n"
     ]
    },
    {
     "name": "stdout",
     "output_type": "stream",
     "text": [
      "epoch: 48, f1_test: 0.5905807036894483, f1_train: 0.9057800281018059\n"
     ]
    },
    {
     "name": "stderr",
     "output_type": "stream",
     "text": [
      "100%|██████████████████████████████████████████████████████████████████████████████████| 84/84 [01:18<00:00,  1.36it/s]\n",
      "100%|██████████████████████████████████████████████████████████████████████████████████| 28/28 [00:21<00:00,  1.41it/s]\n",
      "100%|██████████████████████████████████████████████████████████████████████████████████| 84/84 [01:03<00:00,  1.72it/s]\n"
     ]
    },
    {
     "name": "stdout",
     "output_type": "stream",
     "text": [
      "epoch: 49, f1_test: 0.5675383575926206, f1_train: 0.9058884880617404\n"
     ]
    }
   ],
   "source": [
    "criterion = nn.CrossEntropyLoss()\n",
    "model = Model_5()\n",
    "model = model.cuda()\n",
    "model_name = 'baseline_v5_Stackikng_4.pt'\n",
    "lr = 1e-3\n",
    "\n",
    "optimizer = torch.optim.Adam(model.parameters(), lr=lr)\n",
    "\n",
    "model_train(model, train_loader_4, val_loader_4, model_name, lr, 50)"
   ]
  },
  {
   "cell_type": "code",
   "execution_count": null,
   "metadata": {},
   "outputs": [],
   "source": []
  },
  {
   "cell_type": "code",
   "execution_count": null,
   "metadata": {},
   "outputs": [],
   "source": [
    "# предсказание моделями train и val"
   ]
  },
  {
   "cell_type": "code",
   "execution_count": 28,
   "metadata": {},
   "outputs": [
    {
     "name": "stdout",
     "output_type": "stream",
     "text": [
      "Loaded pretrained weights for efficientnet-b0\n"
     ]
    },
    {
     "name": "stderr",
     "output_type": "stream",
     "text": [
      "  0%|                                                                                           | 0/28 [00:00<?, ?it/s]D:\\Programs\\Anaconda\\lib\\site-packages\\ipykernel_launcher.py:27: UserWarning: Implicit dimension choice for softmax has been deprecated. Change the call to include dim=X as an argument.\n",
      "100%|██████████████████████████████████████████████████████████████████████████████████| 28/28 [00:22<00:00,  1.32it/s]\n"
     ]
    },
    {
     "name": "stdout",
     "output_type": "stream",
     "text": [
      "Loaded pretrained weights for efficientnet-b0\n"
     ]
    },
    {
     "name": "stderr",
     "output_type": "stream",
     "text": [
      "100%|██████████████████████████████████████████████████████████████████████████████████| 28/28 [00:03<00:00, 10.82it/s]\n"
     ]
    },
    {
     "name": "stdout",
     "output_type": "stream",
     "text": [
      "Loaded pretrained weights for efficientnet-b0\n"
     ]
    },
    {
     "name": "stderr",
     "output_type": "stream",
     "text": [
      "  0%|                                                                                           | 0/28 [00:00<?, ?it/s]D:\\Programs\\Anaconda\\lib\\site-packages\\ipykernel_launcher.py:29: UserWarning: Implicit dimension choice for softmax has been deprecated. Change the call to include dim=X as an argument.\n",
      "100%|██████████████████████████████████████████████████████████████████████████████████| 28/28 [00:03<00:00,  8.77it/s]\n"
     ]
    },
    {
     "name": "stdout",
     "output_type": "stream",
     "text": [
      "Loaded pretrained weights for efficientnet-b0\n"
     ]
    },
    {
     "name": "stderr",
     "output_type": "stream",
     "text": [
      "  0%|                                                                                           | 0/28 [00:00<?, ?it/s]D:\\Programs\\Anaconda\\lib\\site-packages\\ipykernel_launcher.py:31: UserWarning: Implicit dimension choice for softmax has been deprecated. Change the call to include dim=X as an argument.\n",
      "100%|██████████████████████████████████████████████████████████████████████████████████| 28/28 [00:02<00:00, 11.35it/s]\n"
     ]
    }
   ],
   "source": [
    "model_name = 'baseline_v1_Stackikng_1.pt'\n",
    "model = Model_1().cuda()\n",
    "model.load_state_dict(torch.load(os.path.join('..', model_name)))\n",
    "model.eval()\n",
    "_, probs_1 = model_predict(model, val_loader)\n",
    "\n",
    "model_name = 'baseline_v3_Stackikng_2.pt'\n",
    "model = Model_3().cuda()\n",
    "model.load_state_dict(torch.load(os.path.join('..', model_name)))\n",
    "model.eval()\n",
    "_, probs_2 = model_predict(model, val_loader)\n",
    "\n",
    "model_name = 'baseline_v4_Stackikng_3.pt'\n",
    "model = Model_4().cuda()\n",
    "model.load_state_dict(torch.load(os.path.join('..', model_name)))\n",
    "model.eval()\n",
    "_, probs_3 = model_predict(model, val_loader)\n",
    "\n",
    "model_name = 'baseline_v5_Stackikng_4.pt'\n",
    "model = Model_5().cuda()\n",
    "model.load_state_dict(torch.load(os.path.join('..', model_name)))\n",
    "model.eval()\n",
    "_, probs_4 = model_predict(model, val_loader)"
   ]
  },
  {
   "cell_type": "code",
   "execution_count": 27,
   "metadata": {},
   "outputs": [],
   "source": [
    "probs_train = np.hstack((probs_1, probs_2, probs_3, probs_4))"
   ]
  },
  {
   "cell_type": "code",
   "execution_count": 29,
   "metadata": {},
   "outputs": [],
   "source": [
    "probs_val = np.hstack((probs_1, probs_2, probs_3, probs_4))"
   ]
  },
  {
   "cell_type": "code",
   "execution_count": null,
   "metadata": {},
   "outputs": [],
   "source": [
    "# тренировка классификатора на train"
   ]
  },
  {
   "cell_type": "code",
   "execution_count": 30,
   "metadata": {},
   "outputs": [
    {
     "name": "stderr",
     "output_type": "stream",
     "text": [
      "D:\\Programs\\Anaconda\\lib\\site-packages\\sklearn\\linear_model\\logistic.py:432: FutureWarning: Default solver will be changed to 'lbfgs' in 0.22. Specify a solver to silence this warning.\n",
      "  FutureWarning)\n",
      "D:\\Programs\\Anaconda\\lib\\site-packages\\sklearn\\linear_model\\logistic.py:469: FutureWarning: Default multi_class will be changed to 'auto' in 0.22. Specify the multi_class option to silence this warning.\n",
      "  \"this warning.\", FutureWarning)\n"
     ]
    }
   ],
   "source": [
    "from sklearn.linear_model import LogisticRegression\n",
    "\n",
    "clf = LogisticRegression().fit(probs_train, y_train)"
   ]
  },
  {
   "cell_type": "code",
   "execution_count": null,
   "metadata": {},
   "outputs": [],
   "source": [
    "# прогноз классификатора на val"
   ]
  },
  {
   "cell_type": "code",
   "execution_count": 31,
   "metadata": {},
   "outputs": [
    {
     "data": {
      "text/plain": [
       "0.7401011371382926"
      ]
     },
     "execution_count": 31,
     "metadata": {},
     "output_type": "execute_result"
    }
   ],
   "source": [
    "predict_val = clf.predict_proba(probs_val)\n",
    "\n",
    "f1_score(predict_val.argmax(axis=1), y_val, average='macro')"
   ]
  },
  {
   "cell_type": "code",
   "execution_count": null,
   "metadata": {},
   "outputs": [],
   "source": []
  }
 ],
 "metadata": {
  "kernelspec": {
   "display_name": "Python 3",
   "language": "python",
   "name": "python3"
  },
  "language_info": {
   "codemirror_mode": {
    "name": "ipython",
    "version": 3
   },
   "file_extension": ".py",
   "mimetype": "text/x-python",
   "name": "python",
   "nbconvert_exporter": "python",
   "pygments_lexer": "ipython3",
   "version": "3.7.3"
  }
 },
 "nbformat": 4,
 "nbformat_minor": 4
}
