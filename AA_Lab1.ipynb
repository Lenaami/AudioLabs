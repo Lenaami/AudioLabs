{
  "nbformat": 4,
  "nbformat_minor": 0,
  "metadata": {
    "colab": {
      "name": "AA_Lab1.ipynb",
      "provenance": [],
      "collapsed_sections": [
        "OLkHBDSOj-Cu"
      ],
      "toc_visible": true,
      "authorship_tag": "ABX9TyOXbyL8P4GgJgMYhn+kwHfD",
      "include_colab_link": true
    },
    "kernelspec": {
      "name": "python3",
      "display_name": "Python 3"
    }
  },
  "cells": [
    {
      "cell_type": "markdown",
      "metadata": {
        "id": "view-in-github",
        "colab_type": "text"
      },
      "source": [
        "<a href=\"https://colab.research.google.com/github/Lenaami/AudioLabs/blob/master/AA_Lab1.ipynb\" target=\"_parent\"><img src=\"https://colab.research.google.com/assets/colab-badge.svg\" alt=\"Open In Colab\"/></a>"
      ]
    },
    {
      "cell_type": "code",
      "metadata": {
        "id": "QFRN0dwA6TdA",
        "colab_type": "code",
        "colab": {}
      },
      "source": [
        "!pip install soundfile"
      ],
      "execution_count": 0,
      "outputs": []
    },
    {
      "cell_type": "code",
      "metadata": {
        "id": "VBQnIAwcxNjV",
        "colab_type": "code",
        "colab": {}
      },
      "source": [
        "import librosa\n",
        "import librosa.display\n",
        "import soundfile\n",
        "import numpy as np\n",
        "\n",
        "import pandas as pd\n",
        "from sklearn.model_selection import train_test_split\n",
        "from sklearn.svm import SVC\n",
        "from sklearn import metrics\n",
        "\n",
        "import pickle\n",
        "import time\n",
        "import statistics"
      ],
      "execution_count": 0,
      "outputs": []
    },
    {
      "cell_type": "code",
      "metadata": {
        "id": "Ke8aJdV-6w8S",
        "colab_type": "code",
        "colab": {}
      },
      "source": [
        "from google.colab import drive\n",
        "drive.mount('/content/gdrive')"
      ],
      "execution_count": 0,
      "outputs": []
    },
    {
      "cell_type": "code",
      "metadata": {
        "id": "admZ2qDu5obI",
        "colab_type": "code",
        "colab": {}
      },
      "source": [
        "data = pd.read_csv(\"/content/gdrive/My Drive/Аудиоаналитика. Лабы/Train set/train.csv\", delimiter=',')"
      ],
      "execution_count": 0,
      "outputs": []
    },
    {
      "cell_type": "code",
      "metadata": {
        "id": "rM93fBWcVzlU",
        "colab_type": "code",
        "outputId": "594cfd0d-a561-4ddf-f263-63850dea8881",
        "colab": {
          "base_uri": "https://localhost:8080/",
          "height": 204
        }
      },
      "source": [
        "data.head()"
      ],
      "execution_count": 5,
      "outputs": [
        {
          "output_type": "execute_result",
          "data": {
            "text/html": [
              "<div>\n",
              "<style scoped>\n",
              "    .dataframe tbody tr th:only-of-type {\n",
              "        vertical-align: middle;\n",
              "    }\n",
              "\n",
              "    .dataframe tbody tr th {\n",
              "        vertical-align: top;\n",
              "    }\n",
              "\n",
              "    .dataframe thead th {\n",
              "        text-align: right;\n",
              "    }\n",
              "</style>\n",
              "<table border=\"1\" class=\"dataframe\">\n",
              "  <thead>\n",
              "    <tr style=\"text-align: right;\">\n",
              "      <th></th>\n",
              "      <th>fname</th>\n",
              "      <th>label</th>\n",
              "    </tr>\n",
              "  </thead>\n",
              "  <tbody>\n",
              "    <tr>\n",
              "      <th>0</th>\n",
              "      <td>8bcbcc394ba64fe85ed4.wav</td>\n",
              "      <td>Finger_snapping</td>\n",
              "    </tr>\n",
              "    <tr>\n",
              "      <th>1</th>\n",
              "      <td>00d77b917e241afa06f1.wav</td>\n",
              "      <td>Squeak</td>\n",
              "    </tr>\n",
              "    <tr>\n",
              "      <th>2</th>\n",
              "      <td>17bb93b73b8e79234cb3.wav</td>\n",
              "      <td>Electric_piano</td>\n",
              "    </tr>\n",
              "    <tr>\n",
              "      <th>3</th>\n",
              "      <td>7d5c7a40a936136da55e.wav</td>\n",
              "      <td>Harmonica</td>\n",
              "    </tr>\n",
              "    <tr>\n",
              "      <th>4</th>\n",
              "      <td>17e0ee7565a33d6c2326.wav</td>\n",
              "      <td>Snare_drum</td>\n",
              "    </tr>\n",
              "  </tbody>\n",
              "</table>\n",
              "</div>"
            ],
            "text/plain": [
              "                      fname            label\n",
              "0  8bcbcc394ba64fe85ed4.wav  Finger_snapping\n",
              "1  00d77b917e241afa06f1.wav           Squeak\n",
              "2  17bb93b73b8e79234cb3.wav   Electric_piano\n",
              "3  7d5c7a40a936136da55e.wav        Harmonica\n",
              "4  17e0ee7565a33d6c2326.wav       Snare_drum"
            ]
          },
          "metadata": {
            "tags": []
          },
          "execution_count": 5
        }
      ]
    },
    {
      "cell_type": "code",
      "metadata": {
        "id": "6d2dnnIEdgQ_",
        "colab_type": "code",
        "colab": {}
      },
      "source": [
        "labels = list(data['label'])\n",
        "fnames = list(data['fname'])"
      ],
      "execution_count": 0,
      "outputs": []
    },
    {
      "cell_type": "code",
      "metadata": {
        "id": "2vKxMSKS4DzW",
        "colab_type": "code",
        "outputId": "21ea563d-32ea-41b2-d5c3-837b77ef9588",
        "colab": {
          "base_uri": "https://localhost:8080/",
          "height": 34
        }
      },
      "source": [
        "snd, sr = soundfile.read(\"/content/gdrive/My Drive/Аудиоаналитика. Лабы/Train set/Стрельба на улице.wav\")\n",
        "print(sr, snd.shape)"
      ],
      "execution_count": 8,
      "outputs": [
        {
          "output_type": "stream",
          "text": [
            "16000 (254225,)\n"
          ],
          "name": "stdout"
        }
      ]
    },
    {
      "cell_type": "code",
      "metadata": {
        "id": "zooq8nr6c3IM",
        "colab_type": "code",
        "colab": {}
      },
      "source": [
        ""
      ],
      "execution_count": 0,
      "outputs": []
    },
    {
      "cell_type": "markdown",
      "metadata": {
        "id": "v0i_83E69_yw",
        "colab_type": "text"
      },
      "source": [
        "Вариант 7. Mel, SVM"
      ]
    },
    {
      "cell_type": "code",
      "metadata": {
        "id": "0OOfqBVP7LVv",
        "colab_type": "code",
        "outputId": "c689cdbb-9333-4c56-bb29-61537ebc0b43",
        "colab": {
          "base_uri": "https://localhost:8080/",
          "height": 314
        }
      },
      "source": [
        "snd, sr = librosa.load(\"/content/gdrive/My Drive/Аудиоаналитика. Лабы/Train set/Стрельба на улице.wav\", sr=8000)\n",
        "S = librosa.feature.melspectrogram(snd, sr, hop_length=4000, n_fft=8000)\n",
        "print('Размер данных:', S.shape)\n",
        "\n",
        "plt.figure(figsize=(10, 4))\n",
        "S_dB = librosa.power_to_db(S, ref=np.max)\n",
        "librosa.display.specshow(S_dB, x_axis='time', y_axis='mel', sr=sr, fmax=8000)\n",
        "plt.colorbar(format='%+2.0f dB')\n",
        "plt.title('Mel-frequency spectrogram')\n",
        "plt.tight_layout()\n",
        "plt.show()"
      ],
      "execution_count": 9,
      "outputs": [
        {
          "output_type": "stream",
          "text": [
            "Размер данных: (128, 32)\n"
          ],
          "name": "stdout"
        },
        {
          "output_type": "display_data",
          "data": {
            "image/png": "[encoded data removed]",
            "text/plain": [
              "<Figure size 720x288 with 2 Axes>"
            ]
          },
          "metadata": {
            "tags": []
          }
        }
      ]
    },
    {
      "cell_type": "code",
      "metadata": {
        "id": "SMLT4jYT7ujn",
        "colab_type": "code",
        "colab": {}
      },
      "source": [
        ""
      ],
      "execution_count": 0,
      "outputs": []
    },
    {
      "cell_type": "code",
      "metadata": {
        "id": "udhsoJSu7Vy0",
        "colab_type": "code",
        "colab": {}
      },
      "source": [
        ""
      ],
      "execution_count": 0,
      "outputs": []
    },
    {
      "cell_type": "markdown",
      "metadata": {
        "id": "-0CJ_SUL9duU",
        "colab_type": "text"
      },
      "source": [
        "Обработка аудио"
      ]
    },
    {
      "cell_type": "code",
      "metadata": {
        "id": "KJRACb7ZZHf3",
        "colab_type": "code",
        "outputId": "0f69a43a-3d86-4019-be96-7968f9110e25",
        "colab": {
          "base_uri": "https://localhost:8080/",
          "height": 51
        }
      },
      "source": [
        "start_time = time.time()\n",
        "X = []\n",
        "\n",
        "for f in fnames:\n",
        "    y, sr = librosa.load(\"/content/gdrive/My Drive/Аудиоаналитика. Лабы/Train set/train/\" + f, sr=8000)\n",
        "    X.append(librosa.feature.melspectrogram(y, sr, hop_length=4000, n_fft=8000))\n",
        "\n",
        "print('Сек: ', time.time() - start_time)\n",
        "print('Обработано аудиофайлов:', len(X))"
      ],
      "execution_count": 165,
      "outputs": [
        {
          "output_type": "stream",
          "text": [
            "Сек:  2078.8852989673615\n",
            "Обработано аудиофайлов: 5683\n"
          ],
          "name": "stdout"
        }
      ]
    },
    {
      "cell_type": "code",
      "metadata": {
        "id": "eGsqTMx7dIZb",
        "colab_type": "code",
        "colab": {}
      },
      "source": [
        "def save_pkl(name, data):\n",
        "    with open('/content/gdrive/My Drive/Аудиоаналитика. Лабы/Train set/' + name + '.pickle', 'wb') as f:\n",
        "        pickle.dump(data, f)\n",
        "\n",
        "def load_pkl(name):\n",
        "    with open('/content/gdrive/My Drive/Аудиоаналитика. Лабы/Train set/' + name + '.pickle', 'rb') as f:\n",
        "        data = pickle.load(f)\n",
        "    return data"
      ],
      "execution_count": 0,
      "outputs": []
    },
    {
      "cell_type": "code",
      "metadata": {
        "id": "tN5EciQKYeNQ",
        "colab_type": "code",
        "colab": {}
      },
      "source": [
        "save_pkl('X_sr8000_hl4000_nfft8000', X)"
      ],
      "execution_count": 0,
      "outputs": []
    },
    {
      "cell_type": "code",
      "metadata": {
        "id": "TtdDPAX1DMxq",
        "colab_type": "code",
        "colab": {}
      },
      "source": [
        "save_pkl('y', labels)"
      ],
      "execution_count": 0,
      "outputs": []
    },
    {
      "cell_type": "code",
      "metadata": {
        "id": "ClvSm4eQ3HFT",
        "colab_type": "code",
        "colab": {}
      },
      "source": [
        "y = load_pkl('y')"
      ],
      "execution_count": 0,
      "outputs": []
    },
    {
      "cell_type": "code",
      "metadata": {
        "id": "SbxGYRAhDM3X",
        "colab_type": "code",
        "colab": {}
      },
      "source": [
        "X_load = load_pkl('X_sr8000_hl4000_nfft8000')"
      ],
      "execution_count": 0,
      "outputs": []
    },
    {
      "cell_type": "code",
      "metadata": {
        "id": "_kqmEkFjD3kh",
        "colab_type": "code",
        "colab": {
          "base_uri": "https://localhost:8080/",
          "height": 102
        },
        "outputId": "27475df4-0209-4aae-b349-8db0bc0900d2"
      },
      "source": [
        "len_X = []\n",
        "for x in X_load:\n",
        "    len_X.append(x.shape[1])\n",
        "\n",
        "print('Максимальная длина:', max(len_X))\n",
        "print('Минимальная длина:', min(len_X))\n",
        "print('Средняя длина:', np.mean(len_X))\n",
        "print('Медиана:', statistics.median(len_X))\n",
        "print('Мода:', statistics.mode(len_X))\n",
        "\n",
        "max_length = max(len_X)"
      ],
      "execution_count": 14,
      "outputs": [
        {
          "output_type": "stream",
          "text": [
            "Максимальная длина: 61\n",
            "Минимальная длина: 1\n",
            "Средняя длина: 14.165757522435333\n",
            "Медиана: 9\n",
            "Мода: 2\n"
          ],
          "name": "stdout"
        }
      ]
    },
    {
      "cell_type": "code",
      "metadata": {
        "id": "W4V5f7y8FLEG",
        "colab_type": "code",
        "colab": {}
      },
      "source": [
        "new_size = max_length\n",
        "\n",
        "X_re = []\n",
        "for x in X_load:\n",
        "    a = np.zeros(new_size * 128)\n",
        "    a[:x.size] = np.reshape(x, (x.size,))  # a[:min(x.size, new_size)] = np.reshape(x, (x.size,))[:min(x.size, new_size)]  если нужный размер меньше максимального\n",
        "    X_re.append(a)"
      ],
      "execution_count": 0,
      "outputs": []
    },
    {
      "cell_type": "code",
      "metadata": {
        "id": "48cSk76C9l51",
        "colab_type": "code",
        "colab": {}
      },
      "source": [
        ""
      ],
      "execution_count": 0,
      "outputs": []
    },
    {
      "cell_type": "code",
      "metadata": {
        "id": "3JC0gnNP9lxl",
        "colab_type": "code",
        "colab": {}
      },
      "source": [
        ""
      ],
      "execution_count": 0,
      "outputs": []
    },
    {
      "cell_type": "markdown",
      "metadata": {
        "id": "hEqqgdYs9ivs",
        "colab_type": "text"
      },
      "source": [
        "Обучение классификатора"
      ]
    },
    {
      "cell_type": "code",
      "metadata": {
        "id": "qA5iHcUjLGjr",
        "colab_type": "code",
        "colab": {}
      },
      "source": [
        "X_train, X_test, y_train, y_test = train_test_split(X_re, y, test_size=0.30, random_state=42)"
      ],
      "execution_count": 0,
      "outputs": []
    },
    {
      "cell_type": "code",
      "metadata": {
        "id": "i-TDBMvSdCsY",
        "colab_type": "code",
        "colab": {
          "base_uri": "https://localhost:8080/",
          "height": 85
        },
        "outputId": "115c3ead-ddbc-4ddc-d1ed-0cbe6d3519e7"
      },
      "source": [
        "model = SVC(C=100)\n",
        "model.fit(X_train, y_train)"
      ],
      "execution_count": 17,
      "outputs": [
        {
          "output_type": "execute_result",
          "data": {
            "text/plain": [
              "SVC(C=100, break_ties=False, cache_size=200, class_weight=None, coef0=0.0,\n",
              "    decision_function_shape='ovr', degree=3, gamma='scale', kernel='rbf',\n",
              "    max_iter=-1, probability=False, random_state=None, shrinking=True,\n",
              "    tol=0.001, verbose=False)"
            ]
          },
          "metadata": {
            "tags": []
          },
          "execution_count": 17
        }
      ]
    },
    {
      "cell_type": "code",
      "metadata": {
        "id": "vFQjtnxU0A8W",
        "colab_type": "code",
        "colab": {
          "base_uri": "https://localhost:8080/",
          "height": 850
        },
        "outputId": "1bbfda8d-3cd5-449e-83fe-9645feb5ea6a"
      },
      "source": [
        "expected = y_train\n",
        "predicted = model.predict(X_train)\n",
        "\n",
        "print(metrics.classification_report(expected, predicted))\n",
        "print('f1-score: ', metrics.f1_score(expected, predicted, average='micro'))"
      ],
      "execution_count": 18,
      "outputs": [
        {
          "output_type": "stream",
          "text": [
            "                       precision    recall  f1-score   support\n",
            "\n",
            "      Acoustic_guitar       1.00      0.85      0.92       141\n",
            "             Applause       0.82      0.62      0.70       139\n",
            "                 Bark       0.99      0.71      0.82       113\n",
            "            Bass_drum       0.99      0.94      0.97       133\n",
            "Burping_or_eructation       0.96      0.32      0.49        77\n",
            "                  Bus       1.00      0.44      0.61        48\n",
            "                Cello       0.91      0.64      0.75       135\n",
            "                Chime       1.00      0.19      0.32        53\n",
            "             Clarinet       0.99      0.70      0.82       121\n",
            "    Computer_keyboard       1.00      0.04      0.08        48\n",
            "                Cough       0.91      0.35      0.50       115\n",
            "              Cowbell       0.96      0.53      0.69        88\n",
            "          Double_bass       0.92      0.56      0.70       128\n",
            " Drawer_open_or_close       1.00      0.08      0.16        71\n",
            "       Electric_piano       1.00      0.98      0.99        62\n",
            "                 Fart       0.46      0.49      0.47       141\n",
            "      Finger_snapping       1.00      0.02      0.03        59\n",
            "            Fireworks       0.94      0.40      0.57       126\n",
            "                Flute       1.00      0.78      0.88       130\n",
            "         Glockenspiel       1.00      0.38      0.55        42\n",
            "                 Gong       1.00      0.48      0.65       120\n",
            "   Gunshot_or_gunfire       1.00      0.63      0.78        63\n",
            "            Harmonica       1.00      0.35      0.51        55\n",
            "               Hi-hat       0.07      0.95      0.12       121\n",
            "        Keys_jangling       1.00      0.02      0.04        49\n",
            "                Knock       0.82      0.28      0.42        96\n",
            "             Laughter       1.00      0.54      0.70       116\n",
            "                 Meow       1.00      0.38      0.55        71\n",
            "       Microwave_oven       1.00      0.25      0.41        63\n",
            "                 Oboe       0.90      0.51      0.65       110\n",
            "            Saxophone       1.00      0.89      0.94       114\n",
            "             Scissors       1.00      0.02      0.05        43\n",
            "              Shatter       0.20      0.40      0.26       134\n",
            "           Snare_drum       0.86      0.56      0.68       129\n",
            "               Squeak       1.00      0.19      0.33       118\n",
            "           Tambourine       1.00      0.10      0.19        97\n",
            "              Tearing       0.72      0.12      0.20       110\n",
            "            Telephone       1.00      0.43      0.60        49\n",
            "              Trumpet       0.97      0.47      0.63       130\n",
            "     Violin_or_fiddle       0.97      0.52      0.68       113\n",
            "              Writing       0.92      0.10      0.18       107\n",
            "\n",
            "             accuracy                           0.49      3978\n",
            "            macro avg       0.91      0.45      0.53      3978\n",
            "         weighted avg       0.88      0.49      0.56      3978\n",
            "\n",
            "f1-score:  0.49095022624434387\n"
          ],
          "name": "stdout"
        }
      ]
    },
    {
      "cell_type": "code",
      "metadata": {
        "id": "S2bKfc3G0DmQ",
        "colab_type": "code",
        "colab": {
          "base_uri": "https://localhost:8080/",
          "height": 904
        },
        "outputId": "9a6d74ca-5476-47ac-f300-aab93aa69961"
      },
      "source": [
        "expected = y_test\n",
        "predicted = model.predict(X_test)\n",
        "\n",
        "print(metrics.classification_report(expected, predicted))\n",
        "print('f1-score: ', metrics.f1_score(expected, predicted, average='micro'))"
      ],
      "execution_count": 20,
      "outputs": [
        {
          "output_type": "stream",
          "text": [
            "                       precision    recall  f1-score   support\n",
            "\n",
            "      Acoustic_guitar       0.21      0.24      0.22        46\n",
            "             Applause       0.22      0.41      0.29        44\n",
            "                 Bark       0.00      0.00      0.00        34\n",
            "            Bass_drum       0.48      0.48      0.48        48\n",
            "Burping_or_eructation       0.22      0.06      0.09        36\n",
            "                  Bus       0.00      0.00      0.00        16\n",
            "                Cello       0.15      0.12      0.13        51\n",
            "                Chime       0.00      0.00      0.00        25\n",
            "             Clarinet       0.24      0.22      0.23        55\n",
            "    Computer_keyboard       0.00      0.00      0.00        18\n",
            "                Cough       0.00      0.00      0.00        48\n",
            "              Cowbell       0.73      0.38      0.50        29\n",
            "          Double_bass       0.50      0.13      0.20        63\n",
            " Drawer_open_or_close       0.00      0.00      0.00        23\n",
            "       Electric_piano       0.03      0.05      0.04        19\n",
            "                 Fart       0.17      0.19      0.18        54\n",
            "      Finger_snapping       0.00      0.00      0.00        21\n",
            "            Fireworks       0.18      0.04      0.06        54\n",
            "                Flute       0.21      0.11      0.14        64\n",
            "         Glockenspiel       1.00      0.07      0.12        15\n",
            "                 Gong       0.44      0.07      0.12        60\n",
            "   Gunshot_or_gunfire       0.22      0.08      0.12        25\n",
            "            Harmonica       0.00      0.00      0.00        30\n",
            "               Hi-hat       0.06      0.88      0.12        59\n",
            "        Keys_jangling       0.00      0.00      0.00        34\n",
            "                Knock       0.21      0.05      0.08        57\n",
            "             Laughter       0.09      0.02      0.03        58\n",
            "                 Meow       0.00      0.00      0.00        28\n",
            "       Microwave_oven       1.00      0.04      0.07        27\n",
            "                 Oboe       0.38      0.15      0.22        52\n",
            "            Saxophone       0.21      0.40      0.28        65\n",
            "             Scissors       0.00      0.00      0.00        13\n",
            "              Shatter       0.03      0.10      0.05        50\n",
            "           Snare_drum       0.32      0.27      0.30        44\n",
            "               Squeak       0.00      0.00      0.00        53\n",
            "           Tambourine       0.00      0.00      0.00        38\n",
            "              Tearing       0.00      0.00      0.00        52\n",
            "            Telephone       0.00      0.00      0.00        31\n",
            "              Trumpet       0.14      0.03      0.06        58\n",
            "     Violin_or_fiddle       0.11      0.02      0.03        54\n",
            "              Writing       0.12      0.02      0.03        54\n",
            "\n",
            "             accuracy                           0.13      1705\n",
            "            macro avg       0.19      0.11      0.10      1705\n",
            "         weighted avg       0.19      0.13      0.12      1705\n",
            "\n",
            "f1-score:  0.1348973607038123\n"
          ],
          "name": "stdout"
        },
        {
          "output_type": "stream",
          "text": [
            "/usr/local/lib/python3.6/dist-packages/sklearn/metrics/_classification.py:1272: UndefinedMetricWarning: Precision and F-score are ill-defined and being set to 0.0 in labels with no predicted samples. Use `zero_division` parameter to control this behavior.\n",
            "  _warn_prf(average, modifier, msg_start, len(result))\n"
          ],
          "name": "stderr"
        }
      ]
    },
    {
      "cell_type": "code",
      "metadata": {
        "id": "Qmtn2Jc49YXe",
        "colab_type": "code",
        "colab": {}
      },
      "source": [
        ""
      ],
      "execution_count": 0,
      "outputs": []
    },
    {
      "cell_type": "markdown",
      "metadata": {
        "id": "MMBONkuZ7b0B",
        "colab_type": "text"
      },
      "source": [
        "Обработка аудио:\n",
        "* sample_rate=8000, мел-спектрограмма (hop_length=4000, n_fft=8000)\n",
        "\n",
        "Классификатор:\n",
        "* SVM (С=100)\n",
        "\n",
        "При данном наборе параметров достигнут лучший результат (по сравнению с другими) на тестовой выборке - f1-score=0,13.\n",
        "Результат на обучающей выборке - f1-score=0,49."
      ]
    }
  ]
}